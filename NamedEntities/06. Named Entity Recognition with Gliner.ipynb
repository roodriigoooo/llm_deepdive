{
 "cells": [
  {
   "cell_type": "markdown",
   "metadata": {},
   "source": [
    "Introduction To NLP @ Esade BAIB\n",
    "\n",
    "# Named Entity Recognition with GliNER"
   ]
  },
  {
   "cell_type": "markdown",
   "metadata": {},
   "source": [
    "## Preliminaries"
   ]
  },
  {
   "cell_type": "code",
   "execution_count": 1,
   "metadata": {
    "tags": []
   },
   "outputs": [],
   "source": [
    "import pandas as pd\n",
    "pd.set_option('display.max_rows', 50)\n",
    "pd.set_option('display.max_columns', 10)\n",
    "pd.set_option('display.width', 300)\n",
    "pd.set_option('display.max_colwidth', 300)\n",
    "from tqdm import tqdm"
   ]
  },
  {
   "cell_type": "code",
   "execution_count": 2,
   "metadata": {},
   "outputs": [],
   "source": [
    "reviews_df = pd.read_csv('movie_reviews_train.csv')"
   ]
  },
  {
   "cell_type": "markdown",
   "metadata": {},
   "source": [
    "----\n",
    "\n",
    "# GliNER\n",
    "\n",
    "https://github.com/urchade/GLiNER"
   ]
  },
  {
   "cell_type": "markdown",
   "metadata": {},
   "source": [
    "## Preliminaries"
   ]
  },
  {
   "cell_type": "code",
   "execution_count": null,
   "metadata": {},
   "outputs": [],
   "source": [
    "! pip install gliner"
   ]
  },
  {
   "cell_type": "code",
   "execution_count": null,
   "metadata": {},
   "outputs": [],
   "source": [
    "from gliner import GLiNER"
   ]
  },
  {
   "cell_type": "code",
   "execution_count": null,
   "metadata": {},
   "outputs": [],
   "source": [
    "model = GLiNER.from_pretrained(\"urchade/gliner_medium\")\n",
    "model.eval()\n",
    "print(\"ok\")"
   ]
  },
  {
   "cell_type": "markdown",
   "metadata": {},
   "source": [
    "## Running GliNER"
   ]
  },
  {
   "cell_type": "code",
   "execution_count": null,
   "metadata": {},
   "outputs": [],
   "source": [
    "def run_gliner_on_text(text, labels = None, print_outputs: bool = True):\n",
    "    if labels is None: \n",
    "        labels = [\"person\", \"book\", \"movie\", \"location\", \"date\", \"actor\", \"character\", \"device\"]\n",
    "    mentions = model.predict_entities(text, labels, threshold=0.4)\n",
    "    if print_outputs:\n",
    "        print(pd.DataFrame(mentions).to_markdown())\n",
    "    return mentions\n"
   ]
  },
  {
   "cell_type": "code",
   "execution_count": null,
   "metadata": {},
   "outputs": [],
   "source": [
    "_ = run_gliner_on_text(\"I went to Barcelona and watched Rambo II on my iPad, I like all movies with Stallone!\")"
   ]
  },
  {
   "cell_type": "markdown",
   "metadata": {},
   "source": [
    "## Aggregating GliNER entities"
   ]
  },
  {
   "cell_type": "code",
   "execution_count": null,
   "metadata": {},
   "outputs": [],
   "source": [
    "def gliner_entity_to_dict(entity_dict, doc_label):\n",
    "    return {\n",
    "        'text': entity_dict['text'], \n",
    "        'lemma': entity_dict['text'].lower().strip(),\n",
    "        'ner_type': entity_dict['label'],\n",
    "        doc_label: 1\n",
    "    }\n",
    "\n",
    "def entity_aggregation_for_gliner(gliner_docs, doc_labels=None):\n",
    "    if doc_labels is None:\n",
    "        doc_labels = ['unlabeled'] * len(gliner_docs)\n",
    "    else:\n",
    "        if len(doc_labels) != len(gliner_docs):\n",
    "            raise ValueError(\"Number of doc labels must be the equal to number of gliner docs\")\n",
    "    df = pd.DataFrame([gliner_entity_to_dict(entity_dict, label) for doc, label in zip(gliner_docs, doc_labels) for entity_dict in doc]).fillna(0)\n",
    "    agg_dict = {\n",
    "        'num_docs': pd.NamedAgg('text', 'count')\n",
    "    }\n",
    "    for l in set(doc_labels):\n",
    "        agg_dict[f'num_{l}'] = pd.NamedAgg(l, 'sum')\n",
    "    agg = df.groupby(['lemma', 'ner_type'], as_index=False).agg(**agg_dict).sort_values('num_docs', ascending=False)\n",
    "    return agg"
   ]
  },
  {
   "cell_type": "code",
   "execution_count": null,
   "metadata": {},
   "outputs": [],
   "source": [
    "docs_gliner = [run_gliner_on_text(t, print_outputs=False) for t in tqdm(reviews_df.text[:5000])]"
   ]
  },
  {
   "cell_type": "code",
   "execution_count": null,
   "metadata": {},
   "outputs": [],
   "source": [
    "agg_gliner = entity_aggregation_for_gliner(docs_gliner)\n",
    "agg_gliner"
   ]
  },
  {
   "cell_type": "code",
   "execution_count": null,
   "metadata": {},
   "outputs": [],
   "source": [
    "agg_gliner[agg_gliner.ner_type==\"actor\"]"
   ]
  },
  {
   "cell_type": "code",
   "execution_count": null,
   "metadata": {},
   "outputs": [],
   "source": []
  }
 ],
 "metadata": {
  "kernelspec": {
   "display_name": "esade-nlp",
   "language": "python",
   "name": "python3"
  },
  "language_info": {
   "codemirror_mode": {
    "name": "ipython",
    "version": 3
   },
   "file_extension": ".py",
   "mimetype": "text/x-python",
   "name": "python",
   "nbconvert_exporter": "python",
   "pygments_lexer": "ipython3",
   "version": "3.11.9"
  }
 },
 "nbformat": 4,
 "nbformat_minor": 4
}
