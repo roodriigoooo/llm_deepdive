{
 "cells": [
  {
   "cell_type": "markdown",
   "metadata": {},
   "source": [
    "# Problem 07: Text Classification with NGram LMs\n",
    "\n",
    "In this exercise we'll train language models and use them to classify texts. We'll use AG News data, and select one of the four classes to treat the data as a binary classification problem: texts of the selected class are positive texts, and the rest are negative texts. \n",
    "\n",
    "For each of the two sets of texts we'll estimate a language model. With a new text, we can then compute the probability of the text under the two models: we'll classify as positive/negative depending on which model gives most probability to the text. \n",
    "\n",
    "This idea follows from the probabilities:\n",
    "\n",
    "$p(+ | \\text{text}) = \\frac{p(+, \\text{text})}{p(\\text{text})} = \\frac{p(+) p(\\text{text} | +)}{p(\\text{text})}$ \n",
    "\n",
    "We will be estimating $p(\\text{text}|+)$ and $p(\\text{text}|-)$ using ngram language models, as well as the priors $p(+)$ and $p(-)$ which can be estimated from the texts. Also note that $p(\\text{text}) = p(\\text{text}, +) + p(\\text{text}, -)$: we can compute as well this term, but it is not needed to decide if a text is positive or negative (because it appears as a constant in $p(+ | \\text{text})$ and $p(- | \\text{text})$). \n",
    "\n",
    "As a final note, this method for classification is very similar to Naive Bayes for text classification: both methods use the Bayes rule and estimate the probability distrubutions $p(\\text{text}|+)$ and $p(\\text{text}|-)$ from data: a language model is directly a generative model of the text, while Naive Bayes applies the assumption that words in a text are independent, which is like an ngram language model of order 1 in which the conditioning part is empty. While Naive Bayes is very competitive, using an actual ngram language model for classification is problematic because of unseen words and ngrams. We will see this in this exercise. "
   ]
  },
  {
   "cell_type": "markdown",
   "metadata": {},
   "source": [
    "## Preliminaries"
   ]
  },
  {
   "cell_type": "markdown",
   "metadata": {},
   "source": [
    "Start a new notebook and add these code blocks. The file `ngram_lm.py` has methods to estimate ngram language models, it must be placed in the same folder as your notebook. We recommend solving problem 06 first to get familiar with the estimation of ngram language models. Naturally, we also recommend looking at notebook 04 on \n",
    "ngram language models that we presented in class. "
   ]
  },
  {
   "cell_type": "code",
   "metadata": {
    "ExecuteTime": {
     "end_time": "2025-04-16T14:31:30.993342Z",
     "start_time": "2025-04-16T14:31:30.065344Z"
    }
   },
   "source": [
    "import pandas as pd\n",
    "from ngram_lm import count_ngrams_up_to, NGramLanguageModel, prob_text, text_generator"
   ],
   "outputs": [
    {
     "name": "stderr",
     "output_type": "stream",
     "text": [
      "[nltk_data] Downloading package punkt_tab to\n",
      "[nltk_data]     C:\\Users\\rsast\\AppData\\Roaming\\nltk_data...\n",
      "[nltk_data]   Package punkt_tab is already up-to-date!\n"
     ]
    }
   ],
   "execution_count": 1
  },
  {
   "cell_type": "code",
   "metadata": {
    "ExecuteTime": {
     "end_time": "2025-04-16T14:31:59.084605Z",
     "start_time": "2025-04-16T14:31:59.070603Z"
    }
   },
   "source": [
    "from ngram_lm import stop_symbol\n",
    "\n",
    "def lm_classify(text: str, lm_pos: NGramLanguageModel, lm_neg: NGramLanguageModel, prior_pos=None):\n",
    "    \"\"\"Classify the texts in to positive/negative using two ngram language models, one for each class. \n",
    "    \n",
    "    By default, the prior probabilities of each class are estimated from the relative counts in the \n",
    "    ngram model: for each class, the number of stop symbols indicates the number of texts of that class \n",
    "    in the data. \n",
    "\n",
    "    Returns a dictionary with the predicted label, as well as all the probability terms used to make the prediciton. \n",
    "\n",
    "    \"\"\"\n",
    "    if prior_pos is None:\n",
    "        counts_stop_pos = lm_pos.ngram_counts[()].get(stop_symbol)\n",
    "        counts_stop_neg = lm_neg.ngram_counts[()].get(stop_symbol)\n",
    "        prior_pos = counts_stop_pos / (counts_stop_pos + counts_stop_neg)\n",
    "    prior_neg = 1 - prior_pos \n",
    "    p_text_given_pos = prob_text(lm_pos, text) \n",
    "    p_text_and_pos = p_text_given_pos * prior_pos\n",
    "\n",
    "    p_text_given_neg = prob_text(lm_neg, text)\n",
    "    p_text_and_neg = p_text_given_neg * prior_neg\n",
    "\n",
    "    pred_int = 1 if p_text_and_pos > p_text_and_neg else 0\n",
    "    pred_label = \"POSITIVE\" if pred_int else \"NEGATIVE\"\n",
    "\n",
    "    p_text = p_text_and_pos + p_text_and_neg\n",
    "\n",
    "    p_pos_given_text = p_text_and_pos / p_text if p_text>0 else None\n",
    "    p_neg_given_text = p_text_and_neg / p_text if p_text>0 else None\n",
    "\n",
    "    return {        \n",
    "        'pred_label': pred_label,\n",
    "        'pred_int': pred_int,\n",
    "        'p(+|text)': p_pos_given_text, \n",
    "        'p(-|text)': p_neg_given_text,\n",
    "        'p(text|+)': p_text_given_pos,\n",
    "        'p(+,text)': p_text_and_pos,\n",
    "        'p(text|-)': p_text_given_neg,        \n",
    "        'p(-,text)': p_text_and_neg,\n",
    "        'p(text)': p_text,\n",
    "    }    \n",
    "\n",
    "def lm_classify_texts(texts, lm_pos, lm_neg):\n",
    "    \"\"\"Runs lm_classify on a list of texts and returns a dataframe with the results.\"\"\"\n",
    "    return pd.DataFrame([\n",
    "        {\"text\": text} | lm_classify(text, lm_pos, lm_neg) for text in texts],\n",
    "       dtype=object\n",
    "   )"
   ],
   "outputs": [],
   "execution_count": 2
  },
  {
   "cell_type": "markdown",
   "metadata": {},
   "source": [
    "The method `lm_classify` receives a text and two ngram language models. It computes the probability of the text under each of the language models, and then uses the Bayes rule to determine the probability of each class given the text, which is used as a classification rule.  \n",
    "\n",
    "Additionally, a there's also a helper method `lm_classify_texts` that receives a list of texts, runs the classification, and returns a dataframe with all the information. \n",
    "\n",
    "Let's try it on toy sentences using toy language models. "
   ]
  },
  {
   "cell_type": "code",
   "metadata": {
    "ExecuteTime": {
     "end_time": "2025-04-16T14:32:30.788212Z",
     "start_time": "2025-04-16T14:32:30.778211Z"
    }
   },
   "source": [
    "toy_lm_pos = NGramLanguageModel(n=2, ngram_counts=count_ngrams_up_to(2, texts=[\"i am positive\", \"i like +\", \"yes\", \"ambivalent\"]), back_off_discount=0.1)\n",
    "toy_lm_neg = NGramLanguageModel(n=2, ngram_counts=count_ngrams_up_to(2, texts=[\"i am negative\", \"i like -\", \"no\", \"ambivalent\"]), back_off_discount=0.1)"
   ],
   "outputs": [
    {
     "name": "stdout",
     "output_type": "stream",
     "text": [
      "<ngram_lm.NGramLanguageModel object at 0x000002611E805720>\n",
      "<ngram_lm.NGramLanguageModel object at 0x000002611CD756C0>\n"
     ]
    }
   ],
   "execution_count": 4
  },
  {
   "cell_type": "code",
   "metadata": {
    "ExecuteTime": {
     "end_time": "2025-04-16T14:32:38.509741Z",
     "start_time": "2025-04-16T14:32:38.467546Z"
    }
   },
   "source": [
    "lm_classify_texts(\n",
    "    [\"yes\", \"no\", \"i am +\", \"i am ambivalent\", \"yes i am ambivalent\", \"no i am ambivalent\"],\n",
    "    toy_lm_pos, \n",
    "    toy_lm_neg\n",
    ")"
   ],
   "outputs": [
    {
     "data": {
      "text/plain": [
       "                  text pred_label pred_int p(+|text) p(-|text) p(text|+)  \\\n",
       "0                  yes   POSITIVE        1       1.0       0.0    0.2025   \n",
       "1                   no   NEGATIVE        0       0.0       1.0       0.0   \n",
       "2               i am +   POSITIVE        1       1.0       0.0  0.001574   \n",
       "3      i am ambivalent   NEGATIVE        0       0.5       0.5  0.001574   \n",
       "4  yes i am ambivalent   POSITIVE        1       1.0       0.0  0.000018   \n",
       "5   no i am ambivalent   NEGATIVE        0       0.0       1.0       0.0   \n",
       "\n",
       "  p(+,text) p(text|-) p(-,text)   p(text)  \n",
       "0   0.10125       0.0       0.0   0.10125  \n",
       "1       0.0    0.2025   0.10125   0.10125  \n",
       "2  0.000787       0.0       0.0  0.000787  \n",
       "3  0.000787  0.001574  0.000787  0.001574  \n",
       "4  0.000009       0.0       0.0  0.000009  \n",
       "5       0.0  0.000018  0.000009  0.000009  "
      ],
      "text/html": [
       "<div>\n",
       "<style scoped>\n",
       "    .dataframe tbody tr th:only-of-type {\n",
       "        vertical-align: middle;\n",
       "    }\n",
       "\n",
       "    .dataframe tbody tr th {\n",
       "        vertical-align: top;\n",
       "    }\n",
       "\n",
       "    .dataframe thead th {\n",
       "        text-align: right;\n",
       "    }\n",
       "</style>\n",
       "<table border=\"1\" class=\"dataframe\">\n",
       "  <thead>\n",
       "    <tr style=\"text-align: right;\">\n",
       "      <th></th>\n",
       "      <th>text</th>\n",
       "      <th>pred_label</th>\n",
       "      <th>pred_int</th>\n",
       "      <th>p(+|text)</th>\n",
       "      <th>p(-|text)</th>\n",
       "      <th>p(text|+)</th>\n",
       "      <th>p(+,text)</th>\n",
       "      <th>p(text|-)</th>\n",
       "      <th>p(-,text)</th>\n",
       "      <th>p(text)</th>\n",
       "    </tr>\n",
       "  </thead>\n",
       "  <tbody>\n",
       "    <tr>\n",
       "      <th>0</th>\n",
       "      <td>yes</td>\n",
       "      <td>POSITIVE</td>\n",
       "      <td>1</td>\n",
       "      <td>1.0</td>\n",
       "      <td>0.0</td>\n",
       "      <td>0.2025</td>\n",
       "      <td>0.10125</td>\n",
       "      <td>0.0</td>\n",
       "      <td>0.0</td>\n",
       "      <td>0.10125</td>\n",
       "    </tr>\n",
       "    <tr>\n",
       "      <th>1</th>\n",
       "      <td>no</td>\n",
       "      <td>NEGATIVE</td>\n",
       "      <td>0</td>\n",
       "      <td>0.0</td>\n",
       "      <td>1.0</td>\n",
       "      <td>0.0</td>\n",
       "      <td>0.0</td>\n",
       "      <td>0.2025</td>\n",
       "      <td>0.10125</td>\n",
       "      <td>0.10125</td>\n",
       "    </tr>\n",
       "    <tr>\n",
       "      <th>2</th>\n",
       "      <td>i am +</td>\n",
       "      <td>POSITIVE</td>\n",
       "      <td>1</td>\n",
       "      <td>1.0</td>\n",
       "      <td>0.0</td>\n",
       "      <td>0.001574</td>\n",
       "      <td>0.000787</td>\n",
       "      <td>0.0</td>\n",
       "      <td>0.0</td>\n",
       "      <td>0.000787</td>\n",
       "    </tr>\n",
       "    <tr>\n",
       "      <th>3</th>\n",
       "      <td>i am ambivalent</td>\n",
       "      <td>NEGATIVE</td>\n",
       "      <td>0</td>\n",
       "      <td>0.5</td>\n",
       "      <td>0.5</td>\n",
       "      <td>0.001574</td>\n",
       "      <td>0.000787</td>\n",
       "      <td>0.001574</td>\n",
       "      <td>0.000787</td>\n",
       "      <td>0.001574</td>\n",
       "    </tr>\n",
       "    <tr>\n",
       "      <th>4</th>\n",
       "      <td>yes i am ambivalent</td>\n",
       "      <td>POSITIVE</td>\n",
       "      <td>1</td>\n",
       "      <td>1.0</td>\n",
       "      <td>0.0</td>\n",
       "      <td>0.000018</td>\n",
       "      <td>0.000009</td>\n",
       "      <td>0.0</td>\n",
       "      <td>0.0</td>\n",
       "      <td>0.000009</td>\n",
       "    </tr>\n",
       "    <tr>\n",
       "      <th>5</th>\n",
       "      <td>no i am ambivalent</td>\n",
       "      <td>NEGATIVE</td>\n",
       "      <td>0</td>\n",
       "      <td>0.0</td>\n",
       "      <td>1.0</td>\n",
       "      <td>0.0</td>\n",
       "      <td>0.0</td>\n",
       "      <td>0.000018</td>\n",
       "      <td>0.000009</td>\n",
       "      <td>0.000009</td>\n",
       "    </tr>\n",
       "  </tbody>\n",
       "</table>\n",
       "</div>"
      ]
     },
     "execution_count": 5,
     "metadata": {},
     "output_type": "execute_result"
    }
   ],
   "execution_count": 5
  },
  {
   "cell_type": "markdown",
   "metadata": {},
   "source": [
    "## LM Classifiers for AGNews\n",
    "\n",
    "We will now load the AGNews data, and restrict to a random selection of 20K texts. This data has a large vocabulary, and therefore the number of distinct ngrams is also large. You can increase it if you have enough memory on your computer. "
   ]
  },
  {
   "cell_type": "code",
   "metadata": {
    "ExecuteTime": {
     "end_time": "2025-04-16T14:33:49.707985Z",
     "start_time": "2025-04-16T14:33:49.313988Z"
    }
   },
   "source": [
    "agnews_train = pd.read_csv('../data/agnews_train.csv')\n",
    "agnews_test = pd.read_csv('../data/agnews_test.csv')\n",
    "\n",
    "# restrict to a random selection of 20K texts (feel free to increase)\n",
    "agnews_sample = agnews_train.sample(20000)"
   ],
   "outputs": [],
   "execution_count": 6
  },
  {
   "cell_type": "markdown",
   "metadata": {},
   "source": [
    "We will now select one of the four classes and binarize the data into positive and negative texts. Here we use \"Sports\", but please select a class distinct from the other members of your group. \n",
    "\n",
    "It is also important to lowercase all texts, in order to keep the vocabulary smaller. Remember, when trying new texts, to use lowercased words, because the language models we'll estimate will not recognize words in uppercase. "
   ]
  },
  {
   "cell_type": "code",
   "metadata": {
    "ExecuteTime": {
     "end_time": "2025-04-16T14:34:50.526648Z",
     "start_time": "2025-04-16T14:34:42.129651Z"
    }
   },
   "source": [
    "positive_class = \"Sports\"  # change this to your selected class\n",
    "counts_train_pos = count_ngrams_up_to(3, agnews_sample[agnews_train.label == positive_class].text.str.lower())\n",
    "counts_train_neg = count_ngrams_up_to(3, agnews_sample[agnews_train.label != positive_class].text.str.lower())"
   ],
   "outputs": [
    {
     "name": "stderr",
     "output_type": "stream",
     "text": [
      "C:\\Users\\rsast\\AppData\\Local\\Temp\\ipykernel_21788\\1006210788.py:2: UserWarning: Boolean Series key will be reindexed to match DataFrame index.\n",
      "  counts_train_pos = count_ngrams_up_to(3, agnews_sample[agnews_train.label == positive_class].text.str.lower())\n",
      "C:\\Users\\rsast\\AppData\\Local\\Temp\\ipykernel_21788\\1006210788.py:3: UserWarning: Boolean Series key will be reindexed to match DataFrame index.\n",
      "  counts_train_neg = count_ngrams_up_to(3, agnews_sample[agnews_train.label != positive_class].text.str.lower())\n"
     ]
    }
   ],
   "execution_count": 11
  },
  {
   "cell_type": "markdown",
   "metadata": {},
   "source": [
    "We can now estimate two language models, one for the positive texts and another for the negative texts. In both cases, we use a trigram model with some smoothing. "
   ]
  },
  {
   "cell_type": "code",
   "metadata": {
    "ExecuteTime": {
     "end_time": "2025-04-16T14:35:14.256181Z",
     "start_time": "2025-04-16T14:35:14.240971Z"
    }
   },
   "source": [
    "lm_pos = NGramLanguageModel(3, counts_train_pos, back_off_discount=0.1)\n",
    "lm_neg = NGramLanguageModel(3, counts_train_neg, back_off_discount=0.1)"
   ],
   "outputs": [],
   "execution_count": 12
  },
  {
   "cell_type": "markdown",
   "metadata": {},
   "source": [
    "Let's try to classify the sentence \"today\". We can see the predicted label (POSITIVE/NEGATIVE), and all the probability terms that are involved in the decision. "
   ]
  },
  {
   "cell_type": "code",
   "metadata": {
    "ExecuteTime": {
     "end_time": "2025-04-16T14:35:16.318966Z",
     "start_time": "2025-04-16T14:35:15.724778Z"
    }
   },
   "source": [
    "lm_classify(\"today\", lm_pos, lm_neg)"
   ],
   "outputs": [
    {
     "data": {
      "text/plain": [
       "{'pred_label': 'POSITIVE',\n",
       " 'pred_int': 1,\n",
       " 'p(+|text)': 0.7706754989078187,\n",
       " 'p(-|text)': 0.22932450109218128,\n",
       " 'p(text|+)': 4.0616878569538904e-07,\n",
       " 'p(+,text)': 1.003846153846154e-07,\n",
       " 'p(text|-)': 3.9676888747979256e-08,\n",
       " 'p(-,text)': 2.987074569391618e-08,\n",
       " 'p(text)': 1.3025536107853158e-07}"
      ]
     },
     "execution_count": 13,
     "metadata": {},
     "output_type": "execute_result"
    }
   ],
   "execution_count": 13
  },
  {
   "cell_type": "markdown",
   "metadata": {},
   "source": [
    "### Question 1. Generate texts from the positive/negative language models. \n",
    "\n",
    "Using the `text_generator` method, generate 10 random sentences that start with \"today\" using the \"positive\" LM, and then generate 10 random sentences starting with \"today\" using the \"negative\" model. \n",
    "\n",
    "Judge the quality of these senteces by two different aspects. First, are the sentences fluent, grammatical, and meaningful? \n",
    "\n",
    "Second, do the positive/negative sentences reflect the category you chose? Why?"
   ]
  },
  {
   "cell_type": "code",
   "metadata": {
    "ExecuteTime": {
     "end_time": "2025-04-16T14:36:09.021562Z",
     "start_time": "2025-04-16T14:35:40.430745Z"
    }
   },
   "source": [
    "for i in range(10):\n",
    "    print(text_generator(lm_pos, tokens=[\"today\"], randomize=True))"
   ],
   "outputs": [
    {
     "name": "stdout",
     "output_type": "stream",
     "text": [
      "(1.8533606595580132e-39, ['today', ',', 'in', 'the', 'texas', 'rangers', 'before', 'the', 'third', 'quarter', ',', 'helping', 'the', 'new', 'york', 'yankees', ',', 'leading', 'the', 'chicago', 'bears', 'have', 'sent', 'wide', 'receiver', 'marvin', 'harrison', 'have', 'done', 'almost', 'everything', 'together', '.', 'they', 'had', 'five', 'rival', 'cities', 'delivered', 'their', 'bid', 'documents', 'to', 'the', 'semifinals', 'of', 'the', 'ninth', 'inning', ',', 'quot', ';', 'it', '#', '39', ';', 't', '#', '39', ';', 's', 'mohan', 'as', 'bcci', 'administrator', 'and', 'restored', '_STOP_'])\n",
      "(1.9612369378599287e-17, ['today', ',', 'at', 'least', '70', 'kilometers', 'northeast', 'of', 'the', 'game', 'between', '16th-ranked', 'cavaliers', 'prepare', 'for', 'the', 'first', 'playoff', 'hole', '.', '_STOP_'])\n",
      "(2.057168252548857e-18, ['today', ',', 'there', 'aren', '#', '39', ';', 'll', 'be', 'without', 'ronaldo', 'on', 'sunday', 'night', ':', 'yankees', 'general', 'manager', 'lou', 'lamoriello', 'from', 'conducting', 'some', 'business', '.', '_STOP_'])\n",
      "(4.1229844969289023e-11, ['today', \"'s\", 'becoming', 'the', 'first', 'five', 'drives', ',', '...', '_STOP_'])\n",
      "(0.016800623700623702, ['today', '.', '_STOP_'])\n",
      "(2.7218622645211938e-08, ['today', 'with', 'a', 'big', 'reason', 'guillen', 'was', 'dealt', 'with', '.', '_STOP_'])\n",
      "(6.671616173687098e-172, ['today', 'that', 'guard', 'steve', 'nash', 'dazzled', 'in', 'the', 'atp', '#', '39', ';', 'd', 'call', 'the', 'zone', '.', 'the', 'colorado', 'rockies', 'that', 'lifted', 'the', 'tampa', 'bay', 'buccaneers', 'have', 'been', 'a', 'whole', 'team', 'effort', ',', 'angola', ',', 'and', '4', '1/2', 'sacks', ',', 'the', 'knot', '.', 'on', 'a', 'night', 'when', 'lawrence', 'dallaglio', 'walked', 'into', 'the', 'second', 'year', 'in', 'a', 'commanding', 'no', '.', '1', 'usc', '.', 'it', 'cost', 'bc', 'the', 'big', 'pass', 'plays', 'were', 'made', ',', 'has', 'sounded', 'off', 'twice', '.', 'former', 'beantowners', 'talent', 'on', 'the', 'same', 'roster', 'that', 'made', 'it', 'feel', 'the', 'uncommon', 'pressure', 'of', 'having', 'to', 'win', 'the', 'new', 'york', 'sept.', '6', ',', '2004', '-', 'chicago', 'bears', \"'\", 'porous', 'its', 'fifth', 'consecutive', 'world', 'rally', 'champion', 'sebastien', 'loeb', 'of', 'france', 'withdrew', 'from', 'george', 'iii', ',', 'but', 'will', 'wait', 'for', 'the', 'atlanta', 'falcons', 'took', 'some', 'time', 'off', 'to', 'a', 'contract', 'dispute', '.', 'but', 'reagor', 'and', 'his', 'father', ',', 'irvin', ',', 'taught', 'him', 'everything', 'he', 'wanted', 'a', 'further', '\\\\', '$', '8.782', 'night', ',', 'extending', 'the', 'district', 'of', 'columbia', 'council', 'delayed', 'a', 'vote', 'for', 'the', 'same', 'advice', 'from', 'conducting', 'some', 'business', '.', 'the', 'club', 'agreeing', 'to', 'a', 'report', 'in', 'the', 'country', \"'s\", 'sports', 'scene', 'on', 'sunday', '.', '_STOP_'])\n",
      "(0.0164025, ['today', \"'s\", 'ford', '400', '.', '_STOP_'])\n",
      "(0.005314410000000002, ['today', \"'s\", '135th', 'travers', 'winner', ';', 'ghostzapper', '_STOP_'])\n",
      "(3.307140164162022e-23, ['today', \"'s\", 'games', 'division', '1', 'state', 'championship', ',', 'which', 'filed', 'a', 'claim', 'that', 'said', 'guillen', 'from', 'kim', 'to', 'win', 'the', 'dunlop', 'phoenix', 'by', 'eight', 'strokes', 'for', 'his', 'career', 'with', 'the', 'national', 'league', 'championship', 'series', 'standings', '.', '_STOP_'])\n"
     ]
    }
   ],
   "execution_count": 14
  },
  {
   "cell_type": "code",
   "metadata": {
    "ExecuteTime": {
     "end_time": "2025-04-16T14:39:04.915765Z",
     "start_time": "2025-04-16T14:37:30.063568Z"
    }
   },
   "source": [
    "for i in range(10):\n",
    "    print(text_generator(lm_neg, tokens=[\"today\"], randomize=True))"
   ],
   "outputs": [
    {
     "name": "stdout",
     "output_type": "stream",
     "text": [
      "(1.464078299961657e-16, ['today', 'we', 'would', 'like', 'to', 'be', 'even', 'more', 'popular', 'by', 'hollywood', 'movies', 'such', 'as', 'the', 'fourth', 'quarter', 'ended', 'sept.', '30.', 'the', 'results', '.', '_STOP_'])\n",
      "(3.358485854648778e-87, ['today', ',', 'said', 'it', 'had', 'struck', 'a', 'crucial', 'vote', 'in', 'sydney', 'after', 'being', 'made', 'available', 'saturday', 'to', 'personal', 'computers', 'to', 'be', 'the', 'government', 'and', 'business', 'consultant', 'mirrors', 'china', \"'s\", 'first', 'such', 'facility', 'to', 'open', 'membership', 'talks', 'with', 'a', 'funny', 'name', '.', 'i', 'have', 'been', 'the', 'quot', ';', 'plastics', 'sales', ',', 'including', 'california', 'and', 'for', 'some', 'featherweight', 'notebook', 'offerings', 'of', 'sun', \"'s\", 'visual', 'development', ',', 'speech', 'recognition', 'on', 'a', 'remote', 'australian', 'embassy', 'bombing', 'was', 'briefly', 'detained', 'by', 'their', 'families', 'and', 'friends', 'will', 'be', 'revised', 'up', ',', 'upgrading', 'hardware', 'has', 'been', 'detected', 'in', 'the', 'number', '_STOP_'])\n",
      "(4.7671090633212575e-48, ['today', ',', 'but', 'still', 'has', 'some', 'worries', 'about', 'high', 'energy', 'prices', 'soaring', ',', 'after', 'desperate', 'survivors', 'fought', 'each', 'other', 'and', 'with', 'frequent\\\\updates', ',', 'the', 'marsh', 'mclennan', 'cos.', ',', 'the', 'head', 'of', 'the', 'us', 'yesterday', 'after', 'received', 'blessings', 'from', 'top', 'buddhist', 'monks', 'and', 'the', 'hype', '?', 'yes', '.', 'played', 'from', 'an', 'quot', ';', 'war', 'on', 'terror', '.', '_STOP_'])\n",
      "(1.2863118891229683e-31, ['today', 'we', 'would', 'like', 'to', 'thank', 'the', 'dozens', 'of', 'people', 'who', 'illegally', 'download', 'movies', 'from', 'the', 'shock', 'wave', 'is', 'a', 'wake-up', 'call', 'to', 'today', \"'s\", 'low', 'end', 'of', 'the', 'united', 'nations', 'produced', 'no', 'coordinated', 'stance', 'to', 'stem', 'the', 'growing', 'threat', 'of', 'a', 'little-known', 'collaboration', 'application', 'to', 'market', 'conditions', '.', '_STOP_'])\n",
      "(9.711777932317961e-35, ['today', 'was', 'widely', 'anticipated', ',', 'some', 'of', 'the', 'path', 'to', 'us', 'marine', 'base', 'in', 'cuba', '.', 'send', 'inq7', 'breaking', 'to', '386.', 'jakarta', ',', 'on', 'friday\\\\launched', 'a', 'rare', 'admission', 'of', 'secret', 'contacts', 'with', 'the', 'united', 'states', 'may', 'be', 'ending', '.', '_STOP_'])\n",
      "(2.1621326740102548e-25, ['today', 'at', 'dawn', 'in', 'the', 'dollar', 'taking', 'center', 'stage', 'but', 'will', 'the', 'middle', '.', 'only', 'thing', 'that', 'stopped', 'coming', 'out', 'of', 'a', '_STOP_'])\n",
      "(5.1977563036538366e-05, ['today', 'at', '12:16', 'pm', 'est', '!', 'spacecraft', 'separation', 'occurred', 'at', 'about', '8', 'percent', '.', '_STOP_'])\n",
      "(1.7051426355185473e-93, ['today', ',', 'pushed', 'higher', 'wednesday', 'as', 'investors', 'bet', 'on', 'optimistic', 'forecasts', 'for', 'united', 'nations', 'on', 'wednesday', 'unveiled', 'the', 'latest', 'it', 'vendor', 'to', 'try', 'former', 'figures', 'of', '5-31', 'by', 'aftab', 'ahmed', '.', 'several', 'militant', 'hideouts', 'were', 'also', 'facing', 'death', 'unless', 'rebel', 'demands', 'were', 'met', 'within', '48', 'hours', 'unless', 'he', 'was', 'slain', 'brought', 'condemnation', 'from', 'his', 'governing', 'coalition', 'with', 'the', 'us', 'department', 'of', 'labour', 'said', 'yesterday', 'on', 'the', 'traditional', 'carriers', 'are', 'now', 'launching', 'isolated', 'at', 'the', 'end', 'of', '2006', '-', 'but', 'not', 'because', 'it', 'sticks', 'in', 'the', 'late', 'palestinian', 'president', 'yasser', 'arafat', 'and', 'a', 'third', 'straight', 'month', ',', 'blaming', 'each', 'other', 'yesterday', 'of', 'arresting', 'people', 'who', 'like', 'to', 'stress', ',', 'promised', 'on', 'her', '41st', 'birthday', 'she', 'would', 'have', 'more', 'than', 'a', 'lakh', 'users', 'downloaded', 'the', 'current', 'quarter', 'will', 'come', '_STOP_'])\n",
      "(1.5745848826052002e-38, ['today', ',', 'the', 'world', 'of', 'warcraft', 'will', 'be', 'doing', 'it', '.', 'a', 'memorial', 'service', 'for', 'access', 'to', 'sensitive', 'financial', 'information', 'issued', 'by', 'vivendi', 'announces', 'that', 'would', 'boost', 'lean', 'stockpiles', 'in', 'the', 'war', 'in', 'iraq', 'has', 'become', 'an', 'online', 'reading', 'room', 'for', 'the', 'foolish', 'bargain', 'hunter', '.', '_STOP_'])\n",
      "(1.5882672618957639e-18, ['today', ',', 'has', 'died', ',', 'and', 'has', 'a', 'bankruptcy', 'court', 'judge', 'now', 'that', 'the', 'economy', '.', '_STOP_'])\n"
     ]
    }
   ],
   "execution_count": 16
  },
  {
   "cell_type": "markdown",
   "metadata": {},
   "source": [
    "### Question 2. Classify texts from the AGNews test data. \n",
    "\n",
    "We will now try the LM-based classifiers on the AGNews test sentence, but we will only try it for the first 10 sentences: this is very imbalanced, 7 sentences are of Science, and there's a single one for each of World, Sports and Business classes. "
   ]
  },
  {
   "cell_type": "code",
   "metadata": {
    "ExecuteTime": {
     "end_time": "2025-04-16T14:53:41.063327Z",
     "start_time": "2025-04-16T14:53:41.050322Z"
    }
   },
   "source": [
    "agnews_test[:10][['text', 'label']]"
   ],
   "outputs": [
    {
     "data": {
      "text/plain": [
       "                                                text     label\n",
       "0  It #39;s over. Our relationship just hasn #39;...   Science\n",
       "1  Toshiba Corp. announced Tuesday a 80 gigabyte ...   Science\n",
       "2  Scientists go back to the drawing board in the...   Science\n",
       "3  The first shuttle flight since the Columbia tr...   Science\n",
       "4  NEW YORK, Sept 21: Iraqi Prime Minister Iyad A...     World\n",
       "5  Hynix of Korea has sold its non-memory semicon...   Science\n",
       "6  Four seconds after he checked into his first b...    Sports\n",
       "7  Virgin will use Airbus A340-600 aircraft on th...  Business\n",
       "8  From 26,000 light-years-- near the center of o...   Science\n",
       "9  At Storage Networking World yesterday, Dell Pr...   Science"
      ],
      "text/html": [
       "<div>\n",
       "<style scoped>\n",
       "    .dataframe tbody tr th:only-of-type {\n",
       "        vertical-align: middle;\n",
       "    }\n",
       "\n",
       "    .dataframe tbody tr th {\n",
       "        vertical-align: top;\n",
       "    }\n",
       "\n",
       "    .dataframe thead th {\n",
       "        text-align: right;\n",
       "    }\n",
       "</style>\n",
       "<table border=\"1\" class=\"dataframe\">\n",
       "  <thead>\n",
       "    <tr style=\"text-align: right;\">\n",
       "      <th></th>\n",
       "      <th>text</th>\n",
       "      <th>label</th>\n",
       "    </tr>\n",
       "  </thead>\n",
       "  <tbody>\n",
       "    <tr>\n",
       "      <th>0</th>\n",
       "      <td>It #39;s over. Our relationship just hasn #39;...</td>\n",
       "      <td>Science</td>\n",
       "    </tr>\n",
       "    <tr>\n",
       "      <th>1</th>\n",
       "      <td>Toshiba Corp. announced Tuesday a 80 gigabyte ...</td>\n",
       "      <td>Science</td>\n",
       "    </tr>\n",
       "    <tr>\n",
       "      <th>2</th>\n",
       "      <td>Scientists go back to the drawing board in the...</td>\n",
       "      <td>Science</td>\n",
       "    </tr>\n",
       "    <tr>\n",
       "      <th>3</th>\n",
       "      <td>The first shuttle flight since the Columbia tr...</td>\n",
       "      <td>Science</td>\n",
       "    </tr>\n",
       "    <tr>\n",
       "      <th>4</th>\n",
       "      <td>NEW YORK, Sept 21: Iraqi Prime Minister Iyad A...</td>\n",
       "      <td>World</td>\n",
       "    </tr>\n",
       "    <tr>\n",
       "      <th>5</th>\n",
       "      <td>Hynix of Korea has sold its non-memory semicon...</td>\n",
       "      <td>Science</td>\n",
       "    </tr>\n",
       "    <tr>\n",
       "      <th>6</th>\n",
       "      <td>Four seconds after he checked into his first b...</td>\n",
       "      <td>Sports</td>\n",
       "    </tr>\n",
       "    <tr>\n",
       "      <th>7</th>\n",
       "      <td>Virgin will use Airbus A340-600 aircraft on th...</td>\n",
       "      <td>Business</td>\n",
       "    </tr>\n",
       "    <tr>\n",
       "      <th>8</th>\n",
       "      <td>From 26,000 light-years-- near the center of o...</td>\n",
       "      <td>Science</td>\n",
       "    </tr>\n",
       "    <tr>\n",
       "      <th>9</th>\n",
       "      <td>At Storage Networking World yesterday, Dell Pr...</td>\n",
       "      <td>Science</td>\n",
       "    </tr>\n",
       "  </tbody>\n",
       "</table>\n",
       "</div>"
      ]
     },
     "execution_count": 17,
     "metadata": {},
     "output_type": "execute_result"
    }
   ],
   "execution_count": 17
  },
  {
   "cell_type": "markdown",
   "metadata": {},
   "source": [
    "Classify the first 10 texts, and evaluate the correctness of the predictions. As you will see, the prediction method is very slow, this is because our implementation of the LM is actually a non-optimized one (but, in contrast, the code should be simple to follow). \n",
    "\n",
    "Report on how many predictions were correct or wrong. \n",
    "\n",
    "Check also the probabilities predicted by the pos/neg models for texts? Do you see many zeros? Can you tell why? \n",
    "\n",
    "Hint: each language model has the vocabulary as a set of strings in `lm.vocab`. Take one of the LMs and compute the probability of a sentence with a single word that is or not in the vocabulary. Since we use smooothed LMs, it should be that words within vocab always have been observed at least once, and always receive a non-zero probability. In contrast, words outside the vocab will always receive a zero probability. \n"
   ]
  },
  {
   "cell_type": "code",
   "metadata": {
    "ExecuteTime": {
     "end_time": "2025-04-16T14:55:32.180904Z",
     "start_time": "2025-04-16T14:54:01.271905Z"
    }
   },
   "source": [
    "test_texts = agnews_test[:10].text.str.lower()\n",
    "lm_classify_texts(test_texts, lm_pos, lm_neg)"
   ],
   "outputs": [
    {
     "data": {
      "text/plain": [
       "                                                text pred_label pred_int  \\\n",
       "0  it #39;s over. our relationship just hasn #39;...   NEGATIVE        0   \n",
       "1  toshiba corp. announced tuesday a 80 gigabyte ...   NEGATIVE        0   \n",
       "2  scientists go back to the drawing board in the...   NEGATIVE        0   \n",
       "3  the first shuttle flight since the columbia tr...   NEGATIVE        0   \n",
       "4  new york, sept 21: iraqi prime minister iyad a...   NEGATIVE        0   \n",
       "5  hynix of korea has sold its non-memory semicon...   NEGATIVE        0   \n",
       "6  four seconds after he checked into his first b...   NEGATIVE        0   \n",
       "7  virgin will use airbus a340-600 aircraft on th...   NEGATIVE        0   \n",
       "8  from 26,000 light-years-- near the center of o...   NEGATIVE        0   \n",
       "9  at storage networking world yesterday, dell pr...   NEGATIVE        0   \n",
       "\n",
       "  p(+|text) p(-|text) p(text|+) p(+,text) p(text|-) p(-,text) p(text)  \n",
       "0       0.0       1.0       0.0       0.0       0.0       0.0     0.0  \n",
       "1      None      None       0.0       0.0       0.0       0.0     0.0  \n",
       "2       0.0       1.0       0.0       0.0       0.0       0.0     0.0  \n",
       "3       0.0       1.0       0.0       0.0       0.0       0.0     0.0  \n",
       "4      None      None       0.0       0.0       0.0       0.0     0.0  \n",
       "5      None      None       0.0       0.0       0.0       0.0     0.0  \n",
       "6      None      None       0.0       0.0       0.0       0.0     0.0  \n",
       "7      None      None       0.0       0.0       0.0       0.0     0.0  \n",
       "8      None      None       0.0       0.0       0.0       0.0     0.0  \n",
       "9      None      None       0.0       0.0       0.0       0.0     0.0  "
      ],
      "text/html": [
       "<div>\n",
       "<style scoped>\n",
       "    .dataframe tbody tr th:only-of-type {\n",
       "        vertical-align: middle;\n",
       "    }\n",
       "\n",
       "    .dataframe tbody tr th {\n",
       "        vertical-align: top;\n",
       "    }\n",
       "\n",
       "    .dataframe thead th {\n",
       "        text-align: right;\n",
       "    }\n",
       "</style>\n",
       "<table border=\"1\" class=\"dataframe\">\n",
       "  <thead>\n",
       "    <tr style=\"text-align: right;\">\n",
       "      <th></th>\n",
       "      <th>text</th>\n",
       "      <th>pred_label</th>\n",
       "      <th>pred_int</th>\n",
       "      <th>p(+|text)</th>\n",
       "      <th>p(-|text)</th>\n",
       "      <th>p(text|+)</th>\n",
       "      <th>p(+,text)</th>\n",
       "      <th>p(text|-)</th>\n",
       "      <th>p(-,text)</th>\n",
       "      <th>p(text)</th>\n",
       "    </tr>\n",
       "  </thead>\n",
       "  <tbody>\n",
       "    <tr>\n",
       "      <th>0</th>\n",
       "      <td>it #39;s over. our relationship just hasn #39;...</td>\n",
       "      <td>NEGATIVE</td>\n",
       "      <td>0</td>\n",
       "      <td>0.0</td>\n",
       "      <td>1.0</td>\n",
       "      <td>0.0</td>\n",
       "      <td>0.0</td>\n",
       "      <td>0.0</td>\n",
       "      <td>0.0</td>\n",
       "      <td>0.0</td>\n",
       "    </tr>\n",
       "    <tr>\n",
       "      <th>1</th>\n",
       "      <td>toshiba corp. announced tuesday a 80 gigabyte ...</td>\n",
       "      <td>NEGATIVE</td>\n",
       "      <td>0</td>\n",
       "      <td>None</td>\n",
       "      <td>None</td>\n",
       "      <td>0.0</td>\n",
       "      <td>0.0</td>\n",
       "      <td>0.0</td>\n",
       "      <td>0.0</td>\n",
       "      <td>0.0</td>\n",
       "    </tr>\n",
       "    <tr>\n",
       "      <th>2</th>\n",
       "      <td>scientists go back to the drawing board in the...</td>\n",
       "      <td>NEGATIVE</td>\n",
       "      <td>0</td>\n",
       "      <td>0.0</td>\n",
       "      <td>1.0</td>\n",
       "      <td>0.0</td>\n",
       "      <td>0.0</td>\n",
       "      <td>0.0</td>\n",
       "      <td>0.0</td>\n",
       "      <td>0.0</td>\n",
       "    </tr>\n",
       "    <tr>\n",
       "      <th>3</th>\n",
       "      <td>the first shuttle flight since the columbia tr...</td>\n",
       "      <td>NEGATIVE</td>\n",
       "      <td>0</td>\n",
       "      <td>0.0</td>\n",
       "      <td>1.0</td>\n",
       "      <td>0.0</td>\n",
       "      <td>0.0</td>\n",
       "      <td>0.0</td>\n",
       "      <td>0.0</td>\n",
       "      <td>0.0</td>\n",
       "    </tr>\n",
       "    <tr>\n",
       "      <th>4</th>\n",
       "      <td>new york, sept 21: iraqi prime minister iyad a...</td>\n",
       "      <td>NEGATIVE</td>\n",
       "      <td>0</td>\n",
       "      <td>None</td>\n",
       "      <td>None</td>\n",
       "      <td>0.0</td>\n",
       "      <td>0.0</td>\n",
       "      <td>0.0</td>\n",
       "      <td>0.0</td>\n",
       "      <td>0.0</td>\n",
       "    </tr>\n",
       "    <tr>\n",
       "      <th>5</th>\n",
       "      <td>hynix of korea has sold its non-memory semicon...</td>\n",
       "      <td>NEGATIVE</td>\n",
       "      <td>0</td>\n",
       "      <td>None</td>\n",
       "      <td>None</td>\n",
       "      <td>0.0</td>\n",
       "      <td>0.0</td>\n",
       "      <td>0.0</td>\n",
       "      <td>0.0</td>\n",
       "      <td>0.0</td>\n",
       "    </tr>\n",
       "    <tr>\n",
       "      <th>6</th>\n",
       "      <td>four seconds after he checked into his first b...</td>\n",
       "      <td>NEGATIVE</td>\n",
       "      <td>0</td>\n",
       "      <td>None</td>\n",
       "      <td>None</td>\n",
       "      <td>0.0</td>\n",
       "      <td>0.0</td>\n",
       "      <td>0.0</td>\n",
       "      <td>0.0</td>\n",
       "      <td>0.0</td>\n",
       "    </tr>\n",
       "    <tr>\n",
       "      <th>7</th>\n",
       "      <td>virgin will use airbus a340-600 aircraft on th...</td>\n",
       "      <td>NEGATIVE</td>\n",
       "      <td>0</td>\n",
       "      <td>None</td>\n",
       "      <td>None</td>\n",
       "      <td>0.0</td>\n",
       "      <td>0.0</td>\n",
       "      <td>0.0</td>\n",
       "      <td>0.0</td>\n",
       "      <td>0.0</td>\n",
       "    </tr>\n",
       "    <tr>\n",
       "      <th>8</th>\n",
       "      <td>from 26,000 light-years-- near the center of o...</td>\n",
       "      <td>NEGATIVE</td>\n",
       "      <td>0</td>\n",
       "      <td>None</td>\n",
       "      <td>None</td>\n",
       "      <td>0.0</td>\n",
       "      <td>0.0</td>\n",
       "      <td>0.0</td>\n",
       "      <td>0.0</td>\n",
       "      <td>0.0</td>\n",
       "    </tr>\n",
       "    <tr>\n",
       "      <th>9</th>\n",
       "      <td>at storage networking world yesterday, dell pr...</td>\n",
       "      <td>NEGATIVE</td>\n",
       "      <td>0</td>\n",
       "      <td>None</td>\n",
       "      <td>None</td>\n",
       "      <td>0.0</td>\n",
       "      <td>0.0</td>\n",
       "      <td>0.0</td>\n",
       "      <td>0.0</td>\n",
       "      <td>0.0</td>\n",
       "    </tr>\n",
       "  </tbody>\n",
       "</table>\n",
       "</div>"
      ]
     },
     "execution_count": 18,
     "metadata": {},
     "output_type": "execute_result"
    }
   ],
   "execution_count": 18
  },
  {
   "cell_type": "markdown",
   "metadata": {},
   "source": [
    "### Question 3. Classify simple texts. \n",
    "\n",
    "Given that our LMs are slow, and that they do not seem to be working so well for real sentences, let's try it on simple sentences, like \"today there is a game\". \n",
    "\n",
    "Invent a few simple sentences that are positive or negative according to your selected class and your judgement. Then classify them using the LM. \n",
    "\n",
    "Try to invent sentences for which both the positive and negative LM give a non-zero probability. Hint: restrict to words that are in the intersection of the vocabularies of the two LMs. "
   ]
  },
  {
   "cell_type": "code",
   "metadata": {
    "ExecuteTime": {
     "end_time": "2025-04-16T15:05:53.428014Z",
     "start_time": "2025-04-16T15:05:51.659017Z"
    }
   },
   "source": [
    "lm_classify_texts([\"today there is a game\"], lm_pos, lm_neg)"
   ],
   "outputs": [
    {
     "data": {
      "text/plain": [
       "                    text pred_label pred_int p(+|text) p(-|text) p(text|+)  \\\n",
       "0  today there is a game   POSITIVE        1  0.970636  0.029364       0.0   \n",
       "\n",
       "  p(+,text) p(text|-) p(-,text) p(text)  \n",
       "0       0.0       0.0       0.0     0.0  "
      ],
      "text/html": [
       "<div>\n",
       "<style scoped>\n",
       "    .dataframe tbody tr th:only-of-type {\n",
       "        vertical-align: middle;\n",
       "    }\n",
       "\n",
       "    .dataframe tbody tr th {\n",
       "        vertical-align: top;\n",
       "    }\n",
       "\n",
       "    .dataframe thead th {\n",
       "        text-align: right;\n",
       "    }\n",
       "</style>\n",
       "<table border=\"1\" class=\"dataframe\">\n",
       "  <thead>\n",
       "    <tr style=\"text-align: right;\">\n",
       "      <th></th>\n",
       "      <th>text</th>\n",
       "      <th>pred_label</th>\n",
       "      <th>pred_int</th>\n",
       "      <th>p(+|text)</th>\n",
       "      <th>p(-|text)</th>\n",
       "      <th>p(text|+)</th>\n",
       "      <th>p(+,text)</th>\n",
       "      <th>p(text|-)</th>\n",
       "      <th>p(-,text)</th>\n",
       "      <th>p(text)</th>\n",
       "    </tr>\n",
       "  </thead>\n",
       "  <tbody>\n",
       "    <tr>\n",
       "      <th>0</th>\n",
       "      <td>today there is a game</td>\n",
       "      <td>POSITIVE</td>\n",
       "      <td>1</td>\n",
       "      <td>0.970636</td>\n",
       "      <td>0.029364</td>\n",
       "      <td>0.0</td>\n",
       "      <td>0.0</td>\n",
       "      <td>0.0</td>\n",
       "      <td>0.0</td>\n",
       "      <td>0.0</td>\n",
       "    </tr>\n",
       "  </tbody>\n",
       "</table>\n",
       "</div>"
      ]
     },
     "execution_count": 19,
     "metadata": {},
     "output_type": "execute_result"
    }
   ],
   "execution_count": 19
  },
  {
   "metadata": {
    "ExecuteTime": {
     "end_time": "2025-04-16T15:06:43.900744Z",
     "start_time": "2025-04-16T15:06:43.863747Z"
    }
   },
   "cell_type": "code",
   "source": "print(lm_pos.vocab.intersection(lm_neg.vocab))",
   "outputs": [
    {
     "name": "stdout",
     "output_type": "stream",
     "text": [
      "{'synthetic', 'lower', 'consistent', 'valuable', 'arena', 'dawn', 'demanding', 'haiti', 'blackouts', 'contract', 'game-winning', 'adams', 'cool', '258th', 'commercial', 'drove', 'stock', 'franchises', 'port-au-prince', 'annoying', '400th', 'competes', 'company', 'outspoken', 'oaks', 'general', 'breakthrough', 'brief', 'nail-biter', 'suggests', 'shunned', 'emergence', 'johnson', 'drawing', 'giving', 'roof', 'belarus', 'colleges', 'enforce', 'defense', 'pool', 'cooper', 'goes', 'decent', '500,000', '70', 'dvd', 'become', 'explanations', '7:30', 'ruled', 'state', 'unhappy', 'managers', 'lobbying', 'largely', 'kick-started', 'calculating', 'validation', 'uribe', 'lawyer', 'co-founder', 'severely', 'appease', 'andrei', 'petition', 'necessary', 'occurred', 'safely', 'tens', 'lane', '440', 'bryant', 'vu', 'command', 'commission', 'tapped', 'reebok', 'truck', 'appeals', 'stiff', 'healthier', 'relegation', 'illness', 'plus', 'mound', 'fortune', '23', 'disastrous', 'nebraska', 'widely', 'ithaca', 'richter', 'presentation', 'brazilian', 'dealer', 'reminder', 'divisions', 'walker', 'montgomery', '2.6', 'caps', 'flowing', 'kidney', 'grounds', 'natwest', 'colts', 'battalion', 'ropes', 'want', 'snap', 'central', 'suspend', 'steven', 'bull', 'midst', 'recipient', 'worms', 'poland', 'bed', 'engine', 'sonia', 'colin', 'expecting', 'relocated', 'popping', 'gillette', 'miles', 'disaster', 'unanimous', 'tenn.', 'j.d', 'inspire', 'such', 'arrival', 'share', 'cheers', 'wonders', 'sweep', 'go', 'perfectly', 'eased', 'planet', 'olympians', '270', 'outlined', 'belt', 'sparked', 'opponent', 'free', 'fling', 'cruised', 'lloyd', 'collateral', 'nowhere', 'coca-cola', 'violation', 'risky', 'offers', 'accompany', 'derailed', 'ramon', 'open', 'alexander', '276', 'present-day', 'reality', 'middle', 'swisscom', 'screen', 'frustration', 'hammer', 'charlie', 'faded', 'halfway', 'australias', 'bear', 'wolverines', 'passerby', '_', 'embarrassment', 'booby', 'salt', 'agrees', 'strokes', 'broad', 'anxious', 'nearby', 'maintained', 'annual', 'less', 'beating', 'rare', 'once-hot', 'wrestling', 'gay', 'faltering', 'golds', 'difficult', 'grand', 'iain', 'fifth-ranked', 'mid-october', 'relocate', 'anne', 'icc', 'arch-rival', 'reed', 'gestures', 'tim', 'divides', 'duty', 'council', 'an', 'worried', 'wacky', 'district', 'geoff', 'reduce', 'championships', 'causes', 'deny', 'staunch', 'office', 'buffalo', 'canadian', 'orange', 'but', 'swooping', 'apology', 'stole', 'example', 'cons', '19-year-old', 'concerns', 'knocking', 'gt', 'desert', 'shining', 'satisfied', 'horton', 'wisconsin', 'oh', '2012', 'packed', 'ownership', 'boutique', 'hours', 'contained', 'through', 'employed', 'jd', 'municipality', 'tighten', 'rallying', 'kenyan', 'graham', 'call', 'caretaker', 'commenting', 'edge', 'flick', 'cemented', '5-5', 'human', 'throw', 'healthy', 'ratings', 'roddick', 'haas', 'translated', 'goodbye', 'wing', 'attraction', 'edged', 'deposed', 'jays', 'write', 'anthem', 'eligibility', 'remained', 'responsible', 'supposed', 'relegated', 'sixteen', 'unemployed', 'pat', 'fined', 'substitute', 'benefits', 'champ', 'impose', 'poisoned', 'latin', 'considering', 'star-crossed', '80', 'pronounced', 'blocked', 'veered', 'northwestern', 'staying', \"'ll\", 'sri', 'jigsaw', 'flames', 'streak', 'figure', 'league', 'mugabe', 'rallied', 'unconscious', 'produces', 'pakistan', 'monster', 'tolerant', 'peru', 'funk', 'rough', 'make', 'reveals', 'blasting', 'crystl', 'fighter', 'wilmington', 'danish', '2004', 'view', 'models', 'attached', 'hands', 'procedure', 'shoe', 'magazine', 'kicks', 'word', 'entertainment', '3m', 'belly', 'triples', 'scrambling', 'mass.', 'cubans', 'dogs', 'defenses', 'drawn', 'claiming', 'co', 'mr.', 'dubbed', 'disc', 'casting', 'assume', 'variety', 'reclaim', 'elsewhere', 'stroke', 'injured', 'creams', 'arenas', 'better', 'eyeing', 'federal', 'session', 'countrymen', 'decline', 'ended', 'retired', 'store', '5', 'lomana', 'receiver', 'trimming', 'lighting', 'further', 'destined', 'est', 'awry', 'spreading', '26.6', 'jazz', 'grows', 'hamish', 'switched', 'brains', 'letter', 'powerless', 'greater', 'francis', 'compliance', 'auburn', 'visits', 'jaguars', 'emotional', 'mri', 'run', 'website', 'hunter', 'sink', 'clean', 'jewels', 'non-violent', 'goals', 'weapon', 'calif', 'voice', 'flows', 'mourners', 'cesare', 'qualities', 'contrary', 'clutching', 'sept.', 'sydney', 'pto', 'laura', 'ca', 'violating', 'partially', 'amazing', 'tottenham', 'oracles', 'shame', 'motors', 'boo', 'robson', 'rule', 'must', 'nostalgia', 'kilometres', 'retail', 'amount', 'suburban', 'lame', 'eve', 'concept', 'que', 'demanded', 'polished', 'symbol', 'slowly', 'france', 'fine', 'towards', 'patterson', 'fundamental', 'burst', 'w.', 'tri-nations', 'lineup', 'funding', 'sales', 'rise', 'fourth-seeded', 'jackets', 'kiwi', 'started', 'gaining', 'involvement', 'reigned', 'funeral', 'referring', 'minnesota', 'puts', 'sometime', 'reserves', 'traditionally', 'explanation', 'lend', 'ahl', 'plans', 'cubs', 'wash.', 'cat', 'columnist', 'year-end', 'vancouver', 'suspected', 'accommodate', 'competitors', 'fifa', 'imminent', 'award', 'callahan', 'having', 'departure', 'tone', 'swiftly', 'generally', 'runner-up', 'descended', 'alonso', 'includes', 'courts', 'national', 'engineered', 'hospitals', '47', 'multi-year', 'event', 'loves', 'negotiate', 'crippling', 'canton', '8.6', 'georgetown', 've', 'confirms', 'since', 'founder', 'politics', 'lackluster', 'blamed', 'dread', 'erred', 'prizes', 'person', 'performance', 'family', 'crass', '3.4', 'proves', 'drastically', 'coasts', 'errors', 'magic', 'recommend', 'drops', '$', 'scheduled', 'defiance', 'assurance', 'ballots', 'exception', 'stricken', 'frantic', 'raised', 'tenuous', 'rim', 'bases', 'clinical', 'lingers', 'lore', 'victorious', 'maiden', 'atlanta', 'conference', 'officials', 'mourning', 'illinois', 'rome', 'hitch', 'amends', 'offenders', 'slapped', 'fascinating', 'distributed', 'months', 'dominican', 'assistant', 'proposed', 'room', 'head-to-head', '3.5', 'dorms', 'droves', 'collins', 'conflicts', 'sue', 'dismantle', 'york', 'losers', 'lahore', 'live', 'drew', '39', 'instincts', 'uphold', 'rightly', 'prestigious', 'management', 'crossing', 'joke', 'trees', 'successful', 'heights', 'card', 'haven', 'repercussions', 'bounce', 'bangalore', 'racing', 'chief', 'a', 'tip-off', 'competition', 'shows', 'indiana', 'joseph', 'platform', 'turn', 'purchasing', 'blackstone', 'carrier', 'letting', 'measure', 'courthouse', 'tucked', 'postponement', 'yards', 'tower', 'responsibility', 'astonishing', 'squash', 'sixth-seeded', 'tremor', 'hearings', 'd.c.', 'plug', 'atp', 'ben', 'marketplace', 'layer', 'number-two', 'materialize', 'drinks', 'held', 'level', 'cellular', 'nordic', 'stalls', '1977', 'maintains', 'questionnaire', 'arms', 'vowing', 'jonathan', 'mohammed', 'sack', 'perfect', 'innings', 'columbus', 'chair', 'rash', 'franco', 'axed', 'pits', 'roared', 'herded', 'islamic', 'trophy', 'quite', 'akin', 'covering', 'overshadowed', 'nuts', 'lands', 'parking', 'he', 'cited', 'outcome', 'can', 'drivers', 'recent', 'tragedy', '1998', 'enter', 'learns', 'ghosts', 'naked', 'hampering', 'twins', '1986', '107', 'lightweight', 'backup', 'bared', 'executive', 'singles', 'cancer', 'rooting', 'reporting', 'pumped', 'acc', 'fencing', 'asian', '07', 'slovakia', 'muscles', 'anticipation', 'khan', 'edges', 'payroll', 'jeep', 'rolling', 'davis', 'tennessee', 'gift', 'misses', 'rebound', 'train', 'capture', 'sessions', 'pencil', 'secretly', 'polite', 'italy', '84-year-old', 'organizations', 'was', 'strategy', '5th', 'realizes', 'challenges', 'maryland', 'polled', 'nucleus', 'ourselves', 'celebrity', 'anticipated', 'liz', 'conn', 'shoulders', 'treated', 'resort', 'abated', 'nancy', 'shrinking', 'speculate', 'employing', '14', 'features', 'entrance', '759', 'seats', 'appeared', 'forces', 'poised', 'skepticism', 'proper', 'vicente', 'ferencvaros', 'drills', 'lewis', 'shannon', 'disputed', 'additional', 'sweat', 'san', 'pattern', 'him', 'spurred', 'ellen', 'testimony', 'side', 'assured', 'mayor', 'burning', 'years', 'collapsed', 'del', 'powers', 'writing', 'firmed', 'jet', 'jurors', 'tea', 'acquiring', 'window', 'subcontinent', 'brought', 'partisan', 'bomb', 'heralded', 'retained', 'discussing', 'visitors', 'traumatic', 'about', 'disclosed', 'harrowing', \"o'leary\", 'tech', 'flow', 'others', 'action', 'verbal', 'marred', 'conclusion', 'boxers', 'ends', 'cliff', 'slot', 'heard', 'sandy', 'irreparable', 'washed', 'initiative', 'standing', 'seize', '4-6', 'hard-fought', 'headline', 'handful', 'judges', 'powered', 'syndicated', 'friday', 'berlin', 'class', 'whistle', 'political', 'strike', 'specialist', 'installed', 'daddy', 'rico', 'tasks', 'erased', 'golf', 'st.', 'sank', 'bela', 'occur', 'obscure', 'accounting', 'first-half', 'range', 'morten', 'switch', 'deals', 'tulsa', 'steps', 'guests', 'tainted', '1993', 'prince', 'industry', 'tries', 'often', 'like', 'channels', 'heats', 'reading', 'musicians', 'three-pronged', 'marijuana', 'restructuring', 'yard', 'skill', 'fan', 'understandable', 'stands', 'chattanooga', 'leeds', 'movie', 'each', 'bombs', 'aaron', 'considered', 'currently', 'cleveland', 'avoiding', 'drink', 'verge', 'foot', 'lucrative', 'worthy', 'rescheduled', 'presidential', 'mens', 'sons', 'xavier', 'pre-emptive', 'taught', 'issue', 'nowadays', 'clout', 'interpreted', 'mantle', 'mickey', 'earl', 'benevolent', 'men', 'synagogue', 'handle', 'crucial', 'sexually', '96', 'background', 'equal', 'victory', 'hero', '60', 'mohammad', 'third-quarter', 'trooper', 'improve', 'cbs', 'carnival', 'marked', 'doomed', 'angered', 'thoroughly', 'attending', 'seekers', '35-year-old', 'abu', 'final', 'owner', '12:05', 'develop', 'tests', 'dedicated', 'girls', '84', 'suburb', 'blocks', 'cooler', 'spots', '1996', 'quits', 'plucky', 'man', 'savage', 'julian', 'neill', 'mobile', 'wesley', 'have', 'grow', '52-year-old', 'guns', 'picking', 'intact', \"'s\", 'red', 'plagued', 'fix', 'barren', '60,000', 'unexpectedly', 'wit', 'slice', 'foreign', 'partners', 'starter', 'uniting', 'turmoil', 'leak', '316', 'split', 'gene', 'promote', 'volley', 'dallas', 'consistently', 'anderlecht', 'potent', 'guarantee', 'voted', 'saban', 'beside', 'than', 'speaker', 'instead', 'organizing', '103', 'defends', 'portsmouth', 'luciano', 'residents', 'baseball', 'trading', 'account', 'telling', 'finishing', '31.', 'greatest', 'funded', 'simultaneously', 'versatile', 'improves', 'to', 'appealed', 'indicates', 'young', 'nj', 'toughest', 'assist', '21-year', 'ann', 'journalists', '30', 'host', 'attend', 'brisk', 'cancun', 'now', 'online', 'engagement', 'send', '58', 'iron', 'assembly', 'salute', 'sudden', 'cox', 'salvaged', 'millennium', 'stretching', 'ante', 'bolstered', 'markets', 'location', 'jermain', 'succeeding', 'audience', 'holy', 'joining', 'vegas', 'nobody', 'enjoyed', 'took', 'courtney', 'trent', 'squeeze', 'narrowed', 'seizing', 'conducting', 'ventura', 'careful', 'appear', 'challenged', 'panthers', 'groton', 'andrew', 'wish', 'longer', 'stamford', 'dinner', 'route', 'debacle', 'ban', 'tradition', 'obstacle', 'rogge', 'wednesday', 'famed', 'hurricane', 'knocked', 'miss', 'lilly', 'intelligent', 'archrival', 'abusing', 'harris', 'bit', 'prized', '175', 'rookie', 'expanded', 'reflect', 'bore', 'ironic', 'cream', '1980', 'bizarre', 'rewards', 'staggering', 'balls', 'training', 'p.m', 'remember', 'jan.', 'sluggish', 'hanging', 'ultimate', 'fines', 'images', 'sting', '4.8', 'success', 'uncle', 'university', 'top-ranked', 'challenge', 'takeover', 'blockbuster', 'santiago', 'queens', '4.1', 'july', 'sharp', 'victims', 'bloom', 'provided', 'rumors', 'k', 'looming', 'small', 'female', 'snatch', 'harvard', 'manual', 'holidays', 'rally', 'song', 'coughing', 'swiss', 'last', 'golden', '61', 'mean', 'tips', 'behalf', 'struggling', '277', 'athens', 'wondering', 'adjourned', 'shaken', 'two-run', 'philadelphia', 'mass', 'castro', 'volvo', 'punjab', 'sensation', 'television', 'resulted', 'dr', 'merely', 'requested', 'neared', 'expect', 'carmakers', 'borders', 'campaign', 'role', 'replays', 'riot', 'belgrade', 'thousands', 'questioning', '650', 'statement', 'agreeing', 'earned', 'fumble', 'agreed', 'network', 'furiously', 'toppers', 'puzzled', 'boosted', 'fiery', 'guilty', 'stretched', 'frontier', 'hong', 'field', 'luxembourg', 'bumpy', 'hair', 'realized', '9:30', 'express', 'quietly', 'personality', 'unrelenting', 'station', 'clara', '1965', '5.5', 'fills', 'bolton', 'utterly', 'display', 'kidnappers', 'providence', 'putts', 'elena', 'roman', 'rebuilding', 'hernia', 'strap', 'mocked', 'kingston', '!', 'doors', 'carries', 'succeeded', 'billing', 'corners', 'dose', 'sentenced', 'posting', 'janet', 'number', 'threshold', '7', 'short-lived', 'tommy', '15', 'several', 'gore', 'historic', 'netted', 'exclusively', 'restricted', 'cope', 'mate', 'logged', 'heavyweights', 'single', 'walking', 'runs', 'existed', 'brightest', 'chain', 'finished', 'patient', 'bag', 'apartment', 'dancing', 'climbed', 'handoff', 'shock', 'wr', 'unpaid', '*', 'jones', 'diva', '750,000', 'relationships', 'length', 'ill-fated', 'ankle', 'disappointed', 'voices', 'overpowered', 'fischer', 'sold', 'shareholders', 'raise', 'inmates', 'spokeswoman', 'raged', 'terrific', 'buried', 'opportunity', 'prosecutor', 'bursts', 'indicating', 'wound', 'ore.', 'enough', 'surfaced', 'managing', 'beard', 'week', 'revolution', '90', 'ferdinand', 'arrest', 'continental', 'abusive', 'respective', 'dusty', 'searing', 'crammed', 'frightened', '16th', 'art', 'rafael', 'execution', 'lines', 'odds', 'we', 'called', 'posted', 'six-year', 'leary', 'suffering', 'athletics', 'penalties', 'distinct', 'warned', 'loses', 'secondary', '1962', 'first-ever', 'recommendation', 'belatedly', 'hustled', 'all-time', 'israel', 'forget', 'assaulting', 'comet', 'starting', '1.47', 'pujols', 'hidden', 'closed', 'slipping', 'interim', 'breaks', 'collide', 'protest', 'wall', '2004.', 'very', 'camps', 'oak', '64', 'ahmad', 'experience', 'attacked', 'guaranteed', 'contemplates', '5-year-old', 'race', 'inexperienced', 'investigation', 'spokesman', 'picks', 'humiliating', 'triple-a', '4.2', 'animals', 'roughly', 'oppose', 'outfit', 'euro', 'tipped', 'ryu', 'stretch', 'abandoned', 'capping', 'betting', 'won', ';', '1,000th', 'stage', 'weir', 'brush', 'questioned', 'topping', '3000', 'lifetime', 'ceo', 'root', 'there', 'supported', 'member', 'rolls', 'edinburgh', 'quake', 'epic', 'pleaded', 'future', 'switzerland', 'thank', 'lineups', 'tomo', 'anaheim', 'approach', 'peek', 'speeding', 'were', 'pundit', 'barber', 'bush', 'ethnic', 'gusts', 'reconstruction', 'hungarian', 'it', 'bigger', '50th', 'practically', 'undermine', 'cb', 'cap', 'visited', 'sense', 'appearing', 'stripped', 'one-million-dollar', 'creature', 'rican', 'failed', 'hand', 'hints', 'qualify', 'three-run', 'strong', 'conn.', 'wenger', 'jail', 'hotel', 'prospect', 'ones', 'easy', 'captured', 'samsung', 'availability', 'lengths', 'announcement', 'kremlin', 'contradictory', '105', 'inviting', 'tucker', 'jennings', 'sleeping', 'fastest', 'stepped', 'second-biggest', 'financial', 'baker', 'celebrate', 'mirror', 'brazen', 'buildings', 'failures', 'privacy', 'master', 'transformed', 'richard', 'kazmir', 'area', 'so-called', 'preserve', 'missing', 'alive', 'battering', 'intriguing', 'counter', 'lesson', 'springfield', 'lenny', 'claim', 'shuffled', 'dangled', 'vanessa', 'personalities', 'fall', 'poacher', 'motley', 'colossal', 'wounding', 'ripped', 'jesus', 'pepsi', 'pleading', 'performed', 'haul', 'kenya', 'n.y.', 'topped', 'burns', 'amber', 'endless', 'see', 'scare', 'milestones', 'uncomfortable', 'peter', 'flushing', 'identified', 'bridge', 'rang', 'revelation', 'sidney', '1.7', 'torn', 'helsinki', 'disappearing', 'operator', 'back-to-back', 'apparel', 'robert', 'scandals', 'leon', 'international', 'keyed', 'desperate', 'typical', 'roar', 'pirates', 'mexican', 'attack', 'maintaining', 'taken', 'red-hot', 'howe', 'reilly', 'formally', 'carmen', 'staple', 'addiction', 'paid', 'anonymous', 'glowing', 'partnership', 'ferguson', 'sent', 'grudge', 'capital', 'debut', '6.5', 'mangled', '17-year-old', 'worked', 'engines', 'couldn', 'semifinals', 'colorado', 'morocco', 'outdoor', 'competitive', 'higher', 'likely', 'spun', 'hilton', 'comeback', '54', 'union', 'countrys', 'skip', 'listen', 'wigley', 'virtually', 'faced', 'thompson', 'showcase', 'ortiz', 'decision', 'ramsey', 'keane', 'waiting', 'unraveling', 'communication', 'meaning', 'councilor', 'insisted', 'mclaughlin', 'coverage', 'hunt', 'overly', '5:00', 'landmark', 'makes', 'offer', 'claims', 'weird', 'sponsors', 'adopt', 'milwaukee', 'denied', 'prey', 'backing', 'bridges', 'benign', 'us\\\\', 'fla', '219', 'raced', 'search', 'attendance', 'completely', 'local', 'todd', '1999', 'negative', 'handbag', 'west', '8.5', 'claimed', 'tribute', 'expansion', 'alarming', '1987', 'seldom', 'ham', 'sale', 'footsteps', 'peace', '113', 'frankfurt', 'imagine', 'islands', 'internal', 'pocket', 'two-game', 'push', 'bombers', 'metro', 'gold', 'again', 'tiger', 'ind', 'mountain', 'slow', 'issuing', 'pitched', 'randy', 'rank', 'baseline', 'naming', 'coast', 'accepting', 'heavyweight', 'nemesis', 'roles', 'detained', 'tunes', 'scratched', 'sentiment', 'shaping', 'countries', 'understanding', 'twenty-three', 'wasnt', 'balloting', 'agreement', 'bath', 'aftermath', '2000', 'handicap', '1-1', 'approve', 'acquire', 'slight', 'tyne', 'church', 'penchant', 'brother', 'sparkling', 'laced', 'northeastern', 'shared', 'playground', 'ward', 'nicolas', 'writers', 'groups', 'governing', 'eliminating', 'swing', 'salvador', 'increased', 'rivalry', '87', 'lifted', 'unfathomable', 'luke', 'proposals', 'province', 'contribution', 'question', 'four-hour', 'performer', 'bay', 'shocking', 'marine', 'offered', '18-6', 'jack', 'sa', 'displays', 'mom', 'manufacturers', 'flexibility', 'scores', 'evacuate', '7,500', 'bad', 'century', 'advanced', 'portugal', 'hailed', 'maintain', 'pierce', 'beginning', 'associations', 'anytime', 'com', 'tenure', 'candidate', 'exhibition', 'munich', 'troopers', 'delight', 'switches', 'consumed', '114', 'aires', 'eligible', 'along', 'check', 'balance', 'seriously', '(', 'jeanne', 'payment', 'organisation', 'dragging', 'increases', 'detonated', '1995', 'sandwiches', 'packages', 'harshest', 'used', 'insider', 'revised', 'bleary-eyed', 'crush', '2-0', 'resemble', 'save', 'recognize', 'pavano', 'six', 'canas', 'barrage', 'philippe', 'breast', '10.5', 'potential', 'knew', 'thomas', 'outdoors', 'hopes', 'books', 'victor', 'jacques', 'disabled', 'volcanic', 'october', 'webb', 'lu', 'turnover', 'kid', 'involved', 'god', 'gal', 'donald', 'banking', 'confusion', 'tearing', 'surface', 'venerable', 'fortnight', 'son', 'badly', 'orlando', 'forcing', 'hover', 'dobbs', 'treacherous', 'recognition', 'port', 'welcomes', 'patent', 'incident', 'coolly', 'protective', 'booking', 'fair', 'eluding', 'four-year', 'found', 'dave', 'bbc', 'santos', 'underestimated', '1991', 'letterman', 'skills', 'shouts', 'reaching', 'lose', 'snaring', 'deficit', 'barclays', 'tossed', 'sample', 'l.', 'little-used', 'skin', 'shadows', 'bahamas', 'lieber', 'combine', 'sprint', 'constitution', 'branded', 'moderate', 'defending', 'physician', 'complaining', 'car', 'rip', 'conducted', 'attacking', 'neck', 'propelling', 'leicester', 'russia', 'structure', 'happens', 'teens', 'defied', 'publicly', 'bali', 'forged', 'chants', 'direct', 'sedan', 'arturo', 'greens', 'banning', 'crown', 'adelaide', 'repeatedly', 'swarm', 'print', 'kilograms', 'cautious', 'sanctioned', 'circles', 'retirement', 'design', 'dash', 'brown', '2007', 'famously', 'reiterated', 'propel', 'crashes', 'confirm', 'maritime', 'turkey', 'cincinnati', 'win\\\\over', 'resignation', 'cloud', 'democrat', 'peaks', 'lifting', 'agree', '1b', 'bowed', 'dhabi', 'controlled', 'remnants', 'gm', 'lofty', 'maria', '47-year-old', 'accounts', 'private', 'joins', 'bankers', 'catholic', 'wounded', 'daughters', 'ramirez', 'knocks', 'out-pitch', 'football', 'programs', 'adjustments', 'guerillas', 'skeptics', 'guys', 'critics', 'matching', 'jr.', 'lasting', 'hurt', 'romania', 'things', 'kim', 'despite', 'indicator', 'v', 'depleted', 'sachin', 'starters', 'rode', 'scrutiny', 'permission', 'assorted', 'shrouded', 'nice', 'tuned', 'drug', 'approaches', 'best-ever', 'foe', '179', '2000.', 'strange', 'leader', 'heeding', 'stacked', 'item', 'malaysian', 'arguing', 'p', 'continue', 'schedule', 'participate', 'shoddy', 'illegal', 'urged', '12', 'excellent', 'straight', 'businessman', 'march', 'merchandise', 'brooke', 'exit', 'makeshift', 'reception', 'directions', 'knee', 'dollar', 'legend', 'version', 'wet', 'pasadena', 'solace', 'provides', 'senegal', 'crashing', 'illusions', 'thorough', 's', 'dump', 'dime', 'resurrect', 'prize', 'canadians', 'tds', 'mukherjee', 'cocoa', 'slaps', 'physicists', 'swings', 'tokyo', 'festival', 'seniors', 'highway', 'unacceptable', 'revolt', 'came', 'postpone', 'catches', 'condemned', 'research', 'recruits', 'avoid', 'steadfast', 'shrugged', 'frank', 'allow', 'filled', 'rides', 'olympics', 'comprise', 'obscenity', 'serious', 'male', 'heightened', 'inside', 'drop', 'cartoon', 'felled', 'beer', 'information', 'ecuador', 'tattered', 'contender', 'galaxy', 'opponents', 'policies', 'contests', 'understand', 'everett', 'line', 'cutting', 'earning', '6-year-old', 'wondered', 'bloomfield', 'manages', 'mcguire', 'nasty', 'inc', '190', 'alarm', 'lexmark', 'parts', 'louis', 'bat', 'juncture', 'edu', 'undergone', 'scorching', '10th', 'know', 'possible', 'triple', 'partnering', 'gets', 'camera', 'lehman', 'teve', 'base', 'compatriots', 'direction', 'bud', 'storm', 'succumbed', 'karen', 'editors', 'rev', 'industrial', 'breakaway', 'interrupted', 'quinn', 'strains', 'reached', 'seeking', 'equaliser', 'bids', 'strand', 'off', 'lone', 'replaces', 'borrowed', 'clark', 'relax', 'past', 'around', 'well', 'slovenia', 'jumped', 'experts', 'jailed', 'era', 'ogden', 'fading', 'scream', 'danielle', 'created', 'fanning', 'sidelines', 'flashy', 'effort', 'briton', 'emerge', 'soared', 'brewers', 'tonic', 'hostility', 'liner', 'lips', 'itself', 'bode', 'enrolled', 'removing', 'instructions', 'veteran', 'intent', 'important', 'light', 'stifling', '#', 'limit', 'sagging', 'firmly', 'oscar', 'rockets', 'tumbled', 'reversal', 'discovering', 'toronto', 'tore', 'replaced', 'rod', 'allianz', 'creating', 'endorsing', 'alabama', 'vodafone', 'accounted', 'revealing', 'reach', 'negotiation', 'pickup', '137', 'smiles', 'mortal', 'dynamic', 'comfort', 'speaks', 'combines', 'bureau', 'theft', 'hopeful', 'authorities', 'fenway', 'critically', 'hapless', 'km', 'ballroom', 'winner', 'suitor', 'caught', \"o'brien\", 'halves', 'taipei', 'blow', 'loved', 'help', 'practices', 'rules', 'false', 'lease', '24-17', 'jim', '53', 'pulling', 'talk', 'worldwide', 'vhs', 'supreme', 'engineer', 'show', '16', 'rider', 'choices', 'stuff', 'egg', 'thoughts', 'reluctantly', 'picture', 'suv', 'half-mile', 'fighting', 'fitness', 'periods', 'payday', 'patriots', 'successive', 'arrived', 'jour', 'serbian', 'changing', 'previous', 'edition', 'impress', 'william', 'pushed', 'cyclists', '7-5', 'warming', 'quiet', 'history', 'ladies', 'memorial', 'glimpse', 'calgary', 'campaigning', 'emails', 'pilots', 'aware', 'falling', 'blowing', 'pursuit', 'lengthy', 'alongside', 'time', '147', 'libraries', 'phillips', 'confused', 'bunker', 'effects', 'meteor', 'visitor', 'winds', 'swapping', 'watson', 'promoting', '85', 'bonanza', 'noise', 'injury', 'am', 'address', 'goal', 'gunpoint', 'softened', 'philippines', 'withdrawals', 'cheats', 'hawkins', 'guessed', 'downing', 'world', 'mentioned', 'northeast', 'unease', 'factor', 'shift', 'griffin', ',', 'whacked', 'securing', 'ousted', 'unique', 'hire', 'playoffs', 'ryder', 'sin', 'standard', 'decorated', 'hadn', 'revealed', 'little', 'struggle', 'cracked', '180', 'everyone', 'autumn', 'prosecution', 'lions', 'hoping', 'ta', 'belts', 'leopard', 'congress', 'villain', 'legacy', 'depression', 'doubt', 'contrast', 'journey', 'wrestled', 'yelling', 'sunday', 'delaware', 'accusations', 'attorneys', 'unavailable', 'match', 'cent', 'dunes', 'favour', 'gaston', 'figures', 'aided', 'in', 'build', 'freedom', 'stronger', 'soft', 'approval', 'rooms', 'thornton', 'while', 'finish', 'limited', 'campbell', 'debated', 'energetic', 'rumours', 'tentatively', 'header', 'society', 'tournaments', 'basis', 'joy', 'august', 'studying', 'nottingham', 'after', '88', 'wins', 'explosive', 'fly', 'remark', 'confidence', 'released', 'main', 'chuck', 'components', 'abruptly', 'presidents', 'four-game', 'tickets', 'fool', 'withdrawing', 'cricket', 'without', 'santana', 'multi-millionaire', 'remainder', 'miami', 'staffing', 'believing', 'logan', 'plenty', 'unrestricted', 'sergio', 'mystified', 'expiration', 'camilleri', 'eating', 'em', 'initially', 'weather', 'doom', 'powerful', 'chess', 'revamped', 'ending', '1.5', 'mario', 'kickoff', 'remaining', 'clinched', 'leslie', 'applauded', '2-3', 'cafe', 'bulgarian', 'sets', 'stolen', 'strategic', 'reorganize', 'che', 'becomes', 'owe', 'bernie', 'lodged', 'unless', 'delta', 'withdraw', 'period', 'battled', 'baron', 'tyres', 'lobbed', 'aegean', 'bielsa', 'saving', 'indias', 'mutu', 'a.l', 'lyon', 'heir', 'limping', 'order', 'brad', 'onslaught', 'cycling', 'enduring', 'next', 'french', 'promoted', 'greatly', 'marvelous', 'suddenly', '000', '...', 'institutional', 'interview', 'finale', 'missouri', 'habits', 'schilling', 'leaked', 'scrap', 'gaming', 'to\\\\the', 'works', 'eddie', 'paraguay', 'watchful', 'invitation', 'together', 'attacker', 'contested', 'separation', 'alternately', 'individual', 'stockholm', 'dramatic', 'sen.', 'chelmsford', 'games', 'ranch', 'barrett', 'worst', 'mine', 'daily', 'body', '250,000', 'granted', 'bernhard', 'victories', 'beyond', 'argentina', '127', 'charles', 'feels', 'diplomats', 'backward', 'outback', 'fitting', 'ill', 'credit', 'sullivan', 'austrian', 'possession', '386.', 'lax', 'dysfunctional', 'additions', 'probably', 'effect', 'shocked', 'uri', 'did', 'exchange', 'chavez', 'predictions', 'forever', '8th', 'guard', 'raucous', 'angry', 'billy', 'brutal', 'crystal', 'promised', 'participated', 'commanding', 'bet', 'seesaw', 'quick', 'coal', 'supposedly', 'mississippi', 'preliminary', 'park', 'mismanagement', 'merger', 'forced', 'flag', 'jefferson', 'walter', 'soundtracks', 'heap', 'devised', 'trying', 'half', 'pretty', 'satellite', 'pancreatitis', 'counted', 'stave', 'true', 'supermarket', 'cycle', 'which', 'snatched', '1990s', '800', '99', 'hugh', 'holder', 'southeast', 'sights', 'beach', '81', 'pressures', 'pancreatic', 'prior', 'calls', 'knife', 'operations', 'out', 'voting', 'five-year', 'sought', 'committed', '2.9', 'easier', 'aging', 'prolific', 'franklin', 'reserve', 'tear', 'landscape', 'jessica', 'sham', 'brenda', 'replacing', 'reno', 'register', 'arts', 'mention', 'gone', 'joined', 'iraq', 'afc', 'paying', 'bright', 'outlook', 'rains', 'cp', 'parked', '25-year-old', 'minute', 'cable', 'dark', 'istanbul', 'anchorage', 'worry', 'shareholder', 'incomplete', 'extended', 'representative', 'armstrong', 'horizon', 'prematurely', 'financed', 'reunited', 'girlfriend', 'food', 'service', 'tomorrow', 'described', 'play', 'tiki', 'overlooking', 'shown', 'former', 'vladimir', 'courier', 'defamation', 'arabia', 'tied', 'wrath', 'laid', 'join', 'durable', 'members', 'cleansing', 'publicist', 'conquered', 'interstate', 'frustrating', 'budapest', 'rehabilitation', 'columbia', 'stop', 'minority', 'norwegian', 'impressive', 'overwhelming', 'bmw', '423', 'rewarded', 'presumably', 'zimbabwe', 'belgium', 'rain', 'naturally', 'consciousness', 'wo', 'producing', 'pave', 'willis', 'double-digit', 'remove', 'winter', 'arroyo', 'earnest', 'slovak', '28', 'directly', 'prosecutors', 'precedent', 'salaries', 'demands', 'wa', 'aboard', 'mel', 'get', 'assembling', 'on', 'fantasy', 'changed', 'defend', 'course', 'holland', 'paradise', 'norway', 'nursing', 'cold', 'impaired', 'lynch', 'thing', 'silenced', 'investigate', 'jacket', 'lake', 'modest', 'electricity', 'italians', 'entitled', 'northern', 'geneva', 'les', 'opportunities', '83', 'signing', 'lift', 'draped', 'fit', 'evident', 'masks', 'bottom', 'else', 'tender', '32-year-old', 'unexpected', 'm', 'boulder', 'visiting', 'shouting', 'first-time', 'living', 'linda', 'threatening', 'hills', 'getting', 'with', 'pete', 'improper', '18-month', 'distribution', 'mandatory', 'durban', 'month', 'julia', 'bailey', 'strip', 'guarded', 'born', 'critical', 'ghost', 'responded', 'promotion', 'contacted', 'pleased', 'refusal', 'headed', 'endorsement', 'releasing', 'salmon', 'wants', 'bastion', '15-month-old', 'violations', 'became', 'intensity', '51', 'stringent', 'colo.', 'nec', 'racism', 'thinking', 'colors', 'owed', 'sunshine', 'earthquake', 'strength', 'giants', 'chelsea', 'statements', 'then', 'troubles', 'egypt', 'soil', 'hamburg', 'prison', 'sell', 'asia', 'quartet', 'fierce', 'battery', 'here', 'guards', 'move', 'slip', 'dana', 'neighbor', 'wheel', 'much-needed', 'spending', 'admissions', 'ea', 'assisted', 'pursued', 'pair', 'non-stop', '4-3', 'anfield', 'files', 'spare', 'brow', 'steroids', 'foster', 'seasons', 'military', 'heat', 'mystery', '146', 'plastic', 'places', 'touched', 'names', 'miss.', 'aside', 'grin', 'garden', 'sunset', 'spinoff', 'ho', 'whitney', 'jaguar', 'notching', 'shake-up', 'thatcher', 'consider', 'collector', 'avoided', 'short', 'earthquakes', 'homework', 'complex', 'convinced', 'nick', 'different', '77', 'begins', 'modern', 'sheet', 'nervous', 'news', 'obstacles', 'theme', 'united', 'yeltsin', 'rainy', 'grass', 'slopes', 'campaigner', 'trend', 'suggested', 'stark', 'saga', 'pacers', 'browns', 'wrote', 'tn', 'overhauled', 'respect', 'phenomenal', 'the', 'dying', 'pivotal', 'regard', 'fireworks', 'affected', 'kobe', 'recalled', 'appreciate', 'bury', 'high-fives', 'assigned', 'mess', 'showing', 'tackles', 'reasons', '29', 'cuba', 'petersburg', 'enthusiasm', 'extremely', 'sept', 'eminem', 'stake', 'team-mate', 'difference', 'endure', 'el', 'high-profile', 'examined', 'demand', 'dominant', 'formats', 'allegations', 'customers', '55', 'kitten', 'familiar', 'reimbursed', 'amp', 'stalemate', 'nbc', 'pummeling', 'ashore', 'sit', 'standards', 'calder', '1st', 'market', 'outside', 'hey', 'nickel', 'welsh', 'paris', 'long-standing', 'burn', 'by', 'buy', 'confrontation', 'trial', 'well-being', 'begun', 'fresh', 'b', 'brave', 'ferenc', 'exercise', 'swedish', 'buys', 'second-half', 'differences', 'arrive', 'watched', 'existing', 'eyes', 'slap', 'senate', 'passionate', 'germany', 'degrees', 'reigns', 'highlights', 'depth', 'vaulted', 'finest', 'certainly', 'wrapping', 'ioc', 'corporate', 'killed', 'quality', 'pack', 'handed', 'zealand', 'stir', '1.', 'score', 'subsequent', 'directed', 'headlines', 'crosses', 'x-ray', 'full-time', 'temperatures', 'suspects', 'early', 'holiest', 'sooner', 'dilemma', 'burned', 'beijing', 'actress', 'saints', 'governors', 'floor', 'rose', 'factors', 'civilized', 'sex', 'especially', \"'d\", 'restaurant', 'woes', 'sara', 'foolish', 'rousing', 'shadow', 'rescue', 'contemplating', 'strain', 'included', 'mustang', 'quarterfinals', 'nadal', 'territorial', 'always', 'offensive', 'hall', 'reputation', 'circumstantial', 't.', 'severity', 'coincidence', 'launch', 'stayed', 'bronze', 'frenzy', 'debate', 'perched', '13-10', 'mark', 'd.', 'shocks', 'bring', 'ping', 'globe', 'paths', 'musical', 'tinkering', 'suzuki', 'suites', 'knowledge', 'meanwhile', 'rioting', 'epstein', 'intends', 'goods', 'fed', '-s', 'minds', 'touches', 'mind', 'darren', 'orleans', 'flared', 'waved', 'blog', 'forest', 'buying', 'relay', 'toward', 'delay', 'conway', 'accepted', '?', '15th', 'intentionally', '2003', 'waits', 'survived', 'tufts', 'striking', 'africans', 'excel', 'quantrill', 'bred', 'tiffany', 'warrant', 'fire', 'majestic', 'murray', 'athletes', 'heck', 'sound', 'update', 'corp.', 'rarely', 'earth', 'requires', 'assessment', 'encounter', 'invisible', 'respectively', 'disappointments', 'luxury', '129', 'high-ranking', 'ambitious', 'content', 'progress', 'tarnished', 'phelps', 'expressing', 'unrecognized', 'marching', 'stamp', 'gathered', 'talks', 'underwent', 'poll', 'slain', 'bulgaria', 'tahoe', 'federer', 'weak', 'quitting', 'admits', 'relieved', 'piece', 'davie', 'win', 'jt', 'riding', 'earlier', 'three-way', 'inevitable', 'low', 'apply', 'bond', 'pti', 'hang', '19', 'eta', 'disney', 'nov.', 'inconvenience', 'foley', 'turn-around', 'toughen', 'swipe', 'guarantees', 'require', 'cornell', 'organised', 'pages', 'bags', 'rbc', 'start', 'fights', 'approved', 'tbilisi', 'forecast', 'radio', 'native', 'gilbert', 'nextel', '2003/04', 'from', 'explain', 'resigned', 'bill', 'charges', 'sway', 'powering', 'doctor', 'kazakhstan', 'lumber', 'transition', 'excuse', 'provide', 'relentless', 'elimination', 'bout', 'diego', 'stranger', 'disgraced', 'technology', 'safeco', 'holders', 'someday', 'opposing', 'madison', 'marc', 'internet', 'rick', 'product', 'glasgow', 'dreaming', 'experimental', 'current', 'pipelines', 'par', 'bonus', \"'re\", 'crew', 'paint', 'understands', 'isaiah', 'almost', 'skipping', 'yorkshire', 'five', 'do', 'feature', 'replacement', 'gilberto', 'honour', 'hoped', 'teenager', 'treat', 'advisers', 'shoes', 'hardwood', 'handing', 'couple', 'wait', 'settle', 'year', 'virus', 'pressing', 'astros', '37', 'unlikely', 'bucks', 'test', 'students', 'episode', 'isle', 'sanctions', 'practicing', 'up', 'rubin', 'javier', '11th', 'lady', 'kerry', 'dating', 'substantial', 'besides', 'fast', 'boots', 'closest', 'views', '3rd', 'saddled', 'achieve', 'clinging', 'error', 'king', 'forms', 'purporting', 'sleeper', 'pennsylvania', 'clearing', 'academic', 'blunder', 'what', 'darling', 'contesting', '108th', 'damages', 'hardly', 'hoisted', 'meets', '1,000', 'fat', 'county', 'wasted', '17th', 'schools', 'james', 'robinho', 'improving', 'rape', 'correspondent', 'elevators', 'suffers', 'sheryl', 'date', 'hung', 'haitian', 'alta', 'preventing', 'wrong', 'harold', 'column', 'replied', 'scant', 'mother', 'royal', 'substance', 'island', 'juice', 'obvious', 'minister', 'shoots', 'details', 'let', 'possibility', 'examines', 'does', 'abrupt', 'electronic', 'demonstrators', 'rapped', 'civic', 'partner', 'covered', 'change', 'hardship', 'texas', 'european', 'throng', '145', 'biggest', 'dc', 'embrace', 'horse', 'alicia', 'dhaka', 'calmly', 'optimistic', 'malisse', 'loaded', 'carefully', 'approximately', 'manage', 'resolved', 'synonymous', 'jumps', 'uncommon', 'millionaires', 'led', 'sobering', 'walk', 'bandwagon', 'indian', 'metz', 'stating', '543', 'revenue', '2005', 'r.i.', 'services', 'australians', 'bennett', 'josh', 'massachusetts', 'format', 'thailand', 'thrilled', 'arsene', 'represents', 'sentence', 'hitter', 'slugger', 'doubts', 'bug', 'streets', 'temporary', 'six-run', 'feeling', 'forthcoming', 'completion', 'harry', 'infamous', 'ltd', 'insufficient', 'investigating', 'defenseman', 'business', 'riley', 'sutton', 'becoming', 'fleeting', 'resonated', 'ability', 'lifeline', 'stepping', 'head', 'carry', 'anyone', 'ease', 'sheffield', 'reported', '6-5', 'head-on', 'fairly', 'pepper', \"o'reilly\", 'once', 'letters', 'helped', 'meeting', 'retiring', 'pain', 'downfall', 'youths', 'provincial', 'yellow', 'stores', 'kirk', 'bundled', 'math', 'rearview', 'principle', 'one-day', 'utah', 'awe', 'austere', 'older', 'stunning', 'liquor', 'monitor', 'reynolds', 'tempe', 'radar', 'grace', 'prepare', 'her', 'colleague', '700', 'freshman', 'mateo', 'moroccan', 'fully', 'overseas', 'weekend', 'clubhouse', 'inspiration', 'topics', 'readers', 'barbados', 'sfa', 'clint', 'skies', 'southampton', 'noon', 'mediocre', 'controversy', 'fallen', 'wachovia', 'los', 'disorganized', 'wearing', 'tube', 'productive', 'condemning', 'eights', 'supporters', 'brisbane', 'communist', '21-year-old', 'polls', 'brazil', 'hawaii', 'clamps', 'chile', 'trusted', 'territory', 'limiting', 'invited', 'met', 'crazy', '38', 'sending', 'inability', 'families', 'tested', 'bell', 'sea', 'north', 'unlawful', 'recognized', 'attitude', 'nothing', 'double', 'via', 'parents', 'financing', 'baltimore', 'touchdown', 'walked', 'deluge', 'nashville', 'surged', 'brand', 'amendment', 'diver', 'sand', 'delighted', 'likelihood', 'shy', 'rocco', 'pie', 'spirited', '1997', 'airline', 'instant', 'aimed', 'bulk', 'aragones', 'ashburn', 'arriving', 'carolina', 'll', 'bookkeeping', 'drama', 'exactly', '10-0', 'diving', 'clutch', 'la', 'largest', 'listening', 'toss', 'dismal', 'assure', 'nathan', 'maurice', 'vieira', 'posed', 'steadily', '25', 'dunhill', 'kathy', 'decades', 'kinshasa', 'last-minute', 'crisis', 'gloom', 'pursue', 'crowded', 'across', 'vacancies', 'chose', 'gymnastics', 'eagle', 'over', 'establish', 'physically', 'ont.', '2nd', 'chest', 'corvallis', 'destroying', 'criminal', 'liu', '24', '79', 'acrimony', 'vincent', 'latest', 'brian', 'ferrari', 'bird', 'racist', 'packing', '13', '12-year', 'limbo', 'widen', 'reid', 'framingham', 'consortium', 'ith', 'scales', 'memory', 'mild', 'bridgestone', 'morale', 'passing', 'withdraws', 'review', 'alcs', 'kenneth', 'thursday', 'nfc', 'prostate', 'shane', 'bounced', 'essential', 'qatar', 'mccain', 'radical', 'aim', 'marriage', 'bj', 'theo', 'prices', 'partial', 'concerning', 'listeners', 'part', 'aired', 'be', 'rounded', 'enforced', 'hint', 'wilbur', 'security', 'assuming', 'purposes', 'berth', 'cleaning', 'masters', 'breather', 'labeled', 'compromised', 'aggressive', '9th', 'attorney', 'achievement', 'database', 'crowds', 'jacksonville', 'fl', 'enhance', 'jose', '9-6', '100th', 'capable', '510', 'contention', 'suited', 'profile', 'rival', 'required', 'recovered', 'disgraceful', 'underdog', 'back', 'file', 'clashed', 'belated', '8', 'common', 'notice', 'tumble', 'spark', 'sole', 'checking', 'defeated', 'tallest', 'available', 'ton', 'pieces', 'british-based', 'rumbling', 'duck', 'waking', 'simultaneous', 'purchase', 'door', 'travels', 'poor', 'creates', 'bend', 'daunting', 'finnish', 'marat', 'old-fashioned', 'confidential', 'provisional', 'graduate', 'granite', 'moniker', 'horses', 'steady', 'september', 'moral', 'lightning', 'cup', 'taunts', 'observer', 'rugged', 'yom', 'explosion', 'booked', 'contributor', 'deputy', 'tennis', 'supporting', 'motorcycle', 'bar', 'rounds', 'alberta', 'sandra', 'padre', 'lee', 'differently', 'rely', 'advantage', 'joanna', 'bother', 'ideas', 'intercontinental', 'threats', 'selected', 'finding', 'spa', 'leg', 'contentious', 'hideki', 'leads', 'self', 'president', 'bleak', 'g', 'outbreak', 'humor', 'buddy', 'little-known', 'lima', 'wise', 'mistakes', 'backs', 'successor', 'judged', 'racket', 'stormed', 'crimson', 'landing', 'sicilian', 'thanksgiving', 'sorely', 'doubled', 'chad', 'paper', 'lying', 'trusty', 'infection', 'reply', 'pal', 'superior', 'mounted', 'conduct', 'purse', 'january', 'including', 'shatter', 'jeers', 'winning', 'article', 'hurdles', 'norton', 'confident', 'party', 'newcastle', 'table', 'dow', 'turned', 'rollins', 'they', 're', 'bob', 'loose', 'look', 'cocaine', 'snare', 'pay', 'surprisingly', 'rays', '174', 'jenkins', 'dear', 'irishmen', 'remembered', 'maloney', 'midland', 'amit', 'entirely', 'hearst', 'denounced', 'rebuilt', '1,500', 'facility', 'currency', 'du', 'opera', 'bayer', 'scoreless', 'spit', 'allows', 'ms', 'wage', 'confirmed', 'persuaded', 'ministers', 'newspaper', 'ethiopia', 'imagined', 'fever', 'warm', 'typically', 'requiring', 'dug', '177', 'crowned', 'destroyed', 'shortened', 'served', 'career-high', 'survival', 'separate', 'birthplace', 'skipped', 'pitch', 'interviews', 'glenn', 'conqueror', 'wright', '102', 'proud', 'fits', 'hitting', 'inclusion', 'sexy', 'demonstration', '3-6', 'minor', 'hatch', 'redeemed', 'heaving', 'lists', 'lure', 'turning', 'mandalay', 'inexpensive', 'salvo', 'chargers', 'november', 'milk', 'saudi', 'xi', 'comfortably', 'flexible', 'fingers', 'breaking', 'disintegration', 'racial', 'circle', 'butterflies', 'wind', 'islanders', 'theater', '2001', 'hospitalized', '2004-05', 'narrow', 'marko', 'programme', 'duties', 'guides', 'occasion', 'n.h.', 'accumulated', 'tackle', 'pst', 'misdemeanor', 'placing', 'ceremonies', 'significant', 'aviv', 'surgery', '66', 'upgrade', 'pole', 'logistical', 'deafening', 'row', 'admit', 'blame', 'dismiss', 'occupation', 'kansas', 'porter', 'demeanor', 'scan', 'rocky', 'jeffrey', 'unchanged', 'roll', 'fellow', 'kilometers', 'dramatically', 'halt', 'vacuuming', 'stanford', 'continent', 'disk', 'brien', 'nissan', 'smile', 'addition', 'cameroon', 'boring', '4', 'amassed', 'sweden', 'kate', 'neighbours', 'useful', 'fractured', 'stature', 'brady', '9.', 'swept', 'reads', 'carly', 'hockey', 'officially', 'sentencing', 'barrel', 'dominated', '2010', '122', 'regular', 'corey', 'palermo', 'heels', 'resulting', 'challenger', '4,000', 'ky.', 'glass', 'far-reaching', 'celebrated', 'cancel', 'complications', 'ten', 'kick', 'believes', 'celebrates', 'midfielder', 'lars', 'tightly', 'elevated', 'obtain', 'welcome', 'emotions', 'talent', 'regulator', 'ticket', 'consolation', 'elin', 'tuna', 'never', 'agents', '8:21', 'pleasant', 'submission', 'wichita', 'lining', 'killer', 'hit', 'ap', 'serve', 'begin', 'compelling', 'though', 'ellis', 'vast', 'part-time', 'handled', 'submit', 'rack', 'relation', 'lou', 'animated', 'slid', 'punts', 'collective', 'closer', 'overturn', 'beloved', 'buyout', 'safety', 'disrupt', 'televised', '16-year', 'ruud', 'dominating', 'jennifer', 'tom', 'coleman', 'nifty', 'washington', 'stopped', 'bouncing', 'hardest', 'eric', 'scenes', 'singapore', 'heal', 'top', 'hip', 'except', 'jason', 'appearances', 'persistent', 'recommended', 'volunteers', 'risk', 'detected', '--', 'enlarged', 'scale', 'conflict', 'pending', 'emergency', 'characterized', 'meadows', 'suspended', 'shanghai', 'exciting', 'damaging', 'scotland', 'atlantic', 'citizen', 'frost', 'ensured', 'f', 'negotiators', 'westwood', 'achieved', 'iii', 'modifications', 'receiving', 'writer', 'haunted', 'been', 'eager', 'charged', 'institute', 'coach', 'both', 'investment', 'cosmic', 'comb', 'consideration', 'owen', 'capacity', 'these', 'cultural', 'scaling', 'witnessed', 'pegged', 'troops', 'williams', 'solid', 'obscurity', 'aerial', 'centuries', '50', 'learned', 'russell', 'speaking', 'joel', 'workout', 'beckham', 'father', 'fame', 'japan', 'realm', 'fresno', 'set', 'parties', 'efforts', 'meant', 'narrowly', 'stack', '32', 'queen', 'signed', 'owes', '201', 'mac', 'carried', 'incorrect', 'beset', 'urgent', 'anemic', 'itv', 'large', 'editor', 'sweet', 'manchester', '120', 'hold', 'luggage', 'aug.', 'mascots', 'gerard', 'ailment', 'building', 'produce', 'reggie', 'alleged', 'quarter-finals', 'wonder', 'zhang', 'point', 'keep', 'fathers', 'hammered', 'matthew', 'villa', 'detect', 'tail', '45', 'alleging', 'co-ordinator', 'seized', 'bowl', 'all', 'hosting', 'tony', 'potholes', 'irish', 'orchestrated', 'comes', 'journal', 'that', 'playing', 'portion', '2002', '2009', 'mills', 'for', 'artist', 'package', 'albert', 'sneaked', 'waited', 'agent', 'holds', 'vacation', 'intrusion', 'brutality', 'keenly', 'employment', 'post', 'bike', 'reignited', 'solve', 'name', 'constellation', 'allowing', 'reminded', 'tempers', 'lived', 'oct.', 'dean', '1978', 'shoot-out', 'exceeded', 'nippon', 'acceptable', 'wide', 'chalk', 'resurgent', 'mistake', 'a.', 'advise', 'stones', 'clothing', 'london', 'capped', 'nightclub', 'surprise', 'feat', '63', 'rights', 'david', 'rust', 'losses', 'boost', 'flat-screen', 'conceding', 'singh', 'buzzing', 'late-night', 'connection', 'compensation', 'license', 'five-month', 'economic', 'affair', 'somewhat', 'children', 'offenses', 'bishop', 'credited', 'collision', 'nl', 'mountaineers', 'lamented', 'eighth-ranked', 'presents', 'wicked', 'attach', 'weapons', 'natalie', 'r', 'garrett', 'qualification', 'sailed', 'fight', 'las', 'queensland', '1200', 'kippur', 'indefinitely', 'conclude', '150', 'soldier', '-he', 'mercedes', 'player', 'racially', 'horror', 'knock', 'those', 'favored', '2-2', 'system', 'usual', 'boss', 'thorn', 'round', 'apologized', 'afloat', 'household', 'zone', 'moon', 'lucky', 'convincing', 'pennsylvanians', 'precious', 'removes', 'newport', 'abdullah', 'gave', 'vs.', 'stuart', 'anna', 'had', 'bulls', 'kelly', 'medicine', 'vail', 'intend', 'kicking', 'c.', '125', 'essentially', 'jesse', 'leave', 'jackson', 'damaged', 'all-', 'associated', 'colleagues', 'pushing', 'brussels', 'ridiculous', 'official', 'saturday', 'wanted', 'preferred', 'conditions', 'health', 'opposition', 'amid', 'sardinia', 'quit', 'voiced', 'toledo', 'slowed', ':', 'filed', 'kicker', 'advances', 'verdict', 'massive', 'dj', '140', 'follows', 'stern', 'edmonton', 'etc', 'upcoming', '42-year-old', 'nagpur', 'target', 'rbis', 'approves', 'linked', 'followers', 'separatist', 'leaped', 'hosts', 'conveys', '600', 'colombian', 'charging', 'silent', 'finalise', 'sharper', 'dustin', 'scenic', 'legends', 'rebels', 'combined', 'lindsey', 'fuelled', 'log', 'blitz', 'recruiting', 'apart', 'dr.', 'grown', 'loyalties', 'title', 'dozen', 'awarding', 'rogue', 'inflamed', '241', 'chapter', 'specifically', 'edward', 'original', 'oxfam', 'va.', 'repeating', 'trampled', 'image', 'pinnacle', 'casino', 'anyway', 'bosses', 'individuals', 'clung', 'youth', 'died', 'lasted', 'opinion', 'proposal', 'association', 'dementieva', 'roommates', 'artery', 'speculation', 'shook', 'odd', 'charts', 'balanced', 'intervention', 'chilling', 'contending', 'earn', 'consummate', 'colon', 'francois', 'first', 'shopping', 'pleas', 'edwards', 'nevada', 'paused', 'pride', 'makeup', 'convoy', 'metres', 'guided', 'schedules', 'missed', 'corner', 'terry', 'unfortunately', 'premium', 'introduce', 'grill', 'usa', 'amir', 'broadcaster', 'formal', 'deep', '2006', 'struck', 'stride', 'carr', '15-year', 'honours', 'duo', 'clearly', 'silver', 'surely', 'tried', 'crafted', \"'ve\", '6-3', 'are', 'nominees', 'department', 'ichiro', 'screaming', 'commerce', 'shooting', 'sick', 'seemingly', 'viewers', 'telephone', 'hbo', 'slower', 'surpassed', '275', '23.5', 'telefonica', 'education', 'competitor', 'finger', 'indonesias', 'comment', 'bunning', 'happen', 'liberalism', 'mo', 'implications', 'added', 'deeper', 'ride', 'penalty', 'calendar', 'adage', 'properly', 'times', 'urging', 'offering', 'viewing', 'dome', 'everywhere', 'walpole', 'lansing', 'pitfalls', 'saluted', 'exited', 'sidewalks', 'spitz', 'wild-card', 'sorts', 'agonizingly', 'staging', 'gang', 'as', 'brink', 'carson', 'owens', 'courtesy', 'woods', 'smith', 'tide', 'goddess', 'oregon', 'interest', 'thoroughbred', 'burger', 'prix', 'misery', 'weekends', 'rebuild', 'inaugural', '2.8', 'reds', 'reportedly', 'escape', 'guy', 'richmond', 'crushing', 'henry', 'seed', 'taste', 'bangkok', 'thumping', 'trail', 'mary', 'homered', 'freshmen', 'stomach', 'net', 'kong', 'crimes', 'nights', 'chosen', 'toyota', 'preview', 'casual', 'upbeat', 'ruler', 'tearful', 'opened', 'who', 'doubles', 'meltdown', 'sends', 'insist', 'realistic', 'rebounded', 'maverick', 'option', 'late', 'jewish', 'simply', 'hill', 'promoter', 'takes', 'excitement', 'doug', 'feud', 'investor', 'demon', 'actively', 'seeks', 'chunk', 'maximum', 'just', '43', 'chase', 'cultures', 'smooth', 'paralympics', 'himself', 'definitively', 'veterans', 'islamabad', 'ancient', 'swimmers', 'calculated', 'bargain', 'detective', 'vehicle', 'matt', 'best-known', '69', 'gail', 'many', 'shaun', 'drunken', 'could', 'bristol', 'israeli', 'increase', 'lulled', 'suicidal', 'prompted', '27', 'racking', 'weakness', 'hitman', 'concluded', 'avert', 'wilson', 'protect', 'doing', 'defines', 'wrap', 'hugo', '\\\\a', 'statistics', 'manhattan', 'rochester', 'implicated', 'film', 'comparisons', 'line-up', '575', 'withdrawal', 'burnout', 'faint', 'even', 'unanimously', 'legal', 'child', 'afl', 'objectives', 'press', 'proved', 'void', 'might', 'renew', 'belongs', 'them', '6.8', 'no', '18', 'simulate', 'figured', 'uae', 'farm', 'within', 'auto', 'intrusive', 'shrug', 'decisive', 'jam', 'p.m.', 'brendan', 'craig', 'eagles', 'personal', 'strict', 'streaks', 'group', 'indicted', 'restored', 'profanity', 'knowle', 'specific', 'luis', 'unauthorised', 'squeezing', 'invariably', 'disrupted', 'troublesome', 'defoe', 'bludgeoned', 'citing', 'yank', 'advancing', 'weekly', 'unlike', 'southeastern', 'dry', 'marlins', 'gladly', 'scottish', 'mysterious', 'square', 'anybody', 'vowed', '1960s', 'timing', 'record-equalling', 'phrase', 'involving', 'worrying', 'last-gasp', 'seven-year', 'ron', 'repeat', 'vulnerable', 'oklahoma', 'overwhelmed', 'request', 'manny', 'bowls', 'juggernaut', 't', 'ball', 'went', 'hoax', 'emphatic', 'dead', 'routine', 'heavy', 'another', 'buses', 'owns', 'chairs', 'licensing', 'bobby', 'millwall', 'records', 'championship', 'wolfsburg', 'presidency', '24-year-old', '160', '_STOP_', 'younger', 'matters', 'appears', 'scathing', 'delivering', 'add', 'ally', 'wear', 'perhaps', 'wil', 'adjusting', 'pollsters', 'highest', 'climbing', 'freeze', 'continues', '181', 'overall', 'measuring', 'block', 'roger', 'ticket-holders', 'survives', 'russian', 'fleming', 'shutout', 'europes', 'slender', 'miller', 'voters', 'straits', 'try', 'boasting', 'bison', '30-year-old', 'surrounded', 'staged', 'hiding', 'shouted', 'farewell', 'sarah', 'commence', 'british', 'under', 'artificial', '4.5', 'cnn', 'uk', 'tactic', 'vital', 'adrift', 'nijmegen', 'technical', 'russians', 'decided', 'celebrating', 'benjamin', 'agassi', 'handling', 'dynasty', 'accusing', 'self-proclaimed', 'dressed', 'enticed', 'steal', 'basketball', 'davids', 'regulations', 'pounding', 'midweek', 'ohio', 'nose', 'sliding', 'decoy', 'hair-raising', 'dress', 'birthday', 'major', 'seeds', 'glaring', 'kumar', 'dealt', 'baton', 'featuring', 'perennial', 'kill', 'lights', 'arrange', 'gibson', 'stuck', 'thomson', 'michael', 'vice', 'hard', 'nations', 'lockyer', 'yes', 'result', 'hat', '100-meter', 'great', '7:35', 'she', 'kevin', 'quarterback', 'divide', 'civil', 'distributor', 'involves', 'fortunate', 'none', 'martin', 'written', 'lancashire', 'language', 'blues', 'newton', 'cbc', 'oldest', '100,000', 'preaching', 'draw', 'sports', 'site', 'hicks', 'arbitration', 'coveted', 'graveyard', 'fred', 'u.s.', 'mmc', 'sainsbury', 'jerome', 'dick', 'saint', 'uruguay', 'pop', 'symbolise', 'powell', 'clouded', 'folk', 'disorder', 'closing', 'crawl', 'fact', 'trinidad', 'shootout', 'flying', 'enthused', 'printout', 'quot', 'post-war', 'deutsche', '1,600', 'protests', 'ways', 'activity', 'shore', 'huge', 'being', 'discussions', 'phone', 'remarkable', 'confronted', 'targeted', '1994', 'entered', 'sheets', 'boats', 'portuguese', 'adds', 'regional', 'medals', 'complaint', 'focus', 'spoiled', 'transfer', 'massey', 'investigators', 'els', 'grip', 'status', 'shanklin', 'eindhoven', 'ames', 'sticks', 'overcome', 'demolished', 'heaviest', 'pact', 'sides', 'wis.', 'regards', '200', 'stormy', 'policy', 'soho', 'santoro', 'darting', 'woman', 'hollywood', 'semi-finals', 'leapt', 'stood', 'downgrade', 'argument', 'gotten', 'ismael', 'attempt', 'gagne', 'core', 'appreciated', 'boards', 'width', 'conversation', 'division', 'prevails', 'bid', 'conspiring', 'threw', 'matched', 'extending', 'hurricanes', 'grim', 'charity', 'shot', 'character', 'historically', 'ireland', 'head-scratching', 'dropout', 'ignored', 'lowest', 'actions', 'labor', 'hurting', 'abide', 'right', 'touring', 'concentrate', 'hu', 'killing', 'bryan', '1959', 'sigh', 'wales', 'compete', 'speculating', 'slumping', 'bias', 'project', 'coyle', 'voter', 'harsh', 'leaps', 'cheryl', 'appeal', '100m', 'bustos', 'war', 'south', 'justin', 'yielded', 'follow', 'accuser', 'spend', 'lives', 'determination', 'toughness', 'center', '20-year', 'slots', 'lab', 'sacramento', 'charlotte', 'rap', 'ill.', 'asking', 'shamed', 'heritage', 'leverage', 'taking', 'stopping', 'rejection', 'ok', 'rushing', 'mishap', 'ongoing', 'criticism', 'precisely', 'overdue', 'absence', '1', 'insight', \"'m\", 'country', 'clash', 'stance', 'solved', 'why', 'czech', 'seconds', 'rejected', 'anxiously', 'alfonso', '100', 'chat', 'imaginable', 'marta', 'active', 'proverbial', 'translation', 'qualifying', '41', 'camilo', 'reflects', 'throughout', 'rejoin', 'determined', 'yesterday', 'shares', 'spins', 'star', 'imposed', 'providing', 'ceremonial', 'injected', 'oct', '3:30', 'rippled', 'fletcher', 'maine', 'favorites', 'you', 'sun', 'alpine', 'nba', 'emirates', 'give', 'samantha', 'bloodied', 'stranglehold', 'contest', 'vote', 'tonight', 'laser', 'mostly', 'ai', 'plain', 'dec', 'down', 'keeper', 'choosing', 'boomers', 'development', 'anil', 'expert', 'focal', 'toilet', 'between', '74', 'ignore', 'doesnt', 'seung', 'schmidt', 'growing', 'crop', 'notched', 'amusement', 'justice', 'heady', 'floodwaters', 'communications', 'underway', 'fast-growing', 'traces', 'colonial', 'interviewed', '12th', 'exists', 'technician', 'packaging', 'decide', 'weight', 'aligned', 'fortunately', 'lean', 'cheat', 'bubble', 'choice', 'signal', 'fields', 'disgust', 'directing', 'sources', 'shoulder', 'acting', 'sponsorship', 'condemn', 'channel', 'packers', 'persona', 'upon', '3.', 'duncan', 'create', 'slipped', 'hearing', 'undergoing', 'dismissed', 'distraught', 'grit', 'peyton', 'sister', '17', 'lawyers', 'romp', 'opening', 'insurance', 'ltd.', 'cheated', 'india-australia', 'trailed', 'restaurants', 'dismissal', 'insurgents', 'finishes', 'police', 'rematch', 'tangled', '7.1', 'full', 'maybe', 'path', 'alain', 'shoot', 'thus', 'subaru', 'habit', 'nod', '2008', 'havana', 'plane', 'disturbing', 'boyfriend', 'ring', 'this', 'gibbs', 'rapidly', 'remain', 'alcohol', '110', 'dragons', 'pressure', 'traveling', 'airlines', 'maple', 'unsold', 'needed', 'celebration', 'wrigley', 'birds', 'olympus', '40th', 'icy', 'average', 'describes', 'guest', 'taxpayers', 'kidnapped', 'simmons', 'preparations', 'drag', 'trust', 'beaten', 'ear', 'chanting', 'telecast', 'mission', 'freed', 'milestone', 'rings', 'people', 'caribbean', 'cole', 'barely', 'lowe', 'mouth', 'dud', 'flavor', 'conditional', 'brilliant', 'wizard', 'ministry', 'distance', 'exchanges', 'arbor', 'laws', 'clouding', 'celtic', 'nightmare', 'teenage', 'fault', 'medal', 'deceptive', 'computer', 'sunny', 'knows', 'cage', 'personnel', 'coral', 'couples', 'pendleton', 'one-two', 'venezuelan', 'surprising', 'record-setting', 'closely', 'thought', 'tougher', 'one-time', 'jordan', 'sacrifice', 'creek', 'elbow', 'safeway', 'year-old', 'evaluate', 'needing', 'bosnia', 'limbs', 'super', 'options', 'ascension', 'alderson', 'done', 'foundation', 'pakistani', '198', 'per', 'entire', 'tongue', 'comprising', 'royals', 'paul', 'ken', 'best', 'firm', 'aircraft', 'picked', 'also-ran', 'courtroom', 'debuts', 'creator', 'among', 'runway', 'superstar', 'allan', 'sustained', 'jobs', 'sven', 'nelson', 'denver', 'his', 'europeans', 'legendary', 'tape', 'regained', 'cricketer', 'fox', '4.9', 'june', 'australian', 'complete', 'photograph', 'hired', 'valley', 'netherlands', 'clinch', 'nearly', 'fighters', '15.8', '``', 'reiterate', 'salvation', 'paltry', 'whenever', 'fa', 'perpetual', '46', 'particularly', 'containing', 'approving', 'tall', 'extension', 'serginho', 'touted', 'slide', 'upper', 'banks', 'reassess', 'corliss', 'count', 'laurence', 'basque', 'beats', '49ers', 'sounding', 'tales', 'influential', 'montenegro', 'improvement', 'welcomed', 'republic', 'flirted', 'prefers', 'fixing', 'glimpses', 'silence', 'indonesia', 'go-go', 'freestyle', 'earns', 'indicated', 'learn', 'usher', 'crack', '15-foot', 'surge', 'two-year', 'gain', 'zurich', '93', 'unable', 'fiedler', 'midway', '5-2', 'bickering', 'determine', 'pains', '1992', 'fashion', 'vanished', 'minneapolis', '108', 'overhaul', 'tour', 'nationwide', 'mikael', 'lie', 'austin', 'listened', 'secured', 'luck', 'ethics', 'aunt', 'motion', 'pay-tv', 'trouble', 'alex', 'promotional', 'circumstances', 'seal', 'enriching', 'demise', 'dollars', 'although', 'dubai', 'collection', 'short-term', 'finalize', 'rumbles', 'smartest', 'scattered', 'starts', 'billionaires', 'guide', 'marched', 'standings', 'traveled', 'yacht', 'sunk', 'langer', 'decade', 'pittsburgh', 'affiliate', 'eleven', 'trials', 'politicians', 'glance', 'feelings', 'adviser', 'until', 'santa', 'put', 'results', 'answered', 'trudged', 'argue', 'measures', 'wiped', 'speak', 'braves', 'edt', 'defender', 'suggestion', 'auctioning', 'conscience', 'china', '24th', 'ultimately', 'scuffle', 'certain', 'deploying', 'baby', ')', 'moment', 'at', 'normally', 'professionals', '1958', 'rush', 'tragic', 'heavily', 'temple', 'jubilant', '350', 'amsterdam', 'opener', 'fish', 'distraction', 'detonate', 'stirring', 'focused', 'norwood', 'go-ahead', 'transforming', 'recovering', 'projected', 'seven-month', 'martinez', 'transmission', 'winged', 'quest', 'td', 'navy', 'drive', 'curt', 'include', 'houston', 'leaders', 'pressured', 'story', '11', 'battle', 'silvestre', 'laboratories', 'nerve', 'believed', 'taylor', 'seven', 'detroit', '3,000', 'regarding', 'raleigh', 'congratulatory', 'visit', 'particular', 'housewives', 'town', 'decisively', 'glory', 'band', 'hurdle', 'stand', 'resign', 'tactics', 'choke', 'impressed', 'legion', '12-month', 'chance', 'majors', 'likes', 'ii', 'spoke', 'best-of-five', 'presented', 'serbia', 'carter', 'designs', 'masterpiece', 'protracted', 'tracy', 'poorly', 'duet', 'face', 'appealing', 'intruder', 'overcoming', 'attract', '73-year-old', 'clayton', 'revere', '299', 'failure', 'aren', 'banned', 'pitcher', 'already', 'swap', '70,000', 'eastern', '13th', 'dehydration', 'maker', 'reg', 'strongest', 'divided', 'stealing', 'able', 'daniel', 'hangover', 'scrambled', 'kris', 'units', 'running', 'burress', 'seen', 'increasing', 'dreams', 'deadline', 'message', 'intrigued', 'br', '367', 'women', 'emerged', 'le', 'gerry', 'treatment', 'watchers', 'warrior', 'gives', 'summon', 'europe', 'apologised', 'prospects', 'hip-hop', 'upi', 'respects', 'imply', 'much-anticipated', 'think', 'xm', 'revitalize', 'countryman', 'womens', 'situation', 'tendered', 'franchise', 'analyst', 'penn', 'shiny', 'disappeared', 'manila', 'birmingham', 'cracking', 'seven-year-old', 'twice', 'into', 'setback', 'impact', 'contain', 'posing', '130', 'awaits', 'rix', 'burgos', 'hugs', 'rovers', 'gainesville', 'advantages', 'entrenched', 'sly', 'suffer', 'allegedly', 'pros', 'ageing', 'impression', 'delegation', 'schoolgirl', 'happened', 'really', 'extinction', 'kicked', 'merrill', 'champions', 'first-team', 'negotiating', 'election', 'pitching', 'ninth', 'activate', 'rogers', 'blistering', 'john', 'spotty', 'lessons', 'strengthen', 'momentum', 'scenarios', 'tire', 'meters', 'effective', 'vahid', 'sight', 'greensboro', 'dominance', 'herring', 'hsbc', 'teammates', 'more', 'testing', 'introduction', 'youngsters', 'spencer', 'saved', 'completes', 'speed', 'gambling', 'cheer', 'published', 'hotter', 'fun', 'tagged', 'hovering', 'professional', 'rubbished', 'working', '2.4', 'consent', 'fanfare', 'logo', 'resources', 'monumental', 'domestic', 'scandal', 'venus', 'houses', 'rankings', 'issued', 'teen-ager', 'herself', 'ray', 'new', 'understood', 'aggression', 'nv', 'giveaway', 'enjoys', 'loyal', 'sickened', 'brings', 'lsu', '-n', 'feats', 'libel', 'problem', 'sped', '49', 'spent', 'phoenix', 'derail', 'sam', 'concerned', 'actor', 'portrait', 'computers', 'ensure', '\\\\', 'us', 'putnam', 'squandered', 'control', 'headfirst', 'carl', '2.', 'abuse', 'surprises', 'candy', 'finalised', 'mayer', 'unharmed', 'intense', 'embraced', 'microwave', '41st', 'reacted', 'feared', 'heather', 'philosophy', 'humble', 'sonny', 'pa', 'tantamount', 'setting', 'headache', 'facing', 'resolve', 'dent', 'gathering', 'combination', 'afford', 'dixon', '76', 'runaway', 'comments', 'fridman', 'expanding', 'parkhead', 'bidding', 'impossible', 'derek', 'pierre', 'huddled', 'larger', 'integrity', 'diamond', 'bruce', 'assortment', 'shake', 'suffered', 'passengers', 'postal', 'danger', 'carney', '4.4', 'mich', 'berdych', 'birdie', 'span', 'answers', 'mounting', 'greeted', 'returns', 'pit', 'may', 'nation', 'decisions', 'planned', 'cyprus', 'lends', 'sniper', 'loop', 'above', 'wilted', 'tunnel', 'neither', 'spell', 'transferred', '10', 'convince', 'solo', 'institution', '10,000', '2,000', 'interesting', 'customs', '89', 'painting', 'counting', 'tale', 'enabled', 'boat', '1,400', 'courses', 'tag', 'iowa', 'hispanic', 'brushing', 'flurry', 'moments', 'declaration', 'extraordinary', 'turner', 'palm', 'georgian', 'teams', 'joan', 'maui', 'mourn', 'butt', 'jolt', 'howard', 'please', 'release', 'storms', 'thousand', 'frustrations', 'tricky', 'glamour', 'entry-level', 'holiday', 'ivan', 'nonetheless', 'sleep', 'wanting', 'buoyed', 'sustain', 'robin', 'vijay', 'dream', 'stun', 'manufacturer', 'punch', 'authority', 'dismantled', 'resistance', 'spinning', 'fare', 'taxes', 'prevented', 'leaves', 'rugby', 'peppers', 'tae-young', 'enhanced', 'celebrations', 'recovery', 'morgan', 'million', 'participation', 'guzman', 'talked', 'disappointing', 'pulls', 'reliable', 'shine', 'photo', 'judge', 'unusual', 'trilogy', 'troubled', '250', 'periodically', 'decision-making', 'congressional', 'hudson', 'screens', 'send-off', 'community', 'combat', 'energy', 'blasted', 'tired', '1990', 'christian', 'landed', 'sparring', 'maccabi', 'scramble', 'mask', 'enjoying', 'impasse', 'wears', 'occupy', 'deciding', 'schneider', 'spectacular', 'college', 'seek', 'rumored', 'dossier', 'outlasted', 'death', 'lb', 'lincoln', 'turnaround', 'uniform', 'jan', 'same', 'memphis', 'newspapers', 'faith', 'busy', 'dolphins', 'parrish', 'clothes', 'coventry', 'region', 'adam', 'gillespie', '6.3', 'aiming', 'euphoria', 'investments', 'air', 'coughlin', 'ralph', 'ahead', 'newcomer', 'cameras', 'note', 'van', 'judgment', 'blew', 'indifference', '06', 'following', '40.5', '25-year', 'nnn', 'given', 'when', 'tug-of-war', 'mariano', 'california', 'surgeries', 'specify', 'staley', 'painfully', 'feet', 'craft', 'majority', 'priest', 'rolled', 'waltham', 'kentucky', 'placed', 'balco', 'sponsored', 'developments', 'urban', 'frozen', 'weren', 'valentin', 'seemed', 'chris', 'challenging', 'invaded', 'loud', 'showcasing', 'anelka', 'bite', 'md', 'holding', 'removed', 'assess', 'ac', 'wounds', 'anniversary', 'whip', 'malden', 'blocking', 'about-face', 'drifted', 'kerr', 'stemming', 'parry', 'alejandro', 'greece', '33', 'tightening', 'began', 'honored', 'punishing', 'shop', 'city', 'pace', 'bargained', 'keen', 'pick', 'slab', 'blank', 'world-record', 'matchup', '34', 'drinking', 'spotlight', 'dispute', 'ferocity', 'advice', 'roland', 'bluff', 'love', 'broke', 'enjoy', 'blast', 'defeats', 'levels', 'topic', 'perry', 'facts', 'rumblings', 'curious', 'upping', 'cumberland', 'eli', 'sign', 'made', 'montreal', 'director', 'nfl', 'happy', 'relieve', 'seventh', 'defiantly', 'instance', 'receives', 'boiled', 'leagues', 'mercy', 'thin', 'heading', 'outgoing', 'wife', '12-point', 'meat', 'eliminate', 'something', 'scooped', 'sometimes', 'tanker', 'informed', 'gold-medal', 'bypass', 'colourful', 'onto', 'uncertainty', 'monday', 'outsider', 'dropped', 'lashed', 'gregg', 'remains', 'river', 'act', 'performers', 'reporter', 'beneficiary', 'communities', '1970s', 'suing', 'didn', 'compatriot', 'has', 'grabbed', 'long-time', 'curtain', 'admission', 'gp', 'chaotic', 'folks', 'sites', 'helping', 'anxiety', 'anything', 'baghdad', 'commitment', 'punished', 'jr', 'teaching', 'korea', 'meaningful', 'previously', 'snapped', 'awards', 'concocted', 'flight', 'power', 'links', 'julie', 'far', 'tendulkar', 'swimming', 'retain', 'shuffle', 'belonging', 'corks', 'deceiving', 'inq7', 'deception', 'rodney', 'marketing', 'clashes', 'record', 'soap', 'clarity', 'awaited', 'every', 'torres', '23-year-old', 'andy', 'chennai', 'successfully', 'darkness', 'pm', 'favourite', 'orders', 'chicago', 'present', 'sacked', 'associates', 'pacific', 'carlos', 'tampa', 'quarter', 'vehicles', 'patch', 'seoul', 'township', 'position', 'alerts', '1.3', 'favor', '115', 'efficient', 'jockey', 'neal', 'butler', 'praise', 'viewed', 'isnt', 'japanese', 'says', 'nicholson', 'declined', 'rejecting', 'forge', 'dance', 'reduced', 'encountered', 'unflinching', 'auction', 'devastating', 'declaring', 'eclipse', 'swoopes', 'thanks', 'semi-final', 'douglas', 'sir', 'kay', 'transferring', 'moving', 'ailments', 'timed', 'tune', 'spirits', 'irving', 'joe', 'optimism', 'separated', 'harrison', 'miguel', 'greek', 'shipbuilder', 'determining', 'falls', 'care', 'remarkably', 'waters', 'tanzania', 'travel', 'environment', 'manager', 'internationals', 'mentally', 'angeles', 'rivals', 'spilled', 'appearance', '1974', 'sacking', 'rupert', 'longest', 'relocation', 'ranks', 'nastier', 'welcoming', 'bothered', 'lay', 'fee', 'rather', 'full-blown', 'reports', 'vanuatu', 'dennis', 'mr', 'oust', 'races', 'vs', 'justified', 'clues', 'summer', 'receive', 'blind', 'foxboro', 'cheque', 'wallace', 'england', 'phase', 'supply', 'elusive', 'presumed', 'monkey', 'yet', 'heinz', 'hopkins', 'africa', 'desire', 'said', '19th', '457', 'frustrated', 'singing', 'faking', 'squared', 'pausing', 'wealth', 'hurdler', 'house', 'scoring', 'redeem', 'condition', 'mourinho', 'sparks', 'acceptance', 'louise', 'terrestrial', 'slack', 't-shirts', 'consists', 'cells', 'literally', 'entering', 'mastercard', 'bombay', 'geared', 'plays', 'slammed', 'mental', 'blaming', 'gray', 'anymore', 'ore', 'brain', 'mets', 'highlight', 'identity', 'walloping', 'finds', 'backyard', 'best-selling', 'courtship', 'sums', 'bank', 'need', 'conceded', 'rangers', 'spread', 'kapil', 'fantastic', 'employees', 'baffle', 'sheikh', 'attention', 'chant', 'trade', 'survive', 'tripled', 'academy', 'questionable', 'drugs', 'theory', 'albany', 'stated', 'canada', 'contact', 'declared', 'badminton', 'third', 'rio', 'jets', 'tilt', 'frederic', 'ranked', 'groove', 'definitely', 'production', 'ceremony', 'twelve', 'book', 'ruptured', 'bow', 'negotiations', 'boisterous', '30.', 'long-awaited', 'piled', 'elected', 'complain', 'serves', 'ito', 'ecb', 'thrashing', 'soup', 'game', 'canned', 'gutierrez', 'boosters', 'during', 'glittering', 'slam', 'tell', 'costa', '6-4', 'impending', 'ever', 'patrick', 'congratulated', 'proven', 'trump', 'opens', 'jorge', 'cause', 'smash', 'hour', 'honda', 'il', 'gearing', 'tentative', 'extend', 'brewery', 'striker', 'messages', 'flint', 'bills', 'walt', 'slumped', 'fewest', 'fedex', 'crowd', 'somewhere', 'sacks', 'landslide', 'zero', 'conferences', 'saves', 'kiln', 'three-man', 'independence', 'threat', 'grabbing', 'afflicted', 'wells', 'describe', 'ed', 'firms', 'peterson', 'feb.', 'fourth-quarter', 'subject', 'mattered', 'agony', '2009.', 'forward', 'smell', 'broadcast', 'mclean', 'tomas', 'scott', 'iverson', 'sixth', 'lok', 'castle', 'broadcasters', 'owned', \"n't\", 'ask', 'designed', 'walks', 'touch', '2006.', 'fought', 'malcolm', 'tweaking', 'perspective', 'using', 'weakening', 'grade', 'emerging', 'chalking', 'bullets', 'behind', 'vows', 'defuse', 'democratic', 'rout', 'oils', 'teen', 'wild', 'mph', 'similar', 'mail', 'near', 'americans', 'hook', 'not', 'inflicted', 'subway', 'psychological', 'load', 'archbishop', 'regardless', 'bits', 'swamped', 'provisions', 'averted', 'few', 'wages', 'adrian', 'slew', 'analyzed', 'tricks', 'lacking', 'powerhouse', 'repairs', 'blows', 'instructing', 'bullet', 'string', 'overnight', 'force', 'yeah', 'grueling', 'sky', 'exploits', 'passage', 'max', 'use', 'draft', 'heroes', 'crept', 'support', 'returning', 'farther', 'clicking', 'matter', 'duel', 'driver', 'fixed', 'hospital', 'nordegren', 'medical', 'premier', 'clarke', 'explode', 'ruben', 'oral', 'marshall', '3-2', 'experienced', 'smart', 'montana', 'knock-out', 'audit', 'showdown', 'elect', 'damage', 'davenport', 'alike', 'polish', 'popular', 'series', 'brimming', 'propelled', 'contains', 'promises', 'airport', 'opposed', 'framed', 'wolves', 'break', 'going', 'events', 'height', 'pass', 'severe', 'reflected', 'winnipeg', 'liverpool', 'agency', 'chanted', 'strongly', 'centered', 'victoria', 'webber', 'hits', 'pounds', 'spike', 'workhorse', 'job', 'rivers', 'victim', 'wings', 'cruz', 'heated', 'specialists', '75', 'clinic', 'totally', 'warren', 'trip', 'bengals', 'install', 'arkansas', 'coupled', 'jury', 'contenders', '3-0', 'noticed', 'berkeley', \"''\", 'feasting', 'favorable', 'meyer', 'warne', 'corps', 'roots', 'regulation', 'contracts', 'eventually', 'blown', 'acquired', 'difficulties', 'presence', 'will', 'equivalent', 'federation', 'sad', 'accuracy', 'video', 'defiant', 'symptoms', 'aug', 'guess', '1984', 'packet', '9', '72', 'abc', '50,000', 'suspending', 'emotionally', 'boy', 'predators', 'coming', 'roster', 'hope', 'factories', 'reliever', 'vt.', 'conditioner', 'jeff', 'seem', 'angrily', 'tool', 'simple', 'operation', 'confederation', 'mood', 'aid', 'tax', 'soggy', 'problems', 'holdout', 'flamboyant', 'converted', 'attended', 'sharing', '-', 'desperately', 'wnba', 'en', 'read', 'sport', 'florida', 'honoring', 'steve', 'blue', '151', 'money', 'high-paying', 'introductory', 'applied', 'katie', 'salvage', '4.3', 'february', 'korean', 'barcelona', 'soliciting', 'believe', 'muscle', 'typhoon', 'friends', 'folded', 'ont', 'idled', 'public', 'prove', 'outing', 'selection', 'laid-back', 'friday\\\\after', 'everybody', 'mci', 'proposing', 'cross', 'identifying', 'safe', 'girl', 'marcelo', 'dumb', 'my', 'army', 'bernard', 'watching', 'spat', 'bruno', 'noah', 'husband', 'connecticut', 'gun', 'barriers', 'board', 'our', 'exotic', 'southern', 'juergen', 'carpet', 'rahul', 'heads', 'so', 'generated', 'broken', 'violated', 'susan', 'crash', 'meet', 'come', 'select', 'jay', 'leather', 'raul', 'carmel', 'hoop', 'christmas', 'tailspin', 'bonds', 'andre', 'sort', 'vacancy', 'euros', 'terms', 'thomastown', 'big-ticket', 'corruption', 'cities', 'mumbai', 'launched', 'season', 'sox', 'rating', 'recover', 'all-around', 'take-off', 'st', 'ready', 'record-breaking', 'description', 'finland', 'special', '1980s', 'deliveries', 'bunch', 'launching', 'ga', 'laughing', 'backlash', 'should', 'outstanding', 'theirs', 'comply', 'posh', 'allowed', 'cry', 'teamed', '22-year-old', 'real', 'publicity', 'doubtful', 'yankees', 'reviews', 'accustomed', '3.6', 'childhood', 'murdoch', 'kelley', 'intercepted', 'dublin', 'vienna', 'snow', 'dates', 'measured', 'brace', 'resembles', 'resurfaced', 'acquisition', 'sophomore', 'sean', 'wire', 'grab', 'simon', 'still', 'fraud', 'underlined', 'mcqueen', 'confirming', 'chiefly', 'leveled', 'citizens', 'wedge', '26', 'followed', 'notes', 'muster', 'bragging', 'tate', 'english', 'wizards', 'homes', 'hide', 'seems', 'memories', 'telecommunications', 'posts', 'talking', 'close', 'enabling', 'improved', 'looked', 'serving', 'jintao', 'battered', 'rolen', 'messy', 'leander', 'carrying', 'no.1', 'travelling', 'smoking', 'key', 'damien', 'lanka', 'byrd', 'aussies', 'reserved', 'operating', 'dominate', 'catching', 'sounded', 'thrown', 'nets', 'parade', 'detractors', 'designated', 'candidates', 'underwrite', 'plugs', 'funny', 'gunning', 'fans', 'concession', 'intention', 'heller', '2.3', 'performances', 'arlington', 'soaring', 'strengthened', 'hate', 'three', 'traditional', 'committees', 'omar', 'worth', 'silva', 'program', 'midlevel', 'emphatically', '16-13', 'expands', 'meal', 'how', 'african', 'hangs', 'gripping', 'deserves', 'premature', 'nine-game', 'drives', 'leap', 'rattled', 'rossi', 'days', 'embattled', 'formed', 'spree', 'locked', 'checkered', 'before', 'legs', 'escaped', 'points', 'senior', 'turbulent', 'struggled', 'bangladesh', 'unofficial', 'secret', 'inches', 'weighs', 'stephen', 'porsche', 'tight', 'haunt', '50-50', 'clubs', 'treasured', 'i', 'pounded', 'kirkland', 'billed', 'vault', 'batter', 'planted', 'jewel', 'cheese', 'resumed', 'rage', 'vaunted', 'legislation', 'mia', 'defended', '0', 'ambitions', 'too', 'ranking', 'jon', 'digging', 'jamaica', '48', 'equipment', 'jump', 'threatened', 'alaska', 'foibles', 'staring', 'juan', 'gordon', 'continuing', 'nike', 'ransom', 'due', 'report', 'protested', 'ordinary', 'moore', 'manuel', 'touchdowns', 'co-operative', 'where', 'proof', 'crunch', '9-0', 'introduced', 'color', 'johnny', 'bold', 'changes', 'cowboys', 'nc', 'cut', 'grabs', 'vocal', 'devil', 'suspicion', 'normal', 'appointment', 'long-term', 'turf', 'hamilton', 'cancelled', 'heart', 'spray', 'faces', 'swelling', 'organization', 'used-car', 'warriors', '185', '325', 'elliott', 'rusedski', 'achieving', 'spurt', 'percentage', 'missile', 'representatives', 'one-shot', 'x-rays', '22', 'spanish', 'athlete', 'roy', 'hearts', 'stoppage', 'diagnosed', 'voicing', 'unit', 'third-', 'rich', 'adil', 'benitez', 'anger', 'representing', 'ok.', 'drought', 'retrieve', 'squeezed', 'means', 'lack', 'grinding', 'zimbabwean', 'beckhams', 'wrist', 'comcast', '1.8', 'unveiled', 'moved', 'ignoring', 's.', 'doping', 'erik', '7.', 'stops', 'vacant', 'week-long', 'wrapped', '400', 'a.m.', 'informing', 'completing', 'term', 'murder', 'summoned', 'superdome', '68', 'nominated', 'innocent', 'later', 'whiskey', 'unidentified', 'wrest', 'mayhem', 'physical', 'told', 'rice', 'traded', 'regret', 'protesting', 'relative', 'strikes', 'warning', 'anthony', 'alight', 'grenada', 'sour', 'converged', 'ala.', 'chronicle', 'regain', 'holes', 'gorgeous', 'cologne', 'harm', 'inspired', 'however', 'ran', 'disasters', 'undisclosed', 'fisher', 'terminated', 'pubs', '12-week', 'eye', 'defined', 'offices', 'gary', 'green', 'paced', 'flew', 'thorpe', 'immediately', 'reverse', 'nerves', 'cement', 'plunged', 'cerebral', 'total', 'defensive', 'cards', 'upended', 'tier', 'awaiting', 'firing', 'discussion', 'shaking', 'richards', 'rows', 'fiancee', 'cd', 'obstructing', 'everything', '57', 'some', 'three-day', 'danny', 'succession', 'fear', 'penguins', 'excess', 'manner', '&', 'german', 'lawrence', 'newman', 'nineteen', 'extra', 'debutant', 'stay', 'imposing', 'also', 'remote', 'sao', 'malone', 'spirit', '500', 'vying', 'eliminated', 'plummeted', 'bringing', 'patrol', 'stan', 'your', 'connected', '52', 'easing', 'herd', 'croatia', 'atop', 'shines', 'baa', 'reason', 'junction', 'moscow', 'tenth', 'listed', 'unfinished', 'enormous', 'completed', 'place', 'billion', 'millionaire', '1989', 'objection', 'thick', 'controversies', 'incentives', 'trick', 'spin', 'honors', 'arch', 'clarify', 'premiere', 'notable', 'compared', 'announcing', 'fears', 'witness', 'et', 'georgia', 'plea', 'raptor', 'is', 'finals', 'flashback', 'prospective', 'r.', 'four-run', 'improbable', 'captain', 'vazquez', '40', 'causing', 'passes', 'puppet', 'marking', 'stalled', 'shed', 'selling', '.', 'hutchinson', 'school', 'cowboy', 'yesterdays', 'indicative', '82', 'manufacture', 'reins', '10.', 'daniels', 'riverside', 'behavior', 'outright', 'showed', 'mount', 'vietnam', 'watch', 'gained', 'ayala', 'jammed', 'kaplan', 'ski', 'beat', 'shield', 'bought', 'apparently', 'succeed', 'nationals', 'recorded', 'barring', 'blake', '6', 'downs', '20', 'global', 'whom', 'hole', 'cars', 'bears', 'home', 'stays', 'wickets', 'contributions', 'idaho', 'insists', 'whether', 'preparation', 'sep', 'wisdom', 'confirmation', 'gods', 'scored', 'despair', 'karachi', 'midwest', 'vigorously', 'sec', '44', 'diverse', 'recently', 'prevent', 'halting', 'lawson', 'nine', 'mercury', 'steered', 'universe', 'quelled', 'debbie', 'admitted', 'optimum', 'cost', 'riddick', 'ford', '5,000', 'superstars', 'robertson', 'buenos', 'consecutive', 'beaver', 'alcoholic', 'donations', 'fatal', 'predict', 'carroll', 'cruel', 'plains', 'stadium', 'defence', 'serial', 'windswept', 'quarters', 'shattered', 'warner', 'paulo', '14th', 'apiece', 'monte', 'associate', 'ears', 'greg', 'commissioner', 'peach', 'incidents', 'camp', 'rouge', 'moves', 'duke', '....', 'makers', 'rigorous', 'lottery', 'bruising', 'angela', 'battling', 'scratching', 'fin', 'lion', 'exam', 'jerry', 'retire', 'mussina', 'tackled', 'beitia', 'upright', 'depths', 'clough', 'departing', 'rodriguez', 'positive', 'learning', 'admitting', '86', 'media', 'soon', 'appointed', 'button', 'jews', 'chasing', 'looms', 'expensive', 'boris', 'revoke', 'dive', 'scheme', 'signs', 'animal', 'take', 'comfortable', 'restore', 'clinching', 'grew', 'afternoon', 'carla', 'hauled', 'peak', 'rubble', 'troy', 'caetano', 'prevailing', 'payments', 'controls', 'idea', 'diana', 'looking', 'blasts', 'espn', 'battleground', 'otherwise', 'downed', 'sum', 'greatness', 'relief', 'graduated', 'membership', 'willing', 'sergei', 'rave', 'panther', 'dirty', 'fourth', 'endured', 'afternoons', 'scheduling', 'practice', 'tells', 'dimensions', 'exaggerated', 'tigers', 'stages', 'reshaping', 'reaction', 'homeland', 'pull', 'highly', 'nyse', 'government', 'stewart', 'torre', 'shortly', 'played', 'arizona', 'lehmann', 'reigning', 'leading', 'discussed', 'accident', 'investors', 'upset', 'consultant', 'disarray', 'rocket', 'machine', 'responding', 'deal', '35', 'prepared', 'cross-country', 'wgc', 'end', 'awarded', 'disagree', 'ida', 'hell', 'averaged', 'branch', 'controversial', 'two-week', 'phil', 'top-10', 'morrison', '7-6', 'extent', 'pleasure', 'erupted', 'worries', 'losing', 'lo', 'quickly', 'catch', 'woke', 'charismatic', 'wheaton', 'old', 'tightened', 'sbc', 'athletic', 'whatever', 'doubleheader', 'garcia', 'chiefs', 'accept', 'dreaded', 'ugly', 'sporting', 'scrambles', '0.3', 'poorest', 'numbers', 'deposits', '6-1', 'continually', 'blatter', 'settled', 'other', 'lifts', 'multiple', 'adding', 'postponed', 'intervene', 'briefly', 'say', 'targets', '26th', 'ukrainian', 'snaps', 'preserved', 'tosses', 'hiring', 'skins', 'arch-rivals', 'rushed', 'officer', 'wait-and-see', 'perez', 'renault', 'appropriate', '20-yard', 'austria', 'squads', 'village', 'singled', 'tropical', 'concoction', 'indianapolis', 'don', 'student', 'increasingly', 'podium', 'commit', 'misconduct', 'unnamed', 'safin', 'nature', 'me', 'handy', 'dangerous', 'f.', 'louisiana', \"'70s\", 'fate', 'bjorn', 'resilient', 'nudge', 'burlingame', 'olympiakos', 'needs', 'smashed', 'trademark', '153', 'diageo', 'prime-time', '170', 'blessed', 'spring', 'brewster', 'limits', 'overwhelm', '3-under', '10-year', 'bee', 'parsons', 'norman', 'oakland', 'rainer', 'delhi', 'fort', 'apparent', 'managed', 'e', 'forty', 'loss', 'delays', 'gaggle', 'derby', 'keeping', 'edict', 'employers', 'scout', 'injuring', 'laundering', 'expectation', 'nov', 'us-based', 'contracted', 'felt', 'postseason', 'trips', 'pro', 'wedding', 'unscheduled', 'yang', 'giant', 'tel', 'miracle', 'parker', 'overshadow', 'morris', 'billionaire', 'marion', 'starring', 'qualified', 'melbourne', 'collapse', 'wayne', 'praised', 'ads', 'lead', 'process', 'discuss', 'sergeant', 'flat', 'waving', 'lot', 'fiona', 'refrain', 'injuries', 'white', 'trailing', 'opinions', 'matsui', 'retires', 'making', 'hinges', 'infected', 'conversion', 'millions', 'coping', 'painted', 'painful', 'surgeons', 'charge', 'april', 'mutual', 'resume', 'mastering', 'unconditional', 'australia', 'caused', 'italian', 'lethal', '2-1', 'afghanistan', 'overtime', 'source', 'gesture', 'panama', 'tense', 'age', 'magnitude', '4-0', 'or', 'leadership', 'got', 'finalized', '5-1', 'upstart', 'amateur', 'weighing', 'disappointment', 'surprised', 'page', 'surpassing', 'observers', 'defeat', 'relationship', 'exploded', 'tuesday', 'driving', 'humiliated', 'club', 'glow', 'expects', 'isn', 'relievers', 'turns', 'left', 'wash', 'happily', 'their', 'champion', 'parliament', 'spill', '1975', '100km', 'organizers', 'unprecedented', 'harshly', 'high-speed', 'circuit', 'dont', 'bail', 'lawsuit', 'psychologist', 'cuts', 'violence', 'chinese', 'study', 'under-fire', 'triumph', 'saying', 'raw', 'marathon', 'find', 'carlo', 'named', 'expectations', 'pound', 'most', 'worse', 'lord', '56', 'perth', 'irwin', 'mauling', 'movement', 'repeated', 'wyoming', 'd', 'barry', 'disease', 'obtained', 'dashed', 'enforcement', 'prefer', 'furious', 'spain', 'votes', 'aged', 'crashed', 'pelted', 'warwick', 'shawn', 'ryan', 'taiwan', 'coronary', 'famous', 'tie', 'calif.', 'homeless', 'expense', 'solely', 'solicitation', 'stats', 'directv', 'costing', 'fc', 'squad', 'organized', 'felipe', 'protected', 'centre', 'rest', 'evening', 'looks', '20-year-old', '520', 'rooney', 'jp', 'suggest', 'keeps', 'arguably', 'delivered', 'promising', 'perform', '71', 'pranab', 'dazzling', 'stakes', 'indians', 'russian-born', 'michelin', 'ucla', 'shorten', 'ukraine', 'travelled', 'devils', 'dravid', 'joint', 'suit', 'embassy', 'reporters', 'evacuated', 'boys', 'cash', 'style', 'if', 'flintoff', 'expiring', 'notorious', 'only', 'shape', 'tyler', 'organisations', 'hamm', 'received', 'road', 'plc', 'sounds', 'peer', 'vulnerability', 'positions', 'bones', 'arguments', 'bin', 'pants', 'boxer', 'michigan', 'financially', 'accepts', 'faster', 'flipped', 'avenue', 'soothing', 'cover', 'canceled', 'case', 'cell', 'criticized', 'high', 'bst', 'staff', 'law', 'climb', 'jeremy', 'organizer', 'cuban', 'winston', 'summary', 'lull', 'suspension', 'nearing', 'gap', 'fortunes', 'sued', 'dan', 'sanford', 'according', 'three-year', 'handover', 'return', 'richest', '/em', 'lauren', 'reminding', 'clear', 'hundreds', 'second', '6-2', 'lt', 'grossman', 'american', 'herald', 'stings', 'titles', 'rhythm', 'hungary', 'catalyst', 'c', 'patriot', 'favorite', 'memorabilia', 'withstand', 'shell', 'punish', 'expected', 'porch', '20th', 'lip', 'poorer', 'minnows', 'barred', 'ground', 'strained', 'screamed', 'administrator', 'preparing', \"'n\", 'bargaining', 'pressed', 'knot', 'eluded', 'reeling', 'honor', 'traffic', 'considers', '67', 'repair', 'dog', 'lightly', 'philip', 'impacts', 'eagerly', 'addressed', 'tyson', 'nsw', 'stumble', 'counts', 'lined', 'abused', 'hollywood-like', 'attempts', 'delirious', 'considerable', 'quentin', 'sees', 'byproduct', 'stars', 'indeed', 'kids', 'indicate', 'hague', 'hostile', 'way', 'mike', 'players', 'possibly', 'influence', 'disciplined', '15-member', 'indication', 'replace', 'arrested', 'cruise', 'fixtures', 'shouldn', 'murphy', 'remarks', 'known', 'fray', '5-3', 'pursues', 'water', 'weary', 'midnight', 'henne', 'missteps', 'birth', 'cambridge', 'committing', 'stanley', 'inning', 'youngest', 'putting', 'violent', 'featured', 'germany-based', 'tb', 'skipper', 'ana', 'rocks', 'arsenal', 'owners', 'biz', 'entertaining', 'mexico', 'track', 'indecency', 'incumbent', 'brent', 'seeping', 'big', 'stressing', 'plan', 'angels', 'humiliation', 'creative', 'leipzig', 'pink', 'rebuffed', 'first-day', 'predicted', 'argentine', 'undergo', 'thinks', 'gerald', 'stories', 'against', 'produced', 'rhode', 'pedro', 'stellar', 'olympic', 'robbie', 'aims', 'excuses', 'rand', 'refer', 'clinton', 'delayed', '21', 'unclear', 'sadness', 'issues', 'harper', 'half-dozen', 'work', 'wake', 'hampshire', '2', 'foxborough', 'hayes', 'chairman', '8.', 'answer', 'testified', 'icon', 'ruling', 'tories', '3d', 'quote', 'resounding', 'belgian', 'punishment', 'explained', 'await', 'planning', 'surrendered', 'santander', 'jumping', 'indefinite', 'assault', 'four', 'ace', 'syracuse', 'outs', 'guillermo', 'barreled', 'clock', 'potentially', 'sony', 'de', 'telegraph', 'roberts', 'brands', 'mile', 'engaged', 'expires', 'characters', 'dutch', 'acquitted', '328', 'charter', 'collected', 'jean', 'pall', 'weeks', 'hottest', 'mich.', 'camden', 'trainers', 'truly', 'woburn', 'awakening', 'lately', 'front-runner', 'banner', 'smallest', '3', 'blur', 'colombia', 'entry', 'friendly', 'frankly', 'actually', '42', 'construction', 'manning', 'resting', 'un', 'resembled', 'ago', 'night', 'pablo', 'western', 'francisco', 'operators', 'loaned', 'script', 'withdrawn', 'gas', 'nationally', 'throwing', 'long-range', 'task', 'long-distance', 'distinguish', 'liberty', 'redemption', 'neville', 'behaviour', 'relatively', 'termed', 'percolating', 'suzuka', 'tiny', 'downright', 'generation', 'expressed', 'overcame', 'widespread', '30th', 'fallout', 'ahmed', 'duplicate', 'posada', 'accused', 'jimmy', 'america', 'stumps', 'permanent', 'tears', 'cant', 'diaz', 'philips', 'kind', 'two-shot', 'ruined', 'competing', 'tally', 'today', 'dodgers', 'motor', 'strangers', 'protection', 'businesses', 'evidence', 'homer', 'mature', 'pa.', 'pouring', 'identify', 'eighth', 'ailing', 'wheels', 'ga.', 'concussion', 'martnez', 'dec.', 'motive', 'chamber', 'stick', '200-meter', 'theatre', 'seeing', 'team', 'expelled', 'texans', 'marks', 'anonymity', 'bowden', 'diary', 'michelle', 'collectively', 'bus', 'tourists', 'advance', 'venue', 'papers', 'boot', 'automated', 'taunting', 'ideal', 'depends', 'announced', 'refused', 'nor', 'principal', '1/2', 'downgraded', 'ticked', 'freddie', 'filling', 'fla.', 'apprentice', 'ab', 'wasn', 'beleaguered', 'waterford', 'ross', 'excellence', 'relevant', 'locker', 'gates', 'outage', 'pulled', 'any', 'mall', 'spot', 'opposes', 'and', 'bust', 'mechanical', 'forehead', 'burden', 'india', 'mystic', 'alone', 'sterling', 'rex', 'venues', 'halted', 'diminutive', 'empty', 'front', 'loomed', 'lithuania', 'usatoday.com', 'speech', 'court', 'tv', 'hail', 'mcgill', '104', 'finally', 'undermined', 'poisoning', 'reign', 'linking', 'list', 'schwab', 'examine', 'pitches', 'mavericks', 'hot', 'fired', 'colleen', 'pumping', 'armor', 'patience', 'wave', 'bone', 'lowered', 'afp', 'gardens', 'george', 'gear', 'leaving', 'wouldn', 'sure', '358', 'sanchez', 'trails', 'parent', 'denying', 'heightening', 'away', 'slump', 'purpose', 'friend', 'loosening', 'truckload', 'refund', 'ted', 'unbeaten', '62', 'dissension', 'uefa', 'breeze', 'larry', 'shut', 'splitting', 'humane', 'bradley', 'stint', 'ridiculed', 'sepp', 'sexual', 'border', 'faithful', 'bleed', 'stephon', 'ernie', 'envy', 'life', 'sheen', 'avid', 'day', 'scene', '191', 'consistency', 'oxford', 'lopsided', 'antonio', 'steering', 'married', '04', 'single-', 'formerly', '65', 'medley', 'mainland', 'stabbed', 'fell', 'sunlight', 'princeton', 'kept', 'latter', 'incompetence', 'words', 'shattering', 'barnes', 'forum', 'matches', 'coastal', 'alastair', 'practiced', 'usually', 'cases', 'amanda', 'immediate', 'science', 'meetings', 'black', 'counterparts', 'richardson', 'talented', 'enemy', 'hasn', 'campus', 'developed', 'interested', 'easily', 'cardinal', '1-0', 'wood', 'gardner', 'whole', 'chances', 'wolverhampton', 'boston', 'raymond', 'based', '-ill', 'trapped', 'karl', 'breath', 'brass', 'fluke', '18th', 'exceptional', 'ice', 'erasing', 'arrives', 'ny', 'romanian', 'salary', 'bewildered', 'bitter', 'subdued', 'top-seeded', 'winners', 'displayed', 'someone', 'prominence', 'similarly', 'newcomers', 'secretary', 'established', 'calling', 'dumping', '149', 'approaching', 'techs', 'struggles', 'sportswear', 'champagne', 'tournament', 'deliver', 'contributors', 'refusing', 'minutes', 'accomplished', 'protecting', 'array', 'returned', 'sputtering', 'benson', 'alternate', 'tycoon', 'saw', 'sparkled', 'pot', 'discipline', 'al', 'much-awaited', 'mikhail', 'rock', 'contractual', 'kennedy', 'juliet', 'surrounding', 'centers', 'exile', 'coors', 'controller', 'would', 'contributing', 'p.', 'exclusive', 'oakville', 'secure', 'britain', 'settlement', 'grades', 'titans', 'announce', 'tying', '13,000', 'continued', 'newly', 'flooded', 'dumped', 'endeavor', 'grant', 'excited', 'revived', '5-0', 'deliberations', 'flourish', 'documented', 'withdrew', 'receivers', 'good', 'supporter', 'plot', 'doctors', 'hear', 'sealed', 'bound', 'bottle', 'greenberg', 'drunk', 'one', 'blood', 'brothers', 'step', 'states', 'two', 'prediction', 'pre-season', 'trousers', 'fraction', 'initial', 'directors', 'broadcasts', 'versus', 'eight', 'hit-and-run', '16-year-old', 'collecting', 'feel', 'upstate', 'sitting', 'oft-criticized', '300', 'seat', 'organiser', 'richer', 'ashes', 'adamant', 'trevor', '5.', 'muncie', 'outpouring', 'lisa', 'attempted', 'weaknesses', 'sore', 'lost', 'tree', 'either', 'buddhist', 'failing', 'premiership', 'concern', 'seattle', 'cook', 'bets', 'serb', 'protesters', 'primary', 'mcdowell', 'least', '36', 'keys', 'n.c.', 'backed', 'o', 'hundred', 'rob', 'overtake', 'soccer', 'dropping', 'passed', 'blessing', 'cleared', 'edgbaston', 'reputed', 'poured', 'themselves', 'detail', 'deliberately', 'laboratory', 'recording', 'jersey', 'expired', 'ripe', 'forgotten', 'stale', 'reinforcing', 'newest', 'type', 'minimum', 'curve', 'robbed', 'built', 'participants', 'ambition', 'marcus', 'colombo', 'frances', 'rebounding', 'accomplishments', 'dipped', 'longtime', 'attracted', 'lock', 'emotion', 'babies', 'meter', 'coasted', 'ankiel', 'season-opening', 'ties', 'khalil', 'koreans', 'ecclestone', 'rumor', 'prime', 'hughes', 'emperor', 'products', 'fifth', 'angola', 'marbury', 'vicious', 'fill', 'pose', 'advertising', '210', 'drafting', 'yorkers', 'gale', 'dared', 'belarussian', 'tension', 'angel', 'palace', 'shots', 'thrashed', 'portland', 'gears', 'ordered', 'legitimately', 'formula', 'of', 'downtown', 'questions', 'rate', '400-meter', 'purchased', 'pakistans', 'panel', 'mcbride', 'stunned', 'knees', 'land', 'im', 'twist', 'percent', 'wimbledon', 'executives', 'companies', 'east', 'particle', 'cottage', 'finance', 'opposite', 'december', 'collect', 'mello', 'web', '2005.', 'documents', 'stray', 'insisting', 'jeter', 'demolition', 'ian', 'lunch', 'wreck', 'notebook', 'venezuela', 'dependable', 'one-year', 'schultz', 'milton', 're-election', 'yankee', 'alan', 'inspiring', 'fernando', 'doesn', 'dale', 'chrysler', 'virginia', 'music', 'trap', 'document', 'recall', 'revenge', 'rescued', 'budget', 'whose', 'disbelief', 'street', 'form', 'achievements', 'committee', 'madrid', 'teeth', 'reuters', 'umpire', 'undated', 'executed', 'hindered', 'milan', 'own', 'anderson', 'price', 'surfers', 'classic', 'caliber', 'devers', 'incredible', 'surpass', 'bicycle', 'marcello', 'slim', 'embroiled', 'puerto', 'regarded', 'jarvis', 'allen', 'approached', 'lousy', 'inspectors', 'much', 'reveal', 'kingdom', 'slogan', '31', 'capturing', 'arm', 'trophies', 'steer', 'indecent', 'dot', 'because', 'lockout', 'its', 'career', 'elite', 'suggestions', 'shaky', 'sat', 'denmark', 'ronald', 'pursuing', 'morning', 'palmer', \"'\", '15-year-old', 'tough', 'a.j', 'cast', 'long', 'lowell', 'owing', 'movies', 'asked', 'proteins', 'effectively'}\n"
     ]
    }
   ],
   "execution_count": 20
  },
  {
   "metadata": {
    "ExecuteTime": {
     "end_time": "2025-04-16T15:19:17.543937Z",
     "start_time": "2025-04-16T15:19:10.818936Z"
    }
   },
   "cell_type": "code",
   "source": [
    "pos_texts = ['the olympian scored valuable goals',\n",
    "             'tottenham consistent streak hammered the conference',\n",
    "             'the assistant coach tapped a substitute for the game']\n",
    "neg_texts = ['haiti blackouts left officials powerless',\n",
    "             'clinical worms tapped on the planet caused illness',\n",
    "             'the commercial dealer crass contract faded']\n",
    "\n",
    "lm_classify_texts(neg_texts, lm_pos, lm_neg)"
   ],
   "outputs": [
    {
     "data": {
      "text/plain": [
       "                                                text pred_label pred_int  \\\n",
       "0           haiti blackouts left officials powerless   POSITIVE        1   \n",
       "1  clinical worms tapped on the planet caused ill...   NEGATIVE        0   \n",
       "2         the commercial dealer crass contract faded   NEGATIVE        0   \n",
       "\n",
       "  p(+|text) p(-|text) p(text|+) p(+,text) p(text|-) p(-,text) p(text)  \n",
       "0  0.536345  0.463655       0.0       0.0       0.0       0.0     0.0  \n",
       "1  0.000211  0.999789       0.0       0.0       0.0       0.0     0.0  \n",
       "2  0.180346  0.819654       0.0       0.0       0.0       0.0     0.0  "
      ],
      "text/html": [
       "<div>\n",
       "<style scoped>\n",
       "    .dataframe tbody tr th:only-of-type {\n",
       "        vertical-align: middle;\n",
       "    }\n",
       "\n",
       "    .dataframe tbody tr th {\n",
       "        vertical-align: top;\n",
       "    }\n",
       "\n",
       "    .dataframe thead th {\n",
       "        text-align: right;\n",
       "    }\n",
       "</style>\n",
       "<table border=\"1\" class=\"dataframe\">\n",
       "  <thead>\n",
       "    <tr style=\"text-align: right;\">\n",
       "      <th></th>\n",
       "      <th>text</th>\n",
       "      <th>pred_label</th>\n",
       "      <th>pred_int</th>\n",
       "      <th>p(+|text)</th>\n",
       "      <th>p(-|text)</th>\n",
       "      <th>p(text|+)</th>\n",
       "      <th>p(+,text)</th>\n",
       "      <th>p(text|-)</th>\n",
       "      <th>p(-,text)</th>\n",
       "      <th>p(text)</th>\n",
       "    </tr>\n",
       "  </thead>\n",
       "  <tbody>\n",
       "    <tr>\n",
       "      <th>0</th>\n",
       "      <td>haiti blackouts left officials powerless</td>\n",
       "      <td>POSITIVE</td>\n",
       "      <td>1</td>\n",
       "      <td>0.536345</td>\n",
       "      <td>0.463655</td>\n",
       "      <td>0.0</td>\n",
       "      <td>0.0</td>\n",
       "      <td>0.0</td>\n",
       "      <td>0.0</td>\n",
       "      <td>0.0</td>\n",
       "    </tr>\n",
       "    <tr>\n",
       "      <th>1</th>\n",
       "      <td>clinical worms tapped on the planet caused ill...</td>\n",
       "      <td>NEGATIVE</td>\n",
       "      <td>0</td>\n",
       "      <td>0.000211</td>\n",
       "      <td>0.999789</td>\n",
       "      <td>0.0</td>\n",
       "      <td>0.0</td>\n",
       "      <td>0.0</td>\n",
       "      <td>0.0</td>\n",
       "      <td>0.0</td>\n",
       "    </tr>\n",
       "    <tr>\n",
       "      <th>2</th>\n",
       "      <td>the commercial dealer crass contract faded</td>\n",
       "      <td>NEGATIVE</td>\n",
       "      <td>0</td>\n",
       "      <td>0.180346</td>\n",
       "      <td>0.819654</td>\n",
       "      <td>0.0</td>\n",
       "      <td>0.0</td>\n",
       "      <td>0.0</td>\n",
       "      <td>0.0</td>\n",
       "      <td>0.0</td>\n",
       "    </tr>\n",
       "  </tbody>\n",
       "</table>\n",
       "</div>"
      ]
     },
     "execution_count": 25,
     "metadata": {},
     "output_type": "execute_result"
    }
   ],
   "execution_count": 25
  }
 ],
 "metadata": {
  "kernelspec": {
   "display_name": "esade-nlp",
   "language": "python",
   "name": "python3"
  },
  "language_info": {
   "codemirror_mode": {
    "name": "ipython",
    "version": 3
   },
   "file_extension": ".py",
   "mimetype": "text/x-python",
   "name": "python",
   "nbconvert_exporter": "python",
   "pygments_lexer": "ipython3",
   "version": "3.11.9"
  }
 },
 "nbformat": 4,
 "nbformat_minor": 2
}
