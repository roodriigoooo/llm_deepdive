{
 "cells": [
  {
   "metadata": {
    "collapsed": true,
    "ExecuteTime": {
     "end_time": "2025-06-26T10:22:46.535817Z",
     "start_time": "2025-06-26T10:22:46.530372Z"
    }
   },
   "cell_type": "code",
   "source": [
    "import torch\n",
    "import os, sys\n",
    "import tiktoken\n",
    "\n",
    "project_root = os.path.abspath(\n",
    "    os.path.join(os.getcwd(), os.pardir, os.pardir)\n",
    ")\n",
    "\n",
    "stage1_root = os.path.join(project_root, \"stage1\")\n",
    "sys.path.insert(0, stage1_root)\n",
    "\n",
    "# now 'src' is a top-level package\n",
    "from src.gpt2small import GPTModel, GPTConfig124, generate_text\n"
   ],
   "id": "initial_id",
   "outputs": [],
   "execution_count": 2
  },
  {
   "metadata": {
    "ExecuteTime": {
     "end_time": "2025-06-26T10:22:48.126292Z",
     "start_time": "2025-06-26T10:22:46.570157Z"
    }
   },
   "cell_type": "code",
   "source": [
    "cfg_pt = GPTConfig124(vocab_size=50257, context_length=256, emb_dim=768,\n",
    "                   n_heads=12, n_layers=12, dropout=0.1, qkv_bias=False)\n",
    "torch.manual_seed(123)\n",
    "model = GPTModel(cfg_pt)\n",
    "model.eval()"
   ],
   "id": "6aee549c14b1461",
   "outputs": [
    {
     "data": {
      "text/plain": [
       "GPTModel(\n",
       "  (tok_emb): Embedding(50257, 768)\n",
       "  (pos_emb): Embedding(256, 768)\n",
       "  (drop_emb): Dropout(p=0.1, inplace=False)\n",
       "  (trf_blocks): Sequential(\n",
       "    (0): TransformerBlock(\n",
       "      (att): MultiHeadAttention(\n",
       "        (W_q): Linear(in_features=768, out_features=768, bias=False)\n",
       "        (W_k): Linear(in_features=768, out_features=768, bias=False)\n",
       "        (W_v): Linear(in_features=768, out_features=768, bias=False)\n",
       "        (dropout): Dropout(p=0.1, inplace=False)\n",
       "        (out_proj): Linear(in_features=768, out_features=768, bias=True)\n",
       "      )\n",
       "      (ff): FeedForward(\n",
       "        (layers): Sequential(\n",
       "          (0): Linear(in_features=768, out_features=3072, bias=True)\n",
       "          (1): GELU()\n",
       "          (2): Linear(in_features=3072, out_features=768, bias=True)\n",
       "        )\n",
       "      )\n",
       "      (norm1): LayerNorm()\n",
       "      (norm2): LayerNorm()\n",
       "      (drop_shortcut): Dropout(p=0.1, inplace=False)\n",
       "    )\n",
       "    (1): TransformerBlock(\n",
       "      (att): MultiHeadAttention(\n",
       "        (W_q): Linear(in_features=768, out_features=768, bias=False)\n",
       "        (W_k): Linear(in_features=768, out_features=768, bias=False)\n",
       "        (W_v): Linear(in_features=768, out_features=768, bias=False)\n",
       "        (dropout): Dropout(p=0.1, inplace=False)\n",
       "        (out_proj): Linear(in_features=768, out_features=768, bias=True)\n",
       "      )\n",
       "      (ff): FeedForward(\n",
       "        (layers): Sequential(\n",
       "          (0): Linear(in_features=768, out_features=3072, bias=True)\n",
       "          (1): GELU()\n",
       "          (2): Linear(in_features=3072, out_features=768, bias=True)\n",
       "        )\n",
       "      )\n",
       "      (norm1): LayerNorm()\n",
       "      (norm2): LayerNorm()\n",
       "      (drop_shortcut): Dropout(p=0.1, inplace=False)\n",
       "    )\n",
       "    (2): TransformerBlock(\n",
       "      (att): MultiHeadAttention(\n",
       "        (W_q): Linear(in_features=768, out_features=768, bias=False)\n",
       "        (W_k): Linear(in_features=768, out_features=768, bias=False)\n",
       "        (W_v): Linear(in_features=768, out_features=768, bias=False)\n",
       "        (dropout): Dropout(p=0.1, inplace=False)\n",
       "        (out_proj): Linear(in_features=768, out_features=768, bias=True)\n",
       "      )\n",
       "      (ff): FeedForward(\n",
       "        (layers): Sequential(\n",
       "          (0): Linear(in_features=768, out_features=3072, bias=True)\n",
       "          (1): GELU()\n",
       "          (2): Linear(in_features=3072, out_features=768, bias=True)\n",
       "        )\n",
       "      )\n",
       "      (norm1): LayerNorm()\n",
       "      (norm2): LayerNorm()\n",
       "      (drop_shortcut): Dropout(p=0.1, inplace=False)\n",
       "    )\n",
       "    (3): TransformerBlock(\n",
       "      (att): MultiHeadAttention(\n",
       "        (W_q): Linear(in_features=768, out_features=768, bias=False)\n",
       "        (W_k): Linear(in_features=768, out_features=768, bias=False)\n",
       "        (W_v): Linear(in_features=768, out_features=768, bias=False)\n",
       "        (dropout): Dropout(p=0.1, inplace=False)\n",
       "        (out_proj): Linear(in_features=768, out_features=768, bias=True)\n",
       "      )\n",
       "      (ff): FeedForward(\n",
       "        (layers): Sequential(\n",
       "          (0): Linear(in_features=768, out_features=3072, bias=True)\n",
       "          (1): GELU()\n",
       "          (2): Linear(in_features=3072, out_features=768, bias=True)\n",
       "        )\n",
       "      )\n",
       "      (norm1): LayerNorm()\n",
       "      (norm2): LayerNorm()\n",
       "      (drop_shortcut): Dropout(p=0.1, inplace=False)\n",
       "    )\n",
       "    (4): TransformerBlock(\n",
       "      (att): MultiHeadAttention(\n",
       "        (W_q): Linear(in_features=768, out_features=768, bias=False)\n",
       "        (W_k): Linear(in_features=768, out_features=768, bias=False)\n",
       "        (W_v): Linear(in_features=768, out_features=768, bias=False)\n",
       "        (dropout): Dropout(p=0.1, inplace=False)\n",
       "        (out_proj): Linear(in_features=768, out_features=768, bias=True)\n",
       "      )\n",
       "      (ff): FeedForward(\n",
       "        (layers): Sequential(\n",
       "          (0): Linear(in_features=768, out_features=3072, bias=True)\n",
       "          (1): GELU()\n",
       "          (2): Linear(in_features=3072, out_features=768, bias=True)\n",
       "        )\n",
       "      )\n",
       "      (norm1): LayerNorm()\n",
       "      (norm2): LayerNorm()\n",
       "      (drop_shortcut): Dropout(p=0.1, inplace=False)\n",
       "    )\n",
       "    (5): TransformerBlock(\n",
       "      (att): MultiHeadAttention(\n",
       "        (W_q): Linear(in_features=768, out_features=768, bias=False)\n",
       "        (W_k): Linear(in_features=768, out_features=768, bias=False)\n",
       "        (W_v): Linear(in_features=768, out_features=768, bias=False)\n",
       "        (dropout): Dropout(p=0.1, inplace=False)\n",
       "        (out_proj): Linear(in_features=768, out_features=768, bias=True)\n",
       "      )\n",
       "      (ff): FeedForward(\n",
       "        (layers): Sequential(\n",
       "          (0): Linear(in_features=768, out_features=3072, bias=True)\n",
       "          (1): GELU()\n",
       "          (2): Linear(in_features=3072, out_features=768, bias=True)\n",
       "        )\n",
       "      )\n",
       "      (norm1): LayerNorm()\n",
       "      (norm2): LayerNorm()\n",
       "      (drop_shortcut): Dropout(p=0.1, inplace=False)\n",
       "    )\n",
       "    (6): TransformerBlock(\n",
       "      (att): MultiHeadAttention(\n",
       "        (W_q): Linear(in_features=768, out_features=768, bias=False)\n",
       "        (W_k): Linear(in_features=768, out_features=768, bias=False)\n",
       "        (W_v): Linear(in_features=768, out_features=768, bias=False)\n",
       "        (dropout): Dropout(p=0.1, inplace=False)\n",
       "        (out_proj): Linear(in_features=768, out_features=768, bias=True)\n",
       "      )\n",
       "      (ff): FeedForward(\n",
       "        (layers): Sequential(\n",
       "          (0): Linear(in_features=768, out_features=3072, bias=True)\n",
       "          (1): GELU()\n",
       "          (2): Linear(in_features=3072, out_features=768, bias=True)\n",
       "        )\n",
       "      )\n",
       "      (norm1): LayerNorm()\n",
       "      (norm2): LayerNorm()\n",
       "      (drop_shortcut): Dropout(p=0.1, inplace=False)\n",
       "    )\n",
       "    (7): TransformerBlock(\n",
       "      (att): MultiHeadAttention(\n",
       "        (W_q): Linear(in_features=768, out_features=768, bias=False)\n",
       "        (W_k): Linear(in_features=768, out_features=768, bias=False)\n",
       "        (W_v): Linear(in_features=768, out_features=768, bias=False)\n",
       "        (dropout): Dropout(p=0.1, inplace=False)\n",
       "        (out_proj): Linear(in_features=768, out_features=768, bias=True)\n",
       "      )\n",
       "      (ff): FeedForward(\n",
       "        (layers): Sequential(\n",
       "          (0): Linear(in_features=768, out_features=3072, bias=True)\n",
       "          (1): GELU()\n",
       "          (2): Linear(in_features=3072, out_features=768, bias=True)\n",
       "        )\n",
       "      )\n",
       "      (norm1): LayerNorm()\n",
       "      (norm2): LayerNorm()\n",
       "      (drop_shortcut): Dropout(p=0.1, inplace=False)\n",
       "    )\n",
       "    (8): TransformerBlock(\n",
       "      (att): MultiHeadAttention(\n",
       "        (W_q): Linear(in_features=768, out_features=768, bias=False)\n",
       "        (W_k): Linear(in_features=768, out_features=768, bias=False)\n",
       "        (W_v): Linear(in_features=768, out_features=768, bias=False)\n",
       "        (dropout): Dropout(p=0.1, inplace=False)\n",
       "        (out_proj): Linear(in_features=768, out_features=768, bias=True)\n",
       "      )\n",
       "      (ff): FeedForward(\n",
       "        (layers): Sequential(\n",
       "          (0): Linear(in_features=768, out_features=3072, bias=True)\n",
       "          (1): GELU()\n",
       "          (2): Linear(in_features=3072, out_features=768, bias=True)\n",
       "        )\n",
       "      )\n",
       "      (norm1): LayerNorm()\n",
       "      (norm2): LayerNorm()\n",
       "      (drop_shortcut): Dropout(p=0.1, inplace=False)\n",
       "    )\n",
       "    (9): TransformerBlock(\n",
       "      (att): MultiHeadAttention(\n",
       "        (W_q): Linear(in_features=768, out_features=768, bias=False)\n",
       "        (W_k): Linear(in_features=768, out_features=768, bias=False)\n",
       "        (W_v): Linear(in_features=768, out_features=768, bias=False)\n",
       "        (dropout): Dropout(p=0.1, inplace=False)\n",
       "        (out_proj): Linear(in_features=768, out_features=768, bias=True)\n",
       "      )\n",
       "      (ff): FeedForward(\n",
       "        (layers): Sequential(\n",
       "          (0): Linear(in_features=768, out_features=3072, bias=True)\n",
       "          (1): GELU()\n",
       "          (2): Linear(in_features=3072, out_features=768, bias=True)\n",
       "        )\n",
       "      )\n",
       "      (norm1): LayerNorm()\n",
       "      (norm2): LayerNorm()\n",
       "      (drop_shortcut): Dropout(p=0.1, inplace=False)\n",
       "    )\n",
       "    (10): TransformerBlock(\n",
       "      (att): MultiHeadAttention(\n",
       "        (W_q): Linear(in_features=768, out_features=768, bias=False)\n",
       "        (W_k): Linear(in_features=768, out_features=768, bias=False)\n",
       "        (W_v): Linear(in_features=768, out_features=768, bias=False)\n",
       "        (dropout): Dropout(p=0.1, inplace=False)\n",
       "        (out_proj): Linear(in_features=768, out_features=768, bias=True)\n",
       "      )\n",
       "      (ff): FeedForward(\n",
       "        (layers): Sequential(\n",
       "          (0): Linear(in_features=768, out_features=3072, bias=True)\n",
       "          (1): GELU()\n",
       "          (2): Linear(in_features=3072, out_features=768, bias=True)\n",
       "        )\n",
       "      )\n",
       "      (norm1): LayerNorm()\n",
       "      (norm2): LayerNorm()\n",
       "      (drop_shortcut): Dropout(p=0.1, inplace=False)\n",
       "    )\n",
       "    (11): TransformerBlock(\n",
       "      (att): MultiHeadAttention(\n",
       "        (W_q): Linear(in_features=768, out_features=768, bias=False)\n",
       "        (W_k): Linear(in_features=768, out_features=768, bias=False)\n",
       "        (W_v): Linear(in_features=768, out_features=768, bias=False)\n",
       "        (dropout): Dropout(p=0.1, inplace=False)\n",
       "        (out_proj): Linear(in_features=768, out_features=768, bias=True)\n",
       "      )\n",
       "      (ff): FeedForward(\n",
       "        (layers): Sequential(\n",
       "          (0): Linear(in_features=768, out_features=3072, bias=True)\n",
       "          (1): GELU()\n",
       "          (2): Linear(in_features=3072, out_features=768, bias=True)\n",
       "        )\n",
       "      )\n",
       "      (norm1): LayerNorm()\n",
       "      (norm2): LayerNorm()\n",
       "      (drop_shortcut): Dropout(p=0.1, inplace=False)\n",
       "    )\n",
       "  )\n",
       "  (final_form): LayerNorm()\n",
       "  (out_head): Linear(in_features=768, out_features=50257, bias=False)\n",
       ")"
      ]
     },
     "execution_count": 3,
     "metadata": {},
     "output_type": "execute_result"
    }
   ],
   "execution_count": 3
  },
  {
   "metadata": {
    "ExecuteTime": {
     "end_time": "2025-06-26T10:22:48.781367Z",
     "start_time": "2025-06-26T10:22:48.336859Z"
    }
   },
   "cell_type": "code",
   "source": [
    "def text_to_token_ids(text, tokenizer, allowed_special):\n",
    "    \"\"\"\n",
    "    tensor.unsqueeze(dim) inserts a new axis (of size 1) at index dim.\n",
    "    x = torch.tensor([10, 20, 30])       shape: [3]\n",
    "    x0 = x.unsqueeze(0)                 shape: [1,3]\n",
    "    x1 = x.unsqueeze(1)                 shape: [3,1]\n",
    "    \"\"\"\n",
    "    allowed_special = allowed_special or ('<|endoftext|>')\n",
    "    token_list = tokenizer.encode(text, allowed_special=set(allowed_special))\n",
    "    ids = torch.tensor(token_list).unsqueeze(0)\n",
    "    #unsqueeze turns a 1D sequence of token IDs into a 2D batch of size 1.\n",
    "    #almost all pytorch nn.Modules (embeddings, transformers, etc.)\n",
    "    # expect inputs of shape (batch_size, seq_len, ...)\n",
    "    # even f we only have one example, we need to present it as a batch of size 1.\n",
    "    return ids\n",
    "\n",
    "def token_ids_to_text(token_ids, tokenizer):\n",
    "    \"\"\"\n",
    "    tensor.squeeze(dim: optional) removes the axis at index dim if its size is 1.\n",
    "    y = torch.zeros(1, 5, 1)         shape: [1,5,1]\n",
    "    y0 = y.squeeze(0)               shape: [5,1]\n",
    "    y1 = y.squeeze(2)               shape: [1,5]\n",
    "    y2 = y.squeeze()               shape: [5] (all dims 1 are removed)\n",
    "    \"\"\"\n",
    "    flat = token_ids.squeeze(0)\n",
    "    #squeeze(0) just undoes the batch dimension we previously added,\n",
    "    # giving back the raw token sequence.\n",
    "    return tokenizer.decode(flat.tolist())\n",
    "\n",
    "st_context = \"A man told me\"\n",
    "tokenizer = tiktoken.get_encoding('gpt2')\n",
    "\n",
    "token_ids = generate_text(\n",
    "    model = model,\n",
    "    idx = text_to_token_ids(st_context, tokenizer, allowed_special=None),\n",
    "    max_new_tokens = 10,\n",
    "    context_size = cfg_pt.context_length\n",
    ")\n",
    "\n",
    "print('Output text: ', token_ids_to_text(token_ids, tokenizer))"
   ],
   "id": "7adedf932d6266c1",
   "outputs": [
    {
     "name": "stdout",
     "output_type": "stream",
     "text": [
      "Output text:  A man told me accumulation thumbnail Flask 406 propensity Hat lush Tulsolk se\n"
     ]
    }
   ],
   "execution_count": 4
  },
  {
   "metadata": {},
   "cell_type": "markdown",
   "source": [
    "### Text Generation Loss\n",
    "\n",
    "As can be seen from the output above, our model is producing random, non-coherent text. This is because it has not yet undergone training (and because the input size is very limited). Training is done in order to increase the softmax probability of the index positions that correspond to the correct target token position. A non-trained model will simply return the argmax of a rather arbitrary softmax distribution (random vectors) across the vocab size, for each token. The goal with training is then to maximize the chance of selecting the correct token by increasing its selection probability relative to other tokens."
   ],
   "id": "3ebb7da82c95a3da"
  },
  {
   "metadata": {
    "ExecuteTime": {
     "end_time": "2025-06-26T10:22:48.886892Z",
     "start_time": "2025-06-26T10:22:48.816941Z"
    }
   },
   "cell_type": "code",
   "source": [
    "text = \"\"\"A man told me once that all the bad people\n",
    "Were needed. Maybe not all, but your fingernails\n",
    "You need; they are really claws, and we know\n",
    "Claws. The sharks--what about them?\n",
    "They make other fish swim faster. The hard-faced men\n",
    "In black coats who chase you for hours\n",
    "In dreams--that's the only way to get you\n",
    "To the shore. Sometimes those hard women\n",
    "Who abandon you get you to say, \"You.\"\n",
    "A lazy part of us is like a tumbleweed.\n",
    "It doesn't move on its own. It takes sometimes\n",
    "A lot of Depression to get tumbleweeds moving.\n",
    "Then they blow across three or four States.\n",
    "This man told me that things work together.\n",
    "Bad handwriting sometimes leads to new ideas;\n",
    "And a careless God--who refuses to let you\n",
    "Eat from the Tree of Knowledge--can lead\n",
    "To books, and eventually to us. We write\n",
    "Poems with lies in them, but they help a little.\"\"\"\n",
    "\n",
    "tokens = text_to_token_ids(text, tokenizer, allowed_special=None)\n",
    "print(f'Shape of tokens: {tokens.shape}')\n",
    "print(f'Tokens:\\n {tokens}')\n",
    "\n",
    "B, T = 2, 4 #(batch_size, seq_len)\n",
    "data = tokens[0][:8+1]\n",
    "\n",
    "x = data[:-1].view(B,T) #input tensor\n",
    "y = data[1:].view(B,T) #target tensor for next token prediction\n",
    "\n",
    "print(f'Inputs:\\n {x}')\n",
    "print(f'Targets:\\n {y}')\n",
    "\n",
    "with torch.no_grad(): #we are not training yet, just an example\n",
    "    logits = model(x)\n",
    "probas = torch.softmax(logits, dim=-1)\n",
    "print(probas.shape)\n"
   ],
   "id": "f5cd7dd14853827f",
   "outputs": [
    {
     "name": "stdout",
     "output_type": "stream",
     "text": [
      "Shape of tokens: torch.Size([1, 212])\n",
      "Tokens:\n",
      " tensor([[   32,   582,  1297,   502,  1752,   326,   477,   262,  2089,   661,\n",
      "           198, 35653,  2622,    13,  6674,   407,   477,    11,   475,   534,\n",
      "          8038,  1142,  1768,   198,  1639,   761,    26,   484,   389,  1107,\n",
      "         28421,    11,   290,   356,   760,   198,  2601,  8356,    13,   383,\n",
      "         27476,   438, 10919,   546,   606,    30,   198,  2990,   787,   584,\n",
      "          5916,  9422,  5443,    13,   383,  1327,    12, 24903,  1450,   198,\n",
      "           818,  2042, 30720,   508, 15505,   345,   329,  2250,   198,   818,\n",
      "         10625,   438,  5562,   338,   262,   691,   835,   284,   651,   345,\n",
      "           198,  2514,   262, 15191,    13,  8975,   883,  1327,  1466,   198,\n",
      "          8241,  6871,   345,   651,   345,   284,   910,    11,   366,  1639,\n",
      "           526,   198,    32, 16931,   636,   286,   514,   318,   588,   257,\n",
      "         47978, 39054,    13,   198,  1026,  1595,   470,  1445,   319,   663,\n",
      "           898,    13,   632,  2753,  3360,   198,    32,  1256,   286, 22483,\n",
      "           284,   651, 47978,   732,  5379,  3867,    13,   198,  6423,   484,\n",
      "          6611,  1973,  1115,   393,  1440,  1829,    13,   198,  1212,   582,\n",
      "          1297,   502,   326,  1243,   670,  1978,    13,   198, 22069, 44396,\n",
      "          3360,  5983,   284,   649,  4213,    26,   198,  1870,   257, 36138,\n",
      "          1793,   438,  8727, 17567,   284,  1309,   345,   198, 47659,   422,\n",
      "           262, 12200,   286, 20414,   438,  5171,  1085,   198,  2514,  3835,\n",
      "            11,   290,  4191,   284,   514,    13,   775,  3551,   198, 18833,\n",
      "          5232,   351,  7363,   287,   606,    11,   475,   484,  1037,   257,\n",
      "          1310,    13]])\n",
      "Inputs:\n",
      " tensor([[  32,  582, 1297,  502],\n",
      "        [1752,  326,  477,  262]])\n",
      "Targets:\n",
      " tensor([[ 582, 1297,  502, 1752],\n",
      "        [ 326,  477,  262, 2089]])\n",
      "torch.Size([2, 4, 50257])\n"
     ]
    }
   ],
   "execution_count": 5
  },
  {
   "metadata": {},
   "cell_type": "markdown",
   "source": "Note that the dimension of the probability tensor is [2, 4, 50257], the same as the logits output shape of our model (batch_size, seq_len, d_model).",
   "id": "96b993dceece8097"
  },
  {
   "metadata": {
    "ExecuteTime": {
     "end_time": "2025-06-26T10:22:49.062395Z",
     "start_time": "2025-06-26T10:22:49.057291Z"
    }
   },
   "cell_type": "code",
   "source": [
    "token_ids = torch.argmax(probas, dim=-1, keepdim=True)\n",
    "print(token_ids)"
   ],
   "id": "463a2df2778a4025",
   "outputs": [
    {
     "name": "stdout",
     "output_type": "stream",
     "text": [
      "tensor([[[12434],\n",
      "         [22182],\n",
      "         [22418],\n",
      "         [24106]],\n",
      "\n",
      "        [[ 9099],\n",
      "         [30130],\n",
      "         [40937],\n",
      "         [34965]]])\n"
     ]
    }
   ],
   "execution_count": 6
  },
  {
   "metadata": {},
   "cell_type": "markdown",
   "source": "The output above yields two sets of outputs, one for each batch in the inputs. Each element in each set is the predicted token IDs of the next word, from each word. Perhaps this is better explained visually.",
   "id": "c675d8dfdc072456"
  },
  {
   "metadata": {
    "ExecuteTime": {
     "end_time": "2025-06-26T10:22:49.238764Z",
     "start_time": "2025-06-26T10:22:49.230957Z"
    }
   },
   "cell_type": "code",
   "source": [
    "preds = token_ids.squeeze(-1)\n",
    "batch_size, seq_len = x.shape\n",
    "\n",
    "for b in range(batch_size):\n",
    "    for t in range(seq_len):\n",
    "        inp_id = x[b,t].item()\n",
    "        pred_id = preds[b,t].item()\n",
    "\n",
    "        inp_tok = tokenizer.decode([inp_id])\n",
    "        pred_tok = tokenizer.decode([pred_id])\n",
    "\n",
    "        print(f\"'{inp_tok}' [{inp_id}] ---> '{pred_tok}' [{pred_id}]\")"
   ],
   "id": "3c49613868dca4ec",
   "outputs": [
    {
     "name": "stdout",
     "output_type": "stream",
     "text": [
      "'A' [32] ---> ' Driver' [12434]\n",
      "' man' [582] ---> 'NP' [22182]\n",
      "' told' [1297] ---> ' Munich' [22418]\n",
      "' me' [502] ---> ' accumulation' [24106]\n",
      "' once' [1752] ---> 'don' [9099]\n",
      "' that' [326] ---> ' eagerly' [30130]\n",
      "' all' [477] ---> ' dogma' [40937]\n",
      "' the' [262] ---> ' ali' [34965]\n"
     ]
    }
   ],
   "execution_count": 7
  },
  {
   "metadata": {
    "ExecuteTime": {
     "end_time": "2025-06-26T10:22:50.827394Z",
     "start_time": "2025-06-26T10:22:50.821308Z"
    }
   },
   "cell_type": "code",
   "source": [
    "print(f'Targets batch 1:\\n {token_ids_to_text(y[0], tokenizer)}')\n",
    "print(f'Outputs batch 1:\\n {token_ids_to_text(token_ids[0].flatten(), tokenizer)}')\n",
    "print(f'Targets batch 2: \\n {token_ids_to_text(y[1], tokenizer)}')\n",
    "print(f'Outputs batch 2:\\n {token_ids_to_text(token_ids[1].flatten(), tokenizer)}')"
   ],
   "id": "7966e6b75dfb0671",
   "outputs": [
    {
     "name": "stdout",
     "output_type": "stream",
     "text": [
      "Targets batch 1:\n",
      "  man told me once\n",
      "Outputs batch 1:\n",
      "  DriverNP Munich accumulation\n",
      "Targets batch 2: \n",
      "  that all the bad\n",
      "Outputs batch 2:\n",
      " don eagerly dogma ali\n"
     ]
    }
   ],
   "execution_count": 8
  },
  {
   "metadata": {},
   "cell_type": "markdown",
   "source": "As we can see, the model is producing very wrong, random texts that are vastly different from the target. We need to figure out a way to evaluate the performance of the model's generated text numerically through using some sort of loss metric. Using this loss, we can then implement a training function to robustly and iteratively update the model's weights and improve the generated text. But, in a context like language understanding and text generation, how do you build this loss? We want to measure how far, or how different the generated tokens are from the correct targets. But how do we embed this information in a function to optimize? How do you even begin to define inaccuracy or incorrectness in text generation, which might have no objectively correct next word?",
   "id": "23a583f93fa88df2"
  },
  {
   "metadata": {
    "ExecuteTime": {
     "end_time": "2025-06-26T10:22:53.562017Z",
     "start_time": "2025-06-26T10:22:53.554513Z"
    }
   },
   "cell_type": "code",
   "source": [
    "y_1 = y[0].unsqueeze(1)\n",
    "y_2 = y[1].unsqueeze(1)# (T,1)\n",
    "target_probas_1 = probas[0].gather(dim=1, index=y_1).squeeze(1)\n",
    "target_probas_2 = probas[1].gather(dim=1, index=y_2).squeeze(1)\n",
    "print(f'The four target token ID probs for batch 1 are:\\n', target_probas_1)\n",
    "print(f'The four target token ID probs for batch 2 are:\\n', target_probas_2)"
   ],
   "id": "fa2ea6aa71da3915",
   "outputs": [
    {
     "name": "stdout",
     "output_type": "stream",
     "text": [
      "The four target token ID probs for batch 1 are:\n",
      " tensor([7.7823e-06, 1.6688e-05, 1.7775e-05, 1.2489e-05])\n",
      "The four target token ID probs for batch 2 are:\n",
      " tensor([1.1684e-05, 1.5996e-05, 8.7344e-06, 2.2723e-05])\n"
     ]
    }
   ],
   "execution_count": 9
  },
  {
   "metadata": {},
   "cell_type": "markdown",
   "source": [
    "To summarize our process thus far:\n",
    "\n",
    "1. **Compute the raw mode outputs (logits).** These are the unnormalized scores that the GPT model assigns to every possible next token in its vocabulary. These reflect the model's relative confidence in each token before normalization.\n",
    "2. **Normalize via softmax to obtain a probability distribution.** We convert the raw scores into a proper probability distribution over all tokens.\n",
    "3. **Extract the probabilities of true next tokens.** For each position in every sequence of our batch, we index into the softmax output to retrieve the probability assigned to the actual (target) next token. This gives us a measure of how likely the model considers the correct continuation at each step.\n",
    "\n",
    "Next, we will calculate the loss for the probability scores (one possible method) of our two example sentences by applying the logarithm to the probability scores."
   ],
   "id": "e205dc74d39fa298"
  },
  {
   "metadata": {
    "ExecuteTime": {
     "end_time": "2025-06-26T10:22:57.884919Z",
     "start_time": "2025-06-26T10:22:57.877282Z"
    }
   },
   "cell_type": "code",
   "source": [
    "target_probas = torch.cat((target_probas_1, target_probas_2))\n",
    "log_probs = torch.log(target_probas)\n",
    "print(f'Log probs:\\n {log_probs}')"
   ],
   "id": "46718cfe3391927a",
   "outputs": [
    {
     "name": "stdout",
     "output_type": "stream",
     "text": [
      "Log probs:\n",
      " tensor([-11.7637, -11.0008, -10.9377, -11.2907, -11.3573, -11.0432, -11.6482,\n",
      "        -10.6921])\n"
     ]
    }
   ],
   "execution_count": 10
  },
  {
   "metadata": {},
   "cell_type": "markdown",
   "source": [
    "When we take the log of our model's predicted probabilities and use log-probabilities as the basis for our loss, we are constructing the (for relatively experienced readers) familiar negative-log-likelihood (or cross-entropy) objective that underpins many modern language models, and many other families of models as well. If our model assigns prob $p_{\\theta}(y_t | x_{\\lt t})$ to the correct next token $y_t$ given context $x_{\\lt t}$, then the joint likelihood of a full sequence $y_{1:T}$ is the product:\n",
    "\n",
    "$$\n",
    "L(\\theta) = \\prod_{t=1}^{T} p_{\\theta}(y_t | x_{\\lt t})\n",
    "$$\n",
    "\n",
    "and maximizing this product directly is equivalent to maximizing its logarithm (since log is a strictly increasing function:\n",
    "\n",
    "$$\n",
    "\\text{log}L(\\theta) = \\sum_{t=1}^{T} \\text{log}\\space p_{\\theta}(y_t | x_{\\lt t})\n",
    "$$\n",
    "\n",
    "So that minimizing $\\mathcal{L}$ is exactly the same as maximizing the original likelihood $L$, we define the loss as the negative of this log-likelihood. It is this loss that we want to bring down to zero:\n",
    "\n",
    "$$\n",
    "\\mathcal{L} = -\\sum_{t=1}^{T} \\text{log}\\space p_{\\theta}(y_t | x_{\\lt t})\n",
    "$$\n",
    "\n",
    "We then average this quantity over batches and time-steps, but an essential insight remains: working with a sum of the logs of many small numbers is mathematically simpler to differentiate and numerically more stable than working with the product of these many small numbers. From a numerical standpoint, probabilities are bounded between 0 and 1, so when a model makes many predictions in a sequence the product of those probabilities can tend to really small numbers or underflow to zero. Taking the log of each probability allows us to work with numbers whose magnitudes grow linearly rather than exponentially, and floating-point addition is more stable than repeated multiplication of numbers less than one. Additionally, since log turns products into sums:\n",
    "\n",
    "$$\n",
    "\\log({p_1 \\times p_2 \\times \\dots \\times p_T}) = \\sum_{t=1}^{T}\\log{p_t}\n",
    "$$\n",
    "\n",
    "we can compute loss for each time-step independently, aggregating them without the fear of catastrophic underflow. But beyond this stability, the log-loss also has compelling statistical and informational interpretations. In maximum likelihood estimation, one chooses model parameters $\\theta$ to make the observed data as probable as possible; equivalently, one minimizes the negative log-likelihood. From an information theory, $-\\log p_{\\theta}(y)$ measures the 'surprise' of event $y$. When we minimize the expected $-\\log p$, we are minimizing the Shannon cross-entropy between the true data distribution and our model's approximation. The cross-entropy is then a measure of the difference between two probability distributions.\n",
    "\n",
    "On the optimizatin side, using a sum of log-probs yields gradients that emphasize mispredicted or low-probability events. If at time-step $t$ the model assigns probability $p_t$ to the correct token, then the derivative of $-\\log p_t$ with respect to the underlying score is $\\frac{-1}{p_t}$, so the smaller $p_t$, the larger the gradient magnitude.\n"
   ],
   "id": "52225c4e6376eacf"
  },
  {
   "metadata": {
    "ExecuteTime": {
     "end_time": "2025-06-26T10:23:02.377246Z",
     "start_time": "2025-06-26T10:23:01.192483Z"
    }
   },
   "cell_type": "code",
   "source": [
    "import numpy as np\n",
    "import matplotlib.pyplot as plt\n",
    "\n",
    "\n",
    "p = np.linspace(0.01, 1.0, 1000)\n",
    "# Compute negative log-loss\n",
    "neg_log = -np.log(p)\n",
    "\n",
    "figure, axis = plt.subplots(1, 2)\n",
    "axis[0].plot(p, neg_log)\n",
    "axis[0].set_title('Negative Log-Likelihood vs Probability')\n",
    "axis[0].set_xlabel('Predicted Probability $p$')\n",
    "axis[0].set_ylabel('$-\\\\log(p)$')\n",
    "axis[0].grid(True)\n",
    "\n",
    "#-log(p): d(-log p)/dp = 1/p\n",
    "grad_mag = 1 / p\n",
    "\n",
    "axis[1].plot(p, grad_mag)\n",
    "axis[1].set_title('Gradient Magnitude vs Probability')\n",
    "axis[1].set_xlabel('Predicted Probability $p$')\n",
    "axis[1].set_ylabel('Gradient Magnitude $1/p$')\n",
    "axis[1].set_ylim(0, 100)  # limit y-axis for clarity\n",
    "axis[1].grid(True)\n",
    "\n",
    "figure.subplots_adjust(wspace=0.8)\n",
    "plt.show()\n"
   ],
   "id": "19e1854833936abb",
   "outputs": [
    {
     "data": {
      "text/plain": [
       "<Figure size 640x480 with 2 Axes>"
      ],
      "image/png": "[encoded data removed]"
     },
     "metadata": {},
     "output_type": "display_data"
    }
   ],
   "execution_count": 11
  },
  {
   "metadata": {},
   "cell_type": "markdown",
   "source": "Let's continue with our loss calculation by taking the average of the log probability scores, and then multiplying by -1.",
   "id": "613e03073098b828"
  },
  {
   "metadata": {
    "ExecuteTime": {
     "end_time": "2025-06-26T10:23:04.564713Z",
     "start_time": "2025-06-26T10:23:04.557686Z"
    }
   },
   "cell_type": "code",
   "source": [
    "avg_log_probas = torch.mean(log_probs)\n",
    "print(avg_log_probas)\n",
    "neg_avg_log_probas = -avg_log_probas\n",
    "print(neg_avg_log_probas)"
   ],
   "id": "81126e0d3f4cbb49",
   "outputs": [
    {
     "name": "stdout",
     "output_type": "stream",
     "text": [
      "tensor(-11.2167)\n",
      "tensor(11.2167)\n"
     ]
    }
   ],
   "execution_count": 12
  },
  {
   "metadata": {
    "ExecuteTime": {
     "end_time": "2025-06-26T10:23:06.643718Z",
     "start_time": "2025-06-26T10:23:06.632459Z"
    }
   },
   "cell_type": "code",
   "source": [
    "logits_flat = logits.flatten(0, 1) #(batch_size, seq_len, d_model) --> (batch_size * seq_len, d_model)\n",
    "y_flat = y.flatten() #(batch_size, seq_len) --> (batch_size * seq_len)\n",
    "loss = torch.nn.functional.cross_entropy(logits_flat, y_flat)\n",
    "print(f'Loss: {loss}')"
   ],
   "id": "df997a174571b5e1",
   "outputs": [
    {
     "name": "stdout",
     "output_type": "stream",
     "text": [
      "Loss: 11.216712951660156\n"
     ]
    }
   ],
   "execution_count": 13
  },
  {
   "metadata": {},
   "cell_type": "markdown",
   "source": [
    "> As we can see above, PyTorch's built in `cross_entropy` function applies softmax on raw logits , selects the probabilites corresponding to target IDs for each token, and computes the negative average log probabilities. In other words, it does all the work for us.\n",
    "\n",
    "#### Perplexity\n",
    "Perplexity is, at its heart, a re-expression of cross-entropy in the original token domain rather than in log space. It essentially answers the question, *'On average, how many equally likely tokens would the model be as uncertain about as it is in reality?'*. When we train a language model we minimize the average negative log-likelihood per token, which is measures in natural logarithms, or bits (if we use base-2 logs). While this is the correct objective for maximum-likelihood estimation, a loss of, say, 10 natural logarithms per token can feel a bit too abstract. What does '10 units of suprise' mean, exactly? Perplexity is used to bridge that gap by exponentiating the average loss so that our metric lives back in the token domain:\n",
    "\n",
    "$$\n",
    "\\text{Perplexity} = \\text{exp}(\\mathcal{L})\n",
    "$$\n",
    "\n",
    "If our model has perplexity of 50, we can say that, on average, it is as uncertain as if it had to choose uniformly among 50 tokens. A perfectly certain model (one that assigns a prob. of 1 to the correct next token) would have a cross-entropy loss of 0, and a perplexity of 1, reflecting zero uncertainty, exactly one choice. Exponentiating turns sums of logs (our loss) back into products of probabiliites. If cross-entropy is the arithmetic mean of 'surprise' ($-\\log p$), then exponentiating this computes the geometric mean of $\\frac{1}{p}$, which quantifies how 'wide' the model's distribution really is. In a way, it is telling us the model's effective vocabulary size given its actual uncertainty, and it therefore directly comparable across different datasets and tokenizations, as long as the vocabulary size is fixed.\n",
    "\n",
    "\n"
   ],
   "id": "79a50f6e7e93a9ad"
  },
  {
   "metadata": {
    "ExecuteTime": {
     "end_time": "2025-06-26T10:23:09.430620Z",
     "start_time": "2025-06-26T10:23:09.423513Z"
    }
   },
   "cell_type": "code",
   "source": [
    "perplexity = torch.exp(loss)\n",
    "print(perplexity)"
   ],
   "id": "f20222b5e6d0c850",
   "outputs": [
    {
     "name": "stdout",
     "output_type": "stream",
     "text": [
      "tensor(74362.9375)\n"
     ]
    }
   ],
   "execution_count": 14
  },
  {
   "metadata": {},
   "cell_type": "markdown",
   "source": "### Training",
   "id": "bd0c47fde477d7d5"
  },
  {
   "metadata": {},
   "cell_type": "markdown",
   "source": [
    " To compute the loss on a training and validation set, we will use \"The Awakening, and Selected Short Stories\" by Kate Chopin (2006). For readers with access to computers with more processing power or GPUs, the following experiments can be replicated using \"Pride and Prejudice\" by Jane Austen (1813), a significantly longer corpus. The full-books wers obtained from [Project Gutenberg](https://www.gutenberg.org/), and then converted to a .txt file via the epub2txt library.\n",
    " > Important: *These eBooks is for the use of anyone anywhere in the United States and most\n",
    "other parts of the world at no cost and with almost no restrictions\n",
    "whatsoever. You may copy it, give it away or re-use it under the terms\n",
    "of the Project Gutenberg License included with this eBook or online\n",
    "at www.gutenberg.org. If you\n",
    "are not located in the United States, you will have to check the laws\n",
    "of the country where you are located before using this eBook.*"
   ],
   "id": "534568309e2dc03e"
  },
  {
   "metadata": {
    "ExecuteTime": {
     "end_time": "2025-06-26T10:23:11.759354Z",
     "start_time": "2025-06-26T10:23:11.598471Z"
    }
   },
   "cell_type": "code",
   "source": [
    "pandp = '../../../data/pride_and_prejudice.txt'\n",
    "short_stories = '../../../data/selected_shrt_stories.txt'\n",
    "with open(pandp, \"r\", encoding=\"utf-8\") as f1:\n",
    "    text1 = f1.read()\n",
    "\n",
    "with open(short_stories, \"r\", encoding=\"utf-8\") as f2:\n",
    "    text2 = f2.read()\n",
    "\n",
    "character_num1 = len(text1)\n",
    "tokens_num1 = len(tokenizer.encode(text1))\n",
    "print(f'Number of characters in text: {character_num1}')\n",
    "print(f'Number of tokens in text: {tokens_num1}')\n",
    "\n",
    "character_num2 = len(text2)\n",
    "tokens_num2 = len(tokenizer.encode(text2))\n",
    "print(f'Number of characters in text: {character_num2}')\n",
    "print(f'Number of tokens in text: {tokens_num2}')"
   ],
   "id": "48e53b9ca2e443d2",
   "outputs": [
    {
     "name": "stdout",
     "output_type": "stream",
     "text": [
      "Number of characters in text: 704415\n",
      "Number of tokens in text: 177123\n",
      "Number of characters in text: 63204\n",
      "Number of tokens in text: 15743\n"
     ]
    }
   ],
   "execution_count": 15
  },
  {
   "metadata": {},
   "cell_type": "markdown",
   "source": [
    "Let's split the dataset to create a training set, and a separate validation set. We will then divide the tokenized text into pieces of a pre-defined length (`context_length` parameter). Note that, in practice, it is often beneficial to allow variable-length inputs to make our LLM generalize better across inputs of variable types and lengths.\n",
    "\n",
    "We will use 85% of the data for training, and the remaining 15% as a validation set."
   ],
   "id": "d61e45eaf311356a"
  },
  {
   "metadata": {
    "ExecuteTime": {
     "end_time": "2025-06-26T10:23:13.866690Z",
     "start_time": "2025-06-26T10:23:13.653309Z"
    }
   },
   "cell_type": "code",
   "source": [
    "from src.load_data import create_dataloader\n",
    "\n",
    "def split_text(text, ratio):\n",
    "    \"\"\"split raw text into training/val sets by char index\"\"\"\n",
    "    split_point = int(ratio * len(text))\n",
    "    train_data, val_data = text[:split_point], text[split_point:]\n",
    "    return train_data, val_data\n",
    "\n",
    "def build_loaders(text, cfg, batch_size=4, split_ratio=0.85, seed=123, num_workers=0):\n",
    "    train_data, val_data = split_text(text, split_ratio)\n",
    "    torch.manual_seed(seed)\n",
    "\n",
    "    common_pars = dict(\n",
    "        batch_size=batch_size,\n",
    "        max_length=cfg.context_length,\n",
    "        stride=cfg.context_length,\n",
    "        num_workers=num_workers\n",
    "    )\n",
    "\n",
    "    train_loader = create_dataloader(\n",
    "        train_data, shuffle=True, drop_last=True, **common_pars\n",
    "    )\n",
    "    val_loader = create_dataloader(\n",
    "        val_data, shuffle=False, drop_last=False, **common_pars\n",
    "    )\n",
    "    return train_loader, val_loader\n",
    "\n",
    "def print_loader_shapes(loaders):\n",
    "    for name, loader in loaders.items():\n",
    "        print(f'{name.capitalize()} loader:')\n",
    "        for i, (x, y) in enumerate(loader, start=1):\n",
    "            print(f'Batch #{i}: x.shape={x.shape}, y.shape={y.shape}')\n",
    "        print()\n",
    "\n",
    "train_loader_, val_loader_ = build_loaders(text1, cfg_pt)\n",
    "print_loader_shapes({'train':train_loader_,\n",
    "                    'validation':val_loader_})\n",
    "\n",
    "train_loader, val_loader = build_loaders(text2, cfg_pt)"
   ],
   "id": "c4606df9fbc6668d",
   "outputs": [
    {
     "name": "stdout",
     "output_type": "stream",
     "text": [
      "Train loader:\n",
      "Batch #1: x.shape=torch.Size([4, 256]), y.shape=torch.Size([4, 256])\n",
      "Batch #2: x.shape=torch.Size([4, 256]), y.shape=torch.Size([4, 256])\n",
      "Batch #3: x.shape=torch.Size([4, 256]), y.shape=torch.Size([4, 256])\n",
      "Batch #4: x.shape=torch.Size([4, 256]), y.shape=torch.Size([4, 256])\n",
      "Batch #5: x.shape=torch.Size([4, 256]), y.shape=torch.Size([4, 256])\n",
      "Batch #6: x.shape=torch.Size([4, 256]), y.shape=torch.Size([4, 256])\n",
      "Batch #7: x.shape=torch.Size([4, 256]), y.shape=torch.Size([4, 256])\n",
      "Batch #8: x.shape=torch.Size([4, 256]), y.shape=torch.Size([4, 256])\n",
      "Batch #9: x.shape=torch.Size([4, 256]), y.shape=torch.Size([4, 256])\n",
      "Batch #10: x.shape=torch.Size([4, 256]), y.shape=torch.Size([4, 256])\n",
      "Batch #11: x.shape=torch.Size([4, 256]), y.shape=torch.Size([4, 256])\n",
      "Batch #12: x.shape=torch.Size([4, 256]), y.shape=torch.Size([4, 256])\n",
      "Batch #13: x.shape=torch.Size([4, 256]), y.shape=torch.Size([4, 256])\n",
      "Batch #14: x.shape=torch.Size([4, 256]), y.shape=torch.Size([4, 256])\n",
      "Batch #15: x.shape=torch.Size([4, 256]), y.shape=torch.Size([4, 256])\n",
      "Batch #16: x.shape=torch.Size([4, 256]), y.shape=torch.Size([4, 256])\n",
      "Batch #17: x.shape=torch.Size([4, 256]), y.shape=torch.Size([4, 256])\n",
      "Batch #18: x.shape=torch.Size([4, 256]), y.shape=torch.Size([4, 256])\n",
      "Batch #19: x.shape=torch.Size([4, 256]), y.shape=torch.Size([4, 256])\n",
      "Batch #20: x.shape=torch.Size([4, 256]), y.shape=torch.Size([4, 256])\n",
      "Batch #21: x.shape=torch.Size([4, 256]), y.shape=torch.Size([4, 256])\n",
      "Batch #22: x.shape=torch.Size([4, 256]), y.shape=torch.Size([4, 256])\n",
      "Batch #23: x.shape=torch.Size([4, 256]), y.shape=torch.Size([4, 256])\n",
      "Batch #24: x.shape=torch.Size([4, 256]), y.shape=torch.Size([4, 256])\n",
      "Batch #25: x.shape=torch.Size([4, 256]), y.shape=torch.Size([4, 256])\n",
      "Batch #26: x.shape=torch.Size([4, 256]), y.shape=torch.Size([4, 256])\n",
      "Batch #27: x.shape=torch.Size([4, 256]), y.shape=torch.Size([4, 256])\n",
      "Batch #28: x.shape=torch.Size([4, 256]), y.shape=torch.Size([4, 256])\n",
      "Batch #29: x.shape=torch.Size([4, 256]), y.shape=torch.Size([4, 256])\n",
      "Batch #30: x.shape=torch.Size([4, 256]), y.shape=torch.Size([4, 256])\n",
      "Batch #31: x.shape=torch.Size([4, 256]), y.shape=torch.Size([4, 256])\n",
      "Batch #32: x.shape=torch.Size([4, 256]), y.shape=torch.Size([4, 256])\n",
      "Batch #33: x.shape=torch.Size([4, 256]), y.shape=torch.Size([4, 256])\n",
      "Batch #34: x.shape=torch.Size([4, 256]), y.shape=torch.Size([4, 256])\n",
      "Batch #35: x.shape=torch.Size([4, 256]), y.shape=torch.Size([4, 256])\n",
      "Batch #36: x.shape=torch.Size([4, 256]), y.shape=torch.Size([4, 256])\n",
      "Batch #37: x.shape=torch.Size([4, 256]), y.shape=torch.Size([4, 256])\n",
      "Batch #38: x.shape=torch.Size([4, 256]), y.shape=torch.Size([4, 256])\n",
      "Batch #39: x.shape=torch.Size([4, 256]), y.shape=torch.Size([4, 256])\n",
      "Batch #40: x.shape=torch.Size([4, 256]), y.shape=torch.Size([4, 256])\n",
      "Batch #41: x.shape=torch.Size([4, 256]), y.shape=torch.Size([4, 256])\n",
      "Batch #42: x.shape=torch.Size([4, 256]), y.shape=torch.Size([4, 256])\n",
      "Batch #43: x.shape=torch.Size([4, 256]), y.shape=torch.Size([4, 256])\n",
      "Batch #44: x.shape=torch.Size([4, 256]), y.shape=torch.Size([4, 256])\n",
      "Batch #45: x.shape=torch.Size([4, 256]), y.shape=torch.Size([4, 256])\n",
      "Batch #46: x.shape=torch.Size([4, 256]), y.shape=torch.Size([4, 256])\n",
      "Batch #47: x.shape=torch.Size([4, 256]), y.shape=torch.Size([4, 256])\n",
      "Batch #48: x.shape=torch.Size([4, 256]), y.shape=torch.Size([4, 256])\n",
      "Batch #49: x.shape=torch.Size([4, 256]), y.shape=torch.Size([4, 256])\n",
      "Batch #50: x.shape=torch.Size([4, 256]), y.shape=torch.Size([4, 256])\n",
      "Batch #51: x.shape=torch.Size([4, 256]), y.shape=torch.Size([4, 256])\n",
      "Batch #52: x.shape=torch.Size([4, 256]), y.shape=torch.Size([4, 256])\n",
      "Batch #53: x.shape=torch.Size([4, 256]), y.shape=torch.Size([4, 256])\n",
      "Batch #54: x.shape=torch.Size([4, 256]), y.shape=torch.Size([4, 256])\n",
      "Batch #55: x.shape=torch.Size([4, 256]), y.shape=torch.Size([4, 256])\n",
      "Batch #56: x.shape=torch.Size([4, 256]), y.shape=torch.Size([4, 256])\n",
      "Batch #57: x.shape=torch.Size([4, 256]), y.shape=torch.Size([4, 256])\n",
      "Batch #58: x.shape=torch.Size([4, 256]), y.shape=torch.Size([4, 256])\n",
      "Batch #59: x.shape=torch.Size([4, 256]), y.shape=torch.Size([4, 256])\n",
      "Batch #60: x.shape=torch.Size([4, 256]), y.shape=torch.Size([4, 256])\n",
      "Batch #61: x.shape=torch.Size([4, 256]), y.shape=torch.Size([4, 256])\n",
      "Batch #62: x.shape=torch.Size([4, 256]), y.shape=torch.Size([4, 256])\n",
      "Batch #63: x.shape=torch.Size([4, 256]), y.shape=torch.Size([4, 256])\n",
      "Batch #64: x.shape=torch.Size([4, 256]), y.shape=torch.Size([4, 256])\n",
      "Batch #65: x.shape=torch.Size([4, 256]), y.shape=torch.Size([4, 256])\n",
      "Batch #66: x.shape=torch.Size([4, 256]), y.shape=torch.Size([4, 256])\n",
      "Batch #67: x.shape=torch.Size([4, 256]), y.shape=torch.Size([4, 256])\n",
      "Batch #68: x.shape=torch.Size([4, 256]), y.shape=torch.Size([4, 256])\n",
      "Batch #69: x.shape=torch.Size([4, 256]), y.shape=torch.Size([4, 256])\n",
      "Batch #70: x.shape=torch.Size([4, 256]), y.shape=torch.Size([4, 256])\n",
      "Batch #71: x.shape=torch.Size([4, 256]), y.shape=torch.Size([4, 256])\n",
      "Batch #72: x.shape=torch.Size([4, 256]), y.shape=torch.Size([4, 256])\n",
      "Batch #73: x.shape=torch.Size([4, 256]), y.shape=torch.Size([4, 256])\n",
      "Batch #74: x.shape=torch.Size([4, 256]), y.shape=torch.Size([4, 256])\n",
      "Batch #75: x.shape=torch.Size([4, 256]), y.shape=torch.Size([4, 256])\n",
      "Batch #76: x.shape=torch.Size([4, 256]), y.shape=torch.Size([4, 256])\n",
      "Batch #77: x.shape=torch.Size([4, 256]), y.shape=torch.Size([4, 256])\n",
      "Batch #78: x.shape=torch.Size([4, 256]), y.shape=torch.Size([4, 256])\n",
      "Batch #79: x.shape=torch.Size([4, 256]), y.shape=torch.Size([4, 256])\n",
      "Batch #80: x.shape=torch.Size([4, 256]), y.shape=torch.Size([4, 256])\n",
      "Batch #81: x.shape=torch.Size([4, 256]), y.shape=torch.Size([4, 256])\n",
      "Batch #82: x.shape=torch.Size([4, 256]), y.shape=torch.Size([4, 256])\n",
      "Batch #83: x.shape=torch.Size([4, 256]), y.shape=torch.Size([4, 256])\n",
      "Batch #84: x.shape=torch.Size([4, 256]), y.shape=torch.Size([4, 256])\n",
      "Batch #85: x.shape=torch.Size([4, 256]), y.shape=torch.Size([4, 256])\n",
      "Batch #86: x.shape=torch.Size([4, 256]), y.shape=torch.Size([4, 256])\n",
      "Batch #87: x.shape=torch.Size([4, 256]), y.shape=torch.Size([4, 256])\n",
      "Batch #88: x.shape=torch.Size([4, 256]), y.shape=torch.Size([4, 256])\n",
      "Batch #89: x.shape=torch.Size([4, 256]), y.shape=torch.Size([4, 256])\n",
      "Batch #90: x.shape=torch.Size([4, 256]), y.shape=torch.Size([4, 256])\n",
      "Batch #91: x.shape=torch.Size([4, 256]), y.shape=torch.Size([4, 256])\n",
      "Batch #92: x.shape=torch.Size([4, 256]), y.shape=torch.Size([4, 256])\n",
      "Batch #93: x.shape=torch.Size([4, 256]), y.shape=torch.Size([4, 256])\n",
      "Batch #94: x.shape=torch.Size([4, 256]), y.shape=torch.Size([4, 256])\n",
      "Batch #95: x.shape=torch.Size([4, 256]), y.shape=torch.Size([4, 256])\n",
      "Batch #96: x.shape=torch.Size([4, 256]), y.shape=torch.Size([4, 256])\n",
      "Batch #97: x.shape=torch.Size([4, 256]), y.shape=torch.Size([4, 256])\n",
      "Batch #98: x.shape=torch.Size([4, 256]), y.shape=torch.Size([4, 256])\n",
      "Batch #99: x.shape=torch.Size([4, 256]), y.shape=torch.Size([4, 256])\n",
      "Batch #100: x.shape=torch.Size([4, 256]), y.shape=torch.Size([4, 256])\n",
      "Batch #101: x.shape=torch.Size([4, 256]), y.shape=torch.Size([4, 256])\n",
      "Batch #102: x.shape=torch.Size([4, 256]), y.shape=torch.Size([4, 256])\n",
      "Batch #103: x.shape=torch.Size([4, 256]), y.shape=torch.Size([4, 256])\n",
      "Batch #104: x.shape=torch.Size([4, 256]), y.shape=torch.Size([4, 256])\n",
      "Batch #105: x.shape=torch.Size([4, 256]), y.shape=torch.Size([4, 256])\n",
      "Batch #106: x.shape=torch.Size([4, 256]), y.shape=torch.Size([4, 256])\n",
      "Batch #107: x.shape=torch.Size([4, 256]), y.shape=torch.Size([4, 256])\n",
      "Batch #108: x.shape=torch.Size([4, 256]), y.shape=torch.Size([4, 256])\n",
      "Batch #109: x.shape=torch.Size([4, 256]), y.shape=torch.Size([4, 256])\n",
      "Batch #110: x.shape=torch.Size([4, 256]), y.shape=torch.Size([4, 256])\n",
      "Batch #111: x.shape=torch.Size([4, 256]), y.shape=torch.Size([4, 256])\n",
      "Batch #112: x.shape=torch.Size([4, 256]), y.shape=torch.Size([4, 256])\n",
      "Batch #113: x.shape=torch.Size([4, 256]), y.shape=torch.Size([4, 256])\n",
      "Batch #114: x.shape=torch.Size([4, 256]), y.shape=torch.Size([4, 256])\n",
      "Batch #115: x.shape=torch.Size([4, 256]), y.shape=torch.Size([4, 256])\n",
      "Batch #116: x.shape=torch.Size([4, 256]), y.shape=torch.Size([4, 256])\n",
      "Batch #117: x.shape=torch.Size([4, 256]), y.shape=torch.Size([4, 256])\n",
      "Batch #118: x.shape=torch.Size([4, 256]), y.shape=torch.Size([4, 256])\n",
      "Batch #119: x.shape=torch.Size([4, 256]), y.shape=torch.Size([4, 256])\n",
      "Batch #120: x.shape=torch.Size([4, 256]), y.shape=torch.Size([4, 256])\n",
      "Batch #121: x.shape=torch.Size([4, 256]), y.shape=torch.Size([4, 256])\n",
      "Batch #122: x.shape=torch.Size([4, 256]), y.shape=torch.Size([4, 256])\n",
      "Batch #123: x.shape=torch.Size([4, 256]), y.shape=torch.Size([4, 256])\n",
      "Batch #124: x.shape=torch.Size([4, 256]), y.shape=torch.Size([4, 256])\n",
      "Batch #125: x.shape=torch.Size([4, 256]), y.shape=torch.Size([4, 256])\n",
      "Batch #126: x.shape=torch.Size([4, 256]), y.shape=torch.Size([4, 256])\n",
      "Batch #127: x.shape=torch.Size([4, 256]), y.shape=torch.Size([4, 256])\n",
      "Batch #128: x.shape=torch.Size([4, 256]), y.shape=torch.Size([4, 256])\n",
      "Batch #129: x.shape=torch.Size([4, 256]), y.shape=torch.Size([4, 256])\n",
      "Batch #130: x.shape=torch.Size([4, 256]), y.shape=torch.Size([4, 256])\n",
      "Batch #131: x.shape=torch.Size([4, 256]), y.shape=torch.Size([4, 256])\n",
      "Batch #132: x.shape=torch.Size([4, 256]), y.shape=torch.Size([4, 256])\n",
      "Batch #133: x.shape=torch.Size([4, 256]), y.shape=torch.Size([4, 256])\n",
      "Batch #134: x.shape=torch.Size([4, 256]), y.shape=torch.Size([4, 256])\n",
      "Batch #135: x.shape=torch.Size([4, 256]), y.shape=torch.Size([4, 256])\n",
      "Batch #136: x.shape=torch.Size([4, 256]), y.shape=torch.Size([4, 256])\n",
      "Batch #137: x.shape=torch.Size([4, 256]), y.shape=torch.Size([4, 256])\n",
      "Batch #138: x.shape=torch.Size([4, 256]), y.shape=torch.Size([4, 256])\n",
      "Batch #139: x.shape=torch.Size([4, 256]), y.shape=torch.Size([4, 256])\n",
      "Batch #140: x.shape=torch.Size([4, 256]), y.shape=torch.Size([4, 256])\n",
      "Batch #141: x.shape=torch.Size([4, 256]), y.shape=torch.Size([4, 256])\n",
      "Batch #142: x.shape=torch.Size([4, 256]), y.shape=torch.Size([4, 256])\n",
      "Batch #143: x.shape=torch.Size([4, 256]), y.shape=torch.Size([4, 256])\n",
      "Batch #144: x.shape=torch.Size([4, 256]), y.shape=torch.Size([4, 256])\n",
      "Batch #145: x.shape=torch.Size([4, 256]), y.shape=torch.Size([4, 256])\n",
      "Batch #146: x.shape=torch.Size([4, 256]), y.shape=torch.Size([4, 256])\n",
      "\n",
      "Validation loader:\n",
      "Batch #1: x.shape=torch.Size([4, 256]), y.shape=torch.Size([4, 256])\n",
      "Batch #2: x.shape=torch.Size([4, 256]), y.shape=torch.Size([4, 256])\n",
      "Batch #3: x.shape=torch.Size([4, 256]), y.shape=torch.Size([4, 256])\n",
      "Batch #4: x.shape=torch.Size([4, 256]), y.shape=torch.Size([4, 256])\n",
      "Batch #5: x.shape=torch.Size([4, 256]), y.shape=torch.Size([4, 256])\n",
      "Batch #6: x.shape=torch.Size([4, 256]), y.shape=torch.Size([4, 256])\n",
      "Batch #7: x.shape=torch.Size([4, 256]), y.shape=torch.Size([4, 256])\n",
      "Batch #8: x.shape=torch.Size([4, 256]), y.shape=torch.Size([4, 256])\n",
      "Batch #9: x.shape=torch.Size([4, 256]), y.shape=torch.Size([4, 256])\n",
      "Batch #10: x.shape=torch.Size([4, 256]), y.shape=torch.Size([4, 256])\n",
      "Batch #11: x.shape=torch.Size([4, 256]), y.shape=torch.Size([4, 256])\n",
      "Batch #12: x.shape=torch.Size([4, 256]), y.shape=torch.Size([4, 256])\n",
      "Batch #13: x.shape=torch.Size([4, 256]), y.shape=torch.Size([4, 256])\n",
      "Batch #14: x.shape=torch.Size([4, 256]), y.shape=torch.Size([4, 256])\n",
      "Batch #15: x.shape=torch.Size([4, 256]), y.shape=torch.Size([4, 256])\n",
      "Batch #16: x.shape=torch.Size([4, 256]), y.shape=torch.Size([4, 256])\n",
      "Batch #17: x.shape=torch.Size([4, 256]), y.shape=torch.Size([4, 256])\n",
      "Batch #18: x.shape=torch.Size([4, 256]), y.shape=torch.Size([4, 256])\n",
      "Batch #19: x.shape=torch.Size([4, 256]), y.shape=torch.Size([4, 256])\n",
      "Batch #20: x.shape=torch.Size([4, 256]), y.shape=torch.Size([4, 256])\n",
      "Batch #21: x.shape=torch.Size([4, 256]), y.shape=torch.Size([4, 256])\n",
      "Batch #22: x.shape=torch.Size([4, 256]), y.shape=torch.Size([4, 256])\n",
      "Batch #23: x.shape=torch.Size([4, 256]), y.shape=torch.Size([4, 256])\n",
      "Batch #24: x.shape=torch.Size([4, 256]), y.shape=torch.Size([4, 256])\n",
      "Batch #25: x.shape=torch.Size([4, 256]), y.shape=torch.Size([4, 256])\n",
      "Batch #26: x.shape=torch.Size([2, 256]), y.shape=torch.Size([2, 256])\n",
      "\n"
     ]
    }
   ],
   "execution_count": 16
  },
  {
   "metadata": {},
   "cell_type": "markdown",
   "source": [
    "As can be seen in the output above, for Pride and Prejudice, a 85/15 training/validation split yields 146 training batches, with 4 samples and 256 tokens each. We also have 26 validation batches, also consisting of 4 examples and 256 tokens each. Note also that the input x and target y are of the same shape (since the targets are just the inputs shifted by a single position). Let's now calculate the cross-entropy loss for a given batch.\n",
    "\n",
    "From this point onwards, we will use \"The Awakening, and Selected Short Stories\" by Kate Chopin, simply due to the fact that my computer can't train this model on a corpus as big as \"Pride and Prejudice\" at a convenient speed."
   ],
   "id": "32eef47e4f0e0db1"
  },
  {
   "metadata": {
    "ExecuteTime": {
     "end_time": "2025-06-26T10:23:35.442841Z",
     "start_time": "2025-06-26T10:23:17.665533Z"
    }
   },
   "cell_type": "code",
   "source": [
    "def calc_loss_cross_entropy(logits, target):\n",
    "    \"\"\"\n",
    "    logits.shape == (batch_size, sequence_length, vocab_size)\n",
    "    targets.shape == (batch_size, sequence_length)\n",
    "    \"\"\"\n",
    "    flat_logits = logits.flatten(0, 1) #(batch_size*seq_len, vocab)\n",
    "    flat_targets = target.flatten(0) #(batch_size*seq_len)\n",
    "    return torch.nn.functional.cross_entropy(flat_logits, flat_targets)\n",
    "\n",
    "\n",
    "def eval_loss(data_loader, model, device, max_batches=None):\n",
    "    \"\"\"\n",
    "    run model.eval() and return average cross-entropy loss over up to max_batches(optional)\n",
    "    :param data_loader:\n",
    "    :param model:\n",
    "    :param device:\n",
    "    :param max_batches:\n",
    "    :return:\n",
    "    \"\"\"\n",
    "    model.eval()\n",
    "    total, count = 0.0, 0\n",
    "    with torch.no_grad():\n",
    "        for i, (x, y) in enumerate(data_loader):\n",
    "            if max_batches is not None and i >= max_batches:\n",
    "                break\n",
    "            x, y = x.to(device), y.to(device)\n",
    "            logits = model(x)\n",
    "            total += calc_loss_cross_entropy(logits, y).item()\n",
    "            count += 1\n",
    "    return float('nan') if count == 0 else total / count\n",
    "\n",
    "device = torch.device('cuda' if torch.cuda.is_available() else 'cpu')\n",
    "model.to(device)\n",
    "train_loss = eval_loss(train_loader, model, device)\n",
    "val_loss = eval_loss(val_loader, model, device)\n",
    "print(f\"Train loss: {train_loss}\")\n",
    "print(f\"Valid loss: {val_loss}\")"
   ],
   "id": "2a34e096dc01deaa",
   "outputs": [
    {
     "name": "stdout",
     "output_type": "stream",
     "text": [
      "Train loss: 10.968981901804606\n",
      "Valid loss: 10.977005958557129\n"
     ]
    }
   ],
   "execution_count": 17
  },
  {
   "metadata": {
    "ExecuteTime": {
     "end_time": "2025-06-26T10:23:37.789967Z",
     "start_time": "2025-06-26T10:23:37.785402Z"
    }
   },
   "cell_type": "code",
   "source": [
    "print(f'Training perplexity: {torch.exp(torch.tensor(train_loss))}')\n",
    "print(f'Validation perplexity: {torch.exp(torch.tensor(val_loss))}')"
   ],
   "id": "a5df813d6002d5a3",
   "outputs": [
    {
     "name": "stdout",
     "output_type": "stream",
     "text": [
      "Training perplexity: 58045.45703125\n",
      "Validation perplexity: 58513.1015625\n"
     ]
    }
   ],
   "execution_count": 18
  },
  {
   "metadata": {},
   "cell_type": "markdown",
   "source": "As shown above, the loss values are very high, reflecting the fact that the model has not been trained. At least we now have a way to measure the quality of the text that is generated, and can now proceed to methodologicaly train the LLM to reduce this loss and improve our model!",
   "id": "d2a9e276ee7f5375"
  },
  {
   "metadata": {
    "ExecuteTime": {
     "end_time": "2025-06-26T10:23:55.146684Z",
     "start_time": "2025-06-26T10:23:55.044906Z"
    }
   },
   "cell_type": "code",
   "source": [
    "import time\n",
    "from tqdm.auto import tqdm\n",
    "\n",
    "def eval_losses(model, loaders, device, max_batches):\n",
    "    model.eval()\n",
    "    losses = {}\n",
    "    with torch.no_grad():\n",
    "        for split, loader in loaders.items():\n",
    "            losses[split] = eval_loss(loader, model, device, max_batches)\n",
    "    model.train()\n",
    "    return losses\n",
    "\n",
    "def generate_sample(model, tokenizer, device, prompt):\n",
    "    model.eval()\n",
    "    context_size = model.pos_emb.weight.shape[0]\n",
    "    input_ids = text_to_token_ids(prompt, tokenizer, allowed_special=None).to(device)\n",
    "    with torch.no_grad():\n",
    "        output_ids = generate_text(model=model, idx=input_ids, max_new_tokens=50, context_size=context_size)\n",
    "    text = token_ids_to_text(output_ids, tokenizer).replace(\"\\n\", \" \")\n",
    "    print(text)\n",
    "    model.train()\n",
    "\n",
    "def train_model(model, train_loader, val_loader,\n",
    "                optimizer, device, num_epochs,\n",
    "                eval_freq, eval_iter, sample_prompt, tokenizer):\n",
    "    history = {\n",
    "        \"steps\": [],\n",
    "        \"train_loss\": [],\n",
    "        \"val_loss\": []\n",
    "    }\n",
    "    model.to(device)\n",
    "    global_step = 0\n",
    "    tokens_seen = 0\n",
    "\n",
    "    for epoch in range(1, num_epochs + 1):\n",
    "        model.train()\n",
    "        epoch_start = time.time()\n",
    "        pbar = tqdm(train_loader, desc=f'Epoch {epoch}/{num_epochs}')\n",
    "        for x,y in pbar:\n",
    "            global_step += 1\n",
    "            x = x.to(device)\n",
    "            y = y.to(device)\n",
    "            optimizer.zero_grad()\n",
    "            logits = model(x)\n",
    "            loss = calc_loss_cross_entropy(logits, y)\n",
    "            loss.backward()\n",
    "            optimizer.step()\n",
    "            tokens_seen += x.numel()\n",
    "            pbar.set_postfix(loss=loss.item())\n",
    "\n",
    "            #periodic evaluation\n",
    "            if global_step % eval_freq == 0:\n",
    "                #train_l = eval_loss(train_loader, model, device, max_batches=eval_iter)\n",
    "                #val_l = eval_loss(val_loader, model, device, max_batches=eval_iter)\n",
    "                losses = eval_losses(\n",
    "                    model,\n",
    "                    {'train': train_loader, 'val': val_loader},\n",
    "                    device,\n",
    "                    eval_iter\n",
    "                )\n",
    "                history['steps'].append(global_step)\n",
    "                history['train_loss'].append(losses['train'])\n",
    "                history['val_loss'].append(losses['val'])\n",
    "                print(f'[Step {global_step}], Train CE={losses[\"train\"]}, Val CE={losses[\"val\"]}, Tokens seen={tokens_seen}')\n",
    "\n",
    "                if sample_prompt and tokenizer:\n",
    "                    print(\"--> Sample generation:\")\n",
    "                    generate_sample(model, tokenizer, device, sample_prompt)\n",
    "\n",
    "        epoch_time = time.time() - epoch_start\n",
    "        print(f'Epoch {epoch} done in {epoch_time} seconds')\n",
    "    return history"
   ],
   "id": "ab1bcef6d4a441e2",
   "outputs": [],
   "execution_count": 19
  },
  {
   "metadata": {
    "ExecuteTime": {
     "end_time": "2025-06-26T10:40:03.106426Z",
     "start_time": "2025-06-26T10:24:12.378422Z"
    }
   },
   "cell_type": "code",
   "source": [
    "optimizer = torch.optim.AdamW(model.parameters(), lr=0.0004, weight_decay=0.1)\n",
    "num_epochs = 10\n",
    "torch.manual_seed(123)\n",
    "\n",
    "history = train_model(model, train_loader, val_loader,\n",
    "                      optimizer, device=device, num_epochs=num_epochs,\n",
    "                      eval_freq = 5, eval_iter =5, sample_prompt=\"A man once told me\",\n",
    "                      tokenizer=tokenizer)"
   ],
   "id": "b5750b2c029ce76d",
   "outputs": [
    {
     "data": {
      "text/plain": [
       "Epoch 1/10:   0%|          | 0/12 [00:00<?, ?it/s]"
      ],
      "application/vnd.jupyter.widget-view+json": {
       "version_major": 2,
       "version_minor": 0,
       "model_id": "53c27c2eca13465aa4bd549f7a29c123"
      }
     },
     "metadata": {},
     "output_type": "display_data"
    },
    {
     "name": "stdout",
     "output_type": "stream",
     "text": [
      "[Step 5], Train CE=8.309198570251464, Val CE=8.452423572540283, Tokens seen=5120\n",
      "--> Sample generation:\n",
      "A man once told me                                                  \n",
      "[Step 10], Train CE=7.027612686157227, Val CE=7.448489189147949, Tokens seen=10240\n",
      "--> Sample generation:\n",
      "A man once told me   the    .  the .   the   . . .    . .  the   the  . . . .  . . \n",
      "Epoch 1 done in 84.77727198600769 seconds\n"
     ]
    },
    {
     "data": {
      "text/plain": [
       "Epoch 2/10:   0%|          | 0/12 [00:00<?, ?it/s]"
      ],
      "application/vnd.jupyter.widget-view+json": {
       "version_major": 2,
       "version_minor": 0,
       "model_id": "2247d7f897904d2ea2af891bd4ff039f"
      }
     },
     "metadata": {},
     "output_type": "display_data"
    },
    {
     "name": "stdout",
     "output_type": "stream",
     "text": [
      "[Step 15], Train CE=6.367326068878174, Val CE=7.149468660354614, Tokens seen=15360\n",
      "--> Sample generation:\n",
      "A man once told me,,,,, ,,,,,,,,,,, , ,,,,, ,,,,,,,,,, ,,,,,,,,,,,,,\n",
      "[Step 20], Train CE=6.129155921936035, Val CE=7.116095781326294, Tokens seen=20480\n",
      "--> Sample generation:\n",
      "A man once told me. ” ” ” ” ” ” ” ” ” ” ” ” ” ” ” ” \n",
      "Epoch 2 done in 86.52623295783997 seconds\n"
     ]
    },
    {
     "data": {
      "text/plain": [
       "Epoch 3/10:   0%|          | 0/12 [00:00<?, ?it/s]"
      ],
      "application/vnd.jupyter.widget-view+json": {
       "version_major": 2,
       "version_minor": 0,
       "model_id": "277ee0d01104441492a7e8d782d55808"
      }
     },
     "metadata": {},
     "output_type": "display_data"
    },
    {
     "name": "stdout",
     "output_type": "stream",
     "text": [
      "[Step 25], Train CE=6.027635002136231, Val CE=7.109153985977173, Tokens seen=25600\n",
      "--> Sample generation:\n",
      "A man once told me not of the ” ” ” ” ” ” ” ” ” ” ” ” ” ” ” �\n",
      "[Step 30], Train CE=5.83676700592041, Val CE=6.97314190864563, Tokens seen=30720\n",
      "--> Sample generation:\n",
      "A man once told me a�s, and ’s, and ’s. ’s. ’s ’s. ’s ’s ’s, and ’s. \n",
      "[Step 35], Train CE=5.6542943000793455, Val CE=6.992058038711548, Tokens seen=35840\n",
      "--> Sample generation:\n",
      "A man once told me, and “. “, “. “ “. “. “. “ “, “. “. “, �\n",
      "Epoch 3 done in 95.70136499404907 seconds\n"
     ]
    },
    {
     "data": {
      "text/plain": [
       "Epoch 4/10:   0%|          | 0/12 [00:00<?, ?it/s]"
      ],
      "application/vnd.jupyter.widget-view+json": {
       "version_major": 2,
       "version_minor": 0,
       "model_id": "10517f6a056d4d1ab3456dde4db5e833"
      }
     },
     "metadata": {},
     "output_type": "display_data"
    },
    {
     "name": "stdout",
     "output_type": "stream",
     "text": [
      "[Step 40], Train CE=5.554998588562012, Val CE=6.863613843917847, Tokens seen=40960\n",
      "--> Sample generation:\n",
      "A man once told me, and the� ” ” ” ” ” ” ” ” The,” ” ” The. The,” ” \n",
      "[Step 45], Train CE=5.353566455841064, Val CE=6.839764833450317, Tokens seen=46080\n",
      "--> Sample generation:\n",
      "A man once told me the the� the�the�the�the. ” ” ” ” ” the�the�the�the�I. ” ” ” �\n",
      "Epoch 4 done in 85.95432496070862 seconds\n"
     ]
    },
    {
     "data": {
      "text/plain": [
       "Epoch 5/10:   0%|          | 0/12 [00:00<?, ?it/s]"
      ],
      "application/vnd.jupyter.widget-view+json": {
       "version_major": 2,
       "version_minor": 0,
       "model_id": "6ca8131de56d49fa8e229a8eb69f0166"
      }
     },
     "metadata": {},
     "output_type": "display_data"
    },
    {
     "name": "stdout",
     "output_type": "stream",
     "text": [
      "[Step 50], Train CE=5.10678186416626, Val CE=6.793543577194214, Tokens seen=51200\n",
      "--> Sample generation:\n",
      "A man once told me ’s. She was not ’s. ’s. She was a little. ’s ’s. ’s. She was not to be. She was not ’s\n",
      "[Step 55], Train CE=4.719817352294922, Val CE=6.7424156665802, Tokens seen=56320\n",
      "--> Sample generation:\n",
      "A man once told me ” ” ” ” ” ” “I,” ” ” ” ” ” ” ” ” \n",
      "[Step 60], Train CE=4.588306331634522, Val CE=6.721781253814697, Tokens seen=61440\n",
      "--> Sample generation:\n",
      "A man once told me ” she had been. ” ” ” ” ” ” ” ” ” ” ” ” ” ” \n",
      "Epoch 5 done in 97.6606171131134 seconds\n"
     ]
    },
    {
     "data": {
      "text/plain": [
       "Epoch 6/10:   0%|          | 0/12 [00:00<?, ?it/s]"
      ],
      "application/vnd.jupyter.widget-view+json": {
       "version_major": 2,
       "version_minor": 0,
       "model_id": "ae3611c0fac048dd95b669302784497f"
      }
     },
     "metadata": {},
     "output_type": "display_data"
    },
    {
     "name": "stdout",
     "output_type": "stream",
     "text": [
      "[Step 65], Train CE=4.261789131164551, Val CE=6.697128534317017, Tokens seen=66560\n",
      "--> Sample generation:\n",
      "A man once told me to be of her husband of the The her to her, and The The the The to the The her. The it, and The to have been. ” he had been. Theame Ratign\n",
      "[Step 70], Train CE=4.066030645370484, Val CE=6.708984136581421, Tokens seen=71680\n",
      "--> Sample generation:\n",
      "A man once told me ” ” ” “I” “Oh!“Oh!“You. “You” “Oh!” he had been. ” �\n",
      "Epoch 6 done in 97.59735989570618 seconds\n"
     ]
    },
    {
     "data": {
      "text/plain": [
       "Epoch 7/10:   0%|          | 0/12 [00:00<?, ?it/s]"
      ],
      "application/vnd.jupyter.widget-view+json": {
       "version_major": 2,
       "version_minor": 0,
       "model_id": "4a4b9ac1be194213bb73b776e44dd7e8"
      }
     },
     "metadata": {},
     "output_type": "display_data"
    },
    {
     "name": "stdout",
     "output_type": "stream",
     "text": [
      "[Step 75], Train CE=3.8003741264343263, Val CE=6.69318413734436, Tokens seen=76800\n",
      "--> Sample generation:\n",
      "A man once told me a little, and a little Pontellier, and The in the the the�I was a little of her husband. Madame Ratignolle of the ’s. Madame Ratignolle\n",
      "[Step 80], Train CE=3.5235167026519774, Val CE=6.7130677700042725, Tokens seen=81920\n",
      "--> Sample generation:\n",
      "A man once told me to be to be the Mrs. ” he had no to the ” he had to the ” he had been the ” he had been a little. Pontellier” ” he was the\n",
      "Epoch 7 done in 109.80661797523499 seconds\n"
     ]
    },
    {
     "data": {
      "text/plain": [
       "Epoch 8/10:   0%|          | 0/12 [00:00<?, ?it/s]"
      ],
      "application/vnd.jupyter.widget-view+json": {
       "version_major": 2,
       "version_minor": 0,
       "model_id": "97029bcdf2fc47429442074201bf0091"
      }
     },
     "metadata": {},
     "output_type": "display_data"
    },
    {
     "name": "stdout",
     "output_type": "stream",
     "text": [
      "[Step 85], Train CE=3.2931046009063722, Val CE=6.726224899291992, Tokens seen=87040\n",
      "--> Sample generation:\n",
      "A man once told me a little, and ” ” he had been a little which he,” “I,” ” ” ” he had a little, and Mrs. “I as he\n",
      "[Step 90], Train CE=2.9987207412719727, Val CE=6.757592678070068, Tokens seen=92160\n",
      "--> Sample generation:\n",
      "A man once told me a little, and The. She was a little her. ’s. She was a little ’s. ’s ” ’s. Pontellier was a little Pontellier was not\n",
      "[Step 95], Train CE=2.793243885040283, Val CE=6.777418613433838, Tokens seen=97280\n",
      "--> Sample generation:\n",
      "A man once told me a ’t she was not ’s,’s face with the ’s ’s ’t she had not ’s hotel. ’s, who were not you—\n",
      "Epoch 8 done in 114.51538896560669 seconds\n"
     ]
    },
    {
     "data": {
      "text/plain": [
       "Epoch 9/10:   0%|          | 0/12 [00:00<?, ?it/s]"
      ],
      "application/vnd.jupyter.widget-view+json": {
       "version_major": 2,
       "version_minor": 0,
       "model_id": "94d4cc4647b44c7ba68ea38ae88b13cc"
      }
     },
     "metadata": {},
     "output_type": "display_data"
    },
    {
     "name": "stdout",
     "output_type": "stream",
     "text": [
      "[Step 100], Train CE=2.4544746398925783, Val CE=6.811871528625488, Tokens seen=102400\n",
      "--> Sample generation:\n",
      "A man once told me a little, and to her. ” he had no resemblance more ” he had been a little Pontellier” asked Madame Ratignolle,” ” he was a little Pontellier”\n",
      "[Step 105], Train CE=2.2206704139709474, Val CE=6.825439214706421, Tokens seen=107520\n",
      "--> Sample generation:\n",
      "A man once told me to be and an exclamation of disgust of the and the water. The sunshade one of the water. Pontellier was not a little the other her without causing any outward show. Pontellier was not her and\n",
      "Epoch 9 done in 84.30896210670471 seconds\n"
     ]
    },
    {
     "data": {
      "text/plain": [
       "Epoch 10/10:   0%|          | 0/12 [00:00<?, ?it/s]"
      ],
      "application/vnd.jupyter.widget-view+json": {
       "version_major": 2,
       "version_minor": 0,
       "model_id": "b5118461df534d6a940d3f4153b3d8bf"
      }
     },
     "metadata": {},
     "output_type": "display_data"
    },
    {
     "name": "stdout",
     "output_type": "stream",
     "text": [
      "[Step 110], Train CE=1.8912892103195191, Val CE=6.832320928573608, Tokens seen=112640\n",
      "--> Sample generation:\n",
      "A man once told me to her eyes. Mrs. The ” he had a little you are not it ” he,” he had a littlei!” he was the ” Madame Lebrun” he had\n",
      "[Step 115], Train CE=1.8798511981964112, Val CE=6.919293642044067, Tokens seen=117760\n",
      "--> Sample generation:\n",
      "A man once told me a bitter the direction to her. “the, but she had been. “bridges” he would sometimes ” he was not “It isn’t pleasant to have a woman tell you—\n",
      "[Step 120], Train CE=1.476978349685669, Val CE=6.958118677139282, Tokens seen=122880\n",
      "--> Sample generation:\n",
      "A man once told me a little, and pressed his suit with a fellow. The Project Gutenberg eBook of the other as the water. The walk to the sea. The young man and The two of the water into fro. Pontellier was very fond\n",
      "Epoch 10 done in 92.0323212146759 seconds\n"
     ]
    }
   ],
   "execution_count": 20
  },
  {
   "metadata": {
    "ExecuteTime": {
     "end_time": "2025-06-26T10:40:28.457676Z",
     "start_time": "2025-06-26T10:40:28.128304Z"
    }
   },
   "cell_type": "code",
   "source": [
    "import matplotlib.pyplot as plt\n",
    "import numpy as np\n",
    "\n",
    "best_val_loss_step = history['steps'][np.argmin(history['val_loss'])]\n",
    "best_val_loss = min(history['val_loss'])\n",
    "\n",
    "fig, ax1 = plt.subplots(figsize=(12, 6))\n",
    "plt.style.use('seaborn-v0_8-whitegrid')\n",
    "color = 'tab:blue'\n",
    "ax1.set_xlabel('Training steps')\n",
    "ax1.set_ylabel('Loss (Cross-Entropy)', color=color)\n",
    "ax1.plot(history['steps'],history['train_loss'],color=color, linestyle='-', label='Training loss')\n",
    "ax1.plot(history['steps'],history['val_loss'],color=color, linestyle='--', label='Validation loss')\n",
    "ax1.tick_params(axis='y', labelcolor=color)\n",
    "ax1.legend(loc='upper left')\n",
    "\n",
    "# Annotate the best validation loss\n",
    "ax1.annotate(f'Best Val Loss: {best_val_loss:.3f}',\n",
    "             xy=(best_val_loss_step, best_val_loss),\n",
    "             xytext=(best_val_loss_step, best_val_loss + 0.2),\n",
    "             arrowprops=dict(facecolor='black', shrink=0.05, width=1, headwidth=8),\n",
    "             ha='center')\n",
    "ax1.scatter(best_val_loss_step, best_val_loss, s=100, facecolors='none', edgecolors='r', zorder=5)\n",
    "\n",
    "plt.title('Training and validation loss')\n",
    "fig.tight_layout()\n",
    "plt.show()\n",
    "\n"
   ],
   "id": "9379993f6c23bc1",
   "outputs": [
    {
     "data": {
      "text/plain": [
       "<Figure size 1200x600 with 1 Axes>"
      ],
      "image/png": "[encoded data removed]"
     },
     "metadata": {},
     "output_type": "display_data"
    }
   ],
   "execution_count": 21
  },
  {
   "metadata": {
    "ExecuteTime": {
     "end_time": "2025-06-26T10:40:47.349169Z",
     "start_time": "2025-06-26T10:40:45.883982Z"
    }
   },
   "cell_type": "code",
   "source": "torch.save(model.state_dict(), 'model.pth')",
   "id": "ee3c1be544764a3d",
   "outputs": [],
   "execution_count": 22
  },
  {
   "metadata": {},
   "cell_type": "markdown",
   "source": [
    "The most important conclusion from this training run is that our model is severely overfitting the training data. While it is successfully learning (see the training loss going down monotonically), it seems to be learning to memorize our small training corpus rather than generalizing the rules of the English language (see the validation loss quickly plateauing and diverging from the training loss). The growing chasm between the training and validation loss curves represent the model's failure to generalize. It is becoming an expert on a book it has read a thousand times, but is increasingly unable to write a new one.\n",
    "\n",
    "Another way to think about is that there is a fundamental mismatch between model capacity and data volume. Our model is too powerful for the tiny dataset (~1000 lines), and it has so many parameters that it can just take the easier path of simply memorizing the entire dataset. To improve training, we could:\n",
    "\n",
    "- **Drastically increase dataset size.** Our corpus is perhaps better suited for a simple n-gram model, but trivial for a LLM. Indeed, it is common to use datasets 1000x larger or more.\n",
    "- **Implement early stopping**, since our validation loss fails to improve after step ~75.\n",
    "- **Strengthen regularization** through more dropout, weight decay, etc."
   ],
   "id": "60c1bd7e201d63b9"
  },
  {
   "metadata": {},
   "cell_type": "code",
   "outputs": [],
   "execution_count": null,
   "source": "",
   "id": "1432a4b3482fa246"
  }
 ],
 "metadata": {
  "kernelspec": {
   "display_name": "Python 3",
   "language": "python",
   "name": "python3"
  },
  "language_info": {
   "codemirror_mode": {
    "name": "ipython",
    "version": 2
   },
   "file_extension": ".py",
   "mimetype": "text/x-python",
   "name": "python",
   "nbconvert_exporter": "python",
   "pygments_lexer": "ipython2",
   "version": "2.7.6"
  }
 },
 "nbformat": 4,
 "nbformat_minor": 5
}
