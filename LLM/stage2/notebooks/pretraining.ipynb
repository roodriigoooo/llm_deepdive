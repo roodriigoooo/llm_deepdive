{
 "cells": [
  {
   "metadata": {
    "collapsed": true,
    "ExecuteTime": {
     "end_time": "2025-06-28T17:39:57.527176Z",
     "start_time": "2025-06-28T17:39:53.021125Z"
    }
   },
   "cell_type": "code",
   "source": [
    "import torch\n",
    "import os, sys\n",
    "import tiktoken\n",
    "import dataclasses\n",
    "\n",
    "project_root = os.path.abspath(\n",
    "    os.path.join(os.getcwd(), os.pardir, os.pardir)\n",
    ")\n",
    "\n",
    "stage1_root = os.path.join(project_root, \"stage1\")\n",
    "sys.path.insert(0, stage1_root)\n",
    "\n",
    "from src.gpt2small import GPTModel, GPTConfig124, generate_text\n"
   ],
   "id": "initial_id",
   "outputs": [
    {
     "name": "stdout",
     "output_type": "stream",
     "text": [
      "encoded: [32, 582, 1297, 502]\n",
      "encoded_tensor: torch.Size([1, 4])\n",
      "output: tensor([[   32,   582,  1297,   502, 24106, 40901, 46947, 45439, 41121, 10983,\n",
      "         37408, 33219, 13597,   384, 41274, 27228, 32767,   972, 16051,  1462,\n",
      "          6565, 26531, 19694, 30470]])\n",
      "output length: 24\n",
      "A man told me accumulation thumbnail Flask 406 propensity Hat lush Tulsolk se pandemonium 179 Hutement acresto emptyDa ISOetsu\n"
     ]
    }
   ],
   "execution_count": 1
  },
  {
   "metadata": {
    "ExecuteTime": {
     "end_time": "2025-06-28T17:40:02.694104Z",
     "start_time": "2025-06-28T17:40:01.288803Z"
    }
   },
   "cell_type": "code",
   "source": [
    "cfg_pt = GPTConfig124()\n",
    "print(dataclasses.asdict(cfg_pt))\n",
    "torch.manual_seed(123)\n",
    "model = GPTModel(cfg_pt)\n",
    "model.eval()"
   ],
   "id": "6aee549c14b1461",
   "outputs": [
    {
     "name": "stdout",
     "output_type": "stream",
     "text": [
      "{'vocab_size': 50257, 'context_length': 256, 'emb_dim': 768, 'n_heads': 12, 'n_layers': 12, 'dropout': 0.1, 'qkv_bias': False}\n"
     ]
    },
    {
     "data": {
      "text/plain": [
       "GPTModel(\n",
       "  (tok_emb): Embedding(50257, 768)\n",
       "  (pos_emb): Embedding(256, 768)\n",
       "  (drop_emb): Dropout(p=0.1, inplace=False)\n",
       "  (trf_blocks): Sequential(\n",
       "    (0): TransformerBlock(\n",
       "      (att): MultiHeadAttention(\n",
       "        (W_q): Linear(in_features=768, out_features=768, bias=False)\n",
       "        (W_k): Linear(in_features=768, out_features=768, bias=False)\n",
       "        (W_v): Linear(in_features=768, out_features=768, bias=False)\n",
       "        (dropout): Dropout(p=0.1, inplace=False)\n",
       "        (out_proj): Linear(in_features=768, out_features=768, bias=True)\n",
       "      )\n",
       "      (ff): FeedForward(\n",
       "        (layers): Sequential(\n",
       "          (0): Linear(in_features=768, out_features=3072, bias=True)\n",
       "          (1): GELU()\n",
       "          (2): Linear(in_features=3072, out_features=768, bias=True)\n",
       "        )\n",
       "      )\n",
       "      (norm1): LayerNorm()\n",
       "      (norm2): LayerNorm()\n",
       "      (drop_shortcut): Dropout(p=0.1, inplace=False)\n",
       "    )\n",
       "    (1): TransformerBlock(\n",
       "      (att): MultiHeadAttention(\n",
       "        (W_q): Linear(in_features=768, out_features=768, bias=False)\n",
       "        (W_k): Linear(in_features=768, out_features=768, bias=False)\n",
       "        (W_v): Linear(in_features=768, out_features=768, bias=False)\n",
       "        (dropout): Dropout(p=0.1, inplace=False)\n",
       "        (out_proj): Linear(in_features=768, out_features=768, bias=True)\n",
       "      )\n",
       "      (ff): FeedForward(\n",
       "        (layers): Sequential(\n",
       "          (0): Linear(in_features=768, out_features=3072, bias=True)\n",
       "          (1): GELU()\n",
       "          (2): Linear(in_features=3072, out_features=768, bias=True)\n",
       "        )\n",
       "      )\n",
       "      (norm1): LayerNorm()\n",
       "      (norm2): LayerNorm()\n",
       "      (drop_shortcut): Dropout(p=0.1, inplace=False)\n",
       "    )\n",
       "    (2): TransformerBlock(\n",
       "      (att): MultiHeadAttention(\n",
       "        (W_q): Linear(in_features=768, out_features=768, bias=False)\n",
       "        (W_k): Linear(in_features=768, out_features=768, bias=False)\n",
       "        (W_v): Linear(in_features=768, out_features=768, bias=False)\n",
       "        (dropout): Dropout(p=0.1, inplace=False)\n",
       "        (out_proj): Linear(in_features=768, out_features=768, bias=True)\n",
       "      )\n",
       "      (ff): FeedForward(\n",
       "        (layers): Sequential(\n",
       "          (0): Linear(in_features=768, out_features=3072, bias=True)\n",
       "          (1): GELU()\n",
       "          (2): Linear(in_features=3072, out_features=768, bias=True)\n",
       "        )\n",
       "      )\n",
       "      (norm1): LayerNorm()\n",
       "      (norm2): LayerNorm()\n",
       "      (drop_shortcut): Dropout(p=0.1, inplace=False)\n",
       "    )\n",
       "    (3): TransformerBlock(\n",
       "      (att): MultiHeadAttention(\n",
       "        (W_q): Linear(in_features=768, out_features=768, bias=False)\n",
       "        (W_k): Linear(in_features=768, out_features=768, bias=False)\n",
       "        (W_v): Linear(in_features=768, out_features=768, bias=False)\n",
       "        (dropout): Dropout(p=0.1, inplace=False)\n",
       "        (out_proj): Linear(in_features=768, out_features=768, bias=True)\n",
       "      )\n",
       "      (ff): FeedForward(\n",
       "        (layers): Sequential(\n",
       "          (0): Linear(in_features=768, out_features=3072, bias=True)\n",
       "          (1): GELU()\n",
       "          (2): Linear(in_features=3072, out_features=768, bias=True)\n",
       "        )\n",
       "      )\n",
       "      (norm1): LayerNorm()\n",
       "      (norm2): LayerNorm()\n",
       "      (drop_shortcut): Dropout(p=0.1, inplace=False)\n",
       "    )\n",
       "    (4): TransformerBlock(\n",
       "      (att): MultiHeadAttention(\n",
       "        (W_q): Linear(in_features=768, out_features=768, bias=False)\n",
       "        (W_k): Linear(in_features=768, out_features=768, bias=False)\n",
       "        (W_v): Linear(in_features=768, out_features=768, bias=False)\n",
       "        (dropout): Dropout(p=0.1, inplace=False)\n",
       "        (out_proj): Linear(in_features=768, out_features=768, bias=True)\n",
       "      )\n",
       "      (ff): FeedForward(\n",
       "        (layers): Sequential(\n",
       "          (0): Linear(in_features=768, out_features=3072, bias=True)\n",
       "          (1): GELU()\n",
       "          (2): Linear(in_features=3072, out_features=768, bias=True)\n",
       "        )\n",
       "      )\n",
       "      (norm1): LayerNorm()\n",
       "      (norm2): LayerNorm()\n",
       "      (drop_shortcut): Dropout(p=0.1, inplace=False)\n",
       "    )\n",
       "    (5): TransformerBlock(\n",
       "      (att): MultiHeadAttention(\n",
       "        (W_q): Linear(in_features=768, out_features=768, bias=False)\n",
       "        (W_k): Linear(in_features=768, out_features=768, bias=False)\n",
       "        (W_v): Linear(in_features=768, out_features=768, bias=False)\n",
       "        (dropout): Dropout(p=0.1, inplace=False)\n",
       "        (out_proj): Linear(in_features=768, out_features=768, bias=True)\n",
       "      )\n",
       "      (ff): FeedForward(\n",
       "        (layers): Sequential(\n",
       "          (0): Linear(in_features=768, out_features=3072, bias=True)\n",
       "          (1): GELU()\n",
       "          (2): Linear(in_features=3072, out_features=768, bias=True)\n",
       "        )\n",
       "      )\n",
       "      (norm1): LayerNorm()\n",
       "      (norm2): LayerNorm()\n",
       "      (drop_shortcut): Dropout(p=0.1, inplace=False)\n",
       "    )\n",
       "    (6): TransformerBlock(\n",
       "      (att): MultiHeadAttention(\n",
       "        (W_q): Linear(in_features=768, out_features=768, bias=False)\n",
       "        (W_k): Linear(in_features=768, out_features=768, bias=False)\n",
       "        (W_v): Linear(in_features=768, out_features=768, bias=False)\n",
       "        (dropout): Dropout(p=0.1, inplace=False)\n",
       "        (out_proj): Linear(in_features=768, out_features=768, bias=True)\n",
       "      )\n",
       "      (ff): FeedForward(\n",
       "        (layers): Sequential(\n",
       "          (0): Linear(in_features=768, out_features=3072, bias=True)\n",
       "          (1): GELU()\n",
       "          (2): Linear(in_features=3072, out_features=768, bias=True)\n",
       "        )\n",
       "      )\n",
       "      (norm1): LayerNorm()\n",
       "      (norm2): LayerNorm()\n",
       "      (drop_shortcut): Dropout(p=0.1, inplace=False)\n",
       "    )\n",
       "    (7): TransformerBlock(\n",
       "      (att): MultiHeadAttention(\n",
       "        (W_q): Linear(in_features=768, out_features=768, bias=False)\n",
       "        (W_k): Linear(in_features=768, out_features=768, bias=False)\n",
       "        (W_v): Linear(in_features=768, out_features=768, bias=False)\n",
       "        (dropout): Dropout(p=0.1, inplace=False)\n",
       "        (out_proj): Linear(in_features=768, out_features=768, bias=True)\n",
       "      )\n",
       "      (ff): FeedForward(\n",
       "        (layers): Sequential(\n",
       "          (0): Linear(in_features=768, out_features=3072, bias=True)\n",
       "          (1): GELU()\n",
       "          (2): Linear(in_features=3072, out_features=768, bias=True)\n",
       "        )\n",
       "      )\n",
       "      (norm1): LayerNorm()\n",
       "      (norm2): LayerNorm()\n",
       "      (drop_shortcut): Dropout(p=0.1, inplace=False)\n",
       "    )\n",
       "    (8): TransformerBlock(\n",
       "      (att): MultiHeadAttention(\n",
       "        (W_q): Linear(in_features=768, out_features=768, bias=False)\n",
       "        (W_k): Linear(in_features=768, out_features=768, bias=False)\n",
       "        (W_v): Linear(in_features=768, out_features=768, bias=False)\n",
       "        (dropout): Dropout(p=0.1, inplace=False)\n",
       "        (out_proj): Linear(in_features=768, out_features=768, bias=True)\n",
       "      )\n",
       "      (ff): FeedForward(\n",
       "        (layers): Sequential(\n",
       "          (0): Linear(in_features=768, out_features=3072, bias=True)\n",
       "          (1): GELU()\n",
       "          (2): Linear(in_features=3072, out_features=768, bias=True)\n",
       "        )\n",
       "      )\n",
       "      (norm1): LayerNorm()\n",
       "      (norm2): LayerNorm()\n",
       "      (drop_shortcut): Dropout(p=0.1, inplace=False)\n",
       "    )\n",
       "    (9): TransformerBlock(\n",
       "      (att): MultiHeadAttention(\n",
       "        (W_q): Linear(in_features=768, out_features=768, bias=False)\n",
       "        (W_k): Linear(in_features=768, out_features=768, bias=False)\n",
       "        (W_v): Linear(in_features=768, out_features=768, bias=False)\n",
       "        (dropout): Dropout(p=0.1, inplace=False)\n",
       "        (out_proj): Linear(in_features=768, out_features=768, bias=True)\n",
       "      )\n",
       "      (ff): FeedForward(\n",
       "        (layers): Sequential(\n",
       "          (0): Linear(in_features=768, out_features=3072, bias=True)\n",
       "          (1): GELU()\n",
       "          (2): Linear(in_features=3072, out_features=768, bias=True)\n",
       "        )\n",
       "      )\n",
       "      (norm1): LayerNorm()\n",
       "      (norm2): LayerNorm()\n",
       "      (drop_shortcut): Dropout(p=0.1, inplace=False)\n",
       "    )\n",
       "    (10): TransformerBlock(\n",
       "      (att): MultiHeadAttention(\n",
       "        (W_q): Linear(in_features=768, out_features=768, bias=False)\n",
       "        (W_k): Linear(in_features=768, out_features=768, bias=False)\n",
       "        (W_v): Linear(in_features=768, out_features=768, bias=False)\n",
       "        (dropout): Dropout(p=0.1, inplace=False)\n",
       "        (out_proj): Linear(in_features=768, out_features=768, bias=True)\n",
       "      )\n",
       "      (ff): FeedForward(\n",
       "        (layers): Sequential(\n",
       "          (0): Linear(in_features=768, out_features=3072, bias=True)\n",
       "          (1): GELU()\n",
       "          (2): Linear(in_features=3072, out_features=768, bias=True)\n",
       "        )\n",
       "      )\n",
       "      (norm1): LayerNorm()\n",
       "      (norm2): LayerNorm()\n",
       "      (drop_shortcut): Dropout(p=0.1, inplace=False)\n",
       "    )\n",
       "    (11): TransformerBlock(\n",
       "      (att): MultiHeadAttention(\n",
       "        (W_q): Linear(in_features=768, out_features=768, bias=False)\n",
       "        (W_k): Linear(in_features=768, out_features=768, bias=False)\n",
       "        (W_v): Linear(in_features=768, out_features=768, bias=False)\n",
       "        (dropout): Dropout(p=0.1, inplace=False)\n",
       "        (out_proj): Linear(in_features=768, out_features=768, bias=True)\n",
       "      )\n",
       "      (ff): FeedForward(\n",
       "        (layers): Sequential(\n",
       "          (0): Linear(in_features=768, out_features=3072, bias=True)\n",
       "          (1): GELU()\n",
       "          (2): Linear(in_features=3072, out_features=768, bias=True)\n",
       "        )\n",
       "      )\n",
       "      (norm1): LayerNorm()\n",
       "      (norm2): LayerNorm()\n",
       "      (drop_shortcut): Dropout(p=0.1, inplace=False)\n",
       "    )\n",
       "  )\n",
       "  (final_form): LayerNorm()\n",
       "  (out_head): Linear(in_features=768, out_features=50257, bias=False)\n",
       ")"
      ]
     },
     "execution_count": 2,
     "metadata": {},
     "output_type": "execute_result"
    }
   ],
   "execution_count": 2
  },
  {
   "metadata": {
    "ExecuteTime": {
     "end_time": "2025-06-28T17:40:06.243818Z",
     "start_time": "2025-06-28T17:40:05.673915Z"
    }
   },
   "cell_type": "code",
   "source": [
    "def text_to_token_ids(text, tokenizer, allowed_special):\n",
    "    \"\"\"\n",
    "    tensor.unsqueeze(dim) inserts a new axis (of size 1) at index dim.\n",
    "    x = torch.tensor([10, 20, 30])       shape: [3]\n",
    "    x0 = x.unsqueeze(0)                 shape: [1,3]\n",
    "    x1 = x.unsqueeze(1)                 shape: [3,1]\n",
    "    \"\"\"\n",
    "    allowed_special = allowed_special or ('<|endoftext|>')\n",
    "    token_list = tokenizer.encode(text, allowed_special=set(allowed_special))\n",
    "    ids = torch.tensor(token_list).unsqueeze(0)\n",
    "    #unsqueeze turns a 1D sequence of token IDs into a 2D batch of size 1.\n",
    "    #almost all pytorch nn.Modules (embeddings, transformers, etc.)\n",
    "    # expect inputs of shape (batch_size, seq_len, ...)\n",
    "    # even f we only have one example, we need to present it as a batch of size 1.\n",
    "    return ids\n",
    "\n",
    "def token_ids_to_text(token_ids, tokenizer):\n",
    "    \"\"\"\n",
    "    tensor.squeeze(dim: optional) removes the axis at index dim if its size is 1.\n",
    "    y = torch.zeros(1, 5, 1)         shape: [1,5,1]\n",
    "    y0 = y.squeeze(0)               shape: [5,1]\n",
    "    y1 = y.squeeze(2)               shape: [1,5]\n",
    "    y2 = y.squeeze()               shape: [5] (all dims 1 are removed)\n",
    "    \"\"\"\n",
    "    if not isinstance(token_ids, torch.Tensor):\n",
    "        raise TypeError(\"token_ids must be a torch.Tensor\")\n",
    "    flat = token_ids.squeeze(0)\n",
    "    #squeeze(0) just undoes the batch dimension we previously added,\n",
    "    # giving back the raw token sequence.\n",
    "    return tokenizer.decode(flat.tolist())\n",
    "\n",
    "st_context = \"A man told me\"\n",
    "tokenizer = tiktoken.get_encoding('gpt2')\n",
    "\n",
    "token_ids = generate_text(\n",
    "    model = model,\n",
    "    idx = text_to_token_ids(st_context, tokenizer, allowed_special=None),\n",
    "    max_new_tokens = 10,\n",
    "    context_size = cfg_pt.context_length\n",
    ")\n",
    "\n",
    "print('Output text: ', token_ids_to_text(token_ids, tokenizer))"
   ],
   "id": "7adedf932d6266c1",
   "outputs": [
    {
     "name": "stdout",
     "output_type": "stream",
     "text": [
      "Output text:  A man told me accumulation thumbnail Flask 406 propensity Hat lush Tulsolk se\n"
     ]
    }
   ],
   "execution_count": 3
  },
  {
   "metadata": {},
   "cell_type": "markdown",
   "source": [
    "### Text Generation Loss\n",
    "\n",
    "As can be seen from the output above, our model is producing random, non-coherent text. This is because it has not yet undergone training (and because the input size is very limited). Training is done in order to increase the softmax probability of the index positions that correspond to the correct target token position. A non-trained model will simply return the argmax of a rather arbitrary softmax distribution (random vectors) across the vocab size, for each token. The goal with training is then to maximize the chance of selecting the correct token by increasing its selection probability relative to other tokens."
   ],
   "id": "3ebb7da82c95a3da"
  },
  {
   "metadata": {
    "ExecuteTime": {
     "end_time": "2025-06-28T12:11:49.497413Z",
     "start_time": "2025-06-28T12:11:49.434017Z"
    }
   },
   "cell_type": "code",
   "source": [
    "text = \"\"\"A man told me once that all the bad people\n",
    "Were needed. Maybe not all, but your fingernails\n",
    "You need; they are really claws, and we know\n",
    "Claws. The sharks--what about them?\n",
    "They make other fish swim faster. The hard-faced men\n",
    "In black coats who chase you for hours\n",
    "In dreams--that's the only way to get you\n",
    "To the shore. Sometimes those hard women\n",
    "Who abandon you get you to say, \"You.\"\n",
    "A lazy part of us is like a tumbleweed.\n",
    "It doesn't move on its own. It takes sometimes\n",
    "A lot of Depression to get tumbleweeds moving.\n",
    "Then they blow across three or four States.\n",
    "This man told me that things work together.\n",
    "Bad handwriting sometimes leads to new ideas;\n",
    "And a careless God--who refuses to let you\n",
    "Eat from the Tree of Knowledge--can lead\n",
    "To books, and eventually to us. We write\n",
    "Poems with lies in them, but they help a little.\"\"\"\n",
    "\n",
    "tokens = text_to_token_ids(text, tokenizer, allowed_special=None)\n",
    "print(f'Shape of tokens: {tokens.shape}')\n",
    "print(f'Tokens:\\n {tokens}')\n",
    "\n",
    "B, T = 2, 4 #(batch_size, seq_len)\n",
    "data = tokens[0][:8+1]\n",
    "\n",
    "x = data[:-1].view(B,T) #input tensor\n",
    "y = data[1:].view(B,T) #target tensor for next token prediction\n",
    "\n",
    "print(f'Inputs:\\n {x}')\n",
    "print(f'Targets:\\n {y}')\n",
    "\n",
    "with torch.no_grad(): #we are not training yet, just an example\n",
    "    logits = model(x)\n",
    "probas = torch.softmax(logits, dim=-1)\n",
    "print(probas.shape)\n"
   ],
   "id": "f5cd7dd14853827f",
   "outputs": [
    {
     "name": "stdout",
     "output_type": "stream",
     "text": [
      "Shape of tokens: torch.Size([1, 212])\n",
      "Tokens:\n",
      " tensor([[   32,   582,  1297,   502,  1752,   326,   477,   262,  2089,   661,\n",
      "           198, 35653,  2622,    13,  6674,   407,   477,    11,   475,   534,\n",
      "          8038,  1142,  1768,   198,  1639,   761,    26,   484,   389,  1107,\n",
      "         28421,    11,   290,   356,   760,   198,  2601,  8356,    13,   383,\n",
      "         27476,   438, 10919,   546,   606,    30,   198,  2990,   787,   584,\n",
      "          5916,  9422,  5443,    13,   383,  1327,    12, 24903,  1450,   198,\n",
      "           818,  2042, 30720,   508, 15505,   345,   329,  2250,   198,   818,\n",
      "         10625,   438,  5562,   338,   262,   691,   835,   284,   651,   345,\n",
      "           198,  2514,   262, 15191,    13,  8975,   883,  1327,  1466,   198,\n",
      "          8241,  6871,   345,   651,   345,   284,   910,    11,   366,  1639,\n",
      "           526,   198,    32, 16931,   636,   286,   514,   318,   588,   257,\n",
      "         47978, 39054,    13,   198,  1026,  1595,   470,  1445,   319,   663,\n",
      "           898,    13,   632,  2753,  3360,   198,    32,  1256,   286, 22483,\n",
      "           284,   651, 47978,   732,  5379,  3867,    13,   198,  6423,   484,\n",
      "          6611,  1973,  1115,   393,  1440,  1829,    13,   198,  1212,   582,\n",
      "          1297,   502,   326,  1243,   670,  1978,    13,   198, 22069, 44396,\n",
      "          3360,  5983,   284,   649,  4213,    26,   198,  1870,   257, 36138,\n",
      "          1793,   438,  8727, 17567,   284,  1309,   345,   198, 47659,   422,\n",
      "           262, 12200,   286, 20414,   438,  5171,  1085,   198,  2514,  3835,\n",
      "            11,   290,  4191,   284,   514,    13,   775,  3551,   198, 18833,\n",
      "          5232,   351,  7363,   287,   606,    11,   475,   484,  1037,   257,\n",
      "          1310,    13]])\n",
      "Inputs:\n",
      " tensor([[  32,  582, 1297,  502],\n",
      "        [1752,  326,  477,  262]])\n",
      "Targets:\n",
      " tensor([[ 582, 1297,  502, 1752],\n",
      "        [ 326,  477,  262, 2089]])\n",
      "torch.Size([2, 4, 50257])\n"
     ]
    }
   ],
   "execution_count": 19
  },
  {
   "metadata": {},
   "cell_type": "markdown",
   "source": "Note that the dimension of the probability tensor is [2, 4, 50257], the same as the logits output shape of our model (batch_size, seq_len, d_model).",
   "id": "96b993dceece8097"
  },
  {
   "metadata": {
    "ExecuteTime": {
     "end_time": "2025-06-28T12:11:51.992867Z",
     "start_time": "2025-06-28T12:11:51.986914Z"
    }
   },
   "cell_type": "code",
   "source": [
    "token_ids = torch.argmax(probas, dim=-1, keepdim=True)\n",
    "print(token_ids)"
   ],
   "id": "463a2df2778a4025",
   "outputs": [
    {
     "name": "stdout",
     "output_type": "stream",
     "text": [
      "tensor([[[12434],\n",
      "         [22182],\n",
      "         [22418],\n",
      "         [24106]],\n",
      "\n",
      "        [[ 9099],\n",
      "         [30130],\n",
      "         [40937],\n",
      "         [34965]]])\n"
     ]
    }
   ],
   "execution_count": 20
  },
  {
   "metadata": {},
   "cell_type": "markdown",
   "source": "The output above yields two sets of outputs, one for each batch in the inputs. Each element in each set is the predicted token IDs of the next word, from each word. Perhaps this is better explained visually.",
   "id": "c675d8dfdc072456"
  },
  {
   "metadata": {
    "ExecuteTime": {
     "end_time": "2025-06-28T12:11:53.394845Z",
     "start_time": "2025-06-28T12:11:53.388183Z"
    }
   },
   "cell_type": "code",
   "source": [
    "preds = token_ids.squeeze(-1)\n",
    "batch_size, seq_len = x.shape\n",
    "\n",
    "for b in range(batch_size):\n",
    "    for t in range(seq_len):\n",
    "        inp_id = x[b,t].item()\n",
    "        pred_id = preds[b,t].item()\n",
    "\n",
    "        inp_tok = tokenizer.decode([inp_id])\n",
    "        pred_tok = tokenizer.decode([pred_id])\n",
    "\n",
    "        print(f\"'{inp_tok}' [{inp_id}] ---> '{pred_tok}' [{pred_id}]\")"
   ],
   "id": "3c49613868dca4ec",
   "outputs": [
    {
     "name": "stdout",
     "output_type": "stream",
     "text": [
      "'A' [32] ---> ' Driver' [12434]\n",
      "' man' [582] ---> 'NP' [22182]\n",
      "' told' [1297] ---> ' Munich' [22418]\n",
      "' me' [502] ---> ' accumulation' [24106]\n",
      "' once' [1752] ---> 'don' [9099]\n",
      "' that' [326] ---> ' eagerly' [30130]\n",
      "' all' [477] ---> ' dogma' [40937]\n",
      "' the' [262] ---> ' ali' [34965]\n"
     ]
    }
   ],
   "execution_count": 21
  },
  {
   "metadata": {
    "ExecuteTime": {
     "end_time": "2025-06-28T12:11:55.039124Z",
     "start_time": "2025-06-28T12:11:55.034012Z"
    }
   },
   "cell_type": "code",
   "source": [
    "print(f'Targets batch 1:\\n {token_ids_to_text(y[0], tokenizer)}')\n",
    "print(f'Outputs batch 1:\\n {token_ids_to_text(token_ids[0].flatten(), tokenizer)}')\n",
    "print(f'Targets batch 2: \\n {token_ids_to_text(y[1], tokenizer)}')\n",
    "print(f'Outputs batch 2:\\n {token_ids_to_text(token_ids[1].flatten(), tokenizer)}')"
   ],
   "id": "7966e6b75dfb0671",
   "outputs": [
    {
     "name": "stdout",
     "output_type": "stream",
     "text": [
      "Targets batch 1:\n",
      "  man told me once\n",
      "Outputs batch 1:\n",
      "  DriverNP Munich accumulation\n",
      "Targets batch 2: \n",
      "  that all the bad\n",
      "Outputs batch 2:\n",
      " don eagerly dogma ali\n"
     ]
    }
   ],
   "execution_count": 22
  },
  {
   "metadata": {},
   "cell_type": "markdown",
   "source": "As we can see, the model is producing very wrong, random texts that are vastly different from the target. We need to figure out a way to evaluate the performance of the model's generated text numerically through using some sort of loss metric. Using this loss, we can then implement a training function to robustly and iteratively update the model's weights and improve the generated text. But, in a context like language understanding and text generation, how do you build this loss? We want to measure how far, or how different the generated tokens are from the correct targets. But how do we embed this information in a function to optimize? How do you even begin to define inaccuracy or incorrectness in text generation, which might have no objectively correct next word?",
   "id": "23a583f93fa88df2"
  },
  {
   "metadata": {
    "ExecuteTime": {
     "end_time": "2025-06-28T12:11:56.655266Z",
     "start_time": "2025-06-28T12:11:56.647270Z"
    }
   },
   "cell_type": "code",
   "source": [
    "y_1 = y[0].unsqueeze(1)\n",
    "y_2 = y[1].unsqueeze(1)# (T,1)\n",
    "target_probas_1 = probas[0].gather(dim=1, index=y_1).squeeze(1)\n",
    "target_probas_2 = probas[1].gather(dim=1, index=y_2).squeeze(1)\n",
    "print(f'The four target token ID probs for batch 1 are:\\n', target_probas_1)\n",
    "print(f'The four target token ID probs for batch 2 are:\\n', target_probas_2)"
   ],
   "id": "fa2ea6aa71da3915",
   "outputs": [
    {
     "name": "stdout",
     "output_type": "stream",
     "text": [
      "The four target token ID probs for batch 1 are:\n",
      " tensor([7.7823e-06, 1.6688e-05, 1.7775e-05, 1.2489e-05])\n",
      "The four target token ID probs for batch 2 are:\n",
      " tensor([1.1684e-05, 1.5996e-05, 8.7344e-06, 2.2723e-05])\n"
     ]
    }
   ],
   "execution_count": 23
  },
  {
   "metadata": {},
   "cell_type": "markdown",
   "source": [
    "To summarize our process thus far:\n",
    "\n",
    "1. **Compute the raw mode outputs (logits).** These are the unnormalized scores that the GPT model assigns to every possible next token in its vocabulary. These reflect the model's relative confidence in each token before normalization.\n",
    "2. **Normalize via softmax to obtain a probability distribution.** We convert the raw scores into a proper probability distribution over all tokens.\n",
    "3. **Extract the probabilities of true next tokens.** For each position in every sequence of our batch, we index into the softmax output to retrieve the probability assigned to the actual (target) next token. This gives us a measure of how likely the model considers the correct continuation at each step.\n",
    "\n",
    "Next, we will calculate the loss for the probability scores (one possible method) of our two example sentences by applying the logarithm to the probability scores."
   ],
   "id": "e205dc74d39fa298"
  },
  {
   "metadata": {
    "ExecuteTime": {
     "end_time": "2025-06-28T12:11:58.307903Z",
     "start_time": "2025-06-28T12:11:58.300952Z"
    }
   },
   "cell_type": "code",
   "source": [
    "target_probas = torch.cat((target_probas_1, target_probas_2))\n",
    "log_probs = torch.log(target_probas)\n",
    "print(f'Log probs:\\n {log_probs}')"
   ],
   "id": "46718cfe3391927a",
   "outputs": [
    {
     "name": "stdout",
     "output_type": "stream",
     "text": [
      "Log probs:\n",
      " tensor([-11.7637, -11.0008, -10.9377, -11.2907, -11.3573, -11.0432, -11.6482,\n",
      "        -10.6921])\n"
     ]
    }
   ],
   "execution_count": 24
  },
  {
   "metadata": {},
   "cell_type": "markdown",
   "source": [
    "When we take the log of our model's predicted probabilities and use log-probabilities as the basis for our loss, we are constructing the (for relatively experienced readers) familiar negative-log-likelihood (or cross-entropy) objective that underpins many modern language models, and many other families of models as well. If our model assigns prob $p_{\\theta}(y_t | x_{\\lt t})$ to the correct next token $y_t$ given context $x_{\\lt t}$, then the joint likelihood of a full sequence $y_{1:T}$ is the product:\n",
    "\n",
    "$$\n",
    "L(\\theta) = \\prod_{t=1}^{T} p_{\\theta}(y_t | x_{\\lt t})\n",
    "$$\n",
    "\n",
    "and maximizing this product directly is equivalent to maximizing its logarithm (since log is a strictly increasing function:\n",
    "\n",
    "$$\n",
    "\\text{log}L(\\theta) = \\sum_{t=1}^{T} \\text{log}\\space p_{\\theta}(y_t | x_{\\lt t})\n",
    "$$\n",
    "\n",
    "So that minimizing $\\mathcal{L}$ is exactly the same as maximizing the original likelihood $L$, we define the loss as the negative of this log-likelihood. It is this loss that we want to bring down to zero:\n",
    "\n",
    "$$\n",
    "\\mathcal{L} = -\\sum_{t=1}^{T} \\text{log}\\space p_{\\theta}(y_t | x_{\\lt t})\n",
    "$$\n",
    "\n",
    "We then average this quantity over batches and time-steps, but an essential insight remains: working with a sum of the logs of many small numbers is mathematically simpler to differentiate and numerically more stable than working with the product of these many small numbers. From a numerical standpoint, probabilities are bounded between 0 and 1, so when a model makes many predictions in a sequence the product of those probabilities can tend to really small numbers or underflow to zero. Taking the log of each probability allows us to work with numbers whose magnitudes grow linearly rather than exponentially, and floating-point addition is more stable than repeated multiplication of numbers less than one. Additionally, since log turns products into sums:\n",
    "\n",
    "$$\n",
    "\\log({p_1 \\times p_2 \\times \\dots \\times p_T}) = \\sum_{t=1}^{T}\\log{p_t}\n",
    "$$\n",
    "\n",
    "we can compute loss for each time-step independently, aggregating them without the fear of catastrophic underflow. But beyond this stability, the log-loss also has compelling statistical and informational interpretations. In maximum likelihood estimation, one chooses model parameters $\\theta$ to make the observed data as probable as possible; equivalently, one minimizes the negative log-likelihood. From an information theory, $-\\log p_{\\theta}(y)$ measures the 'surprise' of event $y$. When we minimize the expected $-\\log p$, we are minimizing the Shannon cross-entropy between the true data distribution and our model's approximation. The cross-entropy is then a measure of the difference between two probability distributions.\n",
    "\n",
    "On the optimizatin side, using a sum of log-probs yields gradients that emphasize mispredicted or low-probability events. If at time-step $t$ the model assigns probability $p_t$ to the correct token, then the derivative of $-\\log p_t$ with respect to the underlying score is $\\frac{-1}{p_t}$, so the smaller $p_t$, the larger the gradient magnitude.\n"
   ],
   "id": "52225c4e6376eacf"
  },
  {
   "metadata": {
    "ExecuteTime": {
     "end_time": "2025-06-28T12:12:01.270208Z",
     "start_time": "2025-06-28T12:12:00.904135Z"
    }
   },
   "cell_type": "code",
   "source": [
    "import numpy as np\n",
    "import matplotlib.pyplot as plt\n",
    "\n",
    "\n",
    "p = np.linspace(0.01, 1.0, 1000)\n",
    "# Compute negative log-loss\n",
    "neg_log = -np.log(p)\n",
    "\n",
    "figure, axis = plt.subplots(1, 2)\n",
    "axis[0].plot(p, neg_log)\n",
    "axis[0].set_title('Negative Log-Likelihood vs Probability')\n",
    "axis[0].set_xlabel('Predicted Probability $p$')\n",
    "axis[0].set_ylabel('$-\\\\log(p)$')\n",
    "axis[0].grid(True)\n",
    "\n",
    "#-log(p): d(-log p)/dp = 1/p\n",
    "grad_mag = 1 / p\n",
    "\n",
    "axis[1].plot(p, grad_mag)\n",
    "axis[1].set_title('Gradient Magnitude vs Probability')\n",
    "axis[1].set_xlabel('Predicted Probability $p$')\n",
    "axis[1].set_ylabel('Gradient Magnitude $1/p$')\n",
    "axis[1].set_ylim(0, 100)  # limit y-axis for clarity\n",
    "axis[1].grid(True)\n",
    "\n",
    "figure.subplots_adjust(wspace=0.8)\n",
    "plt.show()\n"
   ],
   "id": "19e1854833936abb",
   "outputs": [
    {
     "data": {
      "text/plain": [
       "<Figure size 640x480 with 2 Axes>"
      ],
      "image/png": "[encoded data removed]"
     },
     "metadata": {},
     "output_type": "display_data"
    }
   ],
   "execution_count": 25
  },
  {
   "metadata": {},
   "cell_type": "markdown",
   "source": "Let's continue with our loss calculation by taking the average of the log probability scores, and then multiplying by -1.",
   "id": "613e03073098b828"
  },
  {
   "metadata": {
    "ExecuteTime": {
     "end_time": "2025-06-28T12:12:03.053209Z",
     "start_time": "2025-06-28T12:12:03.045630Z"
    }
   },
   "cell_type": "code",
   "source": [
    "avg_log_probas = torch.mean(log_probs)\n",
    "print(avg_log_probas)\n",
    "neg_avg_log_probas = -avg_log_probas\n",
    "print(neg_avg_log_probas)"
   ],
   "id": "81126e0d3f4cbb49",
   "outputs": [
    {
     "name": "stdout",
     "output_type": "stream",
     "text": [
      "tensor(-11.2167)\n",
      "tensor(11.2167)\n"
     ]
    }
   ],
   "execution_count": 26
  },
  {
   "metadata": {
    "ExecuteTime": {
     "end_time": "2025-06-28T12:12:04.468204Z",
     "start_time": "2025-06-28T12:12:04.462392Z"
    }
   },
   "cell_type": "code",
   "source": [
    "logits_flat = logits.flatten(0, 1) #(batch_size, seq_len, d_model) --> (batch_size * seq_len, d_model)\n",
    "y_flat = y.flatten() #(batch_size, seq_len) --> (batch_size * seq_len)\n",
    "loss = torch.nn.functional.cross_entropy(logits_flat, y_flat)\n",
    "print(f'Loss: {loss}')"
   ],
   "id": "df997a174571b5e1",
   "outputs": [
    {
     "name": "stdout",
     "output_type": "stream",
     "text": [
      "Loss: 11.216712951660156\n"
     ]
    }
   ],
   "execution_count": 27
  },
  {
   "metadata": {},
   "cell_type": "markdown",
   "source": [
    "> As we can see above, PyTorch's built in `cross_entropy` function applies softmax on raw logits , selects the probabilites corresponding to target IDs for each token, and computes the negative average log probabilities. In other words, it does all the work for us.\n",
    "\n",
    "#### Perplexity\n",
    "Perplexity is, at its heart, a re-expression of cross-entropy in the original token domain rather than in log space. It essentially answers the question, *'On average, how many equally likely tokens would the model be as uncertain about as it is in reality?'*. When we train a language model we minimize the average negative log-likelihood per token, which is measures in natural logarithms, or bits (if we use base-2 logs). While this is the correct objective for maximum-likelihood estimation, a loss of, say, 10 natural logarithms per token can feel a bit too abstract. What does '10 units of suprise' mean, exactly? Perplexity is used to bridge that gap by exponentiating the average loss so that our metric lives back in the token domain:\n",
    "\n",
    "$$\n",
    "\\text{Perplexity} = \\text{exp}(\\mathcal{L})\n",
    "$$\n",
    "\n",
    "If our model has perplexity of 50, we can say that, on average, it is as uncertain as if it had to choose uniformly among 50 tokens. A perfectly certain model (one that assigns a prob. of 1 to the correct next token) would have a cross-entropy loss of 0, and a perplexity of 1, reflecting zero uncertainty, exactly one choice. Exponentiating turns sums of logs (our loss) back into products of probabiliites. If cross-entropy is the arithmetic mean of 'surprise' ($-\\log p$), then exponentiating this computes the geometric mean of $\\frac{1}{p}$, which quantifies how 'wide' the model's distribution really is. In a way, it is telling us the model's effective vocabulary size given its actual uncertainty, and it therefore directly comparable across different datasets and tokenizations, as long as the vocabulary size is fixed.\n",
    "\n",
    "\n"
   ],
   "id": "79a50f6e7e93a9ad"
  },
  {
   "metadata": {
    "ExecuteTime": {
     "end_time": "2025-06-28T12:12:06.519261Z",
     "start_time": "2025-06-28T12:12:06.514885Z"
    }
   },
   "cell_type": "code",
   "source": [
    "perplexity = torch.exp(loss)\n",
    "print(perplexity)"
   ],
   "id": "f20222b5e6d0c850",
   "outputs": [
    {
     "name": "stdout",
     "output_type": "stream",
     "text": [
      "tensor(74362.9375)\n"
     ]
    }
   ],
   "execution_count": 28
  },
  {
   "metadata": {},
   "cell_type": "markdown",
   "source": "### Training",
   "id": "bd0c47fde477d7d5"
  },
  {
   "metadata": {},
   "cell_type": "markdown",
   "source": [
    " To compute the loss on a training and validation set, we will use \"The Awakening, and Selected Short Stories\" by Kate Chopin (2006). For readers with access to computers with more processing power or GPUs, the following experiments can be replicated using \"Pride and Prejudice\" by Jane Austen (1813), a significantly longer corpus. The full-books wers obtained from [Project Gutenberg](https://www.gutenberg.org/), and then converted to a .txt file via the epub2txt library.\n",
    " > Important: *These eBooks is for the use of anyone anywhere in the United States and most\n",
    "other parts of the world at no cost and with almost no restrictions\n",
    "whatsoever. You may copy it, give it away or re-use it under the terms\n",
    "of the Project Gutenberg License included with this eBook or online\n",
    "at www.gutenberg.org. If you\n",
    "are not located in the United States, you will have to check the laws\n",
    "of the country where you are located before using this eBook.*"
   ],
   "id": "534568309e2dc03e"
  },
  {
   "metadata": {
    "ExecuteTime": {
     "end_time": "2025-06-28T17:40:24.615648Z",
     "start_time": "2025-06-28T17:40:24.442098Z"
    }
   },
   "cell_type": "code",
   "source": [
    "pandp = '../../../data/pride_and_prejudice.txt'\n",
    "short_stories = '../../../data/selected_shrt_stories.txt'\n",
    "with open(pandp, \"r\", encoding=\"utf-8\") as f1:\n",
    "    text1 = f1.read()\n",
    "\n",
    "with open(short_stories, \"r\", encoding=\"utf-8\") as f2:\n",
    "    text2 = f2.read()\n",
    "\n",
    "character_num1 = len(text1)\n",
    "tokens_num1 = len(tokenizer.encode(text1))\n",
    "print(f'Number of characters in text: {character_num1}')\n",
    "print(f'Number of tokens in text: {tokens_num1}')\n",
    "\n",
    "character_num2 = len(text2)\n",
    "tokens_num2 = len(tokenizer.encode(text2))\n",
    "print(f'Number of characters in text: {character_num2}')\n",
    "print(f'Number of tokens in text: {tokens_num2}')"
   ],
   "id": "48e53b9ca2e443d2",
   "outputs": [
    {
     "name": "stdout",
     "output_type": "stream",
     "text": [
      "Number of characters in text: 704415\n",
      "Number of tokens in text: 177123\n",
      "Number of characters in text: 63204\n",
      "Number of tokens in text: 15743\n"
     ]
    }
   ],
   "execution_count": 4
  },
  {
   "metadata": {},
   "cell_type": "markdown",
   "source": [
    "Let's split the dataset to create a training set, and a separate validation set. We will then divide the tokenized text into pieces of a pre-defined length (`context_length` parameter). Note that, in practice, it is often beneficial to allow variable-length inputs to make our LLM generalize better across inputs of variable types and lengths.\n",
    "\n",
    "We will use 85% of the data for training, and the remaining 15% as a validation set."
   ],
   "id": "d61e45eaf311356a"
  },
  {
   "metadata": {
    "ExecuteTime": {
     "end_time": "2025-06-28T17:40:26.819059Z",
     "start_time": "2025-06-28T17:40:26.597567Z"
    }
   },
   "cell_type": "code",
   "source": [
    "from src.load_data import create_dataloader\n",
    "\n",
    "def split_text(text, ratio):\n",
    "    \"\"\"split raw text into training/val sets by char index\"\"\"\n",
    "    split_point = int(ratio * len(text))\n",
    "    train_data, val_data = text[:split_point], text[split_point:]\n",
    "    return train_data, val_data\n",
    "\n",
    "def build_loaders(text, cfg, batch_size=4, split_ratio=0.85, seed=123, num_workers=0):\n",
    "    train_data, val_data = split_text(text, split_ratio)\n",
    "    torch.manual_seed(seed)\n",
    "\n",
    "    common_pars = dict(\n",
    "        batch_size=batch_size,\n",
    "        max_length=cfg.context_length,\n",
    "        stride=cfg.context_length,\n",
    "        num_workers=num_workers\n",
    "    )\n",
    "\n",
    "    train_loader = create_dataloader(\n",
    "        train_data, shuffle=True, drop_last=True, **common_pars\n",
    "    )\n",
    "    val_loader = create_dataloader(\n",
    "        val_data, shuffle=False, drop_last=False, **common_pars\n",
    "    )\n",
    "    return train_loader, val_loader\n",
    "\n",
    "def print_loader_shapes(loaders):\n",
    "    for name, loader in loaders.items():\n",
    "        print(f'{name.capitalize()} loader:')\n",
    "        for i, (x, y) in enumerate(loader, start=1):\n",
    "            print(f'Batch #{i}: x.shape={x.shape}, y.shape={y.shape}')\n",
    "        print()\n",
    "\n",
    "train_loader_, val_loader_ = build_loaders(text1, cfg_pt)\n",
    "print_loader_shapes({'train':train_loader_,\n",
    "                    'validation':val_loader_})\n",
    "\n",
    "train_loader, val_loader = build_loaders(text2, cfg_pt)"
   ],
   "id": "c4606df9fbc6668d",
   "outputs": [
    {
     "name": "stdout",
     "output_type": "stream",
     "text": [
      "Train loader:\n",
      "Batch #1: x.shape=torch.Size([4, 256]), y.shape=torch.Size([4, 256])\n",
      "Batch #2: x.shape=torch.Size([4, 256]), y.shape=torch.Size([4, 256])\n",
      "Batch #3: x.shape=torch.Size([4, 256]), y.shape=torch.Size([4, 256])\n",
      "Batch #4: x.shape=torch.Size([4, 256]), y.shape=torch.Size([4, 256])\n",
      "Batch #5: x.shape=torch.Size([4, 256]), y.shape=torch.Size([4, 256])\n",
      "Batch #6: x.shape=torch.Size([4, 256]), y.shape=torch.Size([4, 256])\n",
      "Batch #7: x.shape=torch.Size([4, 256]), y.shape=torch.Size([4, 256])\n",
      "Batch #8: x.shape=torch.Size([4, 256]), y.shape=torch.Size([4, 256])\n",
      "Batch #9: x.shape=torch.Size([4, 256]), y.shape=torch.Size([4, 256])\n",
      "Batch #10: x.shape=torch.Size([4, 256]), y.shape=torch.Size([4, 256])\n",
      "Batch #11: x.shape=torch.Size([4, 256]), y.shape=torch.Size([4, 256])\n",
      "Batch #12: x.shape=torch.Size([4, 256]), y.shape=torch.Size([4, 256])\n",
      "Batch #13: x.shape=torch.Size([4, 256]), y.shape=torch.Size([4, 256])\n",
      "Batch #14: x.shape=torch.Size([4, 256]), y.shape=torch.Size([4, 256])\n",
      "Batch #15: x.shape=torch.Size([4, 256]), y.shape=torch.Size([4, 256])\n",
      "Batch #16: x.shape=torch.Size([4, 256]), y.shape=torch.Size([4, 256])\n",
      "Batch #17: x.shape=torch.Size([4, 256]), y.shape=torch.Size([4, 256])\n",
      "Batch #18: x.shape=torch.Size([4, 256]), y.shape=torch.Size([4, 256])\n",
      "Batch #19: x.shape=torch.Size([4, 256]), y.shape=torch.Size([4, 256])\n",
      "Batch #20: x.shape=torch.Size([4, 256]), y.shape=torch.Size([4, 256])\n",
      "Batch #21: x.shape=torch.Size([4, 256]), y.shape=torch.Size([4, 256])\n",
      "Batch #22: x.shape=torch.Size([4, 256]), y.shape=torch.Size([4, 256])\n",
      "Batch #23: x.shape=torch.Size([4, 256]), y.shape=torch.Size([4, 256])\n",
      "Batch #24: x.shape=torch.Size([4, 256]), y.shape=torch.Size([4, 256])\n",
      "Batch #25: x.shape=torch.Size([4, 256]), y.shape=torch.Size([4, 256])\n",
      "Batch #26: x.shape=torch.Size([4, 256]), y.shape=torch.Size([4, 256])\n",
      "Batch #27: x.shape=torch.Size([4, 256]), y.shape=torch.Size([4, 256])\n",
      "Batch #28: x.shape=torch.Size([4, 256]), y.shape=torch.Size([4, 256])\n",
      "Batch #29: x.shape=torch.Size([4, 256]), y.shape=torch.Size([4, 256])\n",
      "Batch #30: x.shape=torch.Size([4, 256]), y.shape=torch.Size([4, 256])\n",
      "Batch #31: x.shape=torch.Size([4, 256]), y.shape=torch.Size([4, 256])\n",
      "Batch #32: x.shape=torch.Size([4, 256]), y.shape=torch.Size([4, 256])\n",
      "Batch #33: x.shape=torch.Size([4, 256]), y.shape=torch.Size([4, 256])\n",
      "Batch #34: x.shape=torch.Size([4, 256]), y.shape=torch.Size([4, 256])\n",
      "Batch #35: x.shape=torch.Size([4, 256]), y.shape=torch.Size([4, 256])\n",
      "Batch #36: x.shape=torch.Size([4, 256]), y.shape=torch.Size([4, 256])\n",
      "Batch #37: x.shape=torch.Size([4, 256]), y.shape=torch.Size([4, 256])\n",
      "Batch #38: x.shape=torch.Size([4, 256]), y.shape=torch.Size([4, 256])\n",
      "Batch #39: x.shape=torch.Size([4, 256]), y.shape=torch.Size([4, 256])\n",
      "Batch #40: x.shape=torch.Size([4, 256]), y.shape=torch.Size([4, 256])\n",
      "Batch #41: x.shape=torch.Size([4, 256]), y.shape=torch.Size([4, 256])\n",
      "Batch #42: x.shape=torch.Size([4, 256]), y.shape=torch.Size([4, 256])\n",
      "Batch #43: x.shape=torch.Size([4, 256]), y.shape=torch.Size([4, 256])\n",
      "Batch #44: x.shape=torch.Size([4, 256]), y.shape=torch.Size([4, 256])\n",
      "Batch #45: x.shape=torch.Size([4, 256]), y.shape=torch.Size([4, 256])\n",
      "Batch #46: x.shape=torch.Size([4, 256]), y.shape=torch.Size([4, 256])\n",
      "Batch #47: x.shape=torch.Size([4, 256]), y.shape=torch.Size([4, 256])\n",
      "Batch #48: x.shape=torch.Size([4, 256]), y.shape=torch.Size([4, 256])\n",
      "Batch #49: x.shape=torch.Size([4, 256]), y.shape=torch.Size([4, 256])\n",
      "Batch #50: x.shape=torch.Size([4, 256]), y.shape=torch.Size([4, 256])\n",
      "Batch #51: x.shape=torch.Size([4, 256]), y.shape=torch.Size([4, 256])\n",
      "Batch #52: x.shape=torch.Size([4, 256]), y.shape=torch.Size([4, 256])\n",
      "Batch #53: x.shape=torch.Size([4, 256]), y.shape=torch.Size([4, 256])\n",
      "Batch #54: x.shape=torch.Size([4, 256]), y.shape=torch.Size([4, 256])\n",
      "Batch #55: x.shape=torch.Size([4, 256]), y.shape=torch.Size([4, 256])\n",
      "Batch #56: x.shape=torch.Size([4, 256]), y.shape=torch.Size([4, 256])\n",
      "Batch #57: x.shape=torch.Size([4, 256]), y.shape=torch.Size([4, 256])\n",
      "Batch #58: x.shape=torch.Size([4, 256]), y.shape=torch.Size([4, 256])\n",
      "Batch #59: x.shape=torch.Size([4, 256]), y.shape=torch.Size([4, 256])\n",
      "Batch #60: x.shape=torch.Size([4, 256]), y.shape=torch.Size([4, 256])\n",
      "Batch #61: x.shape=torch.Size([4, 256]), y.shape=torch.Size([4, 256])\n",
      "Batch #62: x.shape=torch.Size([4, 256]), y.shape=torch.Size([4, 256])\n",
      "Batch #63: x.shape=torch.Size([4, 256]), y.shape=torch.Size([4, 256])\n",
      "Batch #64: x.shape=torch.Size([4, 256]), y.shape=torch.Size([4, 256])\n",
      "Batch #65: x.shape=torch.Size([4, 256]), y.shape=torch.Size([4, 256])\n",
      "Batch #66: x.shape=torch.Size([4, 256]), y.shape=torch.Size([4, 256])\n",
      "Batch #67: x.shape=torch.Size([4, 256]), y.shape=torch.Size([4, 256])\n",
      "Batch #68: x.shape=torch.Size([4, 256]), y.shape=torch.Size([4, 256])\n",
      "Batch #69: x.shape=torch.Size([4, 256]), y.shape=torch.Size([4, 256])\n",
      "Batch #70: x.shape=torch.Size([4, 256]), y.shape=torch.Size([4, 256])\n",
      "Batch #71: x.shape=torch.Size([4, 256]), y.shape=torch.Size([4, 256])\n",
      "Batch #72: x.shape=torch.Size([4, 256]), y.shape=torch.Size([4, 256])\n",
      "Batch #73: x.shape=torch.Size([4, 256]), y.shape=torch.Size([4, 256])\n",
      "Batch #74: x.shape=torch.Size([4, 256]), y.shape=torch.Size([4, 256])\n",
      "Batch #75: x.shape=torch.Size([4, 256]), y.shape=torch.Size([4, 256])\n",
      "Batch #76: x.shape=torch.Size([4, 256]), y.shape=torch.Size([4, 256])\n",
      "Batch #77: x.shape=torch.Size([4, 256]), y.shape=torch.Size([4, 256])\n",
      "Batch #78: x.shape=torch.Size([4, 256]), y.shape=torch.Size([4, 256])\n",
      "Batch #79: x.shape=torch.Size([4, 256]), y.shape=torch.Size([4, 256])\n",
      "Batch #80: x.shape=torch.Size([4, 256]), y.shape=torch.Size([4, 256])\n",
      "Batch #81: x.shape=torch.Size([4, 256]), y.shape=torch.Size([4, 256])\n",
      "Batch #82: x.shape=torch.Size([4, 256]), y.shape=torch.Size([4, 256])\n",
      "Batch #83: x.shape=torch.Size([4, 256]), y.shape=torch.Size([4, 256])\n",
      "Batch #84: x.shape=torch.Size([4, 256]), y.shape=torch.Size([4, 256])\n",
      "Batch #85: x.shape=torch.Size([4, 256]), y.shape=torch.Size([4, 256])\n",
      "Batch #86: x.shape=torch.Size([4, 256]), y.shape=torch.Size([4, 256])\n",
      "Batch #87: x.shape=torch.Size([4, 256]), y.shape=torch.Size([4, 256])\n",
      "Batch #88: x.shape=torch.Size([4, 256]), y.shape=torch.Size([4, 256])\n",
      "Batch #89: x.shape=torch.Size([4, 256]), y.shape=torch.Size([4, 256])\n",
      "Batch #90: x.shape=torch.Size([4, 256]), y.shape=torch.Size([4, 256])\n",
      "Batch #91: x.shape=torch.Size([4, 256]), y.shape=torch.Size([4, 256])\n",
      "Batch #92: x.shape=torch.Size([4, 256]), y.shape=torch.Size([4, 256])\n",
      "Batch #93: x.shape=torch.Size([4, 256]), y.shape=torch.Size([4, 256])\n",
      "Batch #94: x.shape=torch.Size([4, 256]), y.shape=torch.Size([4, 256])\n",
      "Batch #95: x.shape=torch.Size([4, 256]), y.shape=torch.Size([4, 256])\n",
      "Batch #96: x.shape=torch.Size([4, 256]), y.shape=torch.Size([4, 256])\n",
      "Batch #97: x.shape=torch.Size([4, 256]), y.shape=torch.Size([4, 256])\n",
      "Batch #98: x.shape=torch.Size([4, 256]), y.shape=torch.Size([4, 256])\n",
      "Batch #99: x.shape=torch.Size([4, 256]), y.shape=torch.Size([4, 256])\n",
      "Batch #100: x.shape=torch.Size([4, 256]), y.shape=torch.Size([4, 256])\n",
      "Batch #101: x.shape=torch.Size([4, 256]), y.shape=torch.Size([4, 256])\n",
      "Batch #102: x.shape=torch.Size([4, 256]), y.shape=torch.Size([4, 256])\n",
      "Batch #103: x.shape=torch.Size([4, 256]), y.shape=torch.Size([4, 256])\n",
      "Batch #104: x.shape=torch.Size([4, 256]), y.shape=torch.Size([4, 256])\n",
      "Batch #105: x.shape=torch.Size([4, 256]), y.shape=torch.Size([4, 256])\n",
      "Batch #106: x.shape=torch.Size([4, 256]), y.shape=torch.Size([4, 256])\n",
      "Batch #107: x.shape=torch.Size([4, 256]), y.shape=torch.Size([4, 256])\n",
      "Batch #108: x.shape=torch.Size([4, 256]), y.shape=torch.Size([4, 256])\n",
      "Batch #109: x.shape=torch.Size([4, 256]), y.shape=torch.Size([4, 256])\n",
      "Batch #110: x.shape=torch.Size([4, 256]), y.shape=torch.Size([4, 256])\n",
      "Batch #111: x.shape=torch.Size([4, 256]), y.shape=torch.Size([4, 256])\n",
      "Batch #112: x.shape=torch.Size([4, 256]), y.shape=torch.Size([4, 256])\n",
      "Batch #113: x.shape=torch.Size([4, 256]), y.shape=torch.Size([4, 256])\n",
      "Batch #114: x.shape=torch.Size([4, 256]), y.shape=torch.Size([4, 256])\n",
      "Batch #115: x.shape=torch.Size([4, 256]), y.shape=torch.Size([4, 256])\n",
      "Batch #116: x.shape=torch.Size([4, 256]), y.shape=torch.Size([4, 256])\n",
      "Batch #117: x.shape=torch.Size([4, 256]), y.shape=torch.Size([4, 256])\n",
      "Batch #118: x.shape=torch.Size([4, 256]), y.shape=torch.Size([4, 256])\n",
      "Batch #119: x.shape=torch.Size([4, 256]), y.shape=torch.Size([4, 256])\n",
      "Batch #120: x.shape=torch.Size([4, 256]), y.shape=torch.Size([4, 256])\n",
      "Batch #121: x.shape=torch.Size([4, 256]), y.shape=torch.Size([4, 256])\n",
      "Batch #122: x.shape=torch.Size([4, 256]), y.shape=torch.Size([4, 256])\n",
      "Batch #123: x.shape=torch.Size([4, 256]), y.shape=torch.Size([4, 256])\n",
      "Batch #124: x.shape=torch.Size([4, 256]), y.shape=torch.Size([4, 256])\n",
      "Batch #125: x.shape=torch.Size([4, 256]), y.shape=torch.Size([4, 256])\n",
      "Batch #126: x.shape=torch.Size([4, 256]), y.shape=torch.Size([4, 256])\n",
      "Batch #127: x.shape=torch.Size([4, 256]), y.shape=torch.Size([4, 256])\n",
      "Batch #128: x.shape=torch.Size([4, 256]), y.shape=torch.Size([4, 256])\n",
      "Batch #129: x.shape=torch.Size([4, 256]), y.shape=torch.Size([4, 256])\n",
      "Batch #130: x.shape=torch.Size([4, 256]), y.shape=torch.Size([4, 256])\n",
      "Batch #131: x.shape=torch.Size([4, 256]), y.shape=torch.Size([4, 256])\n",
      "Batch #132: x.shape=torch.Size([4, 256]), y.shape=torch.Size([4, 256])\n",
      "Batch #133: x.shape=torch.Size([4, 256]), y.shape=torch.Size([4, 256])\n",
      "Batch #134: x.shape=torch.Size([4, 256]), y.shape=torch.Size([4, 256])\n",
      "Batch #135: x.shape=torch.Size([4, 256]), y.shape=torch.Size([4, 256])\n",
      "Batch #136: x.shape=torch.Size([4, 256]), y.shape=torch.Size([4, 256])\n",
      "Batch #137: x.shape=torch.Size([4, 256]), y.shape=torch.Size([4, 256])\n",
      "Batch #138: x.shape=torch.Size([4, 256]), y.shape=torch.Size([4, 256])\n",
      "Batch #139: x.shape=torch.Size([4, 256]), y.shape=torch.Size([4, 256])\n",
      "Batch #140: x.shape=torch.Size([4, 256]), y.shape=torch.Size([4, 256])\n",
      "Batch #141: x.shape=torch.Size([4, 256]), y.shape=torch.Size([4, 256])\n",
      "Batch #142: x.shape=torch.Size([4, 256]), y.shape=torch.Size([4, 256])\n",
      "Batch #143: x.shape=torch.Size([4, 256]), y.shape=torch.Size([4, 256])\n",
      "Batch #144: x.shape=torch.Size([4, 256]), y.shape=torch.Size([4, 256])\n",
      "Batch #145: x.shape=torch.Size([4, 256]), y.shape=torch.Size([4, 256])\n",
      "Batch #146: x.shape=torch.Size([4, 256]), y.shape=torch.Size([4, 256])\n",
      "\n",
      "Validation loader:\n",
      "Batch #1: x.shape=torch.Size([4, 256]), y.shape=torch.Size([4, 256])\n",
      "Batch #2: x.shape=torch.Size([4, 256]), y.shape=torch.Size([4, 256])\n",
      "Batch #3: x.shape=torch.Size([4, 256]), y.shape=torch.Size([4, 256])\n",
      "Batch #4: x.shape=torch.Size([4, 256]), y.shape=torch.Size([4, 256])\n",
      "Batch #5: x.shape=torch.Size([4, 256]), y.shape=torch.Size([4, 256])\n",
      "Batch #6: x.shape=torch.Size([4, 256]), y.shape=torch.Size([4, 256])\n",
      "Batch #7: x.shape=torch.Size([4, 256]), y.shape=torch.Size([4, 256])\n",
      "Batch #8: x.shape=torch.Size([4, 256]), y.shape=torch.Size([4, 256])\n",
      "Batch #9: x.shape=torch.Size([4, 256]), y.shape=torch.Size([4, 256])\n",
      "Batch #10: x.shape=torch.Size([4, 256]), y.shape=torch.Size([4, 256])\n",
      "Batch #11: x.shape=torch.Size([4, 256]), y.shape=torch.Size([4, 256])\n",
      "Batch #12: x.shape=torch.Size([4, 256]), y.shape=torch.Size([4, 256])\n",
      "Batch #13: x.shape=torch.Size([4, 256]), y.shape=torch.Size([4, 256])\n",
      "Batch #14: x.shape=torch.Size([4, 256]), y.shape=torch.Size([4, 256])\n",
      "Batch #15: x.shape=torch.Size([4, 256]), y.shape=torch.Size([4, 256])\n",
      "Batch #16: x.shape=torch.Size([4, 256]), y.shape=torch.Size([4, 256])\n",
      "Batch #17: x.shape=torch.Size([4, 256]), y.shape=torch.Size([4, 256])\n",
      "Batch #18: x.shape=torch.Size([4, 256]), y.shape=torch.Size([4, 256])\n",
      "Batch #19: x.shape=torch.Size([4, 256]), y.shape=torch.Size([4, 256])\n",
      "Batch #20: x.shape=torch.Size([4, 256]), y.shape=torch.Size([4, 256])\n",
      "Batch #21: x.shape=torch.Size([4, 256]), y.shape=torch.Size([4, 256])\n",
      "Batch #22: x.shape=torch.Size([4, 256]), y.shape=torch.Size([4, 256])\n",
      "Batch #23: x.shape=torch.Size([4, 256]), y.shape=torch.Size([4, 256])\n",
      "Batch #24: x.shape=torch.Size([4, 256]), y.shape=torch.Size([4, 256])\n",
      "Batch #25: x.shape=torch.Size([4, 256]), y.shape=torch.Size([4, 256])\n",
      "Batch #26: x.shape=torch.Size([2, 256]), y.shape=torch.Size([2, 256])\n",
      "\n"
     ]
    }
   ],
   "execution_count": 5
  },
  {
   "metadata": {},
   "cell_type": "markdown",
   "source": [
    "As can be seen in the output above, for Pride and Prejudice, a 85/15 training/validation split yields 146 training batches, with 4 samples and 256 tokens each. We also have 26 validation batches, also consisting of 4 examples and 256 tokens each. Note also that the input x and target y are of the same shape (since the targets are just the inputs shifted by a single position). Let's now calculate the cross-entropy loss for a given batch.\n",
    "\n",
    "From this point onwards, we will use \"The Awakening, and Selected Short Stories\" by Kate Chopin, simply due to the fact that my computer can't train this model on a corpus as big as \"Pride and Prejudice\" at a convenient speed."
   ],
   "id": "32eef47e4f0e0db1"
  },
  {
   "metadata": {
    "ExecuteTime": {
     "end_time": "2025-06-28T17:40:49.869709Z",
     "start_time": "2025-06-28T17:40:30.065592Z"
    }
   },
   "cell_type": "code",
   "source": [
    "def calc_loss_cross_entropy(logits, target):\n",
    "    \"\"\"\n",
    "    logits.shape == (batch_size, sequence_length, vocab_size)\n",
    "    targets.shape == (batch_size, sequence_length)\n",
    "    \"\"\"\n",
    "    flat_logits = logits.flatten(0, 1) #(batch_size*seq_len, vocab)\n",
    "    flat_targets = target.flatten(0) #(batch_size*seq_len)\n",
    "    return torch.nn.functional.cross_entropy(flat_logits, flat_targets)\n",
    "\n",
    "\n",
    "def eval_loss(data_loader, model, device, max_batches=None):\n",
    "    \"\"\"\n",
    "    run model.eval() and return average cross-entropy loss over up to max_batches(optional)\n",
    "    \"\"\"\n",
    "    model.eval()\n",
    "    total, count = 0.0, 0\n",
    "    with torch.no_grad():\n",
    "        for i, (x, y) in enumerate(data_loader):\n",
    "            if max_batches is not None and i >= max_batches:\n",
    "                break\n",
    "            x, y = x.to(device), y.to(device)\n",
    "            logits = model(x)\n",
    "            total += calc_loss_cross_entropy(logits, y).item()\n",
    "            count += 1\n",
    "    return float('nan') if count == 0 else total / count\n",
    "\n",
    "device = torch.device('cuda' if torch.cuda.is_available() else 'cpu')\n",
    "model.to(device)\n",
    "train_loss = eval_loss(train_loader, model, device)\n",
    "val_loss = eval_loss(val_loader, model, device)\n",
    "print(f\"Train loss: {train_loss}\")\n",
    "print(f\"Valid loss: {val_loss}\")"
   ],
   "id": "2a34e096dc01deaa",
   "outputs": [
    {
     "name": "stdout",
     "output_type": "stream",
     "text": [
      "Train loss: 10.968981901804606\n",
      "Valid loss: 10.977005958557129\n"
     ]
    }
   ],
   "execution_count": 6
  },
  {
   "metadata": {
    "ExecuteTime": {
     "end_time": "2025-06-28T17:36:50.739293Z",
     "start_time": "2025-06-28T17:36:50.733904Z"
    }
   },
   "cell_type": "code",
   "source": [
    "print(f'Training perplexity: {torch.exp(torch.tensor(train_loss))}')\n",
    "print(f'Validation perplexity: {torch.exp(torch.tensor(val_loss))}')"
   ],
   "id": "a5df813d6002d5a3",
   "outputs": [
    {
     "name": "stdout",
     "output_type": "stream",
     "text": [
      "Training perplexity: 60217.49609375\n",
      "Validation perplexity: 59467.09375\n"
     ]
    }
   ],
   "execution_count": 7
  },
  {
   "metadata": {},
   "cell_type": "markdown",
   "source": "As shown above, the loss values are very high, reflecting the fact that the model has not been trained. At least we now have a way to measure the quality of the text that is generated, and can now proceed to methodologicaly train the LLM to reduce this loss and improve our model!",
   "id": "d2a9e276ee7f5375"
  },
  {
   "metadata": {
    "ExecuteTime": {
     "end_time": "2025-06-28T17:40:51.833705Z",
     "start_time": "2025-06-28T17:40:49.879099Z"
    }
   },
   "cell_type": "code",
   "source": [
    "import time\n",
    "from tqdm.auto import tqdm\n",
    "\n",
    "def eval_losses(model, loaders, device, max_batches):\n",
    "    model.eval()\n",
    "    losses = {}\n",
    "    with torch.no_grad():\n",
    "        for split, loader in loaders.items():\n",
    "            losses[split] = eval_loss(loader, model, device, max_batches)\n",
    "    model.train()\n",
    "    return losses\n",
    "\n",
    "def generate_sample(model, tokenizer, device, prompt):\n",
    "    model.eval()\n",
    "    context_size = model.pos_emb.weight.shape[0]\n",
    "    input_ids = text_to_token_ids(prompt, tokenizer, allowed_special=None).to(device)\n",
    "    with torch.no_grad():\n",
    "        output_ids = generate_text(model=model, idx=input_ids, max_new_tokens=50, context_size=context_size)\n",
    "    text = token_ids_to_text(output_ids, tokenizer).replace(\"\\n\", \" \")\n",
    "    print(text)\n",
    "    model.train()\n",
    "\n",
    "def train_model(model, train_loader, val_loader,\n",
    "                optimizer, device, num_epochs,\n",
    "                eval_freq, eval_iter, sample_prompt, tokenizer):\n",
    "    history = {\n",
    "        \"steps\": [],\n",
    "        \"train_loss\": [],\n",
    "        \"val_loss\": []\n",
    "    }\n",
    "    model.to(device)\n",
    "    global_step = 0\n",
    "    tokens_seen = 0\n",
    "\n",
    "    for epoch in range(1, num_epochs + 1):\n",
    "        model.train()\n",
    "        epoch_start = time.time()\n",
    "        pbar = tqdm(train_loader, desc=f'Epoch {epoch}/{num_epochs}')\n",
    "        for x,y in pbar:\n",
    "            global_step += 1\n",
    "            x = x.to(device)\n",
    "            y = y.to(device)\n",
    "            optimizer.zero_grad()\n",
    "            logits = model(x)\n",
    "            loss = calc_loss_cross_entropy(logits, y)\n",
    "            loss.backward()\n",
    "            optimizer.step()\n",
    "            tokens_seen += x.numel()\n",
    "            pbar.set_postfix(loss=loss.item())\n",
    "\n",
    "            #periodic evaluation\n",
    "            if global_step % eval_freq == 0:\n",
    "                #train_l = eval_loss(train_loader, model, device, max_batches=eval_iter)\n",
    "                #val_l = eval_loss(val_loader, model, device, max_batches=eval_iter)\n",
    "                losses = eval_losses(\n",
    "                    model,\n",
    "                    {'train': train_loader, 'val': val_loader},\n",
    "                    device,\n",
    "                    eval_iter\n",
    "                )\n",
    "                history['steps'].append(global_step)\n",
    "                history['train_loss'].append(losses['train'])\n",
    "                history['val_loss'].append(losses['val'])\n",
    "                print(f'[Step {global_step}], Train CE={losses[\"train\"]}, Val CE={losses[\"val\"]}, Tokens seen={tokens_seen}')\n",
    "\n",
    "                if sample_prompt and tokenizer:\n",
    "                    print(\"--> Sample generation:\")\n",
    "                    generate_sample(model, tokenizer, device, sample_prompt)\n",
    "\n",
    "        epoch_time = time.time() - epoch_start\n",
    "        print(f'Epoch {epoch} done in {epoch_time} seconds')\n",
    "    return history\n",
    "\n",
    "optimizer = torch.optim.AdamW(model.parameters(), lr=0.0004, weight_decay=0.1)\n",
    "num_epochs = 10\n",
    "torch.manual_seed(123)"
   ],
   "id": "ab1bcef6d4a441e2",
   "outputs": [
    {
     "data": {
      "text/plain": [
       "<torch._C.Generator at 0x1078531b0>"
      ]
     },
     "execution_count": 7,
     "metadata": {},
     "output_type": "execute_result"
    }
   ],
   "execution_count": 7
  },
  {
   "metadata": {
    "ExecuteTime": {
     "end_time": "2025-06-28T12:25:33.378084Z",
     "start_time": "2025-06-28T12:13:31.540728Z"
    }
   },
   "cell_type": "code",
   "source": [
    "history = train_model(model, train_loader, val_loader,\n",
    "                      optimizer, device=device, num_epochs=num_epochs,\n",
    "                      eval_freq = 10, eval_iter =5, sample_prompt=\"A man once told me\",\n",
    "                      tokenizer=tokenizer)"
   ],
   "id": "b5750b2c029ce76d",
   "outputs": [
    {
     "data": {
      "text/plain": [
       "Epoch 1/10:   0%|          | 0/12 [00:00<?, ?it/s]"
      ],
      "application/vnd.jupyter.widget-view+json": {
       "version_major": 2,
       "version_minor": 0,
       "model_id": "6e6e67a635f241128d01b7c548489039"
      }
     },
     "metadata": {},
     "output_type": "display_data"
    },
    {
     "name": "stdout",
     "output_type": "stream",
     "text": [
      "[Step 10], Train CE=6.996414089202881, Val CE=7.440126180648804, Tokens seen=10240\n",
      "--> Sample generation:\n",
      "A man once told me. . . . . . . . . . . . . . . . . . . . . . . . . \n",
      "Epoch 1 done in 74.3529908657074 seconds\n"
     ]
    },
    {
     "data": {
      "text/plain": [
       "Epoch 2/10:   0%|          | 0/12 [00:00<?, ?it/s]"
      ],
      "application/vnd.jupyter.widget-view+json": {
       "version_major": 2,
       "version_minor": 0,
       "model_id": "f5a9d6e316e04282800df224fdc1025f"
      }
     },
     "metadata": {},
     "output_type": "display_data"
    },
    {
     "name": "stdout",
     "output_type": "stream",
     "text": [
      "[Step 20], Train CE=6.085464286804199, Val CE=7.110649108886719, Tokens seen=20480\n",
      "--> Sample generation:\n",
      "A man once told me, and the ” ” ” ” ” ” ” ” ” ” ” ” the ” ” ” \n",
      "Epoch 2 done in 67.03633999824524 seconds\n"
     ]
    },
    {
     "data": {
      "text/plain": [
       "Epoch 3/10:   0%|          | 0/12 [00:00<?, ?it/s]"
      ],
      "application/vnd.jupyter.widget-view+json": {
       "version_major": 2,
       "version_minor": 0,
       "model_id": "0dcd80afec7842a09e18a3e49c957c3b"
      }
     },
     "metadata": {},
     "output_type": "display_data"
    },
    {
     "name": "stdout",
     "output_type": "stream",
     "text": [
      "[Step 30], Train CE=5.863742637634277, Val CE=7.040201663970947, Tokens seen=30720\n",
      "--> Sample generation:\n",
      "A man once told me to the ” ” ” ” ” ” ” ” ” ” ” ” ” ” ” ”\n",
      "Epoch 3 done in 68.32929015159607 seconds\n"
     ]
    },
    {
     "data": {
      "text/plain": [
       "Epoch 4/10:   0%|          | 0/12 [00:00<?, ?it/s]"
      ],
      "application/vnd.jupyter.widget-view+json": {
       "version_major": 2,
       "version_minor": 0,
       "model_id": "8b8f81ebd83048c19b4d77bb2e1fbf77"
      }
     },
     "metadata": {},
     "output_type": "display_data"
    },
    {
     "name": "stdout",
     "output_type": "stream",
     "text": [
      "[Step 40], Train CE=5.735688018798828, Val CE=7.01276159286499, Tokens seen=40960\n",
      "--> Sample generation:\n",
      "A man once told me The the�s. The to the The which The a�s. The a little was a�s The a little the The the The a�s. The a little. Mrs. \n",
      "Epoch 4 done in 66.72336196899414 seconds\n"
     ]
    },
    {
     "data": {
      "text/plain": [
       "Epoch 5/10:   0%|          | 0/12 [00:00<?, ?it/s]"
      ],
      "application/vnd.jupyter.widget-view+json": {
       "version_major": 2,
       "version_minor": 0,
       "model_id": "a777e82fe69e4dbd81d160a447f1d8ce"
      }
     },
     "metadata": {},
     "output_type": "display_data"
    },
    {
     "name": "stdout",
     "output_type": "stream",
     "text": [
      "[Step 50], Train CE=5.249767303466797, Val CE=6.898496866226196, Tokens seen=51200\n",
      "--> Sample generation:\n",
      "A man once told me The. Pontellier, and The. Pontellier, and The the The theier was a The The the The The The The The. Pontellier, and The The\n",
      "[Step 60], Train CE=5.001570034027099, Val CE=6.870227575302124, Tokens seen=61440\n",
      "--> Sample generation:\n",
      "A man once told me ” ” ” ” he had ” ” ” ” ” ” ” he had. ” he had. ” ”\n",
      "Epoch 5 done in 78.21673583984375 seconds\n"
     ]
    },
    {
     "data": {
      "text/plain": [
       "Epoch 6/10:   0%|          | 0/12 [00:00<?, ?it/s]"
      ],
      "application/vnd.jupyter.widget-view+json": {
       "version_major": 2,
       "version_minor": 0,
       "model_id": "e2d5a8c00941442198a2b75b0648d824"
      }
     },
     "metadata": {},
     "output_type": "display_data"
    },
    {
     "name": "stdout",
     "output_type": "stream",
     "text": [
      "[Step 70], Train CE=4.589968967437744, Val CE=6.732833385467529, Tokens seen=71680\n",
      "--> Sample generation:\n",
      "A man once told me to ’s. ” “I. “I. “I was a little to the “I “I’s. “I, and “I\n",
      "Epoch 6 done in 68.35888528823853 seconds\n"
     ]
    },
    {
     "data": {
      "text/plain": [
       "Epoch 7/10:   0%|          | 0/12 [00:00<?, ?it/s]"
      ],
      "application/vnd.jupyter.widget-view+json": {
       "version_major": 2,
       "version_minor": 0,
       "model_id": "7e8eee9a08c4408297d54aee3340c3d9"
      }
     },
     "metadata": {},
     "output_type": "display_data"
    },
    {
     "name": "stdout",
     "output_type": "stream",
     "text": [
      "[Step 80], Train CE=3.9849631786346436, Val CE=6.707085132598877, Tokens seen=81920\n",
      "--> Sample generation:\n",
      "A man once told me the and the ” ” ” ” ” ” ” ” ” ” ” ” ” he was a ” \n",
      "Epoch 7 done in 68.58648681640625 seconds\n"
     ]
    },
    {
     "data": {
      "text/plain": [
       "Epoch 8/10:   0%|          | 0/12 [00:00<?, ?it/s]"
      ],
      "application/vnd.jupyter.widget-view+json": {
       "version_major": 2,
       "version_minor": 0,
       "model_id": "95bbd2bf80294b66a378329184c09eb1"
      }
     },
     "metadata": {},
     "output_type": "display_data"
    },
    {
     "name": "stdout",
     "output_type": "stream",
     "text": [
      "[Step 90], Train CE=3.5980672359466555, Val CE=6.719225883483887, Tokens seen=92160\n",
      "--> Sample generation:\n",
      "A man once told me to ’s “I, and “I had been. “I’s!“You was not have been a “You“I. “I“I�\n",
      "Epoch 8 done in 67.70622110366821 seconds\n"
     ]
    },
    {
     "data": {
      "text/plain": [
       "Epoch 9/10:   0%|          | 0/12 [00:00<?, ?it/s]"
      ],
      "application/vnd.jupyter.widget-view+json": {
       "version_major": 2,
       "version_minor": 0,
       "model_id": "f77b90b3b5d14d9ab188007f4443406d"
      }
     },
     "metadata": {},
     "output_type": "display_data"
    },
    {
     "name": "stdout",
     "output_type": "stream",
     "text": [
      "[Step 100], Train CE=3.08915319442749, Val CE=6.718594789505005, Tokens seen=102400\n",
      "--> Sample generation:\n",
      "A man once told me to ” he had been. ” he had no to the ” he had been a ” he had. ” he had ” he had been a little,” he had been a \n",
      "Epoch 9 done in 71.67139196395874 seconds\n"
     ]
    },
    {
     "data": {
      "text/plain": [
       "Epoch 10/10:   0%|          | 0/12 [00:00<?, ?it/s]"
      ],
      "application/vnd.jupyter.widget-view+json": {
       "version_major": 2,
       "version_minor": 0,
       "model_id": "6179388bbd364c80ae67ad9d7e73c408"
      }
     },
     "metadata": {},
     "output_type": "display_data"
    },
    {
     "name": "stdout",
     "output_type": "stream",
     "text": [
      "[Step 110], Train CE=2.582422399520874, Val CE=6.735230922698975, Tokens seen=112640\n",
      "--> Sample generation:\n",
      "A man once told me a little, and pressed his suit with a the and an her. the, and the water-oaks, and the beach was a little the ’s hotel. ” he had a little ” she\n",
      "[Step 120], Train CE=2.273233509063721, Val CE=6.8327696323394775, Tokens seen=122880\n",
      "--> Sample generation:\n",
      "A man once told me a bitter her of the depths of the other conven. Pontellier had been dead. “Oh,“You trimmed. ” she spread upon the water. ’s and some speculation. “I\n",
      "Epoch 10 done in 90.81413412094116 seconds\n"
     ]
    }
   ],
   "execution_count": 35
  },
  {
   "metadata": {
    "ExecuteTime": {
     "end_time": "2025-06-28T16:17:06.210822Z",
     "start_time": "2025-06-28T16:17:05.745254Z"
    }
   },
   "cell_type": "code",
   "source": [
    "import matplotlib.pyplot as plt\n",
    "import numpy as np\n",
    "\n",
    "best_val_loss_step = history['steps'][np.argmin(history['val_loss'])]\n",
    "best_val_loss = min(history['val_loss'])\n",
    "\n",
    "fig, ax1 = plt.subplots(figsize=(12, 6))\n",
    "plt.style.use('seaborn-v0_8-whitegrid')\n",
    "color = 'tab:blue'\n",
    "ax1.set_xlabel('Training steps')\n",
    "ax1.set_ylabel('Loss (Cross-Entropy)', color=color)\n",
    "ax1.plot(history['steps'],history['train_loss'],color=color, linestyle='-', label='Training loss')\n",
    "ax1.plot(history['steps'],history['val_loss'],color=color, linestyle='--', label='Validation loss')\n",
    "ax1.tick_params(axis='y', labelcolor=color)\n",
    "ax1.legend(loc='upper left')\n",
    "\n",
    "# Annotate the best validation loss\n",
    "ax1.annotate(f'Best Val Loss: {best_val_loss:.3f}',\n",
    "             xy=(best_val_loss_step, best_val_loss),\n",
    "             xytext=(best_val_loss_step, best_val_loss + 0.2),\n",
    "             arrowprops=dict(facecolor='black', shrink=0.05, width=1, headwidth=8),\n",
    "             ha='center')\n",
    "ax1.scatter(best_val_loss_step, best_val_loss, s=100, facecolors='none', edgecolors='r', zorder=5)\n",
    "\n",
    "plt.title('Training and validation loss')\n",
    "fig.tight_layout()\n",
    "plt.show()\n",
    "\n"
   ],
   "id": "9379993f6c23bc1",
   "outputs": [
    {
     "data": {
      "text/plain": [
       "<Figure size 1200x600 with 1 Axes>"
      ],
      "image/png": "[encoded data removed]"
     },
     "metadata": {},
     "output_type": "display_data"
    }
   ],
   "execution_count": 47
  },
  {
   "metadata": {
    "ExecuteTime": {
     "end_time": "2025-06-28T12:28:23.477794Z",
     "start_time": "2025-06-28T12:28:18.032195Z"
    }
   },
   "cell_type": "code",
   "source": [
    "torch.save({'model_state_dict': model.state_dict(),\n",
    "            'optimizer_state_dict': optimizer.state_dict()},\n",
    "           'model_and_optimizer.pth')"
   ],
   "id": "ee3c1be544764a3d",
   "outputs": [],
   "execution_count": 37
  },
  {
   "metadata": {},
   "cell_type": "markdown",
   "source": [
    "The most important conclusion from this training run is that our model is severely overfitting the training data. While it is successfully learning (see the training loss going down monotonically), it seems to be learning to memorize our small training corpus rather than generalizing the rules of the English language (see the validation loss quickly plateauing and diverging from the training loss). The growing chasm between the training and validation loss curves represent the model's failure to generalize. It is becoming an expert on a book it has read a thousand times, but is increasingly unable to write a new one.\n",
    "\n",
    "Another way to think about is that there is a fundamental mismatch between model capacity and data volume. Our model is too powerful for the tiny dataset (~1000 lines), and it has so many parameters that it can just take the easier path of simply memorizing the entire dataset. To improve training, we could:\n",
    "\n",
    "- **Drastically increase dataset size.** Our corpus is perhaps better suited for a simple n-gram model, but trivial for a LLM. Indeed, it is common to use datasets 1000x larger or more.\n",
    "- **Implement early stopping**, since our validation loss fails to improve after step ~75.\n",
    "- **Strengthen regularization** through more dropout, weight decay, etc."
   ],
   "id": "60c1bd7e201d63b9"
  },
  {
   "metadata": {
    "ExecuteTime": {
     "end_time": "2025-06-28T17:41:07.134703Z",
     "start_time": "2025-06-28T17:41:02.931863Z"
    }
   },
   "cell_type": "code",
   "source": [
    "checkp = torch.load('model_and_optimizer.pth', map_location=device)\n",
    "model = GPTModel(cfg_pt)\n",
    "model.load_state_dict(checkp['model_state_dict'])\n",
    "optimizer = torch.optim.AdamW(model.parameters(), lr=0.0004, weight_decay=0.1)\n",
    "optimizer.load_state_dict(checkp['optimizer_state_dict'])\n",
    "model.train()"
   ],
   "id": "1432a4b3482fa246",
   "outputs": [
    {
     "data": {
      "text/plain": [
       "GPTModel(\n",
       "  (tok_emb): Embedding(50257, 768)\n",
       "  (pos_emb): Embedding(256, 768)\n",
       "  (drop_emb): Dropout(p=0.1, inplace=False)\n",
       "  (trf_blocks): Sequential(\n",
       "    (0): TransformerBlock(\n",
       "      (att): MultiHeadAttention(\n",
       "        (W_q): Linear(in_features=768, out_features=768, bias=False)\n",
       "        (W_k): Linear(in_features=768, out_features=768, bias=False)\n",
       "        (W_v): Linear(in_features=768, out_features=768, bias=False)\n",
       "        (dropout): Dropout(p=0.1, inplace=False)\n",
       "        (out_proj): Linear(in_features=768, out_features=768, bias=True)\n",
       "      )\n",
       "      (ff): FeedForward(\n",
       "        (layers): Sequential(\n",
       "          (0): Linear(in_features=768, out_features=3072, bias=True)\n",
       "          (1): GELU()\n",
       "          (2): Linear(in_features=3072, out_features=768, bias=True)\n",
       "        )\n",
       "      )\n",
       "      (norm1): LayerNorm()\n",
       "      (norm2): LayerNorm()\n",
       "      (drop_shortcut): Dropout(p=0.1, inplace=False)\n",
       "    )\n",
       "    (1): TransformerBlock(\n",
       "      (att): MultiHeadAttention(\n",
       "        (W_q): Linear(in_features=768, out_features=768, bias=False)\n",
       "        (W_k): Linear(in_features=768, out_features=768, bias=False)\n",
       "        (W_v): Linear(in_features=768, out_features=768, bias=False)\n",
       "        (dropout): Dropout(p=0.1, inplace=False)\n",
       "        (out_proj): Linear(in_features=768, out_features=768, bias=True)\n",
       "      )\n",
       "      (ff): FeedForward(\n",
       "        (layers): Sequential(\n",
       "          (0): Linear(in_features=768, out_features=3072, bias=True)\n",
       "          (1): GELU()\n",
       "          (2): Linear(in_features=3072, out_features=768, bias=True)\n",
       "        )\n",
       "      )\n",
       "      (norm1): LayerNorm()\n",
       "      (norm2): LayerNorm()\n",
       "      (drop_shortcut): Dropout(p=0.1, inplace=False)\n",
       "    )\n",
       "    (2): TransformerBlock(\n",
       "      (att): MultiHeadAttention(\n",
       "        (W_q): Linear(in_features=768, out_features=768, bias=False)\n",
       "        (W_k): Linear(in_features=768, out_features=768, bias=False)\n",
       "        (W_v): Linear(in_features=768, out_features=768, bias=False)\n",
       "        (dropout): Dropout(p=0.1, inplace=False)\n",
       "        (out_proj): Linear(in_features=768, out_features=768, bias=True)\n",
       "      )\n",
       "      (ff): FeedForward(\n",
       "        (layers): Sequential(\n",
       "          (0): Linear(in_features=768, out_features=3072, bias=True)\n",
       "          (1): GELU()\n",
       "          (2): Linear(in_features=3072, out_features=768, bias=True)\n",
       "        )\n",
       "      )\n",
       "      (norm1): LayerNorm()\n",
       "      (norm2): LayerNorm()\n",
       "      (drop_shortcut): Dropout(p=0.1, inplace=False)\n",
       "    )\n",
       "    (3): TransformerBlock(\n",
       "      (att): MultiHeadAttention(\n",
       "        (W_q): Linear(in_features=768, out_features=768, bias=False)\n",
       "        (W_k): Linear(in_features=768, out_features=768, bias=False)\n",
       "        (W_v): Linear(in_features=768, out_features=768, bias=False)\n",
       "        (dropout): Dropout(p=0.1, inplace=False)\n",
       "        (out_proj): Linear(in_features=768, out_features=768, bias=True)\n",
       "      )\n",
       "      (ff): FeedForward(\n",
       "        (layers): Sequential(\n",
       "          (0): Linear(in_features=768, out_features=3072, bias=True)\n",
       "          (1): GELU()\n",
       "          (2): Linear(in_features=3072, out_features=768, bias=True)\n",
       "        )\n",
       "      )\n",
       "      (norm1): LayerNorm()\n",
       "      (norm2): LayerNorm()\n",
       "      (drop_shortcut): Dropout(p=0.1, inplace=False)\n",
       "    )\n",
       "    (4): TransformerBlock(\n",
       "      (att): MultiHeadAttention(\n",
       "        (W_q): Linear(in_features=768, out_features=768, bias=False)\n",
       "        (W_k): Linear(in_features=768, out_features=768, bias=False)\n",
       "        (W_v): Linear(in_features=768, out_features=768, bias=False)\n",
       "        (dropout): Dropout(p=0.1, inplace=False)\n",
       "        (out_proj): Linear(in_features=768, out_features=768, bias=True)\n",
       "      )\n",
       "      (ff): FeedForward(\n",
       "        (layers): Sequential(\n",
       "          (0): Linear(in_features=768, out_features=3072, bias=True)\n",
       "          (1): GELU()\n",
       "          (2): Linear(in_features=3072, out_features=768, bias=True)\n",
       "        )\n",
       "      )\n",
       "      (norm1): LayerNorm()\n",
       "      (norm2): LayerNorm()\n",
       "      (drop_shortcut): Dropout(p=0.1, inplace=False)\n",
       "    )\n",
       "    (5): TransformerBlock(\n",
       "      (att): MultiHeadAttention(\n",
       "        (W_q): Linear(in_features=768, out_features=768, bias=False)\n",
       "        (W_k): Linear(in_features=768, out_features=768, bias=False)\n",
       "        (W_v): Linear(in_features=768, out_features=768, bias=False)\n",
       "        (dropout): Dropout(p=0.1, inplace=False)\n",
       "        (out_proj): Linear(in_features=768, out_features=768, bias=True)\n",
       "      )\n",
       "      (ff): FeedForward(\n",
       "        (layers): Sequential(\n",
       "          (0): Linear(in_features=768, out_features=3072, bias=True)\n",
       "          (1): GELU()\n",
       "          (2): Linear(in_features=3072, out_features=768, bias=True)\n",
       "        )\n",
       "      )\n",
       "      (norm1): LayerNorm()\n",
       "      (norm2): LayerNorm()\n",
       "      (drop_shortcut): Dropout(p=0.1, inplace=False)\n",
       "    )\n",
       "    (6): TransformerBlock(\n",
       "      (att): MultiHeadAttention(\n",
       "        (W_q): Linear(in_features=768, out_features=768, bias=False)\n",
       "        (W_k): Linear(in_features=768, out_features=768, bias=False)\n",
       "        (W_v): Linear(in_features=768, out_features=768, bias=False)\n",
       "        (dropout): Dropout(p=0.1, inplace=False)\n",
       "        (out_proj): Linear(in_features=768, out_features=768, bias=True)\n",
       "      )\n",
       "      (ff): FeedForward(\n",
       "        (layers): Sequential(\n",
       "          (0): Linear(in_features=768, out_features=3072, bias=True)\n",
       "          (1): GELU()\n",
       "          (2): Linear(in_features=3072, out_features=768, bias=True)\n",
       "        )\n",
       "      )\n",
       "      (norm1): LayerNorm()\n",
       "      (norm2): LayerNorm()\n",
       "      (drop_shortcut): Dropout(p=0.1, inplace=False)\n",
       "    )\n",
       "    (7): TransformerBlock(\n",
       "      (att): MultiHeadAttention(\n",
       "        (W_q): Linear(in_features=768, out_features=768, bias=False)\n",
       "        (W_k): Linear(in_features=768, out_features=768, bias=False)\n",
       "        (W_v): Linear(in_features=768, out_features=768, bias=False)\n",
       "        (dropout): Dropout(p=0.1, inplace=False)\n",
       "        (out_proj): Linear(in_features=768, out_features=768, bias=True)\n",
       "      )\n",
       "      (ff): FeedForward(\n",
       "        (layers): Sequential(\n",
       "          (0): Linear(in_features=768, out_features=3072, bias=True)\n",
       "          (1): GELU()\n",
       "          (2): Linear(in_features=3072, out_features=768, bias=True)\n",
       "        )\n",
       "      )\n",
       "      (norm1): LayerNorm()\n",
       "      (norm2): LayerNorm()\n",
       "      (drop_shortcut): Dropout(p=0.1, inplace=False)\n",
       "    )\n",
       "    (8): TransformerBlock(\n",
       "      (att): MultiHeadAttention(\n",
       "        (W_q): Linear(in_features=768, out_features=768, bias=False)\n",
       "        (W_k): Linear(in_features=768, out_features=768, bias=False)\n",
       "        (W_v): Linear(in_features=768, out_features=768, bias=False)\n",
       "        (dropout): Dropout(p=0.1, inplace=False)\n",
       "        (out_proj): Linear(in_features=768, out_features=768, bias=True)\n",
       "      )\n",
       "      (ff): FeedForward(\n",
       "        (layers): Sequential(\n",
       "          (0): Linear(in_features=768, out_features=3072, bias=True)\n",
       "          (1): GELU()\n",
       "          (2): Linear(in_features=3072, out_features=768, bias=True)\n",
       "        )\n",
       "      )\n",
       "      (norm1): LayerNorm()\n",
       "      (norm2): LayerNorm()\n",
       "      (drop_shortcut): Dropout(p=0.1, inplace=False)\n",
       "    )\n",
       "    (9): TransformerBlock(\n",
       "      (att): MultiHeadAttention(\n",
       "        (W_q): Linear(in_features=768, out_features=768, bias=False)\n",
       "        (W_k): Linear(in_features=768, out_features=768, bias=False)\n",
       "        (W_v): Linear(in_features=768, out_features=768, bias=False)\n",
       "        (dropout): Dropout(p=0.1, inplace=False)\n",
       "        (out_proj): Linear(in_features=768, out_features=768, bias=True)\n",
       "      )\n",
       "      (ff): FeedForward(\n",
       "        (layers): Sequential(\n",
       "          (0): Linear(in_features=768, out_features=3072, bias=True)\n",
       "          (1): GELU()\n",
       "          (2): Linear(in_features=3072, out_features=768, bias=True)\n",
       "        )\n",
       "      )\n",
       "      (norm1): LayerNorm()\n",
       "      (norm2): LayerNorm()\n",
       "      (drop_shortcut): Dropout(p=0.1, inplace=False)\n",
       "    )\n",
       "    (10): TransformerBlock(\n",
       "      (att): MultiHeadAttention(\n",
       "        (W_q): Linear(in_features=768, out_features=768, bias=False)\n",
       "        (W_k): Linear(in_features=768, out_features=768, bias=False)\n",
       "        (W_v): Linear(in_features=768, out_features=768, bias=False)\n",
       "        (dropout): Dropout(p=0.1, inplace=False)\n",
       "        (out_proj): Linear(in_features=768, out_features=768, bias=True)\n",
       "      )\n",
       "      (ff): FeedForward(\n",
       "        (layers): Sequential(\n",
       "          (0): Linear(in_features=768, out_features=3072, bias=True)\n",
       "          (1): GELU()\n",
       "          (2): Linear(in_features=3072, out_features=768, bias=True)\n",
       "        )\n",
       "      )\n",
       "      (norm1): LayerNorm()\n",
       "      (norm2): LayerNorm()\n",
       "      (drop_shortcut): Dropout(p=0.1, inplace=False)\n",
       "    )\n",
       "    (11): TransformerBlock(\n",
       "      (att): MultiHeadAttention(\n",
       "        (W_q): Linear(in_features=768, out_features=768, bias=False)\n",
       "        (W_k): Linear(in_features=768, out_features=768, bias=False)\n",
       "        (W_v): Linear(in_features=768, out_features=768, bias=False)\n",
       "        (dropout): Dropout(p=0.1, inplace=False)\n",
       "        (out_proj): Linear(in_features=768, out_features=768, bias=True)\n",
       "      )\n",
       "      (ff): FeedForward(\n",
       "        (layers): Sequential(\n",
       "          (0): Linear(in_features=768, out_features=3072, bias=True)\n",
       "          (1): GELU()\n",
       "          (2): Linear(in_features=3072, out_features=768, bias=True)\n",
       "        )\n",
       "      )\n",
       "      (norm1): LayerNorm()\n",
       "      (norm2): LayerNorm()\n",
       "      (drop_shortcut): Dropout(p=0.1, inplace=False)\n",
       "    )\n",
       "  )\n",
       "  (final_form): LayerNorm()\n",
       "  (out_head): Linear(in_features=768, out_features=50257, bias=False)\n",
       ")"
      ]
     },
     "execution_count": 8,
     "metadata": {},
     "output_type": "execute_result"
    }
   ],
   "execution_count": 8
  },
  {
   "metadata": {},
   "cell_type": "markdown",
   "source": [
    "### Decoding Strategies\n",
    "\n",
    "Our decoding strategy is extremely important in determining the quality and character of the generated text. Nearly all decoding strategies are trying to solve a fundamental dilemma: We want text that is grammatically correct, makes sense, and stays on topic (Coherence/Quality), but we also want text that is interesting, surprising, and does not just repeat the most obvious phrases or the most repeated structures (Diversity/Creativity). A purely greedy approach might lead to perfect coherence, but with repetitive and boring results. Introducing randomness might help, but too much of it will leaad to incoherent nonsense. Below, we explore some of the most popular decoding strategies.\n",
    "\n",
    "#### Temperature Scaling\n",
    "\n",
    "This strategy adjusts the 'sharpness' of the probability distribution, aiming to make it more or less random. Recalling that we originally passed the model's raw output (logits) to the softmax function, temperature scaling divides them by a temperature value $T \\gt 0$ before passing them to the softmax function.\n",
    "\n",
    "$$\n",
    "P(\\text{token}_i) = \\text{softmax}\\left(\\frac{\\text{logits}}{T}\\right)_i = \\frac{e^{\\text{logit}_i / T}}{\\sum_j e^{\\text{logit}_j / T}}\n",
    "$$\n",
    "\n",
    "- $T \\approx 0$: Approaches greedy decoding. The highest logit would become overwhelmingly and extremely probable. The output is deterministic (the LLM will always generate the same results for the same prompt). This is our current setting (with no decoding strategy).\n",
    "- $T = 1$: The original probability with the default softmax function is recovered. This is our current setting (with no decoding strategy).\n",
    "- $T > 1$: The recalibrated, new probabilities will have a lower value compared to the original ones. The distribution is flattened, and unlikely tokens become more likely. The output is more random, and therefore more prone to errors.\n",
    "\n",
    "While temperature scaling can be used as a hyperparameter set manually at inference time (`generate_text`), it can also be used to calibrate the model post-hoc. That is, $T$ can be optimized once on a held-out validation set after the main training is complete. The found optimal $T$ is then fixed and used as part of the model for all subsequent inference."
   ],
   "id": "6fad66f8476cb639"
  },
  {
   "metadata": {
    "ExecuteTime": {
     "end_time": "2025-06-28T17:37:00.332253Z",
     "start_time": "2025-06-28T16:17:59.894987Z"
    }
   },
   "cell_type": "code",
   "source": [
    "import matplotlib.pyplot as plt\n",
    "import numpy as np\n",
    "\n",
    "def get_next_token_logits(model, tokenizer, context, device):\n",
    "    \"\"\"\n",
    "    Get the logits for the next token prediction.\n",
    "    \"\"\"\n",
    "    model.eval()\n",
    "    with torch.no_grad():\n",
    "        inputs = text_to_token_ids(context, tokenizer, allowed_special=None).to(device)\n",
    "        outputs = model(inputs)\n",
    "        next_token_logits = outputs[0, -1, :]\n",
    "    return next_token_logits\n",
    "        # return_tensors = 'pt' wil return torch.Tensors objects instead of py lists.\n",
    "\n",
    "logits = get_next_token_logits(model, tokenizer, 'A man once told me', device)\n",
    "print(logits)\n",
    "top_logits, top_indices = torch.topk(logits, 20)\n",
    "# get the top 20 logits and their corresponding tokens\n",
    "top_tokens = []\n",
    "for idx in top_indices:\n",
    "    #have to use single tokens here for the helper functions to work.\n",
    "    #it is easier not to reuse them here perhaps...\n",
    "    single_token_tensor = torch.tensor([[idx.item()]])\n",
    "    decoded_token = token_ids_to_text(single_token_tensor, tokenizer)\n",
    "    top_tokens.append(decoded_token)\n",
    "\n",
    "plt.style.use('seaborn-v0_8-whitegrid')\n",
    "fig, ax = plt.subplots(figsize=(12, 7))\n",
    "y_pos = np.arange(len(top_tokens))\n",
    "ax.barh(y_pos, top_logits.cpu().numpy(), align='center', color='skyblue')\n",
    "ax.set_yticks(y_pos, labels=top_tokens)\n",
    "ax.invert_yaxis()\n",
    "ax.set_xlabel('Raw Logit Value')\n",
    "ax.set_title(f'Top 20 Next-Token Logits for Context: \"A man once told me\"')\n",
    "plt.tight_layout()\n",
    "plt.show()\n"
   ],
   "id": "9502f387edf895da",
   "outputs": [
    {
     "name": "stdout",
     "output_type": "stream",
     "text": [
      "tensor([ 3.0353, -4.6372, -3.5927,  ..., -4.3146, -4.4531, -4.7166])\n"
     ]
    },
    {
     "data": {
      "text/plain": [
       "<Figure size 1200x700 with 1 Axes>"
      ],
      "image/png": "[encoded data removed]"
     },
     "metadata": {},
     "output_type": "display_data"
    }
   ],
   "execution_count": 49
  },
  {
   "metadata": {
    "ExecuteTime": {
     "end_time": "2025-06-28T17:37:00.388671Z",
     "start_time": "2025-06-28T16:18:03.023463Z"
    }
   },
   "cell_type": "code",
   "source": [
    "n_samples = 1000\n",
    "probabilities = torch.softmax(top_logits, dim=-1)\n",
    "sampled_indices = torch.multinomial(probabilities, n_samples, replacement=True)\n",
    "sample_counts = torch.bincount(sampled_indices, minlength=20)\n",
    "most_likely_token = top_tokens[0]\n",
    "most_likely_count = sample_counts[0].item()\n",
    "\n",
    "print(f\"\\n--- Multinomial Sampling (T=1.0, n={n_samples}) ---\")\n",
    "print(f\"The most likely token '{most_likely_token}' was chosen {most_likely_count} out of {n_samples} times.\")\n",
    "print(f\"This is {most_likely_count / n_samples:.2%} of the total samples.\")\n",
    "print(\"-\" * 50)\n",
    "\n",
    "t_values = [0.5, 1.0, 1.5, 2.5]\n",
    "fig, axes = plt.subplots(2, 2, figsize=(14, 10), sharex=True)\n",
    "fig.suptitle(f'Effect of Temperature Scaling on Probability Distribution', fontsize=16)\n",
    "\n",
    "for ax, T in zip(axes.flatten(), t_values):\n",
    "    scaled_logits = top_logits / T\n",
    "    scaled_probabilities = torch.softmax(scaled_logits, dim=-1).cpu().numpy()\n",
    "\n",
    "    ax.bar(y_pos, scaled_probabilities, color='mediumpurple')\n",
    "    ax.set_title(f'Temperature T = {T}')\n",
    "    ax.set_xticks(y_pos)\n",
    "    ax.set_xticklabels(top_tokens, rotation=45, ha=\"right\")\n",
    "    ax.set_ylabel('Probability')\n",
    "    ax.grid(True, which='major', linestyle='--', linewidth='0.5')\n",
    "\n",
    "    prob_top_token = scaled_probabilities[0]\n",
    "    ax.text(0.95, 0.95, f\"P('{most_likely_token}') = {prob_top_token:.2f}\",\n",
    "            transform=ax.transAxes,\n",
    "            fontsize=12, verticalalignment='top', horizontalalignment='right',\n",
    "            bbox=dict(boxstyle='round,pad=0.5', fc='wheat', alpha=0.5))\n",
    "\n",
    "plt.tight_layout(rect=[0, 0.03, 1, 0.95])\n",
    "plt.show()"
   ],
   "id": "7f6052f5b6cfa0b0",
   "outputs": [
    {
     "name": "stdout",
     "output_type": "stream",
     "text": [
      "\n",
      "--- Multinomial Sampling (T=1.0, n=1000) ---\n",
      "The most likely token ' a' was chosen 252 out of 1000 times.\n",
      "This is 25.20% of the total samples.\n",
      "--------------------------------------------------\n"
     ]
    },
    {
     "data": {
      "text/plain": [
       "<Figure size 1400x1000 with 4 Axes>"
      ],
      "image/png": "[encoded data removed]"
     },
     "metadata": {},
     "output_type": "display_data"
    }
   ],
   "execution_count": 50
  },
  {
   "metadata": {},
   "cell_type": "markdown",
   "source": [
    "#### Top-k Sampling\n",
    "\n",
    "A weakness of pure temperature scaling that you might have inferred from the plots above is the 'long tail' of potentially terrible token choices that can get sampled by change when the temperature is high. *Top-k sampling* is a slight variation from temperature scaling in that it adds a constraint on how many most likely tokens $k$ to consider, and only redistributes the probability mass among these. In other words, it implements the exact same masking approach we have already implemented before in the causal attention module. Top-k sampling"
   ],
   "id": "386fc251b878a5f0"
  },
  {
   "metadata": {
    "ExecuteTime": {
     "end_time": "2025-06-28T16:18:06.948890Z",
     "start_time": "2025-06-28T16:18:06.936617Z"
    }
   },
   "cell_type": "code",
   "source": [
    "for t in t_values:\n",
    "    logits = logits / t\n",
    "    top_k_logits, top_k_indices = torch.topk(logits, 10, dim=-1)\n",
    "    probs = torch.softmax(top_k_logits, dim=-1)\n",
    "    next_token_idx_in_k = torch.multinomial(probs, num_samples=1)\n",
    "    next_token_id = torch.gather(top_k_indices, -1, next_token_idx_in_k)\n",
    "    print(f'Next-token probabilities with t_value {t} and k = 10:\\n{probs}')\n",
    "    print(f'Next_token_idx_in_k and k = 10 {next_token_idx_in_k}')\n"
   ],
   "id": "41aecdddb12089ae",
   "outputs": [
    {
     "name": "stdout",
     "output_type": "stream",
     "text": [
      "Next-token probabilities with t_value 0.5 and k = 10:\n",
      "tensor([0.5158, 0.1955, 0.1018, 0.0691, 0.0545, 0.0231, 0.0191, 0.0077, 0.0075,\n",
      "        0.0059])\n",
      "Next_token_idx_in_k and k = 10 tensor([0])\n",
      "Next-token probabilities with t_value 1.0 and k = 10:\n",
      "tensor([0.5158, 0.1955, 0.1018, 0.0691, 0.0545, 0.0231, 0.0191, 0.0077, 0.0075,\n",
      "        0.0059])\n",
      "Next_token_idx_in_k and k = 10 tensor([3])\n",
      "Next-token probabilities with t_value 1.5 and k = 10:\n",
      "tensor([0.3628, 0.1901, 0.1230, 0.0950, 0.0811, 0.0458, 0.0404, 0.0219, 0.0216,\n",
      "        0.0183])\n",
      "Next_token_idx_in_k and k = 10 tensor([0])\n",
      "Next-token probabilities with t_value 2.5 and k = 10:\n",
      "tensor([0.1866, 0.1441, 0.1210, 0.1092, 0.1025, 0.0815, 0.0775, 0.0607, 0.0603,\n",
      "        0.0566])\n",
      "Next_token_idx_in_k and k = 10 tensor([2])\n"
     ]
    }
   ],
   "execution_count": 51
  },
  {
   "metadata": {},
   "cell_type": "markdown",
   "source": [
    "#### Top-p (Nucleus) Sampling\n",
    "\n",
    "Top-p samping is today perhaps the most popular sampling method in modern use, and it was first introduced in the paper *The Curious Case of Neural Text DeGeneration* (Holtzman et.al, 2020).\n",
    "\n",
    "Top-p improves upon Top-k by creating a candidate pool of dynamic size. Now, instead of picking a fixed number of tokens ($k$), we pick the smallest set of most probable tokens whose cumulative probability is greather than a threshold $p$. This set is called the Nucleus. It is powerful because of its adaptiveness: when the model is very confident about the next token (a very sharp distribution), the nucleus will contain 1 or 2 tokens. When the model is uncertain (a flatter distribution), the nucleus will grow much larger, allowing for more diversity when it is needed."
   ],
   "id": "e8b79ea386ec828d"
  },
  {
   "metadata": {
    "ExecuteTime": {
     "end_time": "2025-06-28T17:41:22.931682Z",
     "start_time": "2025-06-28T17:41:20.245448Z"
    }
   },
   "cell_type": "code",
   "source": [
    "def generate_text_better(model, idx, max_new_tokens,\n",
    "                         context_size,temperature,\n",
    "                         k, p, eos_id=None):\n",
    "    device = next(model.parameters()).device\n",
    "    generated = idx.to(device)\n",
    "    with torch.inference_mode():\n",
    "        for _ in range(max_new_tokens):\n",
    "            context = generated[:, -context_size:]\n",
    "            with torch.no_grad():\n",
    "                logits = model(context)[:,-1, :]\n",
    "            logits /= max(temperature, 1e-8) #avoid division by zero\n",
    "            if k > 0:\n",
    "                top_k_values, _ = torch.topk(logits, k)\n",
    "                # the last value in top_k_values is the k-th highest logit\n",
    "                kth_value = top_k_values[:, -1]\n",
    "                # create a mask for all tokens with logits less tha the k-th highest\n",
    "                indices_to_remove = logits < kth_value[:, None]\n",
    "                logits[indices_to_remove] = -float('Inf')\n",
    "\n",
    "            # on the reduced set of logits, we apply the top-p filtering\n",
    "            if p is not None and p < 1.0:\n",
    "                probs = torch.softmax(logits, dim=-1)\n",
    "                sorted_probs, sorted_indices = torch.sort(probs, descending=True)\n",
    "                cum_probs = torch.cumsum(sorted_probs, dim=-1)\n",
    "\n",
    "                #we now want to create a mask for tokens to remove (those outside this nucleus)\n",
    "                # find tokens whose cum sum is > p\n",
    "                sorted_indices_to_remove = cum_probs > p\n",
    "                # shift the mask to the right to keep the first token that crosses the threshold\n",
    "                sorted_indices_to_remove[..., 1:] = sorted_indices_to_remove[..., :-1].clone()\n",
    "                sorted_indices_to_remove[..., 0] = 0 #never remove the most likely token\n",
    "\n",
    "                #create a full-sized boolean mask for og logits\n",
    "                #start with a mask of all false values\n",
    "                indices_to_mask = torch.zeros_like(logits, dtype=torch.bool)\n",
    "\n",
    "                #use scatter_ to place the 'True' values from 'sorted_indices_to_remove'\n",
    "                # into the correct positions in the full-sized mask\n",
    "                indices_to_mask.scatter_(1, sorted_indices, sorted_indices_to_remove)\n",
    "                logits[indices_to_mask] = -float('Inf')\n",
    "\n",
    "\n",
    "            final_probs = torch.softmax(logits, dim=-1)\n",
    "            next_token = torch.multinomial(final_probs, num_samples=1)\n",
    "            if next_token == eos_id:\n",
    "                break\n",
    "            generated = torch.cat([generated, next_token], dim=1)\n",
    "    return generated\n",
    "\n",
    "torch.manual_seed(123)\n",
    "\n",
    "token_ids = generate_text(\n",
    "    model=model,\n",
    "    idx=text_to_token_ids('A man walks into a bar',\n",
    "                          tokenizer,\n",
    "                          allowed_special='<|endoftext|>'),\n",
    "    max_new_tokens=20,\n",
    "    context_size=cfg_pt.context_length,\n",
    ")\n",
    "\n",
    "token_ids_better = generate_text_better(model=model,\n",
    "                                 idx=text_to_token_ids('A man walks into a bar',\n",
    "                                                       tokenizer,\n",
    "                                                       allowed_special='<|endoftext|>'),\n",
    "                                 max_new_tokens=20,\n",
    "                                 context_size=cfg_pt.context_length,\n",
    "                                 k=200,\n",
    "                                 p=0.9,\n",
    "                                 temperature=1.4)\n",
    "\n",
    "print('Original output text:', token_ids_to_text(token_ids, tokenizer))\n",
    "print('Improved output text:', token_ids_to_text(token_ids_better, tokenizer))"
   ],
   "id": "72649b7471080fed",
   "outputs": [
    {
     "name": "stdout",
     "output_type": "stream",
     "text": [
      "Original output text: A man walks into a bar and a little, and\n",
      "’s eyes. Pontellier.\n",
      "”\n",
      "�\n",
      "Improved output text: A man walks into a bar from a queer of compliments sometimes held of what to feel is Ad froming. Two far when must\n"
     ]
    }
   ],
   "execution_count": 9
  },
  {
   "metadata": {},
   "cell_type": "markdown",
   "source": [
    "As can be seen, the generated text varies considerably between our original 'vanilla' text generation and the one using temperature, top-k and top-p decoding strategies. Indeed, tunning the right parameters is key to achieving desired outputs from LLMs, and these parameters together control the level of randomness and creativity in the text an LLM generates.\n",
    "\n",
    "In general, a preference for lower temperature alongside more restrictive top-k and top-p settings is seen in scenarios that are demanding of accuracy, coherence and predictability (Factual summarization, question answering, code generation, technical writing, translation, etc.), and in domains where precision and correctness are non-negotiable. In the other hand, situations calling for originality and novelty benefit from relatively higher temperatures and less restrictive top-k or top-p settings (Creative writing, story generation, brainstorming, artistic and poetic text, content creation for marketing and social media, etc.)."
   ],
   "id": "c161a4155f361f27"
  },
  {
   "metadata": {},
   "cell_type": "markdown",
   "source": [
    "### Using OpenAIs Pretrained Weights\n",
    "\n",
    "We use the download code available in Sebastian Raschka's online repository of Chapter 6 of *LLMs from Scratch*.\n",
    "\n"
   ],
   "id": "e5191e24cdc1833b"
  },
  {
   "metadata": {
    "ExecuteTime": {
     "end_time": "2025-06-28T17:41:27.082091Z",
     "start_time": "2025-06-28T17:41:26.803977Z"
    }
   },
   "cell_type": "code",
   "source": [
    "import urllib.request\n",
    "\n",
    "url = (\n",
    "    'https://raw.githubusercontent.com/rasbt/'\n",
    "    'LLMs-from-scratch/main/ch05/'\n",
    "    '01_main-chapter-code/gpt_download.py'\n",
    ")\n",
    "filename = '../src/gpt_download.py'\n",
    "urllib.request.urlretrieve(url, filename)"
   ],
   "id": "885ded76ad5719ea",
   "outputs": [
    {
     "data": {
      "text/plain": [
       "('gpt_download.py', <http.client.HTTPMessage at 0x121728550>)"
      ]
     },
     "execution_count": 10,
     "metadata": {},
     "output_type": "execute_result"
    }
   ],
   "execution_count": 10
  },
  {
   "metadata": {
    "ExecuteTime": {
     "end_time": "2025-06-28T17:41:46.069171Z",
     "start_time": "2025-06-28T17:41:28.457090Z"
    }
   },
   "cell_type": "code",
   "source": [
    "from gpt_download import download_and_load_gpt2\n",
    "\n",
    "settings, params = download_and_load_gpt2(\n",
    "    model_size='124M', models_dir='gpt2',\n",
    ")"
   ],
   "id": "6180b3cc6c667fc",
   "outputs": [
    {
     "name": "stderr",
     "output_type": "stream",
     "text": [
      "2025-06-28 19:41:35.096036: I tensorflow/core/platform/cpu_feature_guard.cc:210] This TensorFlow binary is optimized to use available CPU instructions in performance-critical operations.\n",
      "To enable the following instructions: AVX2 FMA, in other operations, rebuild TensorFlow with the appropriate compiler flags.\n"
     ]
    },
    {
     "name": "stdout",
     "output_type": "stream",
     "text": [
      "File already exists and is up-to-date: gpt2/124M/checkpoint\n",
      "File already exists and is up-to-date: gpt2/124M/encoder.json\n",
      "File already exists and is up-to-date: gpt2/124M/hparams.json\n",
      "File already exists and is up-to-date: gpt2/124M/model.ckpt.data-00000-of-00001\n",
      "File already exists and is up-to-date: gpt2/124M/model.ckpt.index\n",
      "File already exists and is up-to-date: gpt2/124M/model.ckpt.meta\n",
      "File already exists and is up-to-date: gpt2/124M/vocab.bpe\n"
     ]
    }
   ],
   "execution_count": 11
  },
  {
   "metadata": {
    "ExecuteTime": {
     "end_time": "2025-06-28T17:43:45.494970Z",
     "start_time": "2025-06-28T17:43:44.102558Z"
    }
   },
   "cell_type": "code",
   "source": [
    "print(f'Settings: {settings}\\nParam dictionary keys: {params.keys()}')\n",
    "\n",
    "gpt2_sizes = {\n",
    "    'gpt2-small (124M)': {'emb_dim': 768, 'n_layers': 12, 'n_heads': 12},\n",
    "    'gpt2-medium (355M)': {'emb_dim': 1024, 'n_layers': 24, 'n_heads': 16},\n",
    "    'gpt-large (774M)': {'emb_dim': 1280, 'n_layers': 48, 'n_heads': 25},\n",
    "}\n",
    "\n",
    "model_name = 'gpt2-small (124M)'\n",
    "config_args = dataclasses.asdict(cfg_pt)\n",
    "config_args.update(gpt2_sizes[model_name])\n",
    "config_args.update({'context_length': 1024, 'qkv_bias':True})\n",
    "print(config_args)\n",
    "new_cfg = GPTConfig124(**config_args)\n",
    "gpt = GPTModel(new_cfg)\n",
    "gpt.eval()\n"
   ],
   "id": "ab2469c6f849fc7f",
   "outputs": [
    {
     "name": "stdout",
     "output_type": "stream",
     "text": [
      "Settings: {'n_vocab': 50257, 'n_ctx': 1024, 'n_embd': 768, 'n_head': 12, 'n_layer': 12}\n",
      "Param dictionary keys: dict_keys(['blocks', 'b', 'g', 'wpe', 'wte'])\n",
      "{'vocab_size': 50257, 'context_length': 1024, 'emb_dim': 768, 'n_heads': 12, 'n_layers': 12, 'dropout': 0.1, 'qkv_bias': True}\n"
     ]
    },
    {
     "data": {
      "text/plain": [
       "GPTModel(\n",
       "  (tok_emb): Embedding(50257, 768)\n",
       "  (pos_emb): Embedding(1024, 768)\n",
       "  (drop_emb): Dropout(p=0.1, inplace=False)\n",
       "  (trf_blocks): Sequential(\n",
       "    (0): TransformerBlock(\n",
       "      (att): MultiHeadAttention(\n",
       "        (W_q): Linear(in_features=768, out_features=768, bias=True)\n",
       "        (W_k): Linear(in_features=768, out_features=768, bias=True)\n",
       "        (W_v): Linear(in_features=768, out_features=768, bias=True)\n",
       "        (dropout): Dropout(p=0.1, inplace=False)\n",
       "        (out_proj): Linear(in_features=768, out_features=768, bias=True)\n",
       "      )\n",
       "      (ff): FeedForward(\n",
       "        (layers): Sequential(\n",
       "          (0): Linear(in_features=768, out_features=3072, bias=True)\n",
       "          (1): GELU()\n",
       "          (2): Linear(in_features=3072, out_features=768, bias=True)\n",
       "        )\n",
       "      )\n",
       "      (norm1): LayerNorm()\n",
       "      (norm2): LayerNorm()\n",
       "      (drop_shortcut): Dropout(p=0.1, inplace=False)\n",
       "    )\n",
       "    (1): TransformerBlock(\n",
       "      (att): MultiHeadAttention(\n",
       "        (W_q): Linear(in_features=768, out_features=768, bias=True)\n",
       "        (W_k): Linear(in_features=768, out_features=768, bias=True)\n",
       "        (W_v): Linear(in_features=768, out_features=768, bias=True)\n",
       "        (dropout): Dropout(p=0.1, inplace=False)\n",
       "        (out_proj): Linear(in_features=768, out_features=768, bias=True)\n",
       "      )\n",
       "      (ff): FeedForward(\n",
       "        (layers): Sequential(\n",
       "          (0): Linear(in_features=768, out_features=3072, bias=True)\n",
       "          (1): GELU()\n",
       "          (2): Linear(in_features=3072, out_features=768, bias=True)\n",
       "        )\n",
       "      )\n",
       "      (norm1): LayerNorm()\n",
       "      (norm2): LayerNorm()\n",
       "      (drop_shortcut): Dropout(p=0.1, inplace=False)\n",
       "    )\n",
       "    (2): TransformerBlock(\n",
       "      (att): MultiHeadAttention(\n",
       "        (W_q): Linear(in_features=768, out_features=768, bias=True)\n",
       "        (W_k): Linear(in_features=768, out_features=768, bias=True)\n",
       "        (W_v): Linear(in_features=768, out_features=768, bias=True)\n",
       "        (dropout): Dropout(p=0.1, inplace=False)\n",
       "        (out_proj): Linear(in_features=768, out_features=768, bias=True)\n",
       "      )\n",
       "      (ff): FeedForward(\n",
       "        (layers): Sequential(\n",
       "          (0): Linear(in_features=768, out_features=3072, bias=True)\n",
       "          (1): GELU()\n",
       "          (2): Linear(in_features=3072, out_features=768, bias=True)\n",
       "        )\n",
       "      )\n",
       "      (norm1): LayerNorm()\n",
       "      (norm2): LayerNorm()\n",
       "      (drop_shortcut): Dropout(p=0.1, inplace=False)\n",
       "    )\n",
       "    (3): TransformerBlock(\n",
       "      (att): MultiHeadAttention(\n",
       "        (W_q): Linear(in_features=768, out_features=768, bias=True)\n",
       "        (W_k): Linear(in_features=768, out_features=768, bias=True)\n",
       "        (W_v): Linear(in_features=768, out_features=768, bias=True)\n",
       "        (dropout): Dropout(p=0.1, inplace=False)\n",
       "        (out_proj): Linear(in_features=768, out_features=768, bias=True)\n",
       "      )\n",
       "      (ff): FeedForward(\n",
       "        (layers): Sequential(\n",
       "          (0): Linear(in_features=768, out_features=3072, bias=True)\n",
       "          (1): GELU()\n",
       "          (2): Linear(in_features=3072, out_features=768, bias=True)\n",
       "        )\n",
       "      )\n",
       "      (norm1): LayerNorm()\n",
       "      (norm2): LayerNorm()\n",
       "      (drop_shortcut): Dropout(p=0.1, inplace=False)\n",
       "    )\n",
       "    (4): TransformerBlock(\n",
       "      (att): MultiHeadAttention(\n",
       "        (W_q): Linear(in_features=768, out_features=768, bias=True)\n",
       "        (W_k): Linear(in_features=768, out_features=768, bias=True)\n",
       "        (W_v): Linear(in_features=768, out_features=768, bias=True)\n",
       "        (dropout): Dropout(p=0.1, inplace=False)\n",
       "        (out_proj): Linear(in_features=768, out_features=768, bias=True)\n",
       "      )\n",
       "      (ff): FeedForward(\n",
       "        (layers): Sequential(\n",
       "          (0): Linear(in_features=768, out_features=3072, bias=True)\n",
       "          (1): GELU()\n",
       "          (2): Linear(in_features=3072, out_features=768, bias=True)\n",
       "        )\n",
       "      )\n",
       "      (norm1): LayerNorm()\n",
       "      (norm2): LayerNorm()\n",
       "      (drop_shortcut): Dropout(p=0.1, inplace=False)\n",
       "    )\n",
       "    (5): TransformerBlock(\n",
       "      (att): MultiHeadAttention(\n",
       "        (W_q): Linear(in_features=768, out_features=768, bias=True)\n",
       "        (W_k): Linear(in_features=768, out_features=768, bias=True)\n",
       "        (W_v): Linear(in_features=768, out_features=768, bias=True)\n",
       "        (dropout): Dropout(p=0.1, inplace=False)\n",
       "        (out_proj): Linear(in_features=768, out_features=768, bias=True)\n",
       "      )\n",
       "      (ff): FeedForward(\n",
       "        (layers): Sequential(\n",
       "          (0): Linear(in_features=768, out_features=3072, bias=True)\n",
       "          (1): GELU()\n",
       "          (2): Linear(in_features=3072, out_features=768, bias=True)\n",
       "        )\n",
       "      )\n",
       "      (norm1): LayerNorm()\n",
       "      (norm2): LayerNorm()\n",
       "      (drop_shortcut): Dropout(p=0.1, inplace=False)\n",
       "    )\n",
       "    (6): TransformerBlock(\n",
       "      (att): MultiHeadAttention(\n",
       "        (W_q): Linear(in_features=768, out_features=768, bias=True)\n",
       "        (W_k): Linear(in_features=768, out_features=768, bias=True)\n",
       "        (W_v): Linear(in_features=768, out_features=768, bias=True)\n",
       "        (dropout): Dropout(p=0.1, inplace=False)\n",
       "        (out_proj): Linear(in_features=768, out_features=768, bias=True)\n",
       "      )\n",
       "      (ff): FeedForward(\n",
       "        (layers): Sequential(\n",
       "          (0): Linear(in_features=768, out_features=3072, bias=True)\n",
       "          (1): GELU()\n",
       "          (2): Linear(in_features=3072, out_features=768, bias=True)\n",
       "        )\n",
       "      )\n",
       "      (norm1): LayerNorm()\n",
       "      (norm2): LayerNorm()\n",
       "      (drop_shortcut): Dropout(p=0.1, inplace=False)\n",
       "    )\n",
       "    (7): TransformerBlock(\n",
       "      (att): MultiHeadAttention(\n",
       "        (W_q): Linear(in_features=768, out_features=768, bias=True)\n",
       "        (W_k): Linear(in_features=768, out_features=768, bias=True)\n",
       "        (W_v): Linear(in_features=768, out_features=768, bias=True)\n",
       "        (dropout): Dropout(p=0.1, inplace=False)\n",
       "        (out_proj): Linear(in_features=768, out_features=768, bias=True)\n",
       "      )\n",
       "      (ff): FeedForward(\n",
       "        (layers): Sequential(\n",
       "          (0): Linear(in_features=768, out_features=3072, bias=True)\n",
       "          (1): GELU()\n",
       "          (2): Linear(in_features=3072, out_features=768, bias=True)\n",
       "        )\n",
       "      )\n",
       "      (norm1): LayerNorm()\n",
       "      (norm2): LayerNorm()\n",
       "      (drop_shortcut): Dropout(p=0.1, inplace=False)\n",
       "    )\n",
       "    (8): TransformerBlock(\n",
       "      (att): MultiHeadAttention(\n",
       "        (W_q): Linear(in_features=768, out_features=768, bias=True)\n",
       "        (W_k): Linear(in_features=768, out_features=768, bias=True)\n",
       "        (W_v): Linear(in_features=768, out_features=768, bias=True)\n",
       "        (dropout): Dropout(p=0.1, inplace=False)\n",
       "        (out_proj): Linear(in_features=768, out_features=768, bias=True)\n",
       "      )\n",
       "      (ff): FeedForward(\n",
       "        (layers): Sequential(\n",
       "          (0): Linear(in_features=768, out_features=3072, bias=True)\n",
       "          (1): GELU()\n",
       "          (2): Linear(in_features=3072, out_features=768, bias=True)\n",
       "        )\n",
       "      )\n",
       "      (norm1): LayerNorm()\n",
       "      (norm2): LayerNorm()\n",
       "      (drop_shortcut): Dropout(p=0.1, inplace=False)\n",
       "    )\n",
       "    (9): TransformerBlock(\n",
       "      (att): MultiHeadAttention(\n",
       "        (W_q): Linear(in_features=768, out_features=768, bias=True)\n",
       "        (W_k): Linear(in_features=768, out_features=768, bias=True)\n",
       "        (W_v): Linear(in_features=768, out_features=768, bias=True)\n",
       "        (dropout): Dropout(p=0.1, inplace=False)\n",
       "        (out_proj): Linear(in_features=768, out_features=768, bias=True)\n",
       "      )\n",
       "      (ff): FeedForward(\n",
       "        (layers): Sequential(\n",
       "          (0): Linear(in_features=768, out_features=3072, bias=True)\n",
       "          (1): GELU()\n",
       "          (2): Linear(in_features=3072, out_features=768, bias=True)\n",
       "        )\n",
       "      )\n",
       "      (norm1): LayerNorm()\n",
       "      (norm2): LayerNorm()\n",
       "      (drop_shortcut): Dropout(p=0.1, inplace=False)\n",
       "    )\n",
       "    (10): TransformerBlock(\n",
       "      (att): MultiHeadAttention(\n",
       "        (W_q): Linear(in_features=768, out_features=768, bias=True)\n",
       "        (W_k): Linear(in_features=768, out_features=768, bias=True)\n",
       "        (W_v): Linear(in_features=768, out_features=768, bias=True)\n",
       "        (dropout): Dropout(p=0.1, inplace=False)\n",
       "        (out_proj): Linear(in_features=768, out_features=768, bias=True)\n",
       "      )\n",
       "      (ff): FeedForward(\n",
       "        (layers): Sequential(\n",
       "          (0): Linear(in_features=768, out_features=3072, bias=True)\n",
       "          (1): GELU()\n",
       "          (2): Linear(in_features=3072, out_features=768, bias=True)\n",
       "        )\n",
       "      )\n",
       "      (norm1): LayerNorm()\n",
       "      (norm2): LayerNorm()\n",
       "      (drop_shortcut): Dropout(p=0.1, inplace=False)\n",
       "    )\n",
       "    (11): TransformerBlock(\n",
       "      (att): MultiHeadAttention(\n",
       "        (W_q): Linear(in_features=768, out_features=768, bias=True)\n",
       "        (W_k): Linear(in_features=768, out_features=768, bias=True)\n",
       "        (W_v): Linear(in_features=768, out_features=768, bias=True)\n",
       "        (dropout): Dropout(p=0.1, inplace=False)\n",
       "        (out_proj): Linear(in_features=768, out_features=768, bias=True)\n",
       "      )\n",
       "      (ff): FeedForward(\n",
       "        (layers): Sequential(\n",
       "          (0): Linear(in_features=768, out_features=3072, bias=True)\n",
       "          (1): GELU()\n",
       "          (2): Linear(in_features=3072, out_features=768, bias=True)\n",
       "        )\n",
       "      )\n",
       "      (norm1): LayerNorm()\n",
       "      (norm2): LayerNorm()\n",
       "      (drop_shortcut): Dropout(p=0.1, inplace=False)\n",
       "    )\n",
       "  )\n",
       "  (final_form): LayerNorm()\n",
       "  (out_head): Linear(in_features=768, out_features=50257, bias=False)\n",
       ")"
      ]
     },
     "execution_count": 13,
     "metadata": {},
     "output_type": "execute_result"
    }
   ],
   "execution_count": 13
  },
  {
   "metadata": {},
   "cell_type": "markdown",
   "source": "Since a `GPTModel` instance by default initializes weights to be random, we need to override these random weights with the ones stored in the `params` dictionary earlier.",
   "id": "ed6b8e28bd33bb03"
  },
  {
   "metadata": {
    "ExecuteTime": {
     "end_time": "2025-06-28T18:12:34.535490Z",
     "start_time": "2025-06-28T18:12:34.202707Z"
    }
   },
   "cell_type": "code",
   "source": [
    "import numpy as np\n",
    "\n",
    "def load_weights_from_openai(gpt_model, openai_params):\n",
    "    \"\"\"\n",
    "    load pre-trained GPT2 weights from openai's format into our custom model.\n",
    "    \"\"\"\n",
    "    with torch.no_grad():\n",
    "        def copy_weights(pytorch_param, numpy_array):\n",
    "            \"\"\"\n",
    "            helper to handle shape checking and data copying\n",
    "            \"\"\"\n",
    "            numpy_tensor = torch.from_numpy(numpy_array).to(pytorch_param.dtype)\n",
    "            if pytorch_param.shape != numpy_tensor.shape:\n",
    "                raise ValueError(\n",
    "                    f'Shape mismatch: Pytorch odel has {pytorch_param.shape}, '\n",
    "                    f'but loaded weights have {numpy_tensor.shape}')\n",
    "            #copy_ is an in-place operation that avoids creating new parameter objects\n",
    "            pytorch_param.copy_(numpy_tensor)\n",
    "        #wte are the token embeddings\n",
    "        copy_weights(gpt_model.tok_emb.weight, openai_params['wte'])\n",
    "        #wpe are the positional embeddings\n",
    "        copy_weights(gpt_model.pos_emb.weight, openai_params['wpe'])\n",
    "\n",
    "        #iterate through each blovk in the model and load its weights\n",
    "        for block_module, block_params in zip(gpt_model.trf_blocks, openai_params['blocks']):\n",
    "            q_w, k_w, v_w = np.split(block_params['attn']['c_attn']['w'], 3, axis=-1)\n",
    "            q_b, k_b, v_b = np.split(block_params['attn']['c_attn']['b'], 3, axis=-1)\n",
    "            # openai's 'c_attn' combines q, k and v weights into a single matrix.\n",
    "            # their linear layer weights are transposed compared to pytorch\n",
    "            copy_weights(block_module.att.W_q.weight, q_w.T)\n",
    "            copy_weights(block_module.att.W_k.weight, k_w.T)\n",
    "            copy_weights(block_module.att.W_v.weight, v_w.T)\n",
    "\n",
    "            copy_weights(block_module.att.W_q.bias, q_b)\n",
    "            copy_weights(block_module.att.W_k.bias, k_b)\n",
    "            copy_weights(block_module.att.W_v.bias, v_b)\n",
    "\n",
    "            #output projection weights\n",
    "            copy_weights(block_module.att.out_proj.weight, block_params['attn']['c_proj']['w'].T)\n",
    "            copy_weights(block_module.att.out_proj.bias, block_params['attn']['c_proj']['b'])\n",
    "\n",
    "            # feed forward network weights\n",
    "            copy_weights(block_module.ff.layers[0].weight, block_params[\"mlp\"][\"c_fc\"][\"w\"].T)\n",
    "            copy_weights(block_module.ff.layers[0].bias, block_params[\"mlp\"][\"c_fc\"][\"b\"])\n",
    "            copy_weights(block_module.ff.layers[2].weight, block_params[\"mlp\"][\"c_proj\"][\"w\"].T)\n",
    "            copy_weights(block_module.ff.layers[2].bias, block_params[\"mlp\"][\"c_proj\"][\"b\"])\n",
    "\n",
    "            # openai's 'g' is gamma (weight) and 'b' is beta (bias).\n",
    "            copy_weights(block_module.norm1.scale, block_params[\"ln_1\"][\"g\"])\n",
    "            copy_weights(block_module.norm1.shift, block_params[\"ln_1\"][\"b\"])\n",
    "            copy_weights(block_module.norm2.scale, block_params[\"ln_2\"][\"g\"])\n",
    "            copy_weights(block_module.norm2.shift, block_params[\"ln_2\"][\"b\"])\n",
    "\n",
    "        copy_weights(gpt_model.final_form.scale, openai_params[\"g\"])\n",
    "        copy_weights(gpt_model.final_form.shift, openai_params[\"b\"])\n",
    "\n",
    "        # The output head re-uses the token embedding weights (weight tying)\n",
    "        copy_weights(gpt_model.out_head.weight, openai_params['wte'])\n",
    "\n",
    "    # Return the model for convenience\n",
    "    return gpt_model\n",
    "\n",
    "gpt = load_weights_from_openai(gpt, params)\n",
    "gpt.to(device)\n",
    "\n",
    "\n"
   ],
   "id": "82d558546a73ce4d",
   "outputs": [
    {
     "data": {
      "text/plain": [
       "GPTModel(\n",
       "  (tok_emb): Embedding(50257, 768)\n",
       "  (pos_emb): Embedding(1024, 768)\n",
       "  (drop_emb): Dropout(p=0.1, inplace=False)\n",
       "  (trf_blocks): Sequential(\n",
       "    (0): TransformerBlock(\n",
       "      (att): MultiHeadAttention(\n",
       "        (W_q): Linear(in_features=768, out_features=768, bias=True)\n",
       "        (W_k): Linear(in_features=768, out_features=768, bias=True)\n",
       "        (W_v): Linear(in_features=768, out_features=768, bias=True)\n",
       "        (dropout): Dropout(p=0.1, inplace=False)\n",
       "        (out_proj): Linear(in_features=768, out_features=768, bias=True)\n",
       "      )\n",
       "      (ff): FeedForward(\n",
       "        (layers): Sequential(\n",
       "          (0): Linear(in_features=768, out_features=3072, bias=True)\n",
       "          (1): GELU()\n",
       "          (2): Linear(in_features=3072, out_features=768, bias=True)\n",
       "        )\n",
       "      )\n",
       "      (norm1): LayerNorm()\n",
       "      (norm2): LayerNorm()\n",
       "      (drop_shortcut): Dropout(p=0.1, inplace=False)\n",
       "    )\n",
       "    (1): TransformerBlock(\n",
       "      (att): MultiHeadAttention(\n",
       "        (W_q): Linear(in_features=768, out_features=768, bias=True)\n",
       "        (W_k): Linear(in_features=768, out_features=768, bias=True)\n",
       "        (W_v): Linear(in_features=768, out_features=768, bias=True)\n",
       "        (dropout): Dropout(p=0.1, inplace=False)\n",
       "        (out_proj): Linear(in_features=768, out_features=768, bias=True)\n",
       "      )\n",
       "      (ff): FeedForward(\n",
       "        (layers): Sequential(\n",
       "          (0): Linear(in_features=768, out_features=3072, bias=True)\n",
       "          (1): GELU()\n",
       "          (2): Linear(in_features=3072, out_features=768, bias=True)\n",
       "        )\n",
       "      )\n",
       "      (norm1): LayerNorm()\n",
       "      (norm2): LayerNorm()\n",
       "      (drop_shortcut): Dropout(p=0.1, inplace=False)\n",
       "    )\n",
       "    (2): TransformerBlock(\n",
       "      (att): MultiHeadAttention(\n",
       "        (W_q): Linear(in_features=768, out_features=768, bias=True)\n",
       "        (W_k): Linear(in_features=768, out_features=768, bias=True)\n",
       "        (W_v): Linear(in_features=768, out_features=768, bias=True)\n",
       "        (dropout): Dropout(p=0.1, inplace=False)\n",
       "        (out_proj): Linear(in_features=768, out_features=768, bias=True)\n",
       "      )\n",
       "      (ff): FeedForward(\n",
       "        (layers): Sequential(\n",
       "          (0): Linear(in_features=768, out_features=3072, bias=True)\n",
       "          (1): GELU()\n",
       "          (2): Linear(in_features=3072, out_features=768, bias=True)\n",
       "        )\n",
       "      )\n",
       "      (norm1): LayerNorm()\n",
       "      (norm2): LayerNorm()\n",
       "      (drop_shortcut): Dropout(p=0.1, inplace=False)\n",
       "    )\n",
       "    (3): TransformerBlock(\n",
       "      (att): MultiHeadAttention(\n",
       "        (W_q): Linear(in_features=768, out_features=768, bias=True)\n",
       "        (W_k): Linear(in_features=768, out_features=768, bias=True)\n",
       "        (W_v): Linear(in_features=768, out_features=768, bias=True)\n",
       "        (dropout): Dropout(p=0.1, inplace=False)\n",
       "        (out_proj): Linear(in_features=768, out_features=768, bias=True)\n",
       "      )\n",
       "      (ff): FeedForward(\n",
       "        (layers): Sequential(\n",
       "          (0): Linear(in_features=768, out_features=3072, bias=True)\n",
       "          (1): GELU()\n",
       "          (2): Linear(in_features=3072, out_features=768, bias=True)\n",
       "        )\n",
       "      )\n",
       "      (norm1): LayerNorm()\n",
       "      (norm2): LayerNorm()\n",
       "      (drop_shortcut): Dropout(p=0.1, inplace=False)\n",
       "    )\n",
       "    (4): TransformerBlock(\n",
       "      (att): MultiHeadAttention(\n",
       "        (W_q): Linear(in_features=768, out_features=768, bias=True)\n",
       "        (W_k): Linear(in_features=768, out_features=768, bias=True)\n",
       "        (W_v): Linear(in_features=768, out_features=768, bias=True)\n",
       "        (dropout): Dropout(p=0.1, inplace=False)\n",
       "        (out_proj): Linear(in_features=768, out_features=768, bias=True)\n",
       "      )\n",
       "      (ff): FeedForward(\n",
       "        (layers): Sequential(\n",
       "          (0): Linear(in_features=768, out_features=3072, bias=True)\n",
       "          (1): GELU()\n",
       "          (2): Linear(in_features=3072, out_features=768, bias=True)\n",
       "        )\n",
       "      )\n",
       "      (norm1): LayerNorm()\n",
       "      (norm2): LayerNorm()\n",
       "      (drop_shortcut): Dropout(p=0.1, inplace=False)\n",
       "    )\n",
       "    (5): TransformerBlock(\n",
       "      (att): MultiHeadAttention(\n",
       "        (W_q): Linear(in_features=768, out_features=768, bias=True)\n",
       "        (W_k): Linear(in_features=768, out_features=768, bias=True)\n",
       "        (W_v): Linear(in_features=768, out_features=768, bias=True)\n",
       "        (dropout): Dropout(p=0.1, inplace=False)\n",
       "        (out_proj): Linear(in_features=768, out_features=768, bias=True)\n",
       "      )\n",
       "      (ff): FeedForward(\n",
       "        (layers): Sequential(\n",
       "          (0): Linear(in_features=768, out_features=3072, bias=True)\n",
       "          (1): GELU()\n",
       "          (2): Linear(in_features=3072, out_features=768, bias=True)\n",
       "        )\n",
       "      )\n",
       "      (norm1): LayerNorm()\n",
       "      (norm2): LayerNorm()\n",
       "      (drop_shortcut): Dropout(p=0.1, inplace=False)\n",
       "    )\n",
       "    (6): TransformerBlock(\n",
       "      (att): MultiHeadAttention(\n",
       "        (W_q): Linear(in_features=768, out_features=768, bias=True)\n",
       "        (W_k): Linear(in_features=768, out_features=768, bias=True)\n",
       "        (W_v): Linear(in_features=768, out_features=768, bias=True)\n",
       "        (dropout): Dropout(p=0.1, inplace=False)\n",
       "        (out_proj): Linear(in_features=768, out_features=768, bias=True)\n",
       "      )\n",
       "      (ff): FeedForward(\n",
       "        (layers): Sequential(\n",
       "          (0): Linear(in_features=768, out_features=3072, bias=True)\n",
       "          (1): GELU()\n",
       "          (2): Linear(in_features=3072, out_features=768, bias=True)\n",
       "        )\n",
       "      )\n",
       "      (norm1): LayerNorm()\n",
       "      (norm2): LayerNorm()\n",
       "      (drop_shortcut): Dropout(p=0.1, inplace=False)\n",
       "    )\n",
       "    (7): TransformerBlock(\n",
       "      (att): MultiHeadAttention(\n",
       "        (W_q): Linear(in_features=768, out_features=768, bias=True)\n",
       "        (W_k): Linear(in_features=768, out_features=768, bias=True)\n",
       "        (W_v): Linear(in_features=768, out_features=768, bias=True)\n",
       "        (dropout): Dropout(p=0.1, inplace=False)\n",
       "        (out_proj): Linear(in_features=768, out_features=768, bias=True)\n",
       "      )\n",
       "      (ff): FeedForward(\n",
       "        (layers): Sequential(\n",
       "          (0): Linear(in_features=768, out_features=3072, bias=True)\n",
       "          (1): GELU()\n",
       "          (2): Linear(in_features=3072, out_features=768, bias=True)\n",
       "        )\n",
       "      )\n",
       "      (norm1): LayerNorm()\n",
       "      (norm2): LayerNorm()\n",
       "      (drop_shortcut): Dropout(p=0.1, inplace=False)\n",
       "    )\n",
       "    (8): TransformerBlock(\n",
       "      (att): MultiHeadAttention(\n",
       "        (W_q): Linear(in_features=768, out_features=768, bias=True)\n",
       "        (W_k): Linear(in_features=768, out_features=768, bias=True)\n",
       "        (W_v): Linear(in_features=768, out_features=768, bias=True)\n",
       "        (dropout): Dropout(p=0.1, inplace=False)\n",
       "        (out_proj): Linear(in_features=768, out_features=768, bias=True)\n",
       "      )\n",
       "      (ff): FeedForward(\n",
       "        (layers): Sequential(\n",
       "          (0): Linear(in_features=768, out_features=3072, bias=True)\n",
       "          (1): GELU()\n",
       "          (2): Linear(in_features=3072, out_features=768, bias=True)\n",
       "        )\n",
       "      )\n",
       "      (norm1): LayerNorm()\n",
       "      (norm2): LayerNorm()\n",
       "      (drop_shortcut): Dropout(p=0.1, inplace=False)\n",
       "    )\n",
       "    (9): TransformerBlock(\n",
       "      (att): MultiHeadAttention(\n",
       "        (W_q): Linear(in_features=768, out_features=768, bias=True)\n",
       "        (W_k): Linear(in_features=768, out_features=768, bias=True)\n",
       "        (W_v): Linear(in_features=768, out_features=768, bias=True)\n",
       "        (dropout): Dropout(p=0.1, inplace=False)\n",
       "        (out_proj): Linear(in_features=768, out_features=768, bias=True)\n",
       "      )\n",
       "      (ff): FeedForward(\n",
       "        (layers): Sequential(\n",
       "          (0): Linear(in_features=768, out_features=3072, bias=True)\n",
       "          (1): GELU()\n",
       "          (2): Linear(in_features=3072, out_features=768, bias=True)\n",
       "        )\n",
       "      )\n",
       "      (norm1): LayerNorm()\n",
       "      (norm2): LayerNorm()\n",
       "      (drop_shortcut): Dropout(p=0.1, inplace=False)\n",
       "    )\n",
       "    (10): TransformerBlock(\n",
       "      (att): MultiHeadAttention(\n",
       "        (W_q): Linear(in_features=768, out_features=768, bias=True)\n",
       "        (W_k): Linear(in_features=768, out_features=768, bias=True)\n",
       "        (W_v): Linear(in_features=768, out_features=768, bias=True)\n",
       "        (dropout): Dropout(p=0.1, inplace=False)\n",
       "        (out_proj): Linear(in_features=768, out_features=768, bias=True)\n",
       "      )\n",
       "      (ff): FeedForward(\n",
       "        (layers): Sequential(\n",
       "          (0): Linear(in_features=768, out_features=3072, bias=True)\n",
       "          (1): GELU()\n",
       "          (2): Linear(in_features=3072, out_features=768, bias=True)\n",
       "        )\n",
       "      )\n",
       "      (norm1): LayerNorm()\n",
       "      (norm2): LayerNorm()\n",
       "      (drop_shortcut): Dropout(p=0.1, inplace=False)\n",
       "    )\n",
       "    (11): TransformerBlock(\n",
       "      (att): MultiHeadAttention(\n",
       "        (W_q): Linear(in_features=768, out_features=768, bias=True)\n",
       "        (W_k): Linear(in_features=768, out_features=768, bias=True)\n",
       "        (W_v): Linear(in_features=768, out_features=768, bias=True)\n",
       "        (dropout): Dropout(p=0.1, inplace=False)\n",
       "        (out_proj): Linear(in_features=768, out_features=768, bias=True)\n",
       "      )\n",
       "      (ff): FeedForward(\n",
       "        (layers): Sequential(\n",
       "          (0): Linear(in_features=768, out_features=3072, bias=True)\n",
       "          (1): GELU()\n",
       "          (2): Linear(in_features=3072, out_features=768, bias=True)\n",
       "        )\n",
       "      )\n",
       "      (norm1): LayerNorm()\n",
       "      (norm2): LayerNorm()\n",
       "      (drop_shortcut): Dropout(p=0.1, inplace=False)\n",
       "    )\n",
       "  )\n",
       "  (final_form): LayerNorm()\n",
       "  (out_head): Linear(in_features=768, out_features=50257, bias=False)\n",
       ")"
      ]
     },
     "execution_count": 20,
     "metadata": {},
     "output_type": "execute_result"
    }
   ],
   "execution_count": 20
  },
  {
   "metadata": {
    "ExecuteTime": {
     "end_time": "2025-06-28T18:17:59.881336Z",
     "start_time": "2025-06-28T18:17:58.199911Z"
    }
   },
   "cell_type": "code",
   "source": [
    "torch.manual_seed(123)\n",
    "token_ids = generate_text_better(model=gpt, idx=text_to_token_ids('A man once told me', tokenizer, allowed_special='<|endoftext|>').to(device),\n",
    "                                 max_new_tokens=30, context_size=cfg_pt.context_length, temperature = 1.3, k = 30, p = 0.6)\n",
    "\n",
    "print(f'Resulting text:\\n{token_ids_to_text(token_ids, tokenizer)}')"
   ],
   "id": "1e44249d94ba1003",
   "outputs": [
    {
     "name": "stdout",
     "output_type": "stream",
     "text": [
      "Resulting text:\n",
      "A man once told me that I could \"feel a thing\" when I was younger, and he said that if I ever felt it when I was a boy, I would\n"
     ]
    }
   ],
   "execution_count": 26
  },
  {
   "metadata": {
    "ExecuteTime": {
     "end_time": "2025-06-28T18:21:07.696683Z",
     "start_time": "2025-06-28T18:20:47.350608Z"
    }
   },
   "cell_type": "code",
   "source": [
    "train_loss_gpt = eval_loss(train_loader, gpt, device)\n",
    "val_loss_gpt = eval_loss(val_loader, gpt, device)\n",
    "print(f\"Train loss: {train_loss_gpt}\")\n",
    "print(f\"Valid loss: {val_loss_gpt}\")\n",
    "\n",
    "print(f'Training perplexity: {torch.exp(torch.tensor(train_loss_gpt))}')\n",
    "print(f'Validation perplexity: {torch.exp(torch.tensor(val_loss_gpt))}')"
   ],
   "id": "d6475b8bd3f2e512",
   "outputs": [
    {
     "name": "stdout",
     "output_type": "stream",
     "text": [
      "Train loss: 3.919455269972483\n",
      "Valid loss: 3.9359031915664673\n",
      "Training perplexity: 50.37300109863281\n",
      "Validation perplexity: 51.2083740234375\n"
     ]
    }
   ],
   "execution_count": 27
  },
  {
   "metadata": {},
   "cell_type": "markdown",
   "source": "#### **Significantly better!!** This finishes our implementation of an LLM.",
   "id": "8ce59f9c005cfa03"
  }
 ],
 "metadata": {
  "kernelspec": {
   "display_name": "Python 3",
   "language": "python",
   "name": "python3"
  },
  "language_info": {
   "codemirror_mode": {
    "name": "ipython",
    "version": 2
   },
   "file_extension": ".py",
   "mimetype": "text/x-python",
   "name": "python",
   "nbconvert_exporter": "python",
   "pygments_lexer": "ipython2",
   "version": "2.7.6"
  }
 },
 "nbformat": 4,
 "nbformat_minor": 5
}
