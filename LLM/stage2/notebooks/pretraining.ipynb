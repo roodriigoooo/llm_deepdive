{
 "cells": [
  {
   "metadata": {
    "collapsed": true,
    "ExecuteTime": {
     "end_time": "2025-06-21T11:29:24.567872Z",
     "start_time": "2025-06-21T11:29:21.813360Z"
    }
   },
   "cell_type": "code",
   "source": [
    "import torch\n",
    "import os, sys\n",
    "\n",
    "project_root = os.path.abspath(\n",
    "    os.path.join(os.getcwd(), os.pardir, os.pardir)\n",
    ")\n",
    "\n",
    "stage1_root = os.path.join(project_root, \"stage1\")\n",
    "sys.path.insert(0, stage1_root)\n",
    "\n",
    "# now 'src' is a top-level package\n",
    "from src.gpt2small import GPTModel, GPTConfig124\n"
   ],
   "id": "initial_id",
   "outputs": [
    {
     "name": "stdout",
     "output_type": "stream",
     "text": [
      "encoded: [32, 582, 1297, 502]\n",
      "encoded_tensor: torch.Size([1, 4])\n",
      "output: tensor([[   32,   582,  1297,   502, 24106, 40901, 46947, 45439, 41121, 10983,\n",
      "         37408, 33219, 13597,   384, 41274, 27228, 32767,   972, 16051,  1462,\n",
      "          6565, 26531, 19694, 30470]])\n",
      "output length: 24\n",
      "A man told me accumulation thumbnail Flask 406 propensity Hat lush Tulsolk se pandemonium 179 Hutement acresto emptyDa ISOetsu\n"
     ]
    }
   ],
   "execution_count": 2
  },
  {
   "metadata": {
    "ExecuteTime": {
     "end_time": "2025-06-21T11:30:58.827975Z",
     "start_time": "2025-06-21T11:30:58.824037Z"
    }
   },
   "cell_type": "code",
   "source": [
    "cfg_pt = GPTConfig124(vocab_size=50257, context_length=256, emb_dim=768,\n",
    "                   n_heads=12, n_layers=12, dropout=0.1, qkv_bias=False)"
   ],
   "id": "6aee549c14b1461",
   "outputs": [],
   "execution_count": 3
  }
 ],
 "metadata": {
  "kernelspec": {
   "display_name": "Python 3",
   "language": "python",
   "name": "python3"
  },
  "language_info": {
   "codemirror_mode": {
    "name": "ipython",
    "version": 2
   },
   "file_extension": ".py",
   "mimetype": "text/x-python",
   "name": "python",
   "nbconvert_exporter": "python",
   "pygments_lexer": "ipython2",
   "version": "2.7.6"
  }
 },
 "nbformat": 4,
 "nbformat_minor": 5
}
