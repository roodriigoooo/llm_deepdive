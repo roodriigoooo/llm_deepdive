{
 "cells": [
  {
   "metadata": {},
   "cell_type": "markdown",
   "source": [
    "### Attention Mechanisms\n",
    "In this notebook, we will sequentially implement different variants of attention mechanisms. These variants will build on each other, with the goal of finally creating a compact, efficient implementation of an attention mechanism, which we can then plug into our LLM architecture.\n",
    "\n",
    "**Simple Self-Attention**: Introduce the broader idea behind attention.\n",
    "\n",
    "**Self-Attention**: Trainable weights that forms the basis of the mechanisms used in LLMs.\n",
    "\n",
    "**Causal Attention**: A self-attention variant allowing a model to consider only previous and current inputs in a sequence, ensuring temporal order during text generation.\n",
    "\n",
    "**Multi-head Attention**: A self-attention and causal attention extension, which enables the model to simultaneously attend to information from different representation subspaces.\n",
    "\n",
    "#### Why Attention?\n",
    "In machine translation, it is not possible to merely translate word by word. The translation process requires contextual understanding and grammatical alignment.\n",
    "\n",
    "- \"Kannst du mir helfen diesen Satz zu uebersetzen\" should not be translated to \"Can you me help this sentence to translate\", but rather to \"Can you help me translate this sentence\".\n",
    "- Certain words require access to words appearing before or later in the original sentence. For instance, the verb \"to translate\" should be used in the context of \"this sentence\", and not independently.\n",
    "\n",
    "Typically, to overcome this challenge, deep neural networks with two submodules are used:\n",
    "\n",
    "- **encoder**: first read in and process the entire text (already done in the `preprocessing.ipynb` notebook).\n",
    "\n",
    "- **decoder**: produces the translated text.\n",
    "\n",
    "Pre-LLM architectures typically involved recurrent neural networks, a type of neural network where outputs from previous steps are fed as inputs to the current step, making them well-suited for sequential data. In this many-to-one RNN architecture, the input text is fed token by token into the encoder, which processes it sequentially. The terminal state of the encoder is a memory cell, known as the hidden state, which encodes the entire input. This hidden state is then fed to a decoder that would then generate the translated sentence, word by word, one word at a time.\n",
    "\n",
    "|     ![RNNEncoder-Decoder](images/RNNencoderdecoder.png)     |\n",
    "|:-----------------------------------------------------------:|\n",
    "| *RNN Encoder Decoder* (Dive Into Deep Learning Chapter 10.7 |\n",
    "\n",
    "- While the encoder is many-to-one, the decoder is a one-to-many architecture, since the hidden state is passed at every step of the decoding process.\n",
    "- While it is not strictly necessary to understand the inner workings of encoder-decoder RNNs to develop an LLM, the `seq2seq.ipynb` notebook in stage 1 aims to more deeply explore these architectures.\n",
    "\n",
    "**encoder-decoder RNNs had many shortcomings that motivated the design of attention mechanisms**, namely that the it was not possible to access earlier hidden states from the encoder during the decoding phase, since we rely on a single hidden state containing all the relevant information. Context was lost, especially in complex sentences where dependencies span larger distances.\n",
    "\n"
   ],
   "id": "8228f801c75cb45f"
  },
  {
   "metadata": {},
   "cell_type": "markdown",
   "source": [
    "## Simple Self-Attention\n",
    "\n",
    "The original *transformer* architecture includes a 'Self-Attention' mechanism inspired by the Badhanau attention mechanism mentioned in `seq2seq.ipynb`.\n",
    "\n",
    "A mechanism that uses self-attention allows each position in the input sequence (each word), to consider the importance of all other positions (all other words) in the same sequence when creating the embedding of such sequence.\n",
    "\n",
    "In short, **the goal of a self-attention mechanism is to, for each position in the input sequence, compute a context vector that captures, quantifies, and combines information from all other positions.** For example, given an input vector $X = {x^{(1)}, x^{(2)},..., x^{(T)}}$ (which represents a text that has already been transformed into token embeddings), we want to compute the context vector $z^{(3)}$ of the 3rd position, $x^{(3)}$. The importance of each input for computing $z^{(3)}$ is determined by attention weights ${\\alpha_{3,1}, \\alpha_{3,2},..., \\alpha_{3, T}}$, being $z^{(3)}$ a combination of all input vectors weighted with respect to input element $x^{(3)}$.\n",
    "\n",
    "- Our goal is to compute context vectors $z^{(i)}$ for all $x^{(i)}$ in the input sequence. The resulting context vectors, we can say, are enriched, more informational embedding vectors.\n",
    "\n",
    "#### Why 'Self-Attention'\n",
    "\n",
    "The 'self' refers to the fact that the mechanism computes weights by assessing and learning the dependencies of different positions **within the same sequence**. The relationships of the various parts of the input itself are considered. This is in contrast to attention mechanisms that focus on assessing and learning the relationship of elements that are part of distinct sequences. Sequence-to-sequence models, for instance, where assessment might be done over an input sequence and a distinct output sequence is not a self-attentive mechanism.\n",
    "\n",
    "\n"
   ],
   "id": "286af1664c396c92"
  },
  {
   "metadata": {
    "ExecuteTime": {
     "end_time": "2025-04-15T14:24:21.931774Z",
     "start_time": "2025-04-15T14:24:21.910772Z"
    }
   },
   "cell_type": "code",
   "source": [
    "import torch\n",
    "import numpy as np\n",
    "\n",
    "inputs = torch.tensor(\n",
    "    [[0.35, 0.15, 0.89], #These (x^1)\n",
    "     [0.97, 0.8, 0.3], #are (x^2)\n",
    "     [0.65, 0.34, 0.24], #random (x^3)\n",
    "     [0.2, 0.87, 0.34], #words (x^4)\n",
    "     [0.86, 0.13, 0.05], #and (x^5)\n",
    "     [0.10, 0.20, 0.30]] #embeddings (x^6)\n",
    ")\n",
    "\n",
    "print(f'This is the third token: {inputs[2]}')\n",
    "\n",
    "print(f'We initialize an empty vector to calculate intermediate attention scores, one for each row (word) of our embeddings: {torch.empty(inputs.shape[0])}')"
   ],
   "id": "ed67fcc89a5bca22",
   "outputs": [
    {
     "name": "stdout",
     "output_type": "stream",
     "text": [
      "This is the third token: tensor([0.6500, 0.3400, 0.2400])\n",
      "We initialize an empty vector to calculate intermediate attention scores, one for each row (word) of our embeddings: tensor([2.3915e-30, 1.6059e-42, 1.7205e-01, 1.7514e-01, 1.6829e-01, 6.1263e-02])\n"
     ]
    }
   ],
   "execution_count": 16
  },
  {
   "metadata": {
    "ExecuteTime": {
     "end_time": "2025-04-15T14:24:24.991408Z",
     "start_time": "2025-04-15T14:24:24.980323Z"
    }
   },
   "cell_type": "code",
   "source": [
    "\n",
    "def calculate_intermediate_attention_score_for_one_position(inputs):\n",
    "    query = inputs[2] # we are working with the third input token as the query\n",
    "    attn_scores_3 = torch.empty(inputs.shape[0])\n",
    "    for i, x_i in enumerate(inputs):\n",
    "        attn_scores_3[i] = torch.dot(query, x_i)\n",
    "    return attn_scores_3\n",
    "\n",
    "\n",
    "attention_scores_3 = calculate_intermediate_attention_score_for_one_position(inputs)\n",
    "print(f'The intermediate attention scores for the second token are: {attention_scores_3}')"
   ],
   "id": "6b3f0780d805ee36",
   "outputs": [
    {
     "name": "stdout",
     "output_type": "stream",
     "text": [
      "The intermediate attention scores for the second token are: tensor([0.4921, 0.9745, 0.5957, 0.5074, 0.6152, 0.2050])\n"
     ]
    }
   ],
   "execution_count": 18
  },
  {
   "metadata": {},
   "cell_type": "markdown",
   "source": [
    "#### Dot Product Intuition\n",
    "\n",
    "In the code above, we have calculated intermediate values for the attention weights of the embedded query token $x^{(2)}$. We have simply initialized an empty, 6-dimension vector (one for each embedded input token) and set each value to be the dot product between input $x^{(i)}$ and query $x^{(2)}$.\n",
    "\n",
    "Recall that, for two vectors $u = [u_{1}, u_{2}, ..., u_{n}]$ and $v = [v_{1}, v_{2}, ..., v_{3}]$ in $R^{n}$, the dot product is defined as the sum of the element-wise multiplication:\n",
    "\n",
    "$$\n",
    "\\begin{align*}\n",
    "u \\bullet v = \\sum_{i=1}^{n} u_{i}v_{i} = u_{1}v_{1} + u_{2}v_{2} + ... + u_{n}v_{n}\n",
    "\\end{align*}\n",
    "$$\n",
    "\n",
    "Alternatively, the dot product can also be geometrically expressed as:\n",
    "\n",
    "$$\n",
    "\\begin{align*}\n",
    "u \\bullet v = |u||v|cos(\\theta)\n",
    "\\end{align*}\n",
    "$$\n",
    "\n",
    "where $|u|$ and $|v|$ are the magnitudes of the vectors, and $\\theta$ is the angle between them.\n",
    "\n",
    "- When $\\theta = 0^\\circ$, the vectors are parallel and point in the same direction. $cos(0) = 1$, and therefore $u \\bullet v = |u||v|$. This is the maximum possible value of the dot product for given magnitudes.\n",
    "- When $\\theta = 90^\\circ$, the vectors are perpendicular. $cos(90) = 0$, and $u \\bullet v = 0$. This indicates no alignment or similarity. The vectors share no directional overlap.\n",
    "- When $\\theta = 180^\\circ$, the vectors are parallel but point to opposite directions. $cos(180) = -1$ and $u \\bullet v = -|u||v|$. This negative value indicates dissimilarity.\n",
    "\n",
    "**The dot product depends on both alignment and magnitude.** Without normalization, it is possible that two long vectors at a small angle have a larger dot product than two short, perfectly aligned vectors. Therefore, **vectors are often normalized to provide a range from -1 to 1 as a pure measure of directional similarity**:\n",
    "\n",
    "$$\n",
    "\\begin{align*}\n",
    "Cosine Similarity = \\frac{u \\bullet v}{|u||v|} = cos(\\theta)\n",
    "\\end{align*}\n",
    "$$\n",
    "\n",
    "- Even without normalization, however, the dot product captures similarity through component-wise agreement (large values in the same positions yield a large sum). **Scaling and normalization might refine this measure, but this core principle holds.**\n",
    "\n",
    "It is extremely important to understand how dot products determine the extent to which each position in a sequence gives importance to any other element. The higher the dot product, the higher the similarity, and the higher the attention score between the two positions.\n"
   ],
   "id": "ebdc54d74b8c113b"
  },
  {
   "metadata": {
    "ExecuteTime": {
     "end_time": "2025-04-15T14:24:28.980659Z",
     "start_time": "2025-04-15T14:24:28.958463Z"
    }
   },
   "cell_type": "code",
   "source": [
    "attn_weights_3_norm = attention_scores_3/attention_scores_3.sum()\n",
    "print(f'Normalized attention weights for the third token are: {attn_weights_3_norm}')\n",
    "print(f'The sum of the normalized attention weights for the third token is: {attn_weights_3_norm.sum()}')"
   ],
   "id": "6a1ecfc41ba03803",
   "outputs": [
    {
     "name": "stdout",
     "output_type": "stream",
     "text": [
      "Normalized attention weights for the third token are: tensor([0.1452, 0.2875, 0.1757, 0.1497, 0.1815, 0.0605])\n",
      "The sum of the normalized attention weights for the third token is: 0.9999998807907104\n"
     ]
    }
   ],
   "execution_count": 19
  },
  {
   "metadata": {},
   "cell_type": "markdown",
   "source": [
    "#### Why Normalize?\n",
    "\n",
    "Above, we have implemented a very straightforward method for achieving normalization. We have normalized the attention scores $w_{3,i}$ to obtain the attention weights $\\alpha_{3,i}$. The weights are now more interpretable, and they now sum up to 1. Each attention weight now shows the attention that token $x^{(3)}$ (**the query**) should place on token $x^{(i)}$ (**the key**) in a standardized, proportional manner.\n",
    "\n",
    "Using the example above (although remember they are meaningless, random embeddings), we see that for the query token $x^{(3)}$, weight $\\alpha_{3,2}$ indicates that 28.75% of the attention of $x^{(3)}$ is placed on $x^{(2)}$, while weight $\\alpha_{3,6}$ indicates that only 6.05% of the attention is placed on $x^{(6)}$.\n",
    "\n",
    "In practice, it is more practical and common to use a **softmax function** for normalization, as it is better at managinng extreme values and has better gradient properties for training.\n",
    "\n",
    "$$\n",
    "\\begin{align*}\n",
    "softmax(w_{i,j}) = \\frac{e^{w_{i,j}}}{\\sum_k e^{w_{i,k}}}\n",
    "\\end{align*}\n",
    "$$\n",
    "\n",
    "- By converting scores into probabilities between 0 and 1 that sum to 1, normalization prevents weights from growing too large or shrinking too small. Unbounded raw scores could otherwise lead to extreme values, causing gradients to explode or vanish during backpropagation, disrupting convergence.\n",
    "- The softmax function has a well-behaved, bounded derivative that ensures that gradient updates remain consistent, and that they avoid the instability that might occur with raw scores.\n",
    "\n",
    "$$\n",
    "\\begin{align*}\n",
    "\\frac{\\partial{softmax(x_{j})}}{\\partial x_{k}} = softmax(x_{j})(\\delta_{j, k} - softmax(x_{k}))\n",
    "\\end{align*}\n",
    "$$\n"
   ],
   "id": "51b1f231b59f1e46"
  },
  {
   "metadata": {
    "ExecuteTime": {
     "end_time": "2025-04-15T14:24:33.202307Z",
     "start_time": "2025-04-15T14:24:33.182307Z"
    }
   },
   "cell_type": "code",
   "source": [
    "def softmax_naive(x):\n",
    "    return torch.exp(x)/torch.sum(torch.exp(x))\n",
    "\n",
    "attn_weights_3_norm_softmax = softmax_naive(attention_scores_3)\n",
    "print(f'Normalized attention weights for the third token after softmax are: {attn_weights_3_norm_softmax}')\n",
    "print(f'The sum is {attn_weights_3_norm_softmax.sum()}')\n",
    "\n",
    "#or, using PyTorch softmax:\n",
    "attn_weights_3_norm_softmax_ = torch.nn.functional.softmax(attention_scores_3, dim=0)\n",
    "print(f'Normalized attention weights for the third token after softmax are: {attn_weights_3_norm_softmax_}')\n",
    "print(f'The sum is {attn_weights_3_norm_softmax_.sum()}')\n"
   ],
   "id": "b35de60079e25986",
   "outputs": [
    {
     "name": "stdout",
     "output_type": "stream",
     "text": [
      "Normalized attention weights for the third token after softmax are: tensor([0.1509, 0.2445, 0.1674, 0.1532, 0.1707, 0.1133])\n",
      "The sum is 1.0\n",
      "Normalized attention weights for the third token after softmax are: tensor([0.1509, 0.2445, 0.1674, 0.1532, 0.1707, 0.1133])\n",
      "The sum is 1.0000001192092896\n"
     ]
    }
   ],
   "execution_count": 20
  },
  {
   "metadata": {},
   "cell_type": "markdown",
   "source": "As a final step, we simply multiply all embedded input tokens $x^{(i)}$ with the corresponding attention weights, and sum everything to obtain context vector $z^{(3)}$.",
   "id": "73ba7b452ac17849"
  },
  {
   "metadata": {
    "ExecuteTime": {
     "end_time": "2025-04-15T14:18:28.114292Z",
     "start_time": "2025-04-15T14:18:28.090107Z"
    }
   },
   "cell_type": "code",
   "source": [
    "query = inputs[2]\n",
    "context_vec_3 = torch.zeros(query.shape)\n",
    "for i, x_i in enumerate(inputs):\n",
    "    context_vec_3 += attn_weights_3_norm_softmax[i] * x_i\n",
    "print(f'Context vector for the third token is: {context_vec_3}')"
   ],
   "id": "74cd0bc71ac462aa",
   "outputs": [
    {
     "name": "stdout",
     "output_type": "stream",
     "text": [
      "Context vector for the third token is: tensor([0.5876, 0.4533, 0.3425])\n"
     ]
    }
   ],
   "execution_count": 15
  },
  {
   "metadata": {},
   "cell_type": "markdown",
   "source": [
    "#### Computing Attention Weights for All Token\n",
    "\n",
    "We now generalize the code above, which computes and normalizes the attention weights of all keys, $x^{(j)}$ for a given query $x^{(i)}$, to compute the attention weights and context vectors for all inputs."
   ],
   "id": "cb84a6460d76830c"
  },
  {
   "metadata": {
    "ExecuteTime": {
     "end_time": "2025-04-15T14:46:50.308471Z",
     "start_time": "2025-04-15T14:46:50.286279Z"
    }
   },
   "cell_type": "code",
   "source": [
    "def calculate_intermediate_attention_score_all_positions(inputs):\n",
    "    attn_scores = torch.empty(inputs.shape[0], inputs.shape[0])\n",
    "    for i, x_i in enumerate(inputs):\n",
    "        for j, x_j in enumerate(inputs):\n",
    "            attn_scores[i,j] = torch.dot(x_i, x_j)\n",
    "    return attn_scores\n",
    "\n",
    "\n",
    "attention_scores = calculate_intermediate_attention_score_all_positions(inputs)\n",
    "print(f'The intermediate attention scores for all positions are:\\n {attention_scores}')"
   ],
   "id": "c6132aa7092f6eb5",
   "outputs": [
    {
     "name": "stdout",
     "output_type": "stream",
     "text": [
      "The intermediate attention scores for all positions are:\n",
      " tensor([[0.9371, 0.7265, 0.4921, 0.5031, 0.3650, 0.3320],\n",
      "        [0.7265, 1.6709, 0.9745, 0.9920, 0.9532, 0.3470],\n",
      "        [0.4921, 0.9745, 0.5957, 0.5074, 0.6152, 0.2050],\n",
      "        [0.5031, 0.9920, 0.5074, 0.9125, 0.3021, 0.2960],\n",
      "        [0.3650, 0.9532, 0.6152, 0.3021, 0.7590, 0.1270],\n",
      "        [0.3320, 0.3470, 0.2050, 0.2960, 0.1270, 0.1400]])\n"
     ]
    }
   ],
   "execution_count": 33
  },
  {
   "metadata": {},
   "cell_type": "markdown",
   "source": "For faster computation, we can avoid using for loops by using matrix multiplication:",
   "id": "68dc882ed368c132"
  },
  {
   "metadata": {
    "ExecuteTime": {
     "end_time": "2025-04-15T14:56:56.890232Z",
     "start_time": "2025-04-15T14:56:56.866236Z"
    }
   },
   "cell_type": "code",
   "source": [
    "attention_scores = inputs @ inputs.T\n",
    "print(attention_scores)\n",
    "\n",
    "attention_weights = torch.nn.functional.softmax(attention_scores, dim=1)\n",
    "print(f'Normalized attention weights for the third token after softmax are: {attention_weights}')\n",
    "\n",
    "print(f'Row sums: {attention_weights.sum(dim=1)}')\n",
    "\n",
    "all_context_vectors = attention_weights @ inputs\n",
    "print(f'Context vectors for all positions are:\\n {all_context_vectors}')"
   ],
   "id": "61384617ff781dc1",
   "outputs": [
    {
     "name": "stdout",
     "output_type": "stream",
     "text": [
      "tensor([[0.9371, 0.7265, 0.4921, 0.5031, 0.3650, 0.3320],\n",
      "        [0.7265, 1.6709, 0.9745, 0.9920, 0.9532, 0.3470],\n",
      "        [0.4921, 0.9745, 0.5957, 0.5074, 0.6152, 0.2050],\n",
      "        [0.5031, 0.9920, 0.5074, 0.9125, 0.3021, 0.2960],\n",
      "        [0.3650, 0.9532, 0.6152, 0.3021, 0.7590, 0.1270],\n",
      "        [0.3320, 0.3470, 0.2050, 0.2960, 0.1270, 0.1400]])\n",
      "Normalized attention weights for the third token after softmax are: tensor([[0.2376, 0.1925, 0.1522, 0.1539, 0.1341, 0.1297],\n",
      "        [0.1235, 0.3176, 0.1583, 0.1611, 0.1550, 0.0845],\n",
      "        [0.1509, 0.2445, 0.1674, 0.1532, 0.1707, 0.1133],\n",
      "        [0.1477, 0.2408, 0.1483, 0.2224, 0.1208, 0.1201],\n",
      "        [0.1371, 0.2468, 0.1760, 0.1287, 0.2033, 0.1080],\n",
      "        [0.1818, 0.1846, 0.1601, 0.1754, 0.1481, 0.1500]])\n",
      "Row sums: tensor([1.0000, 1.0000, 1.0000, 1.0000, 1.0000, 1.0000])\n",
      "Context vectors for all positions are:\n",
      " tensor([[0.5279, 0.4187, 0.4037],\n",
      "        [0.6281, 0.5036, 0.3311],\n",
      "        [0.5876, 0.4533, 0.3425],\n",
      "        [0.5420, 0.4984, 0.3569],\n",
      "        [0.6132, 0.4379, 0.3246],\n",
      "        [0.5242, 0.4312, 0.3676]])\n"
     ]
    }
   ],
   "execution_count": 38
  }
 ],
 "metadata": {
  "kernelspec": {
   "display_name": "Python 3",
   "language": "python",
   "name": "python3"
  },
  "language_info": {
   "codemirror_mode": {
    "name": "ipython",
    "version": 2
   },
   "file_extension": ".py",
   "mimetype": "text/x-python",
   "name": "python",
   "nbconvert_exporter": "python",
   "pygments_lexer": "ipython2",
   "version": "2.7.6"
  }
 },
 "nbformat": 4,
 "nbformat_minor": 5
}
