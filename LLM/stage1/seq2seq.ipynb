{
 "cells": [
  {
   "metadata": {},
   "cell_type": "markdown",
   "source": [
    "### Sequence-to-Sequence Learning\n",
    "Note that, when we refer to sequence-to-sequence problems, we are simply talking about problems where the both the inputs and the outputs consist of variable-length, unaligned sequences. In these types of problems, we normally rely on encoder-decoder architectures (a very simple version of which was already developed on `preprocessing.ipynb`.\n",
    "\n",
    "WIP"
   ],
   "id": "3a0494bba725634a"
  }
 ],
 "metadata": {
  "kernelspec": {
   "display_name": "Python 3",
   "language": "python",
   "name": "python3"
  },
  "language_info": {
   "codemirror_mode": {
    "name": "ipython",
    "version": 2
   },
   "file_extension": ".py",
   "mimetype": "text/x-python",
   "name": "python",
   "nbconvert_exporter": "python",
   "pygments_lexer": "ipython2",
   "version": "2.7.6"
  }
 },
 "nbformat": 4,
 "nbformat_minor": 5
}
