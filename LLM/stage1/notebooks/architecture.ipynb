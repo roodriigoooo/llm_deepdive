{
 "cells": [
  {
   "metadata": {
    "ExecuteTime": {
     "end_time": "2025-06-23T10:26:46.600263Z",
     "start_time": "2025-06-23T10:26:46.595831Z"
    }
   },
   "cell_type": "code",
   "source": [
    "import os, sys\n",
    "from logging import setLogRecordFactory\n",
    "\n",
    "stage1_dir = os.path.abspath(os.path.join(os.getcwd(), '..'))\n",
    "if stage1_dir not in sys.path:\n",
    "    sys.path.insert(0, stage1_dir)"
   ],
   "id": "b08b166feab609b7",
   "outputs": [],
   "execution_count": 2
  },
  {
   "metadata": {},
   "cell_type": "markdown",
   "source": [
    "## Generative Pretrained Transformer (GPT) ModeL\n",
    "Now that we understand the attention mechanism, one of the core components of traditional LLMs, we can now put this mechanism in the context of other building blocks, which we can then put together to end up with our own GPT model. Up to this point, we have been keeping embedding dimensionality small in the interest of easier learning and understanding. Now we will attempt to scale everything up to a scale comparable to the smallest GPT-2 model (124 million parameters).\n",
    "\n",
    "#### *Language Models are Unsupervised Multitask Learners (Radford et.al, 2019)*\n",
    "This paper first introduced GPT-2, the largest model of which achieved, at the time, state-of-the-art results in 7 out of 8 tested language modeling datasets in a zero-shot setting. It represented a huge step towards building language models that could be accurately characterized as 'competent generalists', rather than 'narrow experts', systems that could perform tasks (sentiment analysis, translation, entity extraction, etc.) without the need to create and label a separate training set for each one.\n",
    "\n",
    "The standard definition of a language model is an unsupervised probability distribution that is fitted over token sequences. Given a corpus of sequences:\n",
    "\n",
    "$$\n",
    "\\{\\,x^{(j)} = (s_1^{(j)}, s_2^{(j)}, \\dots, s_{n_j}^{(j)})\\}_{j=1}^N.\n",
    "$$\n",
    "\n",
    "We maximize the log-likelihood\n",
    "$$\n",
    "\\mathcal{L} = \\sum_{j=1}^N \\log p\\bigl(x^{(j)}\\bigr),\n",
    "$$\n",
    "\n",
    "where\n",
    "$$\n",
    "p(x) = \\prod_{i=1}^{n} p\\bigl(s_i \\mid s_{<i}\\bigr).\n",
    "$$\n",
    "\n",
    "Recent architectures, like the Transformer with its self-attention, compute and parametrize each conditional $p(s_i \\mid s_{<i})$ and dramatically increase expressivity. Therefore, learning to perform a single task can be ordinarily modeled as an estimation of a distribution $p(\\text{output}\\mid\\text{input})$. A general solver must however also condition on which task to perform $p(\\text{output}\\mid\\text{input, task})$. Up to this point, task conditioning in the context of multitask settings was implemented at an architectural level: task specific encoders and decoders, at an algorithmic level with meta-learning loops, etc. The paper's hypothesis was that **unsupervised multitask learning via pure language modeling was possible.**\n",
    "\n",
    "> When a large language model is trained on a sufficiently large and diverse dataset it is able to perform well across many domains and datasets. [...] high-capacity models trained to maximize the likelihood of a sufficiently varied text corpus begin to learn how to perform a surprising amount of tasks without the need for explicit supervision.\n",
    ">\n",
    ">--<cite>Language Models are Unsupervised Multitask Learners, Radford et.al, 2019</cite>\n"
   ],
   "id": "851dd60dfc944b6d"
  },
  {
   "cell_type": "code",
   "id": "initial_id",
   "metadata": {
    "collapsed": true,
    "ExecuteTime": {
     "end_time": "2025-06-23T10:26:56.858487Z",
     "start_time": "2025-06-23T10:26:46.613973Z"
    }
   },
   "source": [
    "from nltk.draw import cfg as cf\n",
    "from transformers.utils.fx import torch_flip\n",
    "from dataclasses import dataclass\n",
    "\n",
    "@dataclass\n",
    "class GPTConfig124:\n",
    "    vocab_size: int = 50257\n",
    "    context_length: int = 1024\n",
    "    emb_dim: int = 768\n",
    "    n_heads: int = 12\n",
    "    n_layers: int = 12\n",
    "    dropout: float = 0.1\n",
    "    qkv_bias: bool = False\n"
   ],
   "outputs": [],
   "execution_count": 3
  },
  {
   "metadata": {
    "ExecuteTime": {
     "end_time": "2025-06-23T10:26:56.876490Z",
     "start_time": "2025-06-23T10:26:56.869069Z"
    }
   },
   "cell_type": "code",
   "source": [
    "import torch\n",
    "import torch.nn as nn\n",
    "import torch.nn.functional as F\n",
    "\n",
    "class GPT2Dummy(nn.Module):\n",
    "    \"\"\"\n",
    "    A *do nothing* GPT2 scaffold.\n",
    "    We will progressively accordingly swap nn.Identity for real implementations.\n",
    "    \"\"\"\n",
    "    def __init__(self, cfg: GPTConfig124):\n",
    "        super().__init__()\n",
    "        self.tok_emb = nn.Embedding(cfg.vocab_size, cfg.emb_dim)\n",
    "        self.pos_emb = nn.Embedding(cfg.context_length, cfg.emb_dim)\n",
    "        self.drop_emb = nn.Dropout(cfg.dropout)\n",
    "        self.blocks = nn.ModuleList(\n",
    "            [nn.Identity() for _ in range(cfg.n_layers)]\n",
    "        )\n",
    "        self.norm = nn.Identity()\n",
    "        self.lm_head = nn.Linear(cfg.emb_dim, cfg.vocab_size, bias=False)\n",
    "\n",
    "    def forward(self, in_idx: torch.Tensor):\n",
    "        \"\"\"\n",
    "        idx: (batch_size, seq_len) tensor of token indices.\n",
    "        :return: logits: (batch_size, seq_len, vocab_size) tensor of logits (unnormalized scores).\n",
    "        \"\"\"\n",
    "        B, T = in_idx.shape\n",
    "        tok_embeds = self.tok_emb(in_idx)\n",
    "        pos_embeds = self.pos_emb(torch.arange(T, device=in_idx.device))\n",
    "        x = self.drop_emb(tok_embeds + pos_embeds)\n",
    "        for block in self.blocks:\n",
    "            x = block(x)\n",
    "\n",
    "        x = self.norm(x)\n",
    "        logits = self.lm_head(x)\n",
    "        return logits\n"
   ],
   "id": "6eb629d4234cf894",
   "outputs": [],
   "execution_count": 4
  },
  {
   "metadata": {},
   "cell_type": "markdown",
   "source": [
    "- `self.tok_emb`, `self.pos_emb` turn discrete tokens and positions into continuous vectors of size `emb_dim`.\n",
    "- `self.blocks`, collected in a `nn.ModuleList` is where the attention & multilayer perceptron layers would normally live. Each block is currently a no-op; it simply returns its input.\n",
    "- `self.norm` is also a placeholder that does nothing. GPT-2 applies a Layernorm after the stack of the blocks.\n",
    "- `nn.Linear` with `bias=False` projects the final hidden states back to vocabulary size so we can compute logits for the next-token predictions.\n",
    "- The forward pass therefore embeds tokens and positions -> adds them -> adds dropout -> passes through blocks -> layer-norm -> linear head. It mirrors the high-level flow of a real GPT-2, just without any real computations inside the blocks."
   ],
   "id": "7ef91b56cab27d36"
  },
  {
   "metadata": {
    "ExecuteTime": {
     "end_time": "2025-06-23T10:26:57.311810Z",
     "start_time": "2025-06-23T10:26:56.898783Z"
    }
   },
   "cell_type": "code",
   "source": [
    "import tiktoken\n",
    "\n",
    "tokenizer = tiktoken.get_encoding('gpt2')\n",
    "batch = []\n",
    "\n",
    "text = \"\"\"A man told me once that all the bad people\n",
    "Were needed. Maybe not all, but your fingernails\n",
    "You need; they are really claws, and we know\n",
    "Claws. The sharks--what about them?\n",
    "They make other fish swim faster. The hard-faced men\n",
    "In black coats who chase you for hours\n",
    "In dreams--that's the only way to get you\n",
    "To the shore. Sometimes those hard women\n",
    "Who abandon you get you to say, \"You.\"\n",
    "A lazy part of us is like a tumbleweed.\n",
    "It doesn't move on its own. It takes sometimes\n",
    "A lot of Depression to get tumbleweeds moving.\n",
    "Then they blow across three or four States.\n",
    "This man told me that things work together.\n",
    "Bad handwriting sometimes leads to new ideas;\n",
    "And a careless God--who refuses to let you\n",
    "Eat from the Tree of Knowledge--can lead\n",
    "To books, and eventually to us. We write\n",
    "Poems with lies in them, but they help a little.\"\"\"\n",
    "\n",
    "tokens = tokenizer.encode(text)\n",
    "tokens.append(tokenizer.eot_token)\n",
    "\n",
    "print(tokens[:5])\n",
    "\n",
    "B, T = 2, 4\n",
    "data = torch.tensor(tokens[:8+1])\n",
    "\n",
    "x = data[:-1].view(B,T) #input tensor\n",
    "y = data[1:].view(B,T) #target tensor for next token prediction\n",
    "\n",
    "batch.append(x)\n",
    "\n",
    "print(x)\n",
    "print(y)\n",
    "print(batch[0])\n"
   ],
   "id": "aebd38bfe1a86f19",
   "outputs": [
    {
     "name": "stdout",
     "output_type": "stream",
     "text": [
      "[32, 582, 1297, 502, 1752]\n",
      "tensor([[  32,  582, 1297,  502],\n",
      "        [1752,  326,  477,  262]])\n",
      "tensor([[ 582, 1297,  502, 1752],\n",
      "        [ 326,  477,  262, 2089]])\n",
      "tensor([[  32,  582, 1297,  502],\n",
      "        [1752,  326,  477,  262]])\n"
     ]
    }
   ],
   "execution_count": 5
  },
  {
   "metadata": {},
   "cell_type": "markdown",
   "source": [
    "|             ![Full GPT-2 Architecture](../images/full_architecture.png)             |\n",
    "|:--------------------------------------------------------------------------------:|\n",
    "| *GPT-2 Architecture* (GPT-2 Detailed Model Architecture, **Henry Wu** on Medium) |"
   ],
   "id": "48b269b3b2a47c8"
  },
  {
   "metadata": {
    "ExecuteTime": {
     "end_time": "2025-06-23T10:26:58.102046Z",
     "start_time": "2025-06-23T10:26:57.348758Z"
    }
   },
   "cell_type": "code",
   "source": [
    "torch.manual_seed(123)\n",
    "cfg = GPTConfig124()\n",
    "model = GPT2Dummy(cfg)\n",
    "logits = model(x)\n",
    "print(f'Output shape:\\n {logits.shape}')\n",
    "print(f'Logits:\\n{logits}')"
   ],
   "id": "cacf1c42fccec04",
   "outputs": [
    {
     "name": "stdout",
     "output_type": "stream",
     "text": [
      "Output shape:\n",
      " torch.Size([2, 4, 50257])\n",
      "Logits:\n",
      "tensor([[[ 0.3944, -0.0408, -0.2424,  ..., -0.2212,  0.0131,  1.3445],\n",
      "         [-0.6989,  0.2696, -0.5769,  ..., -0.2170,  0.0857, -0.0557],\n",
      "         [ 0.8880,  0.1022,  0.5163,  ...,  0.7871,  0.9948,  0.7927],\n",
      "         [ 0.0979,  0.5000, -0.9337,  ...,  1.7114,  0.3513, -0.3061]],\n",
      "\n",
      "        [[-0.1601, -0.8575, -0.5662,  ...,  0.3182, -1.2915, -0.2427],\n",
      "         [-1.3554,  1.2148, -0.4383,  ..., -0.5768,  0.1907,  0.6106],\n",
      "         [-0.5857,  0.6561,  0.0237,  ...,  1.3546, -0.2586, -1.0205],\n",
      "         [ 0.1957, -0.2056, -0.4146,  ...,  2.6419, -0.4892, -0.1127]]],\n",
      "       grad_fn=<UnsafeViewBackward0>)\n"
     ]
    }
   ],
   "execution_count": 6
  },
  {
   "metadata": {},
   "cell_type": "markdown",
   "source": "The output tensor has two \"blocks\" corresponding to the two text samples (two batches). Each sample consists of 4 tokens, and each token is mapped to a 50257-dimensional vector, one for each word in our dictionary. There are two blocks, each block has 4 rows, each row has 50257 columns.",
   "id": "d05058468aa69918"
  },
  {
   "metadata": {},
   "cell_type": "markdown",
   "source": [
    "## Layer Normalization *(Layer Normalization (Lei Ba et.al, 2016))*\n",
    "\n",
    "Vanishing or exploding gradients are a common problem when training deep neural networks. They lead to instability in the training process, and make it difficult for the network to find a set of parameters that can robustly minimize the loss function. In the original Transformer architecture (*Attention is All You Need*, Vaswani et al., 2017, a paper already introduced in our attention exploration) layer normalization was placed between the residual blocks. In GPT-2, layer normalization is applied before and after residual blocks, and before the final output layer.\n",
    "\n",
    "> A *residual block* augments a sub-layer (e.g. self-attention or feed-forward network) with a shortcut connection that simply adds the block's input to its output. If $S(\\bullet)$ denotes the sub-layer transformation on input $x$, the block yields $y = x + S(x)$. This connection encourages the network to learn perturbations around the identity function, making very deep architectures trainable. In the original architecture, each attention or feed-forward sub-layer is followed by a residual addition and then layer normalization.\n",
    "\n",
    "|              ![Transformer Model Architecture](../images/transformerarch.png)              |\n",
    "|:---------------------------------------------------------------------------------------:|\n",
    "| *Original Transformer Architecture* (*Attention is All You Need, Vaswani et al., 2017*) |"
   ],
   "id": "563365d10fcc4ed3"
  },
  {
   "metadata": {},
   "cell_type": "markdown",
   "source": [
    "*Layer normalization* is an evolution of *batch normalization*, which first appeared as a method to speed up the learning of deep neural networks, which would often require many days. Batch normalization standardized summed input using its mean and its standard deviation across the training data, and it led to **to faster converging, faster training time and the randomness from batch statistics also served as regularization during training, reducing variance.**\n",
    "\n",
    "Batch normalization is also designed to reduce undesirable *covariate shift*. This occurs when the gradients with respect to weights in one layer are highly affected on the outputs from previous layers. In deep neural networks, the updates in the earlier layers' weights during training will change the input distribution of the following layers. Indeed, covariate shift can be mitigated by different normalization techniques.\n",
    "\n",
    "However, as already mentioned, batch normalization requires averaging summed input statistics. **This is efficient and straightforward in feed-forward networks with fixed depth, where the length of inputs does not vary.** In problems where the summed inputs often vary with the length of the input sequence, each distinct time-step might require different statistics. Therefore, while batch normalization is applied over the batch dimension independently for each feature index, layer normalization is applied over $d_{model}$ (in this case, our 50257-dimensional vector) only, independently for each $(\\text{batch}, \\text{token})$ pair.\n",
    "\n",
    "|                      ![Batch Normalization](../images/batchNorm.png)                      |\n",
    "|:--------------------------------------------------------------------------------------:|\n",
    "| Batch Norm Visualized (*Layer Normalization in Transformer*, **Sachinsoni** on Medium) |\n",
    "\n",
    "> In principle, one could pad every sequence in a batch to the same length and then apply batch normalization at each time step, maintaining separate mean/variance statistics for each position. However, there are a lot of drawbacks introduced by this strategy:\n",
    ">\n",
    "> - padding shorter sequences up to a given length involves performing more computations.\n",
    "> - introducing padding may introduce a lot of zeros into the dataset, which can mislead the normalization process. To prevent padded positions from influencing the gradient (vanishing gradients) we would have to carry an explicit mask through every operation (adding more runtime overhead).\n",
    "> - even if all training sequences are padded to a given maximum seen during training, test sequences may be longer.\n",
    "\n",
    "Layer normalization is an element-wise affine transformation applied to the activations of a neural network layer. Given an input $v \\in \\mathbb{R}^d$, we compute:\n",
    "\n",
    "$$\n",
    "\\mu = \\frac{1}{d}\\sum_{k=1}^{d}v_k,  \\space   \\sigma = \\sqrt{\\frac{1}{d}\\sum_{k=1}^{d}(v_k - \\mu)^2}\n",
    "$$\n",
    "$$\n",
    "\\text{LayerNorm($v$)} = \\gamma\\frac{v - \\mu}{\\sigma} + \\beta\n",
    "$$\n",
    "\n",
    "where scale $\\gamma$ and bias $\\beta$ are learnable parameters restoring representational flexibility. Concretely, recalling that in a transformer we are working with activations of shape\n",
    "$$\n",
    "\\text{(batchSize, numOfTokens, dModel)}\n",
    "$$\n",
    "**For batch normalization** take the tensor $(N, T, d)$. For each feature $k \\in ({1, \\dots, d})$, we compute:\n",
    "$$\n",
    "\\mu_k = \\frac{1}{NT}\\sum_{n=1}^{N}\\sum_{t=1}^{T}v_{n,t,k}, \\space \\sigma_k^2 = \\frac{1}{NT}\\sum_{n=1}^{N}\\sum_{t=1}^{T}(v_{n,t,k} - \\mu_k)^2\n",
    "$$\n",
    "$$\n",
    "\\text{BatchNorm}(v_{n,t,k}) = \\gamma_k\\frac{v_{n,t,k} - \\mu_k}{\\sigma_k} + \\beta_k\n",
    "$$\n",
    "\n",
    "> In batch normalization, $\\mu$ and $\\sigma$ are estimated using empirical samples from the mini-batch. This normalization strategy therefore mixes statistics across all examples (and token positions) so:\n",
    "> - each example's normalization depends on the rest of the mini-batch,\n",
    "> - it requires reasonably large batch sizes,\n",
    "> - it cannot be used in a pure online (batch size 1) regime without tricks.\n",
    "\n",
    "**For layer normalization**, for an activation vector $v_{n,t} \\in \\mathbb{R}^d$ were $n$ indexes batch and $t$ indexes sequence position:\n",
    "\n",
    "$$\n",
    "\\mu_{n,t} = \\frac{1}{d}\\sum_{k=1}^{d}v_{n,t,k}, \\space \\sigma_{n,t}^2 = \\frac{1}{d}\\sum_{k=1}^{d}(v_{n,t,k} - \\mu_{n,t})^2\n",
    "$$\n",
    "$$\n",
    "\\text{LayerNorm}(\\mathbb{v}_{n,t}) = \\gamma\\frac{\\mathbb{v}_{n,t} - \\mu_{n,t}}{\\sigma_{n,t}} + \\beta\n",
    "$$\n",
    "\n",
    "> In layer normalization, there is no mixing across different examples or token positions. $\\mu$ and $\\sigma$ are shared among the hidden units (d_model), but different time steps have different normalization terms.\n",
    "> - each vector is normalized 'in-place'. Per-token normalization keeps each position's representation self-contained, which works naturally with residual blocks and attention.\n",
    "> - No cross-sample dependency also allows us to not leak information between examples, and to avoid adding complexity (e.g. tracking running means) when moving between training and inference. We are reducing the *covariate shift* problem further, by fixing the mean and the variance of summed inputs to be computed **within each layer**.\n",
    "\n",
    "|                           ![Layer Normalization](../images/layerNorm.png)                           |\n",
    "|:------------------------------------------------------------------------------------------------:|\n",
    "|    Layer Norm Visualized (*Build a Large Language Model from Scratch*, **Sebastian Raschka**)    |\n",
    "\n",
    "\n",
    "\n"
   ],
   "id": "4ba2db72d216eeb2"
  },
  {
   "metadata": {
    "ExecuteTime": {
     "end_time": "2025-06-23T10:26:58.132873Z",
     "start_time": "2025-06-23T10:26:58.114438Z"
    }
   },
   "cell_type": "code",
   "source": [
    "class LayerNorm(nn.Module):\n",
    "    def __init__(self, emb_dim):\n",
    "        super().__init__()\n",
    "        self.eps = 1e-6 #small constant to prevent division by zero\n",
    "        self.scale = nn.Parameter(torch.ones(emb_dim))\n",
    "        self.shift = nn.Parameter(torch.zeros(emb_dim)) #gamma and beta, our trainable parameters\n",
    "\n",
    "    def forward(self, x):\n",
    "        mean = x.mean(dim=-1, keepdim=True)\n",
    "        var = x.var(dim=-1, keepdim=True, unbiased=False)\n",
    "        norm_x = (x - mean) / torch.sqrt(var + self.eps)\n",
    "        return self.scale * norm_x + self.shift\n",
    "\n",
    "torch.manual_seed(123)\n",
    "batch_example = torch.randn(2, 5)\n",
    "\n",
    "#random batch example\n",
    "ln = LayerNorm(emb_dim=5)\n",
    "print(f'batch_example:\\n{batch_example}')\n",
    "print(f'Mean before layer norm:\\n{batch_example.mean(dim=-1, keepdim=True)}')\n",
    "print(f'Variance before layer norm: \\n{batch_example.var(dim=-1, keepdim=True, unbiased=False)}')\n",
    "out_ln = ln(batch_example)\n",
    "mean = out_ln.mean(dim=-1, keepdim=True)\n",
    "var = out_ln.var(dim=-1, keepdim=True, unbiased=False)\n",
    "print(f'Output shape:\\n {out_ln.shape}')\n",
    "print(f'Mean after layer norm :\\n{mean}')\n",
    "print(f'Var after layer norm:\\n{var}')\n"
   ],
   "id": "3862a6bb4f8614d6",
   "outputs": [
    {
     "name": "stdout",
     "output_type": "stream",
     "text": [
      "batch_example:\n",
      "tensor([[-0.1115,  0.1204, -0.3696, -0.2404, -1.1969],\n",
      "        [ 0.2093, -0.9724, -0.7550,  0.3239, -0.1085]])\n",
      "Mean before layer norm:\n",
      "tensor([[-0.3596],\n",
      "        [-0.2606]])\n",
      "Variance before layer norm: \n",
      "tensor([[0.2015],\n",
      "        [0.2673]])\n",
      "Output shape:\n",
      " torch.Size([2, 5])\n",
      "Mean after layer norm :\n",
      "tensor([[-6.5565e-08],\n",
      "        [ 0.0000e+00]], grad_fn=<MeanBackward1>)\n",
      "Var after layer norm:\n",
      "tensor([[1.0000],\n",
      "        [1.0000]], grad_fn=<VarBackward0>)\n"
     ]
    }
   ],
   "execution_count": 7
  },
  {
   "metadata": {},
   "cell_type": "markdown",
   "source": [
    "#### *On Layer Normalization in the Transformer Architecture (Xiong et.al, 2020)*\n",
    "As mentioned already, LayerNorm is applied between residual blocks in the original Transformer formulation, a strategy also called \"Post-LN\" (Vaswani et al., 2017). However, later decoder-only models such as GPT-2 adopt a \"Pre-LN\" configuration, where normalization blocks are placed inside the residual branch and adding a final normalization before the output projection (Radford et al., 2019). Although both variants correct for covariate shift within the model, they exhibit markedly different optimization dynamics. In particular, Post-LN transformers trained from scratch tend to suffer from unstable gradients unless a carefully tuned learning-rate warm-up schedule is employed; by contrast, Pre-LN transformers demonstrate well-behaved gradient norms at initialization and throughout training, perhaps rendering trivial the need for warm-up, as explained in the paper *On Layer Normalization in the Transformer Architecture* (Xiong et al., 2020).\n",
    "\n",
    "|                          ![Post-LN vs. Pre-LN Transformers](../images/postvspreln.png)                          |\n",
    "|:------------------------------------------------------------------------------------------------------------:|\n",
    "| Post/Pre-LN Architectures (*On Layer Normalization in the Transformer Architecture*, **Xiong et al., 2020**) |\n",
    "\n",
    "The learning‐rate warm-up stage commonly used in Post-LN Transformers is a heuristic wherein the optimizer’s step size is ramped linearly (or following another smooth schedule) from a small initial value (often near zero) to a pre‐specified maximum over the first $T_{\\text{warmup}}$ training iterations. In contrast to the commonly used technique where one typically initializes the learning rate at a relatively large value and gradually decays it over the course of training, Transformers from scratch rely on an initial warm-up phase. If we let $\\text{lr}(t)$ be the learning rate at iteration $t$, and $\\text{lr}_{\\text{max}}$ be a prescribed maximum learning rate, then given a warm-up horizon of $T_{\\text{warmup}}$ iterations, the scheduler implements a linear increase during the warm-up period according to:\n",
    "\n",
    "$$\n",
    "\\mathrm{lr}(t) =\n",
    "\\begin{cases}\n",
    "\\displaystyle \\frac{t}{T_{\\mathrm{warmup}}}\\,\\mathrm{lr}_{\\max}, & t \\le T_{\\mathrm{warmup}}, \\\\[8pt]\n",
    "\\text{(post-warm-up schedule)}, & t > T_{\\mathrm{warmup}}.\n",
    "\\end{cases}\n",
    "$$\n",
    "\n",
    "Once $t>T_{\\text{warmup}}$, $\\text{lr}(t)$ is governed by a conventional decay rule, as originally outlined by Vaswani et al. (2017). The rationale is that this gradual increase prevents the optimizer from taking overly large parameter updated in the early sages, when the residual paths have not yet stabilized and gradient magnitudes can be extreme. However,  Empirical studies confirm that omitting this warm-up stage (i.e., initializing $\\text{lr}(1)$ near $\\text{lr}_{\\text{max}}$) leads to unstable gradient norms and failed convergence in Post-LN models. Therefore, both $T_{\\text{warmup}}$ and $\\text{lr}_{\\text{max}}$ become sensitive hyperparameters, whose optimal values must be tuned to balance stability against convergence speed.\n",
    "\n",
    "Xiong et al. (2020) undertake both a theoretical and empirical analysis of how the placement of LayerNorm affects gradient propagation in deep Transformer stacks. Their key theoretical result shows that, under standard weight‐initialization schemes, Pre-LN Transformers yield gradients whose expected norms remain bounded and of constant order with respect to depth at initialization; in other words, neither exploding nor vanishing gradients arise as the network grows deeper. In contrast, the Post-LN configuration can lead to gradient norms that grow or shrink exponentially with depth, unless the learning rate is kept extremely small during the critical early phase. Empirically, they confirm that Pre-LN networks train successfully without any warm-up stage, achieving convergence speeds comparable to—or faster than—Post-LN models with warm-up, and with markedly reduced sensitivity to the nominal maximum learning rate. These findings hold robustly across different optimizers (Adam, SGD) and across both encoder–decoder and decoder‐only Transformer variants.\n",
    "\n",
    "|                              ![Post-LN vs. Pre-LN Performance](../images/postvsprelncomp.png)                              |\n",
    "|:-----------------------------------------------------------------------------------------------------------------------:|\n",
    "| Post/Pre-LN Architecture Performance (*On Layer Normalization in the Transformer Architecture*, **Xiong et al., 2020**) |\n",
    "\n",
    "Given these insights, the adoption of Pre-LN in GPT-2 and subsequent large‐scale language models can be understood as a deliberate choice to streamline and stabilize training. By normalizing before adding the residual connection, GPT-2 achieves well‐conditioned gradients from the outset, enabling the use of fixed learning‐rate schedules without the need for a lengthy warm-up. This simplification is especially valuable when training exceptionally deep or wide Transformer decoders on massive corpora: reducing hyperparameter tuning and eliminating a protracted low‐learning‐rate phase translate directly into faster iteration cycles and lower computational cost. The additional final LayerNorm before the output head ensures that the last residual block also benefits from normalized activations, maintaining the stability guarantees without reintroducing the gradient pathologies of Post-LN.\n"
   ],
   "id": "9dfdd333eb374fe3"
  },
  {
   "metadata": {},
   "cell_type": "markdown",
   "source": [
    "## Feed Forward Networks with Activation Functions\n",
    "Historically, Rectified Linear Units (ReLUs) have been a type of activation function that is commonly used in deep learning due to its simplicity and effectiveness across various neural network architectures. ReLUs are linear in the positive dimension, and zero in the negative dimension. In other words, $\\text{ReLU}(x) = \\text{max}(0,x)$. Making hard gating decisions based on the sign of an input has the property of preventing non-saturation of gradients, relative to sigmoid activation functions.\n",
    "> In the context of deep networks trained by back-propagation, gradient saturation refers to a phenomenon where the derivative of an activation function becomes (or remains) very small over a large portion of its input domain. If $f: \\mathbb{R} \\to \\mathbb{R}$ is an elementwise non-linear function with derivative $f'(x)$, we say that $f$ is saturating in a region if there exist large intervals on which $\\lvert f'(x)\\rvert \\ll 1$. When a unit lies in such a region, its gradient signal $\\frac{\\partial \\mathcal{L}}{\\partial x}$ is 'killed', since $\\frac{\\partial \\mathcal{L}}{\\partial z} = f'(x)\\frac{\\partial \\mathcal{L}}{\\partial y}$ will be extremely small. In deep architectures, these small deriviatives compound through many layers, leading to the already discussed 'vanishing-gradient' problem.\n",
    "\n",
    "A non-saturing activation maintains a derivative bounded away from zero (at least over part of its domain), ensuring that signals flow backward without too much attenuation. The ReLU has derivative\n",
    "$$\n",
    " \\begin{equation}\n",
    " \\text{ReLU}'(x) =\n",
    "   \\left\\{\\begin{array}{lr}\n",
    "       1, &  x \\gt 0 \\\\\n",
    "       0, &  x \\lt 0\n",
    "    \\end{array}\\right.\n",
    " \\end{equation}\n",
    " $$\n",
    " Thus, whenever a ReLU unit is 'active' ($x > 0$), it propagates gradients unchanged in magnitude. There is no decay of gradient size as the pre-activation $x$ grows, and hence no saturation on the positive side. Although it does 'saturate' to zero for negative inputs, in practice roughly half of the units at any layer are active. Additionally, since the positive half-space of ReLU is linear, it avoid the slow-learning regions that sometimes plague sigmoid or tanh activation functions."
   ],
   "id": "9554c9eb2a49a6cb"
  },
  {
   "metadata": {
    "ExecuteTime": {
     "end_time": "2025-06-23T10:26:58.985618Z",
     "start_time": "2025-06-23T10:26:58.165228Z"
    }
   },
   "cell_type": "code",
   "source": [
    "import numpy as np, matplotlib.pyplot as plt\n",
    "\n",
    "def relu(x):\n",
    "    return np.maximum(0, x)\n",
    "\n",
    "def relu_deriv(x):\n",
    "    return (x > 0).astype(float)\n",
    "\n",
    "x = np.linspace(-5, 5, 500)\n",
    "y = relu(x)\n",
    "dy = relu_deriv(x)\n",
    "\n",
    "plt.plot(x, y, label='ReLU(x)')\n",
    "plt.plot(x, dy, label=\"ReLU'(x)\")\n",
    "plt.title('ReLU activation and its derivative')\n",
    "plt.xlabel('Input')\n",
    "plt.ylabel('Output/Gradient')\n",
    "plt.legend()\n",
    "plt.show()\n",
    "\n"
   ],
   "id": "1d0cad0432a6e323",
   "outputs": [
    {
     "data": {
      "text/plain": [
       "<Figure size 640x480 with 1 Axes>"
      ],
      "image/png": "[encoded data removed]"
     },
     "metadata": {},
     "output_type": "display_data"
    }
   ],
   "execution_count": 8
  },
  {
   "metadata": {},
   "cell_type": "markdown",
   "source": [
    "#### *Gaussian Error Linear Units (GELUs) (Hendrycks, Gimpel, 2016)*\n",
    "\n",
    "Standard nonlinear activations such as ReLU and stochastic regularizers like dropout have\n",
    "traditionally been treated as independent components: the activation deterministically gates each neuron’s input, while dropout randomly silences units to induce a pseudoensemble effect.  However, Hendrycks & Gimpel (2016) observe that both ReLU and dropout apply a *zero–one mask* to the incoming signal: ReLU sets the mask to $\\mathbf{1}\\{x>0\\}$ deterministically, whereas dropout samples from $\\mathrm{Bernoulli}(p)$ irrespective of the input magnitude. GELU merges these operations into a single, input‐dependent stochastic gating function, so that each neuron’s output reflects both its instantaneous value and the probability it should remain active under noise.\n",
    "\n",
    "Formally, let $x\\in\\mathbb{R}$ be a pre‐activation.  GELU proposes to multiply $x$ by a random binary mask\n",
    "$$\n",
    "m \\sim \\mathrm{Bernoulli}\\bigl(\\Phi(x)\\bigr)\n",
    "$$\n",
    "where\n",
    "$$\n",
    "\\Phi(x) \\;=\\; \\int_{-\\infty}^x \\frac{1}{\\sqrt{2\\pi}}e^{-t^2/2}\\,dt\n",
    "$$\n",
    "is the cumulative distribution function of the standard normal distribution.  Intuitively, larger values of $x$ are more likely to be “kept”, imparting a smooth, probabilistic gating that depends on the neuron’s strength.  Taking the *expected value* of this stochastic process yields the deterministic GELU activation:\n",
    "$$\n",
    "\\mathrm{GELU}(x)\n",
    "=\n",
    "\\mathbb{E}\\bigl[x\\,m\\bigr]\n",
    "=\n",
    "x\\,\\Phi(x)\n",
    "$$\n",
    "Because neuron inputs in deep networks often approximate Gaussian distributions—particularly when combined with BatchNorm, using the normal CDF aligns the activation’s gating probability with the actual input statistics.\n",
    "\n",
    "Although the exact CDF is straightforward to implement, it is common to use a fast, accurate approximation:\n",
    "$$\n",
    "\\mathrm{GELU}(x)\n",
    "\\approx\n",
    "x \\cdot \\tfrac{1}{2}\\bigl[1 + \\tanh\\bigl(\\sqrt{\\tfrac{2}{\\pi}}\\,(x + 0.044715\\,x^3)\\bigr)\\bigr],\n",
    "$$\n",
    "\n",
    "By fusing stochastic regularization and activation into a single, input-dependent operation, GELU offers a principled means of inducing pseudoensemble behavior *within* each nonlinear layer.  Empirically, Transformer variants that adopt GELU in place of ReLU can achieve faster convergence and often higher final accuracy across language modeling and translation benchmarks. suggesting that this tighter coupling between activation and regularization is beneficial in practice (Hendrycks & Gimpel, 2016).\n"
   ],
   "id": "cabc81e194a65fd2"
  },
  {
   "metadata": {
    "ExecuteTime": {
     "end_time": "2025-06-23T10:29:17.013095Z",
     "start_time": "2025-06-23T10:29:16.639890Z"
    }
   },
   "cell_type": "code",
   "source": [
    "from math import erf, sqrt\n",
    "\n",
    "erf_vec = np.vectorize(erf)\n",
    "\n",
    "def gelu(x):\n",
    "    return 0.5 * x * (1 + erf_vec(x / sqrt(2)))\n",
    "\n",
    "def gelu_approx(x):\n",
    "    return 0.5 * x * (1 + np.tanh(np.sqrt(2 / np.pi) * (x + 0.044715 * (x**3))))\n",
    "\n",
    "x = np.linspace(-5, 5, 500)\n",
    "fig, axes = plt.subplots(1, 2, figsize=(14, 6))\n",
    "axes[0].plot(x, relu(x), label='ReLU(x)')\n",
    "axes[0].plot(x, gelu(x), label='GELU(x)')\n",
    "axes[0].plot(x, gelu_approx(x), label='GELU_approx(x)')\n",
    "axes[0].set_title('Activation functions')\n",
    "axes[0].set_xlabel('Input')\n",
    "axes[0].set_ylabel('Output')\n",
    "axes[0].legend()\n",
    "axes[0].grid(True)\n",
    "\n",
    "dy_gelu = np.gradient(gelu(x), x)\n",
    "dy_gelu_approx = np.gradient(gelu_approx(x), x)\n",
    "axes[1].plot(x, dy, label=\"ReLU'(x)\")\n",
    "axes[1].plot(x, dy_gelu, label=\"GELU'(x)\")\n",
    "axes[1].plot(x, dy_gelu_approx, label=\"GELU approx'(x)\")\n",
    "axes[1].set_title(\"Activation Derivatives\")\n",
    "axes[1].set_xlabel(\"Input\")\n",
    "axes[1].set_ylabel(\"Gradient\")\n",
    "axes[1].legend()\n",
    "axes[1].grid(True)\n",
    "\n",
    "plt.subplots_adjust(wspace=0.4)\n",
    "\n",
    "plt.show()\n",
    "\n"
   ],
   "id": "83e5ce84eb5879d8",
   "outputs": [
    {
     "data": {
      "text/plain": [
       "<Figure size 1400x600 with 2 Axes>"
      ],
      "image/png": "[encoded data removed]"
     },
     "metadata": {},
     "output_type": "display_data"
    }
   ],
   "execution_count": 26
  },
  {
   "metadata": {},
   "cell_type": "markdown",
   "source": [
    "Note how the smoothness of GELU allows for a small, non-zero output for negative values, which are allowed to contribute to the learning process (although to a reduced extent when compared to positive inputs). Indeed, as can be seen from the graph below, from *PapersWithCode*, the use of GELU is now more frequent than ReLU in contexts of research and findings publication, reflecting the fact that, in LLMs, GELU and similar-gated linear units offer improved performance.\n",
    "\n",
    "|                     ![Usage Over Time of Activation Functions](../images/reluvsgelu.png)                     |\n",
    "|:---------------------------------------------------------------------------------------------------------:|\n",
    "| Proportion of papers using different activation functions  (*Rectified Linear Units*, **PapersWithCode**) |"
   ],
   "id": "3dbedac2a93da198"
  },
  {
   "metadata": {
    "ExecuteTime": {
     "end_time": "2025-06-23T10:26:59.361296Z",
     "start_time": "2025-06-23T10:26:59.316273Z"
    }
   },
   "cell_type": "code",
   "source": [
    "class GELU(nn.Module):\n",
    "    \"\"\"\n",
    "    Use the tanh-based approximation for efficiency.\n",
    "    \"\"\"\n",
    "    def __init__(self):\n",
    "        super().__init__()\n",
    "        # we precompute constants to avoid repeated tensor allocations\n",
    "        self._sqrt_2_over_pi = torch.sqrt(torch.tensor(2.0 / torch.pi))\n",
    "        self._coef = 0.044715\n",
    "\n",
    "\n",
    "    def forward(self, x):\n",
    "        return 0.5 * x * (\n",
    "                1.0 + torch.tanh(self._sqrt_2_over_pi * (x + self._coef * x.pow(3))\n",
    "                                 )\n",
    "        )\n",
    "\n",
    "class FeedForward(nn.Module):\n",
    "    def __init__(self, cfg):\n",
    "        super().__init__()\n",
    "        d_model = cfg.emb_dim\n",
    "        d_ff = 4 * d_model\n",
    "        self.layers = nn.Sequential(\n",
    "            nn.Linear(d_model, d_ff),\n",
    "            GELU(),\n",
    "            nn.Linear(d_ff, d_model),\n",
    "        )\n",
    "\n",
    "    def forward(self, x):\n",
    "        return self.layers(x)\n",
    "\n",
    "ffn = FeedForward(cfg)"
   ],
   "id": "3fc4a5d5cb6a8e5e",
   "outputs": [],
   "execution_count": 10
  },
  {
   "metadata": {},
   "cell_type": "markdown",
   "source": [
    "Note that, although the input and output dimensions of the FeedForward module are the same, it expands (through a hidden layer) the embedding dimension through the first layer, and then contracts again in the second linear layer. The goal with the expansion and contraction is to internally explore a richer and more vast representational space.\n",
    "\n",
    "|                                                              ![Multilayer Feed-Forward Neural Networks](../images/hidden_layer.png)                                                               |\n",
    "|:----------------------------------------------------------------------------------------------------------------------------------------------------------------------------------------------:|\n",
    "| Internal expansion of the representational space through hidden layer (*Predicting daily return direction of the stock market using hybrid machine learning algorithms*, **Zhong, Enke 2020**) |"
   ],
   "id": "cfc640f5cb75bebc"
  },
  {
   "metadata": {},
   "cell_type": "markdown",
   "source": [
    "### Shortcut Connections\n",
    "Shortcut connections, also called skip or residual connections, were originally proposed by Kaiming He et al. (2015, *Deep Residual Learning for Image Recognition*) to tackle the problem of degradation and vanishing gradients. In the context of computer vision, it was clear that depth was of crucial importance, as deep networks integrated and were able to capture low/mid/high level features thanks to a number of stacked, sequential layers. However, it was not so clear if stacking more layers always yielded better networks, namely due to the vanishing/exploding gradients problem. Fortunately, this problem was partly addressed by normalized initialization (choosing weights so that activations/gradients have roughly constant variance across layers) and intermediate normalization layers (BatchNorm, LayerNorm). However, even when deeper networks were able to start converging with the normalization layers in place, a degradation problem was exposed. Vanishing/exploding gradients were mostly solved, but accuracy was observed to rapidly decrease as depth went beyond some point.\n",
    "> Note that the observed degradation of accuracy came along with higher training error, indicating that degradation was not a result of overfitting. Both train and test error go up.\n",
    "\n",
    "This degradation was a surprising phenomenon. If we take a well-trained $N$-layer network, and then build an ($N + k$)-layer network by simply inserting $k$ layers computing exactly the identity (i.e. $\\mathcal{F}(x) = x$) and copying all other weights, we would expect this deeper net to at least reproduce the shallower net's function, and therefore its training error. However, in practice, standard nonlinear layers can't automatically learn to behave like identity. Solvers are unable to find parameters that are as good as the original $N$-layer solution.\n",
    "\n",
    "The fix He et al. found was to make that identity explicit. If deep networks aimed to learn a complex transformation $H(x)$ mapping an input vector $x$ to a desired output representation, then directly fitting $H(x)$ via a stack of nonlinear layers becomes increasingly difficult due to already mentioned optimization challenges. Rather than having each block of layers attempt to approximate $H(x)$ outright, we introduce a *residual* function:\n",
    "$$\n",
    "F(x) := H(x) - x\n",
    "$$\n",
    "The original mapping can then be expressed as $H(x) = F(x) + x$.\n",
    "\n",
    "$F(x)$ captures how the desired mapping differs from the identity transform. If the optimal transformation is close to merely passing its input through unchanged, then forcing $F(x)$ to be zero is far more simple than coercing a deep stack of nonlinearities to replicate an identity mapping. This approach makes the identity map $y=x$ always available by setting $F(x) = 0$, and also improves gradient flow by preventing gradients from vanishing/exploding across many layers (since gradients now flow both through the residual branch and directly through the identity path).\n",
    "\n",
    "|                          ![Residual Learning Block](../images/reslearning.png)                          |\n",
    "|:----------------------------------------------------------------------------------------------------:|\n",
    "| An example of residual learning (*Deep Residual Learning for Image Recognition*, **He et.al, 2015**) |\n"
   ],
   "id": "92f84cfca83cdc80"
  },
  {
   "metadata": {
    "ExecuteTime": {
     "end_time": "2025-06-23T10:26:59.427927Z",
     "start_time": "2025-06-23T10:26:59.420385Z"
    }
   },
   "cell_type": "code",
   "source": [
    "# define the example network with optional shortcut connections\n",
    "class ExampleDeepNeuralNetwork(nn.Module):\n",
    "    def __init__(self, layer_sizes, use_shortcut):\n",
    "        super().__init__()\n",
    "        self.use_shortcut = use_shortcut\n",
    "        self.layers = nn.ModuleList([\n",
    "            nn.Sequential(nn.Linear(layer_sizes[0], layer_sizes[1]), GELU()),\n",
    "            nn.Sequential(nn.Linear(layer_sizes[1], layer_sizes[2]), GELU()),\n",
    "            nn.Sequential(nn.Linear(layer_sizes[2], layer_sizes[3]), GELU()),\n",
    "            nn.Sequential(nn.Linear(layer_sizes[3], layer_sizes[4]), GELU()),\n",
    "            nn.Sequential(nn.Linear(layer_sizes[4], layer_sizes[5]), GELU()),\n",
    "        ])\n",
    "\n",
    "    def forward(self, x):\n",
    "        for layer in self.layers:\n",
    "            out = layer(x)\n",
    "            if self.use_shortcut and out.shape == x.shape:\n",
    "                x = x + out\n",
    "            else:\n",
    "                x = out\n",
    "        return x"
   ],
   "id": "161bd4b8ad4b0181",
   "outputs": [],
   "execution_count": 11
  },
  {
   "metadata": {
    "ExecuteTime": {
     "end_time": "2025-06-23T10:26:59.470117Z",
     "start_time": "2025-06-23T10:26:59.457212Z"
    }
   },
   "cell_type": "code",
   "source": [
    "torch.manual_seed(0)\n",
    "layer_sizes = [3,3,3,3,3,1]\n",
    "sample_input = torch.tensor([[1., 0., -1.]])\n",
    "model_without_shortcut = ExampleDeepNeuralNetwork(layer_sizes, use_shortcut=False)\n",
    "model_with_shortcut = ExampleDeepNeuralNetwork(layer_sizes, use_shortcut=True)\n",
    "\n",
    "#utility to zero gradients, do a forward+backward pass, and print mean [grad] for each weight.\n",
    "def print_gradients(model, x):\n",
    "    model.zero_grad()\n",
    "    output = model(x)\n",
    "    loss = nn.MSELoss()\n",
    "    loss = loss(output, torch.zeros_like(output))\n",
    "    loss.backward()\n",
    "    print(f\"\\nGradients for model (use_shortcut={model.use_shortcut}):\")\n",
    "    for name, param in model.named_parameters():\n",
    "        if 'weight' in name:\n",
    "            mean_grad = param.grad.abs().mean().item()\n",
    "            print(f\" {name:25s} mean(abs(grad)) = {mean_grad:.6e}\")"
   ],
   "id": "75ec4f0370079777",
   "outputs": [],
   "execution_count": 12
  },
  {
   "metadata": {
    "ExecuteTime": {
     "end_time": "2025-06-23T10:26:59.618998Z",
     "start_time": "2025-06-23T10:26:59.522251Z"
    }
   },
   "cell_type": "code",
   "source": "print_gradients(model_without_shortcut, sample_input)",
   "id": "4d99c49b7e3b1ca6",
   "outputs": [
    {
     "name": "stdout",
     "output_type": "stream",
     "text": [
      "\n",
      "Gradients for model (use_shortcut=False):\n",
      " layers.0.0.weight         mean(abs(grad)) = 2.174250e-03\n",
      " layers.1.0.weight         mean(abs(grad)) = 1.820165e-03\n",
      " layers.2.0.weight         mean(abs(grad)) = 2.398570e-03\n",
      " layers.3.0.weight         mean(abs(grad)) = 1.912503e-02\n",
      " layers.4.0.weight         mean(abs(grad)) = 2.637607e-01\n"
     ]
    }
   ],
   "execution_count": 13
  },
  {
   "metadata": {
    "ExecuteTime": {
     "end_time": "2025-06-23T10:26:59.770548Z",
     "start_time": "2025-06-23T10:26:59.760846Z"
    }
   },
   "cell_type": "code",
   "source": "print_gradients(model_with_shortcut, sample_input)",
   "id": "803211adbe4e4431",
   "outputs": [
    {
     "name": "stdout",
     "output_type": "stream",
     "text": [
      "\n",
      "Gradients for model (use_shortcut=True):\n",
      " layers.0.0.weight         mean(abs(grad)) = 2.480292e-01\n",
      " layers.1.0.weight         mean(abs(grad)) = 3.982194e-01\n",
      " layers.2.0.weight         mean(abs(grad)) = 3.303533e-01\n",
      " layers.3.0.weight         mean(abs(grad)) = 3.638376e-01\n",
      " layers.4.0.weight         mean(abs(grad)) = 2.195423e+00\n"
     ]
    }
   ],
   "execution_count": 14
  },
  {
   "metadata": {},
   "cell_type": "markdown",
   "source": [
    "|                                   ![Shortcut Connection Comparison](../images/resvsnon_res.png)                                   |\n",
    "|:------------------------------------------------------------------------------------------------------------------------------:|\n",
    "| Deep neural network without (left) and with (right) shortcut connections (*Build a LLM (From Scratch)*, **Sebastian Raschka**) |\n",
    "\n",
    "As can be seen from the results above, the gradients from the network without shortcut connections become smaller and smaller as we move from the deepest layer to the first one. In other words, we are seeing the vanishing gradient problem. In the network with shortcut connections, although the gradient of the deepest layer is still the largest, the gradient does not shrink to near-zero, extremely small values. In this way, shortcut connections help make training more effective by ensuring consistent, stable gradients as these flow between layers."
   ],
   "id": "9743a15ca8f94a60"
  },
  {
   "metadata": {},
   "cell_type": "markdown",
   "source": [
    "### Transformer Blocks: Connecting everything\n",
    "\n",
    "|              ![Transformer Block Illustration](../images/transformer_block.png)              |\n",
    "|:-----------------------------------------------------------------------------------------:|\n",
    "| Illustration of a transformer block (*Build a LLM (From Scratch)*, **Sebastian Raschka**) |\n",
    "\n",
    "A Transformer block unites several core components--multi-head self-attention, position-wise feed-forward networks, residual mappings, layer normalization and non-linear activations--into a single, repeatable unit. This design makes it possible to build very deep language models that learn both long-range dependencies and rich intra-token representations while remaining relatively easy to optimize. As can be seen from the illustration above, each element of the input sequence (a word, a subword, a BPE unit) is first mapped to a $d$-dimensional embedding vector (in this case, 768 dimensions). Every single sublayer in the block, whether it is attention, a feed-forward transform, a residual add or normalization, accepts and emits vectors of the same dimension $d$. Preserving this 'model width' serves many purposes:\n",
    "\n",
    "- Enables residual addition, since otherwise the addition would be undefined.\n",
    "- Simplifies stacking, since blocks can be tiled arbitrarily without reshaping or re-projection, drastically easing both implementation and parameter bookkeeping.\n",
    "- Every token is processed identically, sharing the same parameters and sublayer structure. This enforces translational invariance across sequence positions, ensuring that the model learns positional relationships rather than position-specific filters.\n",
    "\n",
    "Note that attention and feed-forward networks play complementary roles. Self-attention excels at modeling interactions across the entire sequence, identifying which other tokens should influence the current one. Feed-forward networks inject powerful nonlinear transformations within each token's feature vector. By alternating a global, linear mixing stage with a local, nonlinear processing stage, the block achieves both broad contextual awareness and deep per-token feature extraction.\n"
   ],
   "id": "4f90c041b1271ca7"
  },
  {
   "metadata": {
    "ExecuteTime": {
     "end_time": "2025-06-23T10:26:59.881027Z",
     "start_time": "2025-06-23T10:26:59.852768Z"
    }
   },
   "cell_type": "code",
   "source": [
    "from src.attention import MultiHeadAttention\n",
    "\n",
    "class TransformerBlock(nn.Module):\n",
    "    def __init__(self, cfg: GPTConfig124):\n",
    "        super().__init__()\n",
    "        # 1) multi-head self-attention sublayer implemented before\n",
    "        self.att = MultiHeadAttention(\n",
    "            d_in = cfg.emb_dim,\n",
    "            d_out = cfg.emb_dim,\n",
    "            context_length = cfg.context_length,\n",
    "            num_heads = cfg.n_heads,\n",
    "            dropout_rate = cfg.dropout,\n",
    "            qkv_bias = cfg.qkv_bias)\n",
    "        # 2) position-wise feed-forward layer\n",
    "        self.ff = FeedForward(cfg)\n",
    "        # 3) pre-norm layernorms\n",
    "        self.norm1 = LayerNorm(cfg.emb_dim)\n",
    "        self.norm2 = LayerNorm(cfg.emb_dim)\n",
    "        # 4) dropout on the residual connection\n",
    "        self.drop_shortcut = nn.Dropout(cfg.dropout)\n",
    "\n",
    "    def forward(self, x):\n",
    "        shortcut = x\n",
    "        x = self.norm1(x) # normalize before attention (pre-norm)\n",
    "        x = self.att(x) # (batch_size, seq_len, d)\n",
    "        x = self.drop_shortcut(x)\n",
    "        x = x + shortcut # residual\n",
    "\n",
    "        shortcut = x\n",
    "        x = self.norm2(x)\n",
    "        x = self.ff(x) # two-layer MLP with activation & dropout\n",
    "        x = self.drop_shortcut(x)\n",
    "        x = x + shortcut\n",
    "        return x"
   ],
   "id": "4cfd161498e7a6c6",
   "outputs": [],
   "execution_count": 15
  },
  {
   "metadata": {
    "ExecuteTime": {
     "end_time": "2025-06-23T10:27:00.008712Z",
     "start_time": "2025-06-23T10:26:59.914847Z"
    }
   },
   "cell_type": "code",
   "source": [
    "torch.manual_seed(123)\n",
    "x = torch.rand(2, 4, 768)\n",
    "block = TransformerBlock(cfg)\n",
    "output = block(x)\n",
    "\n",
    "print('Input shape:', x.shape)\n",
    "print('Output shape:', output.shape)\n"
   ],
   "id": "31399e42b6307ab9",
   "outputs": [
    {
     "name": "stdout",
     "output_type": "stream",
     "text": [
      "Input shape: torch.Size([2, 4, 768])\n",
      "Output shape: torch.Size([2, 4, 768])\n"
     ]
    }
   ],
   "execution_count": 16
  },
  {
   "metadata": {},
   "cell_type": "markdown",
   "source": "We now have implemented all the components necessary to implement our own GPT model.",
   "id": "3de90120a7883067"
  },
  {
   "metadata": {
    "ExecuteTime": {
     "end_time": "2025-06-23T10:27:00.085036Z",
     "start_time": "2025-06-23T10:27:00.075417Z"
    }
   },
   "cell_type": "code",
   "source": [
    "class GPTModel(nn.Module):\n",
    "    def __init__(self, cfg: GPTConfig124, tie_weights: bool=True):\n",
    "        super().__init__()\n",
    "        # token embedding: from vocab indices to vectors\n",
    "        self.tok_emb = nn.Embedding(cfg.vocab_size, cfg.emb_dim)\n",
    "        # learnable per-position vectors\n",
    "        self.pos_emb = nn.Embedding(cfg.context_length, cfg.emb_dim)\n",
    "        self.drop_emb = nn.Dropout(cfg.dropout)\n",
    "        # a stack of transformer blocs\n",
    "        self.trf_blocks = nn.Sequential(\n",
    "            *[TransformerBlock(cfg) for _ in range(cfg.n_layers)]\n",
    "        )\n",
    "        # final layer norm before head\n",
    "        self.final_form = LayerNorm(cfg.emb_dim)\n",
    "        # ourput head (maps back to vocab logits)\n",
    "        self.out_head = nn.Linear(cfg.emb_dim, cfg.vocab_size, bias = False)\n",
    "\n",
    "    def forward(self, in_idx):\n",
    "        batch_size, seq_len = in_idx.shape\n",
    "        # first, lookup token indices -> (batch_size, seq_len, D)\n",
    "        tok_embeds = self.tok_emb(in_idx)\n",
    "        # create position indices 0..T-1 -> (T,) then embed -> (T, D)\n",
    "        pos_embeds = self.pos_emb(\n",
    "            torch.arange(seq_len, device=in_idx.device)\n",
    "        )\n",
    "        # add dropout and run through transformer stack\n",
    "        x = tok_embeds + pos_embeds\n",
    "        x = self.drop_emb(x)\n",
    "        x = self.trf_blocks(x)\n",
    "        # final form and linear head --> logits (B, T, V)\n",
    "        x = self.final_form(x)\n",
    "        logits = self.out_head(x)\n",
    "        return logits\n",
    "\n"
   ],
   "id": "e7c29c085b505923",
   "outputs": [],
   "execution_count": 17
  },
  {
   "metadata": {
    "ExecuteTime": {
     "end_time": "2025-06-23T10:27:01.494721Z",
     "start_time": "2025-06-23T10:27:00.117539Z"
    }
   },
   "cell_type": "code",
   "source": [
    "torch.manual_seed(123)\n",
    "model = GPTModel(cfg)\n",
    "out = model(batch[0])\n",
    "print('Input batch:', batch[0])\n",
    "print('Output shape:', out.shape)\n",
    "print(out)"
   ],
   "id": "5d3c117543ee554b",
   "outputs": [
    {
     "name": "stdout",
     "output_type": "stream",
     "text": [
      "Input batch: tensor([[  32,  582, 1297,  502],\n",
      "        [1752,  326,  477,  262]])\n",
      "Output shape: torch.Size([2, 4, 50257])\n",
      "tensor([[[ 1.0265, -0.1177, -0.3763,  ..., -0.1712, -0.0717, -0.4459],\n",
      "         [ 0.3701, -0.4277, -0.5014,  ..., -0.0651, -0.6609, -0.3694],\n",
      "         [ 0.2541,  0.2453, -1.1958,  ..., -0.5310,  0.0578, -0.2538],\n",
      "         [ 0.0979, -0.3190, -0.3047,  ...,  1.0524, -0.1188,  0.7247]],\n",
      "\n",
      "        [[-0.2464, -0.0766,  0.4869,  ..., -0.6350,  0.5880, -0.1963],\n",
      "         [-0.7291,  0.1035, -0.1847,  ...,  0.2302,  0.8186,  0.3909],\n",
      "         [ 0.7739, -0.3569, -0.0182,  ..., -0.0615, -0.6364, -0.0449],\n",
      "         [-0.1077, -0.3411, -0.6725,  ...,  1.2521, -0.2514, -0.2333]]],\n",
      "       grad_fn=<UnsafeViewBackward0>)\n"
     ]
    }
   ],
   "execution_count": 18
  },
  {
   "metadata": {
    "ExecuteTime": {
     "end_time": "2025-06-23T10:27:01.535548Z",
     "start_time": "2025-06-23T10:27:01.531010Z"
    }
   },
   "cell_type": "code",
   "source": [
    "total_tunable_params = sum(p.numel() for p in model.parameters())\n",
    "print(f'Number of parameters: {total_tunable_params}')\n",
    "\n",
    "#The number of parameters is 163 million, and not 124 million like we expected."
   ],
   "id": "5d2c223cf922eac6",
   "outputs": [
    {
     "name": "stdout",
     "output_type": "stream",
     "text": [
      "Number of parameters: 163009536\n"
     ]
    }
   ],
   "execution_count": 19
  },
  {
   "metadata": {},
   "cell_type": "markdown",
   "source": [
    "As shown in the output above, the actual number of parameters seems to be around 163 million (recall that we expected around 124 million). This is due to a concept called weight tying (or embedding sharing), which uses the same matrix for both the input token embeddings (mapping each vocab index to a d-dimensional vector) as well as for the output projection (mapping the final hidden vectors back up to vocabulary logits). In other words, in a standard language model you have one $V \\times d$ matrix for the input embedder, and a separate $d \\times V$ matrix for the final linear layer. That second matrix alone costs $V \\times d$ parameters (in our case, $V \\approx 50000$ and $d=768$, so around 38 million parameters). PyTorch will by default double-count any shared Parameter object.\n",
    "> Using weight tying reduces computational complexity and overall memory overhead. However, using separate token embeddings and output layers usually results in improved model performance. Therefore, we will use the non-tied version `GPTModel`."
   ],
   "id": "d7d7e17ea1cd46a8"
  },
  {
   "metadata": {
    "ExecuteTime": {
     "end_time": "2025-06-23T10:27:04.252452Z",
     "start_time": "2025-06-23T10:27:01.560614Z"
    }
   },
   "cell_type": "code",
   "source": [
    "class GPTModelTied(nn.Module):\n",
    "    def __init__(self, cfg: GPTConfig124, tie_weights: bool=True):\n",
    "        super().__init__()\n",
    "        # token embedding: from vocab indices to vectors\n",
    "        self.tok_emb = nn.Embedding(cfg.vocab_size, cfg.emb_dim)\n",
    "        # learnable per-position vectors\n",
    "        self.pos_emb = nn.Embedding(cfg.context_length, cfg.emb_dim)\n",
    "        self.drop_emb = nn.Dropout(cfg.dropout)\n",
    "        # a stack of transformer blocs\n",
    "        self.trf_blocks = nn.Sequential(\n",
    "            *[TransformerBlock(cfg) for _ in range(cfg.n_layers)]\n",
    "        )\n",
    "        # final layer norm before head\n",
    "        self.final_form = LayerNorm(cfg.emb_dim)\n",
    "        # ourput head (maps back to vocab logits)\n",
    "        self.out_head = nn.Linear(cfg.emb_dim, cfg.vocab_size, bias = False)\n",
    "\n",
    "        #add tie_weight boolean parameter\n",
    "        if tie_weights:\n",
    "            self.out_head.weight = self.tok_emb.weight\n",
    "\n",
    "    def forward(self, in_idx):\n",
    "        batch_size, seq_len = in_idx.shape\n",
    "        # first, lookup token indices -> (batch_size, seq_len, D)\n",
    "        tok_embeds = self.tok_emb(in_idx)\n",
    "        # create position indices 0..T-1 -> (T,) then embed -> (T, D)\n",
    "        pos_embeds = self.pos_emb(\n",
    "            torch.arange(seq_len, device=in_idx.device)\n",
    "        )\n",
    "        # add dropout and run through transformer stack\n",
    "        x = tok_embeds + pos_embeds\n",
    "        x = self.drop_emb(x)\n",
    "        x = self.trf_blocks(x)\n",
    "        # final form and linear head --> logits (B, T, V)\n",
    "        x = self.final_form(x)\n",
    "        logits = self.out_head(x)\n",
    "        return logits\n",
    "\n",
    "def count_params(model):\n",
    "   return sum(p.numel() for p in model.parameters())\n",
    "\n",
    "model_untied = GPTModelTied(cfg, tie_weights=False)\n",
    "print(\"Untied count:\", count_params(model_untied))\n",
    "#  ~163,009,536\n",
    "\n",
    "# 2) Tied model:\n",
    "model_tied = GPTModelTied(cfg, tie_weights=True)\n",
    "# note: default count double-counts, but unique=True fixes that\n",
    "print(\"Tied count:\",   count_params(model_tied))"
   ],
   "id": "617e333579ce13c1",
   "outputs": [
    {
     "name": "stdout",
     "output_type": "stream",
     "text": [
      "Untied count: 163009536\n",
      "Tied count: 124412160\n"
     ]
    }
   ],
   "execution_count": 20
  },
  {
   "metadata": {},
   "cell_type": "markdown",
   "source": [
    "### Generating Text\n",
    "|                                     ![Text Generation Process](../images/generating_text.png)                                     |\n",
    "|:---------------------------------------------------------------------------------------------------------------------------------:|\n",
    "| Text generation mechanics. Single iteration of the token generation process (*Build a LLM (From Scratch)*, **Sebastian Raschka**) |"
   ],
   "id": "2d59fc435961d7db"
  },
  {
   "metadata": {
    "ExecuteTime": {
     "end_time": "2025-06-23T10:27:04.291607Z",
     "start_time": "2025-06-23T10:27:04.281463Z"
    }
   },
   "cell_type": "code",
   "source": [
    "def generate_text(model, idx, max_new_tokens, context_size):\n",
    "    \"\"\"\n",
    "    :param model: our GPT model, nn.Module\n",
    "    :param idx: a (batch, num_tokens) array of indices in the current context\n",
    "    :param max_new_tokens: user-specified maximum number of new tokens\n",
    "    :param context_size: context size. We cap the current context if it exceeds this size.\n",
    "    :return: (batch_size, num_tokens + max_new_tokens)\n",
    "    \"\"\"\n",
    "    device = next(model.parameters()).device\n",
    "    generated = idx.to(device)\n",
    "\n",
    "    with torch.inference_mode():\n",
    "        for _ in range(max_new_tokens):\n",
    "            # only use the last n tokens as context if context size is exceeded.\n",
    "            context = generated[:, -context_size:]\n",
    "            logits = model(context)\n",
    "            last_logits = logits[:, -1, :]\n",
    "             # focus only on last time step.\n",
    "            # (batch_size, num_tokens, vocab_size) -> (batch_size, vocab_size)\n",
    "            probas = torch.softmax(last_logits, dim=-1)\n",
    "             # (batch_size, vocab_size)\n",
    "            next_token = torch.argmax(probas, dim=-1, keepdim=True)\n",
    "            # (batch, 1)\n",
    "            generated = torch.cat([generated, next_token], dim=1)\n",
    "            # append to running sequence\n",
    "    return generated\n",
    "\n",
    "text = \"\"\"A man told me\"\"\"\n",
    "\n",
    "encoded = tokenizer.encode(text)\n",
    "print(\"encoded:\", encoded)\n",
    "encoded_tensor = torch.tensor(encoded).unsqueeze(0)\n",
    "print(\"encoded_tensor:\", encoded_tensor.shape)\n"
   ],
   "id": "e4ca140c21d74e3b",
   "outputs": [
    {
     "name": "stdout",
     "output_type": "stream",
     "text": [
      "encoded: [32, 582, 1297, 502]\n",
      "encoded_tensor: torch.Size([1, 4])\n"
     ]
    }
   ],
   "execution_count": 21
  },
  {
   "metadata": {
    "ExecuteTime": {
     "end_time": "2025-06-23T10:27:05.531310Z",
     "start_time": "2025-06-23T10:27:04.352587Z"
    }
   },
   "cell_type": "code",
   "source": [
    "model.eval()\n",
    "out = generate_text(\n",
    "    model=model,\n",
    "    idx=encoded_tensor,\n",
    "    max_new_tokens=20,\n",
    "    context_size=cfg.context_length,\n",
    ")\n",
    "print(\"output:\", out)\n",
    "print(\"output length:\", len(out[0]))\n",
    "\n",
    "decoded_text = tokenizer.decode(out.squeeze().tolist())\n",
    "print(decoded_text)"
   ],
   "id": "ed2e43695c97f42a",
   "outputs": [
    {
     "name": "stdout",
     "output_type": "stream",
     "text": [
      "output: tensor([[   32,   582,  1297,   502, 37979,  6846, 45119, 14112, 47814, 48163,\n",
      "         16921, 25819, 17294, 32870,  3550, 36531, 18368, 24974, 45382,  9093,\n",
      "         41074, 38147, 36781, 35790]])\n",
      "output length: 24\n",
      "A man told me fir lattervg infected stancesRoguevidReillyificant fetish ang caveat Arms Suffcreator ansNJ 276 Machinareference\n"
     ]
    }
   ],
   "execution_count": 22
  }
 ],
 "metadata": {
  "kernelspec": {
   "display_name": "Python 3",
   "language": "python",
   "name": "python3"
  },
  "language_info": {
   "codemirror_mode": {
    "name": "ipython",
    "version": 2
   },
   "file_extension": ".py",
   "mimetype": "text/x-python",
   "name": "python",
   "nbconvert_exporter": "python",
   "pygments_lexer": "ipython2",
   "version": "2.7.6"
  }
 },
 "nbformat": 4,
 "nbformat_minor": 5
}
